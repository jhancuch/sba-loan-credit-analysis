{
 "cells": [
  {
   "cell_type": "code",
   "execution_count": 1,
   "id": "ff81f9d1-e1e1-49f6-b7e6-111035662b8b",
   "metadata": {},
   "outputs": [],
   "source": [
    "import pandas as pd\n",
    "import numpy as np\n",
    "import matplotlib.pyplot as plt"
   ]
  },
  {
   "cell_type": "markdown",
   "id": "4fefe540-fc80-40a2-8158-8f693e03a444",
   "metadata": {},
   "source": [
    "# Load data and combine"
   ]
  },
  {
   "cell_type": "code",
   "execution_count": null,
   "id": "d96c01af-59ae-4b87-b359-8924bfe2a616",
   "metadata": {},
   "outputs": [],
   "source": [
    "data1 = pd.read_csv('https://data.sba.gov/dataset/0ff8e8e9-b967-4f4e-987c-6ac78c575087/resource/02e2e83a-2af1-4ce8-91db-85e20ffadbf7/download/foia-7afy2010-fy2019-asof-220331.csv')"
   ]
  },
  {
   "cell_type": "code",
   "execution_count": null,
   "id": "45ea4a54-b8b3-4793-9b0f-09afc9fb332f",
   "metadata": {},
   "outputs": [],
   "source": [
    "data2 = pd.read_csv('https://data.sba.gov/dataset/0ff8e8e9-b967-4f4e-987c-6ac78c575087/resource/c71ba6cf-b4e0-4e60-98f0-48aeaf4c6460/download/foia-7afy2020-present-asof-220331.csv')"
   ]
  },
  {
   "cell_type": "code",
   "execution_count": null,
   "id": "4d15485f-94fb-46dc-8d37-6294ee2c0ec2",
   "metadata": {},
   "outputs": [],
   "source": [
    "data = data1.concat(data2)"
   ]
  }
 ],
 "metadata": {
  "kernelspec": {
   "display_name": "Python 3 (ipykernel)",
   "language": "python",
   "name": "python3"
  },
  "language_info": {
   "codemirror_mode": {
    "name": "ipython",
    "version": 3
   },
   "file_extension": ".py",
   "mimetype": "text/x-python",
   "name": "python",
   "nbconvert_exporter": "python",
   "pygments_lexer": "ipython3",
   "version": "3.9.9"
  }
 },
 "nbformat": 4,
 "nbformat_minor": 5
}
