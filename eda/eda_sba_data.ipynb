{
 "cells": [
  {
   "cell_type": "code",
   "execution_count": 1,
   "id": "ff81f9d1-e1e1-49f6-b7e6-111035662b8b",
   "metadata": {},
   "outputs": [],
   "source": [
    "import pandas as pd\n",
    "import numpy as np\n",
    "\n",
    "%matplotlib inline\n",
    "\n",
    "import matplotlib.pyplot as plt\n",
    "import seaborn as sns"
   ]
  },
  {
   "cell_type": "markdown",
   "id": "4fefe540-fc80-40a2-8158-8f693e03a444",
   "metadata": {},
   "source": [
    "# Load datasets and combine"
   ]
  },
  {
   "cell_type": "code",
   "execution_count": 3,
   "id": "d96c01af-59ae-4b87-b359-8924bfe2a616",
   "metadata": {},
   "outputs": [],
   "source": [
    "data1 = pd.read_csv('https://data.sba.gov/dataset/0ff8e8e9-b967-4f4e-987c-6ac78c575087/resource/02e2e83a-2af1-4ce8-91db-85e20ffadbf7/download/foia-7afy2010-fy2019-asof-220331.csv', \n",
    "                    encoding = \"ISO-8859-1\", low_memory = False)"
   ]
  },
  {
   "cell_type": "code",
   "execution_count": 4,
   "id": "45ea4a54-b8b3-4793-9b0f-09afc9fb332f",
   "metadata": {},
   "outputs": [],
   "source": [
    "data2 = pd.read_csv('https://data.sba.gov/dataset/0ff8e8e9-b967-4f4e-987c-6ac78c575087/resource/c71ba6cf-b4e0-4e60-98f0-48aeaf4c6460/download/foia-7afy2020-present-asof-220331.csv', \n",
    "                    encoding = \"ISO-8859-1\", low_memory = False)"
   ]
  },
  {
   "cell_type": "code",
   "execution_count": 49,
   "id": "4d15485f-94fb-46dc-8d37-6294ee2c0ec2",
   "metadata": {},
   "outputs": [],
   "source": [
    "data = pd.concat([data1, data2], ignore_index=True).reset_index(drop=True)"
   ]
  },
  {
   "cell_type": "code",
   "execution_count": 50,
   "id": "7ebaf041-58c0-4419-ac3a-7219c0ddcaba",
   "metadata": {},
   "outputs": [
    {
     "data": {
      "text/html": [
       "<div>\n",
       "<style scoped>\n",
       "    .dataframe tbody tr th:only-of-type {\n",
       "        vertical-align: middle;\n",
       "    }\n",
       "\n",
       "    .dataframe tbody tr th {\n",
       "        vertical-align: top;\n",
       "    }\n",
       "\n",
       "    .dataframe thead th {\n",
       "        text-align: right;\n",
       "    }\n",
       "</style>\n",
       "<table border=\"1\" class=\"dataframe\">\n",
       "  <thead>\n",
       "    <tr style=\"text-align: right;\">\n",
       "      <th></th>\n",
       "      <th>AsOfDate</th>\n",
       "      <th>Program</th>\n",
       "      <th>BorrName</th>\n",
       "      <th>BorrStreet</th>\n",
       "      <th>BorrCity</th>\n",
       "      <th>BorrState</th>\n",
       "      <th>BorrZip</th>\n",
       "      <th>BankName</th>\n",
       "      <th>BankStreet</th>\n",
       "      <th>BankCity</th>\n",
       "      <th>...</th>\n",
       "      <th>ProjectState</th>\n",
       "      <th>SBADistrictOffice</th>\n",
       "      <th>CongressionalDistrict</th>\n",
       "      <th>BusinessType</th>\n",
       "      <th>LoanStatus</th>\n",
       "      <th>PaidInFullDate</th>\n",
       "      <th>ChargeOffDate</th>\n",
       "      <th>GrossChargeOffAmount</th>\n",
       "      <th>RevolverStatus</th>\n",
       "      <th>JobsSupported</th>\n",
       "    </tr>\n",
       "  </thead>\n",
       "  <tbody>\n",
       "    <tr>\n",
       "      <th>0</th>\n",
       "      <td>20220331</td>\n",
       "      <td>7A</td>\n",
       "      <td>Neal Vasso dba Vasso &amp; Associa</td>\n",
       "      <td>14800 Landmark Blvd.  Suite 88</td>\n",
       "      <td>Dallas</td>\n",
       "      <td>TX</td>\n",
       "      <td>75254</td>\n",
       "      <td>Independent Bank</td>\n",
       "      <td>3090 Craig Dr</td>\n",
       "      <td>MCKINNEY</td>\n",
       "      <td>...</td>\n",
       "      <td>TX</td>\n",
       "      <td>DALLAS / FT WORTH DISTRICT OFFICE</td>\n",
       "      <td>24.0</td>\n",
       "      <td>INDIVIDUAL</td>\n",
       "      <td>PIF</td>\n",
       "      <td>11/30/2015</td>\n",
       "      <td>NaN</td>\n",
       "      <td>0</td>\n",
       "      <td>0</td>\n",
       "      <td>7</td>\n",
       "    </tr>\n",
       "    <tr>\n",
       "      <th>1</th>\n",
       "      <td>20220331</td>\n",
       "      <td>7A</td>\n",
       "      <td>Leslie T. Williams DVM</td>\n",
       "      <td>4636 N. 55th Street</td>\n",
       "      <td>Boulder</td>\n",
       "      <td>CO</td>\n",
       "      <td>80301</td>\n",
       "      <td>Live Oak Banking Company</td>\n",
       "      <td>1741 Tiburon Dr</td>\n",
       "      <td>WILMINGTON</td>\n",
       "      <td>...</td>\n",
       "      <td>CO</td>\n",
       "      <td>COLORADO DISTRICT OFFICE</td>\n",
       "      <td>2.0</td>\n",
       "      <td>INDIVIDUAL</td>\n",
       "      <td>PIF</td>\n",
       "      <td>10/31/2018</td>\n",
       "      <td>NaN</td>\n",
       "      <td>0</td>\n",
       "      <td>0</td>\n",
       "      <td>1</td>\n",
       "    </tr>\n",
       "    <tr>\n",
       "      <th>2</th>\n",
       "      <td>20220331</td>\n",
       "      <td>7A</td>\n",
       "      <td>Ideal Energy Inc.</td>\n",
       "      <td>500 North 3rd St #106</td>\n",
       "      <td>FAIRFIELD</td>\n",
       "      <td>IA</td>\n",
       "      <td>52556</td>\n",
       "      <td>Iowa State Bank and Trust Company of Fairfield...</td>\n",
       "      <td>55 S 4th St</td>\n",
       "      <td>FAIRFIELD</td>\n",
       "      <td>...</td>\n",
       "      <td>IA</td>\n",
       "      <td>CEDAR RAPIDS BRANCH OFFICE</td>\n",
       "      <td>2.0</td>\n",
       "      <td>CORPORATION</td>\n",
       "      <td>PIF</td>\n",
       "      <td>02/29/2012</td>\n",
       "      <td>NaN</td>\n",
       "      <td>0</td>\n",
       "      <td>0</td>\n",
       "      <td>1</td>\n",
       "    </tr>\n",
       "    <tr>\n",
       "      <th>3</th>\n",
       "      <td>20220331</td>\n",
       "      <td>7A</td>\n",
       "      <td>Butler &amp; Son Pet Crematory</td>\n",
       "      <td>3337 Carrollton Villa Rica Hwy</td>\n",
       "      <td>Carrollton</td>\n",
       "      <td>GA</td>\n",
       "      <td>30116</td>\n",
       "      <td>Umpqua Bank</td>\n",
       "      <td>445 SE Main St, First Fl</td>\n",
       "      <td>ROSEBURG</td>\n",
       "      <td>...</td>\n",
       "      <td>GA</td>\n",
       "      <td>GEORGIA DISTRICT OFFICE</td>\n",
       "      <td>3.0</td>\n",
       "      <td>INDIVIDUAL</td>\n",
       "      <td>PIF</td>\n",
       "      <td>09/30/2014</td>\n",
       "      <td>NaN</td>\n",
       "      <td>0</td>\n",
       "      <td>0</td>\n",
       "      <td>1</td>\n",
       "    </tr>\n",
       "    <tr>\n",
       "      <th>4</th>\n",
       "      <td>20220331</td>\n",
       "      <td>7A</td>\n",
       "      <td>Holzheimer Bolek + Meehan Arch</td>\n",
       "      <td>7227 Chagrin Rd.</td>\n",
       "      <td>CHAGRIN FALLS</td>\n",
       "      <td>OH</td>\n",
       "      <td>44023</td>\n",
       "      <td>The Huntington National Bank</td>\n",
       "      <td>17 S High St.</td>\n",
       "      <td>COLUMBUS</td>\n",
       "      <td>...</td>\n",
       "      <td>OH</td>\n",
       "      <td>CLEVELAND DISTRICT OFFICE</td>\n",
       "      <td>14.0</td>\n",
       "      <td>CORPORATION</td>\n",
       "      <td>CANCLD</td>\n",
       "      <td>NaN</td>\n",
       "      <td>NaN</td>\n",
       "      <td>0</td>\n",
       "      <td>1</td>\n",
       "      <td>12</td>\n",
       "    </tr>\n",
       "  </tbody>\n",
       "</table>\n",
       "<p>5 rows × 36 columns</p>\n",
       "</div>"
      ],
      "text/plain": [
       "   AsOfDate Program                        BorrName  \\\n",
       "0  20220331      7A  Neal Vasso dba Vasso & Associa   \n",
       "1  20220331      7A          Leslie T. Williams DVM   \n",
       "2  20220331      7A               Ideal Energy Inc.   \n",
       "3  20220331      7A      Butler & Son Pet Crematory   \n",
       "4  20220331      7A  Holzheimer Bolek + Meehan Arch   \n",
       "\n",
       "                       BorrStreet       BorrCity BorrState  BorrZip  \\\n",
       "0  14800 Landmark Blvd.  Suite 88         Dallas        TX    75254   \n",
       "1             4636 N. 55th Street        Boulder        CO    80301   \n",
       "2           500 North 3rd St #106      FAIRFIELD        IA    52556   \n",
       "3  3337 Carrollton Villa Rica Hwy     Carrollton        GA    30116   \n",
       "4                7227 Chagrin Rd.  CHAGRIN FALLS        OH    44023   \n",
       "\n",
       "                                            BankName  \\\n",
       "0                                   Independent Bank   \n",
       "1                           Live Oak Banking Company   \n",
       "2  Iowa State Bank and Trust Company of Fairfield...   \n",
       "3                                        Umpqua Bank   \n",
       "4                       The Huntington National Bank   \n",
       "\n",
       "                 BankStreet    BankCity  ... ProjectState  \\\n",
       "0             3090 Craig Dr    MCKINNEY  ...           TX   \n",
       "1           1741 Tiburon Dr  WILMINGTON  ...           CO   \n",
       "2               55 S 4th St   FAIRFIELD  ...           IA   \n",
       "3  445 SE Main St, First Fl    ROSEBURG  ...           GA   \n",
       "4             17 S High St.    COLUMBUS  ...           OH   \n",
       "\n",
       "                   SBADistrictOffice  CongressionalDistrict  BusinessType  \\\n",
       "0  DALLAS / FT WORTH DISTRICT OFFICE                   24.0    INDIVIDUAL   \n",
       "1           COLORADO DISTRICT OFFICE                    2.0    INDIVIDUAL   \n",
       "2         CEDAR RAPIDS BRANCH OFFICE                    2.0   CORPORATION   \n",
       "3            GEORGIA DISTRICT OFFICE                    3.0    INDIVIDUAL   \n",
       "4          CLEVELAND DISTRICT OFFICE                   14.0   CORPORATION   \n",
       "\n",
       "  LoanStatus  PaidInFullDate ChargeOffDate GrossChargeOffAmount  \\\n",
       "0        PIF      11/30/2015           NaN                    0   \n",
       "1        PIF      10/31/2018           NaN                    0   \n",
       "2        PIF      02/29/2012           NaN                    0   \n",
       "3        PIF      09/30/2014           NaN                    0   \n",
       "4     CANCLD             NaN           NaN                    0   \n",
       "\n",
       "  RevolverStatus  JobsSupported  \n",
       "0              0              7  \n",
       "1              0              1  \n",
       "2              0              1  \n",
       "3              0              1  \n",
       "4              1             12  \n",
       "\n",
       "[5 rows x 36 columns]"
      ]
     },
     "execution_count": 50,
     "metadata": {},
     "output_type": "execute_result"
    }
   ],
   "source": [
    "data.head()"
   ]
  },
  {
   "cell_type": "code",
   "execution_count": 51,
   "id": "b6daf0dd-7722-41ee-98d2-afd5a55670cf",
   "metadata": {},
   "outputs": [
    {
     "data": {
      "text/html": [
       "<div>\n",
       "<style scoped>\n",
       "    .dataframe tbody tr th:only-of-type {\n",
       "        vertical-align: middle;\n",
       "    }\n",
       "\n",
       "    .dataframe tbody tr th {\n",
       "        vertical-align: top;\n",
       "    }\n",
       "\n",
       "    .dataframe thead th {\n",
       "        text-align: right;\n",
       "    }\n",
       "</style>\n",
       "<table border=\"1\" class=\"dataframe\">\n",
       "  <thead>\n",
       "    <tr style=\"text-align: right;\">\n",
       "      <th></th>\n",
       "      <th>AsOfDate</th>\n",
       "      <th>Program</th>\n",
       "      <th>BorrName</th>\n",
       "      <th>BorrStreet</th>\n",
       "      <th>BorrCity</th>\n",
       "      <th>BorrState</th>\n",
       "      <th>BorrZip</th>\n",
       "      <th>BankName</th>\n",
       "      <th>BankStreet</th>\n",
       "      <th>BankCity</th>\n",
       "      <th>...</th>\n",
       "      <th>ProjectState</th>\n",
       "      <th>SBADistrictOffice</th>\n",
       "      <th>CongressionalDistrict</th>\n",
       "      <th>BusinessType</th>\n",
       "      <th>LoanStatus</th>\n",
       "      <th>PaidInFullDate</th>\n",
       "      <th>ChargeOffDate</th>\n",
       "      <th>GrossChargeOffAmount</th>\n",
       "      <th>RevolverStatus</th>\n",
       "      <th>JobsSupported</th>\n",
       "    </tr>\n",
       "  </thead>\n",
       "  <tbody>\n",
       "    <tr>\n",
       "      <th>660206</th>\n",
       "      <td>20220331</td>\n",
       "      <td>7A</td>\n",
       "      <td>Coin Laundromat Express Inc.</td>\n",
       "      <td>12827 SW 42nd St</td>\n",
       "      <td>MIAMI</td>\n",
       "      <td>FL</td>\n",
       "      <td>33175</td>\n",
       "      <td>TD Bank, National Association</td>\n",
       "      <td>2035 Limestone Rd</td>\n",
       "      <td>WILMINGTON</td>\n",
       "      <td>...</td>\n",
       "      <td>FL</td>\n",
       "      <td>SOUTH FLORIDA DISTRICT OFFICE</td>\n",
       "      <td>26.0</td>\n",
       "      <td>CORPORATION</td>\n",
       "      <td>COMMIT</td>\n",
       "      <td>NaN</td>\n",
       "      <td>NaN</td>\n",
       "      <td>0</td>\n",
       "      <td>0</td>\n",
       "      <td>4</td>\n",
       "    </tr>\n",
       "    <tr>\n",
       "      <th>660207</th>\n",
       "      <td>20220331</td>\n",
       "      <td>7A</td>\n",
       "      <td>Voyage Pictures LLC</td>\n",
       "      <td>1115 IONIA AVE NW</td>\n",
       "      <td>Grand Rapids</td>\n",
       "      <td>MI</td>\n",
       "      <td>49503</td>\n",
       "      <td>The Huntington National Bank</td>\n",
       "      <td>17 S High St.</td>\n",
       "      <td>COLUMBUS</td>\n",
       "      <td>...</td>\n",
       "      <td>MI</td>\n",
       "      <td>MICHIGAN DISTRICT OFFICE</td>\n",
       "      <td>2.0</td>\n",
       "      <td>CORPORATION</td>\n",
       "      <td>COMMIT</td>\n",
       "      <td>NaN</td>\n",
       "      <td>NaN</td>\n",
       "      <td>0</td>\n",
       "      <td>1</td>\n",
       "      <td>2</td>\n",
       "    </tr>\n",
       "    <tr>\n",
       "      <th>660208</th>\n",
       "      <td>20220331</td>\n",
       "      <td>7A</td>\n",
       "      <td>Precision Spine and Sport</td>\n",
       "      <td>384 SHUNPIKE RD</td>\n",
       "      <td>CHATHAM</td>\n",
       "      <td>NJ</td>\n",
       "      <td>7928</td>\n",
       "      <td>Live Oak Banking Company</td>\n",
       "      <td>1741 Tiburon Dr</td>\n",
       "      <td>WILMINGTON</td>\n",
       "      <td>...</td>\n",
       "      <td>NJ</td>\n",
       "      <td>NEW JERSEY DISTRICT OFFICE</td>\n",
       "      <td>7.0</td>\n",
       "      <td>CORPORATION</td>\n",
       "      <td>COMMIT</td>\n",
       "      <td>NaN</td>\n",
       "      <td>NaN</td>\n",
       "      <td>0</td>\n",
       "      <td>0</td>\n",
       "      <td>6</td>\n",
       "    </tr>\n",
       "    <tr>\n",
       "      <th>660209</th>\n",
       "      <td>20220331</td>\n",
       "      <td>7A</td>\n",
       "      <td>Voyage Pictures LLC</td>\n",
       "      <td>1115 IONIA AVE NW</td>\n",
       "      <td>Grand Rapids</td>\n",
       "      <td>MI</td>\n",
       "      <td>49503</td>\n",
       "      <td>The Huntington National Bank</td>\n",
       "      <td>17 S High St.</td>\n",
       "      <td>COLUMBUS</td>\n",
       "      <td>...</td>\n",
       "      <td>MI</td>\n",
       "      <td>MICHIGAN DISTRICT OFFICE</td>\n",
       "      <td>2.0</td>\n",
       "      <td>CORPORATION</td>\n",
       "      <td>COMMIT</td>\n",
       "      <td>NaN</td>\n",
       "      <td>NaN</td>\n",
       "      <td>0</td>\n",
       "      <td>0</td>\n",
       "      <td>2</td>\n",
       "    </tr>\n",
       "    <tr>\n",
       "      <th>660210</th>\n",
       "      <td>20220331</td>\n",
       "      <td>7A</td>\n",
       "      <td>DQR Electric Inc.</td>\n",
       "      <td>81 ROOSEVELT ST</td>\n",
       "      <td>MARLBOROUGH</td>\n",
       "      <td>MA</td>\n",
       "      <td>1752</td>\n",
       "      <td>St. Mary's CU</td>\n",
       "      <td>46 Lizotte Dr</td>\n",
       "      <td>MARLBOROUGH</td>\n",
       "      <td>...</td>\n",
       "      <td>MA</td>\n",
       "      <td>MASSACHUSETTS DISTRICT OFFICE</td>\n",
       "      <td>2.0</td>\n",
       "      <td>CORPORATION</td>\n",
       "      <td>COMMIT</td>\n",
       "      <td>NaN</td>\n",
       "      <td>NaN</td>\n",
       "      <td>0</td>\n",
       "      <td>0</td>\n",
       "      <td>9</td>\n",
       "    </tr>\n",
       "  </tbody>\n",
       "</table>\n",
       "<p>5 rows × 36 columns</p>\n",
       "</div>"
      ],
      "text/plain": [
       "        AsOfDate Program                      BorrName         BorrStreet  \\\n",
       "660206  20220331      7A  Coin Laundromat Express Inc.   12827 SW 42nd St   \n",
       "660207  20220331      7A           Voyage Pictures LLC  1115 IONIA AVE NW   \n",
       "660208  20220331      7A     Precision Spine and Sport    384 SHUNPIKE RD   \n",
       "660209  20220331      7A           Voyage Pictures LLC  1115 IONIA AVE NW   \n",
       "660210  20220331      7A             DQR Electric Inc.    81 ROOSEVELT ST   \n",
       "\n",
       "            BorrCity BorrState  BorrZip                       BankName  \\\n",
       "660206         MIAMI        FL    33175  TD Bank, National Association   \n",
       "660207  Grand Rapids        MI    49503   The Huntington National Bank   \n",
       "660208       CHATHAM        NJ     7928       Live Oak Banking Company   \n",
       "660209  Grand Rapids        MI    49503   The Huntington National Bank   \n",
       "660210   MARLBOROUGH        MA     1752                  St. Mary's CU   \n",
       "\n",
       "               BankStreet     BankCity  ... ProjectState  \\\n",
       "660206  2035 Limestone Rd   WILMINGTON  ...           FL   \n",
       "660207      17 S High St.     COLUMBUS  ...           MI   \n",
       "660208    1741 Tiburon Dr   WILMINGTON  ...           NJ   \n",
       "660209      17 S High St.     COLUMBUS  ...           MI   \n",
       "660210      46 Lizotte Dr  MARLBOROUGH  ...           MA   \n",
       "\n",
       "                    SBADistrictOffice  CongressionalDistrict  BusinessType  \\\n",
       "660206  SOUTH FLORIDA DISTRICT OFFICE                   26.0   CORPORATION   \n",
       "660207       MICHIGAN DISTRICT OFFICE                    2.0   CORPORATION   \n",
       "660208     NEW JERSEY DISTRICT OFFICE                    7.0   CORPORATION   \n",
       "660209       MICHIGAN DISTRICT OFFICE                    2.0   CORPORATION   \n",
       "660210  MASSACHUSETTS DISTRICT OFFICE                    2.0   CORPORATION   \n",
       "\n",
       "       LoanStatus  PaidInFullDate ChargeOffDate GrossChargeOffAmount  \\\n",
       "660206     COMMIT             NaN           NaN                    0   \n",
       "660207     COMMIT             NaN           NaN                    0   \n",
       "660208     COMMIT             NaN           NaN                    0   \n",
       "660209     COMMIT             NaN           NaN                    0   \n",
       "660210     COMMIT             NaN           NaN                    0   \n",
       "\n",
       "       RevolverStatus  JobsSupported  \n",
       "660206              0              4  \n",
       "660207              1              2  \n",
       "660208              0              6  \n",
       "660209              0              2  \n",
       "660210              0              9  \n",
       "\n",
       "[5 rows x 36 columns]"
      ]
     },
     "execution_count": 51,
     "metadata": {},
     "output_type": "execute_result"
    }
   ],
   "source": [
    "data.tail()"
   ]
  },
  {
   "cell_type": "code",
   "execution_count": 52,
   "id": "cadbab13-d498-4a03-97c0-74d2efcfdfad",
   "metadata": {},
   "outputs": [
    {
     "name": "stdout",
     "output_type": "stream",
     "text": [
      "<class 'pandas.core.frame.DataFrame'>\n",
      "RangeIndex: 660211 entries, 0 to 660210\n",
      "Data columns (total 36 columns):\n",
      " #   Column                 Non-Null Count   Dtype  \n",
      "---  ------                 --------------   -----  \n",
      " 0   AsOfDate               660211 non-null  int64  \n",
      " 1   Program                660211 non-null  object \n",
      " 2   BorrName               660175 non-null  object \n",
      " 3   BorrStreet             660211 non-null  object \n",
      " 4   BorrCity               660211 non-null  object \n",
      " 5   BorrState              660211 non-null  object \n",
      " 6   BorrZip                660211 non-null  int64  \n",
      " 7   BankName               660211 non-null  object \n",
      " 8   BankStreet             660209 non-null  object \n",
      " 9   BankCity               660209 non-null  object \n",
      " 10  BankState              660209 non-null  object \n",
      " 11  BankZip                660209 non-null  object \n",
      " 12  GrossApproval          660207 non-null  float64\n",
      " 13  SBAGuaranteedApproval  660207 non-null  float64\n",
      " 14  ApprovalDate           660211 non-null  object \n",
      " 15  ApprovalFiscalYear     660211 non-null  int64  \n",
      " 16  FirstDisbursementDate  572487 non-null  object \n",
      " 17  DeliveryMethod         660207 non-null  object \n",
      " 18  subpgmdesc             660211 non-null  object \n",
      " 19  InitialInterestRate    660210 non-null  float64\n",
      " 20  TermInMonths           660211 non-null  int64  \n",
      " 21  NaicsCode              660196 non-null  float64\n",
      " 22  NaicsDescription       658646 non-null  object \n",
      " 23  FranchiseCode          64400 non-null   object \n",
      " 24  FranchiseName          64239 non-null   object \n",
      " 25  ProjectCounty          660207 non-null  object \n",
      " 26  ProjectState           660211 non-null  object \n",
      " 27  SBADistrictOffice      660211 non-null  object \n",
      " 28  CongressionalDistrict  660178 non-null  float64\n",
      " 29  BusinessType           660206 non-null  object \n",
      " 30  LoanStatus             660211 non-null  object \n",
      " 31  PaidInFullDate         292444 non-null  object \n",
      " 32  ChargeOffDate          25784 non-null   object \n",
      " 33  GrossChargeOffAmount   660211 non-null  int64  \n",
      " 34  RevolverStatus         660211 non-null  int64  \n",
      " 35  JobsSupported          660211 non-null  int64  \n",
      "dtypes: float64(5), int64(7), object(24)\n",
      "memory usage: 181.3+ MB\n"
     ]
    }
   ],
   "source": [
    "data.info()"
   ]
  },
  {
   "cell_type": "code",
   "execution_count": 53,
   "id": "f194a556-4d0d-4906-8d85-f42286e846fb",
   "metadata": {},
   "outputs": [
    {
     "data": {
      "text/html": [
       "<div>\n",
       "<style scoped>\n",
       "    .dataframe tbody tr th:only-of-type {\n",
       "        vertical-align: middle;\n",
       "    }\n",
       "\n",
       "    .dataframe tbody tr th {\n",
       "        vertical-align: top;\n",
       "    }\n",
       "\n",
       "    .dataframe thead th {\n",
       "        text-align: right;\n",
       "    }\n",
       "</style>\n",
       "<table border=\"1\" class=\"dataframe\">\n",
       "  <thead>\n",
       "    <tr style=\"text-align: right;\">\n",
       "      <th></th>\n",
       "      <th>AsOfDate</th>\n",
       "      <th>BorrZip</th>\n",
       "      <th>GrossApproval</th>\n",
       "      <th>SBAGuaranteedApproval</th>\n",
       "      <th>ApprovalFiscalYear</th>\n",
       "      <th>InitialInterestRate</th>\n",
       "      <th>TermInMonths</th>\n",
       "      <th>NaicsCode</th>\n",
       "      <th>CongressionalDistrict</th>\n",
       "      <th>GrossChargeOffAmount</th>\n",
       "      <th>RevolverStatus</th>\n",
       "      <th>JobsSupported</th>\n",
       "    </tr>\n",
       "  </thead>\n",
       "  <tbody>\n",
       "    <tr>\n",
       "      <th>count</th>\n",
       "      <td>660211.0</td>\n",
       "      <td>660211.000000</td>\n",
       "      <td>6.602070e+05</td>\n",
       "      <td>6.602070e+05</td>\n",
       "      <td>660211.000000</td>\n",
       "      <td>660210.000000</td>\n",
       "      <td>660211.000000</td>\n",
       "      <td>660196.000000</td>\n",
       "      <td>660178.000000</td>\n",
       "      <td>6.602110e+05</td>\n",
       "      <td>660211.000000</td>\n",
       "      <td>660211.000000</td>\n",
       "    </tr>\n",
       "    <tr>\n",
       "      <th>mean</th>\n",
       "      <td>20220331.0</td>\n",
       "      <td>52356.083113</td>\n",
       "      <td>4.177401e+05</td>\n",
       "      <td>3.143516e+05</td>\n",
       "      <td>2015.779421</td>\n",
       "      <td>6.421574</td>\n",
       "      <td>126.680198</td>\n",
       "      <td>524392.585662</td>\n",
       "      <td>9.319006</td>\n",
       "      <td>4.954406e+03</td>\n",
       "      <td>0.303030</td>\n",
       "      <td>10.826728</td>\n",
       "    </tr>\n",
       "    <tr>\n",
       "      <th>std</th>\n",
       "      <td>0.0</td>\n",
       "      <td>30623.869160</td>\n",
       "      <td>7.284100e+05</td>\n",
       "      <td>5.667752e+05</td>\n",
       "      <td>3.454124</td>\n",
       "      <td>1.565732</td>\n",
       "      <td>80.423293</td>\n",
       "      <td>175368.713561</td>\n",
       "      <td>10.594812</td>\n",
       "      <td>5.416382e+04</td>\n",
       "      <td>0.459569</td>\n",
       "      <td>20.402267</td>\n",
       "    </tr>\n",
       "    <tr>\n",
       "      <th>min</th>\n",
       "      <td>20220331.0</td>\n",
       "      <td>601.000000</td>\n",
       "      <td>1.000000e+03</td>\n",
       "      <td>5.000000e+02</td>\n",
       "      <td>2010.000000</td>\n",
       "      <td>0.000000</td>\n",
       "      <td>0.000000</td>\n",
       "      <td>111110.000000</td>\n",
       "      <td>0.000000</td>\n",
       "      <td>0.000000e+00</td>\n",
       "      <td>0.000000</td>\n",
       "      <td>0.000000</td>\n",
       "    </tr>\n",
       "    <tr>\n",
       "      <th>25%</th>\n",
       "      <td>20220331.0</td>\n",
       "      <td>28205.000000</td>\n",
       "      <td>4.700000e+04</td>\n",
       "      <td>2.500000e+04</td>\n",
       "      <td>2013.000000</td>\n",
       "      <td>5.500000</td>\n",
       "      <td>84.000000</td>\n",
       "      <td>424990.000000</td>\n",
       "      <td>2.000000</td>\n",
       "      <td>0.000000e+00</td>\n",
       "      <td>0.000000</td>\n",
       "      <td>2.000000</td>\n",
       "    </tr>\n",
       "    <tr>\n",
       "      <th>50%</th>\n",
       "      <td>20220331.0</td>\n",
       "      <td>50401.000000</td>\n",
       "      <td>1.500000e+05</td>\n",
       "      <td>1.000000e+05</td>\n",
       "      <td>2016.000000</td>\n",
       "      <td>6.000000</td>\n",
       "      <td>120.000000</td>\n",
       "      <td>541110.000000</td>\n",
       "      <td>6.000000</td>\n",
       "      <td>0.000000e+00</td>\n",
       "      <td>0.000000</td>\n",
       "      <td>5.000000</td>\n",
       "    </tr>\n",
       "    <tr>\n",
       "      <th>75%</th>\n",
       "      <td>20220331.0</td>\n",
       "      <td>80222.000000</td>\n",
       "      <td>4.200000e+05</td>\n",
       "      <td>3.183750e+05</td>\n",
       "      <td>2019.000000</td>\n",
       "      <td>7.250000</td>\n",
       "      <td>120.000000</td>\n",
       "      <td>624410.000000</td>\n",
       "      <td>11.000000</td>\n",
       "      <td>0.000000e+00</td>\n",
       "      <td>1.000000</td>\n",
       "      <td>12.000000</td>\n",
       "    </tr>\n",
       "    <tr>\n",
       "      <th>max</th>\n",
       "      <td>20220331.0</td>\n",
       "      <td>99929.000000</td>\n",
       "      <td>5.000000e+06</td>\n",
       "      <td>4.500000e+06</td>\n",
       "      <td>2022.000000</td>\n",
       "      <td>15.240000</td>\n",
       "      <td>847.000000</td>\n",
       "      <td>928120.000000</td>\n",
       "      <td>53.000000</td>\n",
       "      <td>4.706180e+06</td>\n",
       "      <td>1.000000</td>\n",
       "      <td>2150.000000</td>\n",
       "    </tr>\n",
       "  </tbody>\n",
       "</table>\n",
       "</div>"
      ],
      "text/plain": [
       "         AsOfDate        BorrZip  GrossApproval  SBAGuaranteedApproval  \\\n",
       "count    660211.0  660211.000000   6.602070e+05           6.602070e+05   \n",
       "mean   20220331.0   52356.083113   4.177401e+05           3.143516e+05   \n",
       "std           0.0   30623.869160   7.284100e+05           5.667752e+05   \n",
       "min    20220331.0     601.000000   1.000000e+03           5.000000e+02   \n",
       "25%    20220331.0   28205.000000   4.700000e+04           2.500000e+04   \n",
       "50%    20220331.0   50401.000000   1.500000e+05           1.000000e+05   \n",
       "75%    20220331.0   80222.000000   4.200000e+05           3.183750e+05   \n",
       "max    20220331.0   99929.000000   5.000000e+06           4.500000e+06   \n",
       "\n",
       "       ApprovalFiscalYear  InitialInterestRate   TermInMonths      NaicsCode  \\\n",
       "count       660211.000000        660210.000000  660211.000000  660196.000000   \n",
       "mean          2015.779421             6.421574     126.680198  524392.585662   \n",
       "std              3.454124             1.565732      80.423293  175368.713561   \n",
       "min           2010.000000             0.000000       0.000000  111110.000000   \n",
       "25%           2013.000000             5.500000      84.000000  424990.000000   \n",
       "50%           2016.000000             6.000000     120.000000  541110.000000   \n",
       "75%           2019.000000             7.250000     120.000000  624410.000000   \n",
       "max           2022.000000            15.240000     847.000000  928120.000000   \n",
       "\n",
       "       CongressionalDistrict  GrossChargeOffAmount  RevolverStatus  \\\n",
       "count          660178.000000          6.602110e+05   660211.000000   \n",
       "mean                9.319006          4.954406e+03        0.303030   \n",
       "std                10.594812          5.416382e+04        0.459569   \n",
       "min                 0.000000          0.000000e+00        0.000000   \n",
       "25%                 2.000000          0.000000e+00        0.000000   \n",
       "50%                 6.000000          0.000000e+00        0.000000   \n",
       "75%                11.000000          0.000000e+00        1.000000   \n",
       "max                53.000000          4.706180e+06        1.000000   \n",
       "\n",
       "       JobsSupported  \n",
       "count  660211.000000  \n",
       "mean       10.826728  \n",
       "std        20.402267  \n",
       "min         0.000000  \n",
       "25%         2.000000  \n",
       "50%         5.000000  \n",
       "75%        12.000000  \n",
       "max      2150.000000  "
      ]
     },
     "execution_count": 53,
     "metadata": {},
     "output_type": "execute_result"
    }
   ],
   "source": [
    "data.describe()"
   ]
  },
  {
   "cell_type": "code",
   "execution_count": 54,
   "id": "eb3fee7a-3795-4f2f-8351-5bd3b3bf76b0",
   "metadata": {},
   "outputs": [],
   "source": [
    "# subset to observations with the LoanStatus PIF or CHGOFF aka paid in full or charged off. We don't care about loans that are currently being paid back\n",
    "data_sub = data[(data['LoanStatus'] == 'PIF') | (data['LoanStatus'] == 'CHGOFF')].reset_index(drop=True)\n",
    "\n",
    "# convert PIF to 0 and CHGOFF to 1\n",
    "data_sub.loc[data_sub['LoanStatus'] == 'PIF', 'LoanStatus'] = '0' \n",
    "data_sub.loc[data_sub['LoanStatus'] == 'CHGOFF', 'LoanStatus'] = '1'\n",
    "data_sub['LoanStatus'] = data_sub['LoanStatus'].astype(int)"
   ]
  },
  {
   "cell_type": "code",
   "execution_count": 55,
   "id": "1f03b520-b7d9-4a4d-b82e-90706bfd4ce1",
   "metadata": {},
   "outputs": [
    {
     "data": {
      "text/html": [
       "<div>\n",
       "<style scoped>\n",
       "    .dataframe tbody tr th:only-of-type {\n",
       "        vertical-align: middle;\n",
       "    }\n",
       "\n",
       "    .dataframe tbody tr th {\n",
       "        vertical-align: top;\n",
       "    }\n",
       "\n",
       "    .dataframe thead th {\n",
       "        text-align: right;\n",
       "    }\n",
       "</style>\n",
       "<table border=\"1\" class=\"dataframe\">\n",
       "  <thead>\n",
       "    <tr style=\"text-align: right;\">\n",
       "      <th></th>\n",
       "      <th>AsOfDate</th>\n",
       "      <th>Program</th>\n",
       "      <th>BorrName</th>\n",
       "      <th>BorrStreet</th>\n",
       "      <th>BorrCity</th>\n",
       "      <th>BorrState</th>\n",
       "      <th>BorrZip</th>\n",
       "      <th>BankName</th>\n",
       "      <th>BankStreet</th>\n",
       "      <th>BankCity</th>\n",
       "      <th>...</th>\n",
       "      <th>ProjectState</th>\n",
       "      <th>SBADistrictOffice</th>\n",
       "      <th>CongressionalDistrict</th>\n",
       "      <th>BusinessType</th>\n",
       "      <th>LoanStatus</th>\n",
       "      <th>PaidInFullDate</th>\n",
       "      <th>ChargeOffDate</th>\n",
       "      <th>GrossChargeOffAmount</th>\n",
       "      <th>RevolverStatus</th>\n",
       "      <th>JobsSupported</th>\n",
       "    </tr>\n",
       "  </thead>\n",
       "  <tbody>\n",
       "    <tr>\n",
       "      <th>0</th>\n",
       "      <td>20220331</td>\n",
       "      <td>7A</td>\n",
       "      <td>Neal Vasso dba Vasso &amp; Associa</td>\n",
       "      <td>14800 Landmark Blvd.  Suite 88</td>\n",
       "      <td>Dallas</td>\n",
       "      <td>TX</td>\n",
       "      <td>75254</td>\n",
       "      <td>Independent Bank</td>\n",
       "      <td>3090 Craig Dr</td>\n",
       "      <td>MCKINNEY</td>\n",
       "      <td>...</td>\n",
       "      <td>TX</td>\n",
       "      <td>DALLAS / FT WORTH DISTRICT OFFICE</td>\n",
       "      <td>24.0</td>\n",
       "      <td>INDIVIDUAL</td>\n",
       "      <td>0</td>\n",
       "      <td>11/30/2015</td>\n",
       "      <td>NaN</td>\n",
       "      <td>0</td>\n",
       "      <td>0</td>\n",
       "      <td>7</td>\n",
       "    </tr>\n",
       "    <tr>\n",
       "      <th>1</th>\n",
       "      <td>20220331</td>\n",
       "      <td>7A</td>\n",
       "      <td>Leslie T. Williams DVM</td>\n",
       "      <td>4636 N. 55th Street</td>\n",
       "      <td>Boulder</td>\n",
       "      <td>CO</td>\n",
       "      <td>80301</td>\n",
       "      <td>Live Oak Banking Company</td>\n",
       "      <td>1741 Tiburon Dr</td>\n",
       "      <td>WILMINGTON</td>\n",
       "      <td>...</td>\n",
       "      <td>CO</td>\n",
       "      <td>COLORADO DISTRICT OFFICE</td>\n",
       "      <td>2.0</td>\n",
       "      <td>INDIVIDUAL</td>\n",
       "      <td>0</td>\n",
       "      <td>10/31/2018</td>\n",
       "      <td>NaN</td>\n",
       "      <td>0</td>\n",
       "      <td>0</td>\n",
       "      <td>1</td>\n",
       "    </tr>\n",
       "    <tr>\n",
       "      <th>2</th>\n",
       "      <td>20220331</td>\n",
       "      <td>7A</td>\n",
       "      <td>Ideal Energy Inc.</td>\n",
       "      <td>500 North 3rd St #106</td>\n",
       "      <td>FAIRFIELD</td>\n",
       "      <td>IA</td>\n",
       "      <td>52556</td>\n",
       "      <td>Iowa State Bank and Trust Company of Fairfield...</td>\n",
       "      <td>55 S 4th St</td>\n",
       "      <td>FAIRFIELD</td>\n",
       "      <td>...</td>\n",
       "      <td>IA</td>\n",
       "      <td>CEDAR RAPIDS BRANCH OFFICE</td>\n",
       "      <td>2.0</td>\n",
       "      <td>CORPORATION</td>\n",
       "      <td>0</td>\n",
       "      <td>02/29/2012</td>\n",
       "      <td>NaN</td>\n",
       "      <td>0</td>\n",
       "      <td>0</td>\n",
       "      <td>1</td>\n",
       "    </tr>\n",
       "    <tr>\n",
       "      <th>3</th>\n",
       "      <td>20220331</td>\n",
       "      <td>7A</td>\n",
       "      <td>Butler &amp; Son Pet Crematory</td>\n",
       "      <td>3337 Carrollton Villa Rica Hwy</td>\n",
       "      <td>Carrollton</td>\n",
       "      <td>GA</td>\n",
       "      <td>30116</td>\n",
       "      <td>Umpqua Bank</td>\n",
       "      <td>445 SE Main St, First Fl</td>\n",
       "      <td>ROSEBURG</td>\n",
       "      <td>...</td>\n",
       "      <td>GA</td>\n",
       "      <td>GEORGIA DISTRICT OFFICE</td>\n",
       "      <td>3.0</td>\n",
       "      <td>INDIVIDUAL</td>\n",
       "      <td>0</td>\n",
       "      <td>09/30/2014</td>\n",
       "      <td>NaN</td>\n",
       "      <td>0</td>\n",
       "      <td>0</td>\n",
       "      <td>1</td>\n",
       "    </tr>\n",
       "    <tr>\n",
       "      <th>4</th>\n",
       "      <td>20220331</td>\n",
       "      <td>7A</td>\n",
       "      <td>CRESA PARTNERS - DENVER INC.</td>\n",
       "      <td>7979 E TUFTS AVE PKWY STE 810</td>\n",
       "      <td>DENVER</td>\n",
       "      <td>CO</td>\n",
       "      <td>80237</td>\n",
       "      <td>Zions Bank, A Division of</td>\n",
       "      <td>1 S Main St</td>\n",
       "      <td>SALT LAKE CITY</td>\n",
       "      <td>...</td>\n",
       "      <td>CO</td>\n",
       "      <td>COLORADO DISTRICT OFFICE</td>\n",
       "      <td>1.0</td>\n",
       "      <td>CORPORATION</td>\n",
       "      <td>0</td>\n",
       "      <td>10/31/2016</td>\n",
       "      <td>NaN</td>\n",
       "      <td>0</td>\n",
       "      <td>1</td>\n",
       "      <td>35</td>\n",
       "    </tr>\n",
       "  </tbody>\n",
       "</table>\n",
       "<p>5 rows × 36 columns</p>\n",
       "</div>"
      ],
      "text/plain": [
       "   AsOfDate Program                        BorrName  \\\n",
       "0  20220331      7A  Neal Vasso dba Vasso & Associa   \n",
       "1  20220331      7A          Leslie T. Williams DVM   \n",
       "2  20220331      7A               Ideal Energy Inc.   \n",
       "3  20220331      7A      Butler & Son Pet Crematory   \n",
       "4  20220331      7A    CRESA PARTNERS - DENVER INC.   \n",
       "\n",
       "                       BorrStreet    BorrCity BorrState  BorrZip  \\\n",
       "0  14800 Landmark Blvd.  Suite 88      Dallas        TX    75254   \n",
       "1             4636 N. 55th Street     Boulder        CO    80301   \n",
       "2           500 North 3rd St #106   FAIRFIELD        IA    52556   \n",
       "3  3337 Carrollton Villa Rica Hwy  Carrollton        GA    30116   \n",
       "4   7979 E TUFTS AVE PKWY STE 810      DENVER        CO    80237   \n",
       "\n",
       "                                            BankName  \\\n",
       "0                                   Independent Bank   \n",
       "1                           Live Oak Banking Company   \n",
       "2  Iowa State Bank and Trust Company of Fairfield...   \n",
       "3                                        Umpqua Bank   \n",
       "4                          Zions Bank, A Division of   \n",
       "\n",
       "                 BankStreet        BankCity  ... ProjectState  \\\n",
       "0             3090 Craig Dr        MCKINNEY  ...           TX   \n",
       "1           1741 Tiburon Dr      WILMINGTON  ...           CO   \n",
       "2               55 S 4th St       FAIRFIELD  ...           IA   \n",
       "3  445 SE Main St, First Fl        ROSEBURG  ...           GA   \n",
       "4               1 S Main St  SALT LAKE CITY  ...           CO   \n",
       "\n",
       "                   SBADistrictOffice  CongressionalDistrict  BusinessType  \\\n",
       "0  DALLAS / FT WORTH DISTRICT OFFICE                   24.0    INDIVIDUAL   \n",
       "1           COLORADO DISTRICT OFFICE                    2.0    INDIVIDUAL   \n",
       "2         CEDAR RAPIDS BRANCH OFFICE                    2.0   CORPORATION   \n",
       "3            GEORGIA DISTRICT OFFICE                    3.0    INDIVIDUAL   \n",
       "4           COLORADO DISTRICT OFFICE                    1.0   CORPORATION   \n",
       "\n",
       "  LoanStatus  PaidInFullDate ChargeOffDate GrossChargeOffAmount  \\\n",
       "0          0      11/30/2015           NaN                    0   \n",
       "1          0      10/31/2018           NaN                    0   \n",
       "2          0      02/29/2012           NaN                    0   \n",
       "3          0      09/30/2014           NaN                    0   \n",
       "4          0      10/31/2016           NaN                    0   \n",
       "\n",
       "  RevolverStatus  JobsSupported  \n",
       "0              0              7  \n",
       "1              0              1  \n",
       "2              0              1  \n",
       "3              0              1  \n",
       "4              1             35  \n",
       "\n",
       "[5 rows x 36 columns]"
      ]
     },
     "execution_count": 55,
     "metadata": {},
     "output_type": "execute_result"
    }
   ],
   "source": [
    "data_sub.head()"
   ]
  },
  {
   "cell_type": "code",
   "execution_count": 56,
   "id": "e33efb4a-8491-47a6-ba2a-0d1f1ded93ea",
   "metadata": {},
   "outputs": [
    {
     "data": {
      "text/plain": [
       "AsOfDate                      0\n",
       "Program                       0\n",
       "BorrName                     11\n",
       "BorrStreet                    0\n",
       "BorrCity                      0\n",
       "BorrState                     0\n",
       "BorrZip                       0\n",
       "BankName                      0\n",
       "BankStreet                    1\n",
       "BankCity                      1\n",
       "BankState                     1\n",
       "BankZip                       1\n",
       "GrossApproval                 0\n",
       "SBAGuaranteedApproval         0\n",
       "ApprovalDate                  0\n",
       "ApprovalFiscalYear            0\n",
       "FirstDisbursementDate      1058\n",
       "DeliveryMethod                0\n",
       "subpgmdesc                    0\n",
       "InitialInterestRate           0\n",
       "TermInMonths                  0\n",
       "NaicsCode                     7\n",
       "NaicsDescription            193\n",
       "FranchiseCode            294257\n",
       "FranchiseName            294284\n",
       "ProjectCounty                 1\n",
       "ProjectState                  0\n",
       "SBADistrictOffice             0\n",
       "CongressionalDistrict        22\n",
       "BusinessType                  3\n",
       "LoanStatus                    0\n",
       "PaidInFullDate            25785\n",
       "ChargeOffDate            292445\n",
       "GrossChargeOffAmount          0\n",
       "RevolverStatus                0\n",
       "JobsSupported                 0\n",
       "dtype: int64"
      ]
     },
     "execution_count": 56,
     "metadata": {},
     "output_type": "execute_result"
    }
   ],
   "source": [
    "data_sub.isnull().sum()"
   ]
  },
  {
   "cell_type": "markdown",
   "id": "996e016a-72e2-43e7-b422-0c63523c013a",
   "metadata": {},
   "source": [
    "## Interest rate"
   ]
  },
  {
   "cell_type": "code",
   "execution_count": 12,
   "id": "2c4a3fe6-7eac-4939-8ee0-4cffdd4e97ef",
   "metadata": {},
   "outputs": [
    {
     "data": {
      "text/plain": [
       "<AxesSubplot:>"
      ]
     },
     "execution_count": 12,
     "metadata": {},
     "output_type": "execute_result"
    },
    {
     "data": {
      "image/png": "[encoded data removed]",
      "text/plain": [
       "<Figure size 432x288 with 1 Axes>"
      ]
     },
     "metadata": {
      "needs_background": "light"
     },
     "output_type": "display_data"
    }
   ],
   "source": [
    "data_sub.InitialInterestRate.hist(bins=50)"
   ]
  },
  {
   "cell_type": "code",
   "execution_count": 13,
   "id": "121cbc6d-b397-4cc3-a128-ef1442b88285",
   "metadata": {},
   "outputs": [
    {
     "data": {
      "text/plain": [
       "count    318229.000000\n",
       "mean          6.405675\n",
       "std           1.494836\n",
       "min           0.000000\n",
       "25%           5.500000\n",
       "50%           6.000000\n",
       "75%           7.250000\n",
       "max          13.250000\n",
       "Name: InitialInterestRate, dtype: float64"
      ]
     },
     "execution_count": 13,
     "metadata": {},
     "output_type": "execute_result"
    }
   ],
   "source": [
    "data_sub.InitialInterestRate.describe()"
   ]
  },
  {
   "cell_type": "code",
   "execution_count": 14,
   "id": "63d83784-33dd-4f49-a3bc-dfda30e260fb",
   "metadata": {},
   "outputs": [
    {
     "data": {
      "image/png": "[encoded data removed]",
      "text/plain": [
       "<Figure size 432x288 with 1 Axes>"
      ]
     },
     "metadata": {
      "needs_background": "light"
     },
     "output_type": "display_data"
    },
    {
     "data": {
      "image/png": "[encoded data removed]",
      "text/plain": [
       "<Figure size 432x288 with 1 Axes>"
      ]
     },
     "metadata": {
      "needs_background": "light"
     },
     "output_type": "display_data"
    },
    {
     "data": {
      "image/png": "[encoded data removed]",
      "text/plain": [
       "<Figure size 432x288 with 1 Axes>"
      ]
     },
     "metadata": {
      "needs_background": "light"
     },
     "output_type": "display_data"
    },
    {
     "data": {
      "image/png": "[encoded data removed]",
      "text/plain": [
       "<Figure size 432x288 with 1 Axes>"
      ]
     },
     "metadata": {
      "needs_background": "light"
     },
     "output_type": "display_data"
    },
    {
     "data": {
      "image/png": "[encoded data removed]",
      "text/plain": [
       "<Figure size 432x288 with 1 Axes>"
      ]
     },
     "metadata": {
      "needs_background": "light"
     },
     "output_type": "display_data"
    },
    {
     "data": {
      "image/png": "[encoded data removed]",
      "text/plain": [
       "<Figure size 432x288 with 1 Axes>"
      ]
     },
     "metadata": {
      "needs_background": "light"
     },
     "output_type": "display_data"
    },
    {
     "data": {
      "image/png": "[encoded data removed]",
      "text/plain": [
       "<Figure size 432x288 with 1 Axes>"
      ]
     },
     "metadata": {
      "needs_background": "light"
     },
     "output_type": "display_data"
    },
    {
     "data": {
      "image/png": "[encoded data removed]",
      "text/plain": [
       "<Figure size 432x288 with 1 Axes>"
      ]
     },
     "metadata": {
      "needs_background": "light"
     },
     "output_type": "display_data"
    },
    {
     "data": {
      "image/png": "[encoded data removed]",
      "text/plain": [
       "<Figure size 432x288 with 1 Axes>"
      ]
     },
     "metadata": {
      "needs_background": "light"
     },
     "output_type": "display_data"
    },
    {
     "data": {
      "image/png": "[encoded data removed]",
      "text/plain": [
       "<Figure size 432x288 with 1 Axes>"
      ]
     },
     "metadata": {
      "needs_background": "light"
     },
     "output_type": "display_data"
    },
    {
     "data": {
      "image/png": "[encoded data removed]",
      "text/plain": [
       "<Figure size 432x288 with 1 Axes>"
      ]
     },
     "metadata": {
      "needs_background": "light"
     },
     "output_type": "display_data"
    },
    {
     "data": {
      "image/png": "[encoded data removed]",
      "text/plain": [
       "<Figure size 432x288 with 1 Axes>"
      ]
     },
     "metadata": {
      "needs_background": "light"
     },
     "output_type": "display_data"
    },
    {
     "data": {
      "image/png": "[encoded data removed]",
      "text/plain": [
       "<Figure size 432x288 with 1 Axes>"
      ]
     },
     "metadata": {
      "needs_background": "light"
     },
     "output_type": "display_data"
    }
   ],
   "source": [
    "for i in data_sub.ApprovalFiscalYear.unique():\n",
    "    temp = data_sub[data_sub['ApprovalFiscalYear'] == i]\n",
    "    plt.hist(temp.InitialInterestRate, bins=20)\n",
    "    plt.title(\"Year: \" + str(i))\n",
    "    plt.show()\n",
    "    "
   ]
  },
  {
   "cell_type": "code",
   "execution_count": 15,
   "id": "e0bdab88-3084-42e4-b1e3-2a7deed9e6ff",
   "metadata": {},
   "outputs": [
    {
     "data": {
      "text/plain": [
       "<seaborn.axisgrid.PairGrid at 0x7f523ec08f70>"
      ]
     },
     "execution_count": 15,
     "metadata": {},
     "output_type": "execute_result"
    },
    {
     "data": {
      "image/png": "[encoded data removed]",
      "text/plain": [
       "<Figure size 243.625x180 with 2 Axes>"
      ]
     },
     "metadata": {
      "needs_background": "light"
     },
     "output_type": "display_data"
    }
   ],
   "source": [
    "sns.pairplot(data=data_sub[['InitialInterestRate', 'LoanStatus']], hue=\"LoanStatus\")"
   ]
  },
  {
   "cell_type": "code",
   "execution_count": 16,
   "id": "cda2dfbb-2728-4b4a-8292-24d5414d4047",
   "metadata": {},
   "outputs": [
    {
     "name": "stdout",
     "output_type": "stream",
     "text": [
      "2010\n",
      "2011\n",
      "2012\n",
      "2013\n",
      "2014\n",
      "2015\n",
      "2016\n",
      "2017\n",
      "2018\n",
      "2019\n",
      "2020\n",
      "2021\n",
      "2022\n"
     ]
    },
    {
     "data": {
      "image/png": "[encoded data removed]",
      "text/plain": [
       "<Figure size 243.625x180 with 2 Axes>"
      ]
     },
     "metadata": {
      "needs_background": "light"
     },
     "output_type": "display_data"
    },
    {
     "data": {
      "image/png": "[encoded data removed]",
      "text/plain": [
       "<Figure size 243.625x180 with 2 Axes>"
      ]
     },
     "metadata": {
      "needs_background": "light"
     },
     "output_type": "display_data"
    },
    {
     "data": {
      "image/png": "[encoded data removed]",
      "text/plain": [
       "<Figure size 243.625x180 with 2 Axes>"
      ]
     },
     "metadata": {
      "needs_background": "light"
     },
     "output_type": "display_data"
    },
    {
     "data": {
      "image/png": "[encoded data removed]",
      "text/plain": [
       "<Figure size 243.625x180 with 2 Axes>"
      ]
     },
     "metadata": {
      "needs_background": "light"
     },
     "output_type": "display_data"
    },
    {
     "data": {
      "image/png": "[encoded data removed]",
      "text/plain": [
       "<Figure size 243.625x180 with 2 Axes>"
      ]
     },
     "metadata": {
      "needs_background": "light"
     },
     "output_type": "display_data"
    },
    {
     "data": {
      "image/png": "[encoded data removed]",
      "text/plain": [
       "<Figure size 243.625x180 with 2 Axes>"
      ]
     },
     "metadata": {
      "needs_background": "light"
     },
     "output_type": "display_data"
    },
    {
     "data": {
      "image/png": "[encoded data removed]",
      "text/plain": [
       "<Figure size 243.625x180 with 2 Axes>"
      ]
     },
     "metadata": {
      "needs_background": "light"
     },
     "output_type": "display_data"
    },
    {
     "data": {
      "image/png": "[encoded data removed]",
      "text/plain": [
       "<Figure size 243.625x180 with 2 Axes>"
      ]
     },
     "metadata": {
      "needs_background": "light"
     },
     "output_type": "display_data"
    },
    {
     "data": {
      "image/png": "[encoded data removed]",
      "text/plain": [
       "<Figure size 243.625x180 with 2 Axes>"
      ]
     },
     "metadata": {
      "needs_background": "light"
     },
     "output_type": "display_data"
    },
    {
     "data": {
      "image/png": "[encoded data removed]",
      "text/plain": [
       "<Figure size 243.625x180 with 2 Axes>"
      ]
     },
     "metadata": {
      "needs_background": "light"
     },
     "output_type": "display_data"
    },
    {
     "data": {
      "image/png": "[encoded data removed]",
      "text/plain": [
       "<Figure size 243.625x180 with 2 Axes>"
      ]
     },
     "metadata": {
      "needs_background": "light"
     },
     "output_type": "display_data"
    },
    {
     "data": {
      "image/png": "[encoded data removed]",
      "text/plain": [
       "<Figure size 243.625x180 with 2 Axes>"
      ]
     },
     "metadata": {
      "needs_background": "light"
     },
     "output_type": "display_data"
    },
    {
     "data": {
      "image/png": "[encoded data removed]",
      "text/plain": [
       "<Figure size 243.625x180 with 2 Axes>"
      ]
     },
     "metadata": {
      "needs_background": "light"
     },
     "output_type": "display_data"
    }
   ],
   "source": [
    "for i in data_sub.ApprovalFiscalYear.unique():\n",
    "    temp = data_sub[data_sub['ApprovalFiscalYear'] == i]\n",
    "    print(i)\n",
    "    sns.pairplot(data=temp[['InitialInterestRate', 'LoanStatus']], hue=\"LoanStatus\")\n"
   ]
  },
  {
   "cell_type": "markdown",
   "id": "7d96b188-871e-4890-a320-ac7a5ace7582",
   "metadata": {},
   "source": [
    "## Term length"
   ]
  },
  {
   "cell_type": "code",
   "execution_count": 17,
   "id": "8a7c9035-ff6a-4802-aba8-cf65d0708b5f",
   "metadata": {},
   "outputs": [
    {
     "data": {
      "text/plain": [
       "<AxesSubplot:>"
      ]
     },
     "execution_count": 17,
     "metadata": {},
     "output_type": "execute_result"
    },
    {
     "data": {
      "image/png": "[encoded data removed]",
      "text/plain": [
       "<Figure size 432x288 with 1 Axes>"
      ]
     },
     "metadata": {
      "needs_background": "light"
     },
     "output_type": "display_data"
    }
   ],
   "source": [
    "data_sub.TermInMonths.hist(bins=50)"
   ]
  },
  {
   "cell_type": "code",
   "execution_count": 18,
   "id": "b9f89cd4-f016-41b9-8350-6973128bb109",
   "metadata": {},
   "outputs": [
    {
     "data": {
      "text/plain": [
       "count    318229.000000\n",
       "mean        107.849794\n",
       "std          73.880959\n",
       "min           0.000000\n",
       "25%          60.000000\n",
       "50%          84.000000\n",
       "75%         120.000000\n",
       "max         366.000000\n",
       "Name: TermInMonths, dtype: float64"
      ]
     },
     "execution_count": 18,
     "metadata": {},
     "output_type": "execute_result"
    }
   ],
   "source": [
    "data_sub.TermInMonths.describe()"
   ]
  },
  {
   "cell_type": "code",
   "execution_count": 20,
   "id": "cfc06202-8133-43f6-99e8-cfd3be6b8a7b",
   "metadata": {},
   "outputs": [
    {
     "data": {
      "text/plain": [
       "<seaborn.axisgrid.PairGrid at 0x7f523e7e3fd0>"
      ]
     },
     "execution_count": 20,
     "metadata": {},
     "output_type": "execute_result"
    },
    {
     "data": {
      "image/png": "[encoded data removed]",
      "text/plain": [
       "<Figure size 243.625x180 with 2 Axes>"
      ]
     },
     "metadata": {
      "needs_background": "light"
     },
     "output_type": "display_data"
    }
   ],
   "source": [
    "# Shorter term months indicate a riskier borrower. We see above that defaults happen with middle to higher interest rates as well.\n",
    "sns.pairplot(data=data_sub[['TermInMonths', 'LoanStatus']], hue=\"LoanStatus\")"
   ]
  },
  {
   "cell_type": "markdown",
   "id": "7f07f1fe-2df4-49b6-b004-7636d6f71f08",
   "metadata": {},
   "source": [
    "## Principal"
   ]
  },
  {
   "cell_type": "code",
   "execution_count": 21,
   "id": "7c4d9829-ca59-427a-bdde-9c4bdb5230a3",
   "metadata": {},
   "outputs": [
    {
     "data": {
      "text/plain": [
       "<AxesSubplot:>"
      ]
     },
     "execution_count": 21,
     "metadata": {},
     "output_type": "execute_result"
    },
    {
     "data": {
      "image/png": "[encoded data removed]",
      "text/plain": [
       "<Figure size 432x288 with 1 Axes>"
      ]
     },
     "metadata": {
      "needs_background": "light"
     },
     "output_type": "display_data"
    }
   ],
   "source": [
    "data_sub.GrossApproval.hist(bins=100)"
   ]
  },
  {
   "cell_type": "code",
   "execution_count": 22,
   "id": "e9b806ba-ef89-4862-a71e-69fb46205032",
   "metadata": {},
   "outputs": [
    {
     "data": {
      "text/plain": [
       "count    3.182290e+05\n",
       "mean     3.224662e+05\n",
       "std      6.152275e+05\n",
       "min      1.000000e+03\n",
       "25%      3.000000e+04\n",
       "50%      1.000000e+05\n",
       "75%      3.070000e+05\n",
       "max      5.000000e+06\n",
       "Name: GrossApproval, dtype: float64"
      ]
     },
     "execution_count": 22,
     "metadata": {},
     "output_type": "execute_result"
    }
   ],
   "source": [
    "data_sub.GrossApproval.describe()"
   ]
  },
  {
   "cell_type": "code",
   "execution_count": 23,
   "id": "7e9b0c51-c037-4791-bc13-6d068faec2f9",
   "metadata": {},
   "outputs": [
    {
     "data": {
      "text/plain": [
       "<seaborn.axisgrid.PairGrid at 0x7f523e62afd0>"
      ]
     },
     "execution_count": 23,
     "metadata": {},
     "output_type": "execute_result"
    },
    {
     "data": {
      "image/png": "[encoded data removed]",
      "text/plain": [
       "<Figure size 243.625x180 with 2 Axes>"
      ]
     },
     "metadata": {
      "needs_background": "light"
     },
     "output_type": "display_data"
    }
   ],
   "source": [
    "# Riskier browwers are given lower amounts, which makes sense\n",
    "sns.pairplot(data=data_sub[['GrossApproval', 'LoanStatus']], hue=\"LoanStatus\")"
   ]
  },
  {
   "cell_type": "markdown",
   "id": "deb4f05a-8057-450f-8d45-ed867ee79deb",
   "metadata": {},
   "source": [
    "## SBA guarantee amount"
   ]
  },
  {
   "cell_type": "code",
   "execution_count": 24,
   "id": "0e870e9e-5314-44e8-bfd8-824c19e1af4b",
   "metadata": {},
   "outputs": [
    {
     "data": {
      "text/plain": [
       "<AxesSubplot:>"
      ]
     },
     "execution_count": 24,
     "metadata": {},
     "output_type": "execute_result"
    },
    {
     "data": {
      "image/png": "[encoded data removed]",
      "text/plain": [
       "<Figure size 432x288 with 1 Axes>"
      ]
     },
     "metadata": {
      "needs_background": "light"
     },
     "output_type": "display_data"
    }
   ],
   "source": [
    "data_sub.SBAGuaranteedApproval.hist(bins=100)"
   ]
  },
  {
   "cell_type": "code",
   "execution_count": 25,
   "id": "96c3bbc2-80a2-4fc3-80f6-006602f48ab2",
   "metadata": {},
   "outputs": [
    {
     "data": {
      "text/plain": [
       "count    3.182290e+05\n",
       "mean     2.388885e+05\n",
       "std      4.772761e+05\n",
       "min      5.000000e+02\n",
       "25%      1.750000e+04\n",
       "50%      5.737500e+04\n",
       "75%      2.175000e+05\n",
       "max      4.500000e+06\n",
       "Name: SBAGuaranteedApproval, dtype: float64"
      ]
     },
     "execution_count": 25,
     "metadata": {},
     "output_type": "execute_result"
    }
   ],
   "source": [
    "data_sub.SBAGuaranteedApproval.describe()"
   ]
  },
  {
   "cell_type": "code",
   "execution_count": 26,
   "id": "27ed6dfb-1a5e-4dda-b93e-4f075603be21",
   "metadata": {},
   "outputs": [
    {
     "data": {
      "text/plain": [
       "<seaborn.axisgrid.PairGrid at 0x7f523e481df0>"
      ]
     },
     "execution_count": 26,
     "metadata": {},
     "output_type": "execute_result"
    },
    {
     "data": {
      "image/png": "[encoded data removed]",
      "text/plain": [
       "<Figure size 243.625x180 with 2 Axes>"
      ]
     },
     "metadata": {
      "needs_background": "light"
     },
     "output_type": "display_data"
    }
   ],
   "source": [
    "# Riskier browwers are given lower amounts, which makes sense\n",
    "sns.pairplot(data=data_sub[['SBAGuaranteedApproval', 'LoanStatus']], hue=\"LoanStatus\")"
   ]
  },
  {
   "cell_type": "code",
   "execution_count": 27,
   "id": "27903292-202b-4742-a2b2-a4549e0837ad",
   "metadata": {},
   "outputs": [],
   "source": [
    "data_sub['sba_share'] = data_sub['SBAGuaranteedApproval'] / data_sub['GrossApproval']"
   ]
  },
  {
   "cell_type": "code",
   "execution_count": 28,
   "id": "53a30d06-5d23-4881-9f41-47c95b8fe1c1",
   "metadata": {},
   "outputs": [
    {
     "data": {
      "text/plain": [
       "<AxesSubplot:>"
      ]
     },
     "execution_count": 28,
     "metadata": {},
     "output_type": "execute_result"
    },
    {
     "data": {
      "image/png": "[encoded data removed]",
      "text/plain": [
       "<Figure size 432x288 with 1 Axes>"
      ]
     },
     "metadata": {
      "needs_background": "light"
     },
     "output_type": "display_data"
    }
   ],
   "source": [
    "data_sub.sba_share.hist(bins=30)"
   ]
  },
  {
   "cell_type": "code",
   "execution_count": 29,
   "id": "731fac83-0703-49a7-937a-1724e71ae36d",
   "metadata": {},
   "outputs": [
    {
     "data": {
      "text/plain": [
       "count    318229.000000\n",
       "mean          0.639251\n",
       "std           0.155796\n",
       "min           0.100000\n",
       "25%           0.500000\n",
       "50%           0.500000\n",
       "75%           0.750000\n",
       "max           1.000000\n",
       "Name: sba_share, dtype: float64"
      ]
     },
     "execution_count": 29,
     "metadata": {},
     "output_type": "execute_result"
    }
   ],
   "source": [
    "data_sub['sba_share'].describe()"
   ]
  },
  {
   "cell_type": "code",
   "execution_count": 30,
   "id": "8b2c9d50-2bee-4881-866b-9f49befa882f",
   "metadata": {},
   "outputs": [
    {
     "data": {
      "text/plain": [
       "<seaborn.axisgrid.PairGrid at 0x7f523e5587f0>"
      ]
     },
     "execution_count": 30,
     "metadata": {},
     "output_type": "execute_result"
    },
    {
     "data": {
      "image/png": "[encoded data removed]",
      "text/plain": [
       "<Figure size 243.625x180 with 2 Axes>"
      ]
     },
     "metadata": {
      "needs_background": "light"
     },
     "output_type": "display_data"
    }
   ],
   "source": [
    "sns.pairplot(data=data_sub[['sba_share', 'LoanStatus']], hue=\"LoanStatus\")"
   ]
  },
  {
   "cell_type": "markdown",
   "id": "f492b3e3-2bd8-49bb-a719-9aceff66ab2e",
   "metadata": {},
   "source": [
    "## Franchise"
   ]
  },
  {
   "cell_type": "code",
   "execution_count": 31,
   "id": "09beba22-2323-4e59-848f-7d047a39ce85",
   "metadata": {},
   "outputs": [
    {
     "data": {
      "text/plain": [
       "SUBWAY SANDWICH SHOP          527\n",
       "JIMMY JOHN'S                  374\n",
       "ANYTIME FITNESS               341\n",
       "SUBWAY                        327\n",
       "THE UPS STORE                 243\n",
       "                             ... \n",
       "HYDREX PEST CONTROL             1\n",
       "Tae Ryong Taekwondo School      1\n",
       "Velox Insurance                 1\n",
       "THE TIE RACK                    1\n",
       "QC Kinetix                      1\n",
       "Name: FranchiseName, Length: 3204, dtype: int64"
      ]
     },
     "execution_count": 31,
     "metadata": {},
     "output_type": "execute_result"
    }
   ],
   "source": [
    "data_sub.FranchiseName.value_counts()"
   ]
  },
  {
   "cell_type": "code",
   "execution_count": 32,
   "id": "ef00eba6-ffcc-4f16-9fff-40b49373bf58",
   "metadata": {},
   "outputs": [],
   "source": [
    "# Create a 1/0 variable indicating a franchise\n",
    "\n",
    "data_sub['Franchise'] = 1\n",
    "for i in range(0, len(data_sub)):\n",
    "    if pd.isnull(data_sub.loc[i, 'FranchiseName']):\n",
    "        data_sub.loc[i, 'Franchise'] = 0"
   ]
  },
  {
   "cell_type": "code",
   "execution_count": 33,
   "id": "90faf67d-b48a-48a1-abc3-ca69acf4f685",
   "metadata": {},
   "outputs": [
    {
     "data": {
      "text/plain": [
       "0    294284\n",
       "1     23945\n",
       "Name: Franchise, dtype: int64"
      ]
     },
     "execution_count": 33,
     "metadata": {},
     "output_type": "execute_result"
    }
   ],
   "source": [
    "data_sub['Franchise'].value_counts()"
   ]
  },
  {
   "cell_type": "code",
   "execution_count": 34,
   "id": "f90f938e-c64e-41b9-9b93-1102a462e382",
   "metadata": {},
   "outputs": [
    {
     "data": {
      "text/plain": [
       "<AxesSubplot:>"
      ]
     },
     "execution_count": 34,
     "metadata": {},
     "output_type": "execute_result"
    },
    {
     "data": {
      "image/png": "[encoded data removed]",
      "text/plain": [
       "<Figure size 432x288 with 1 Axes>"
      ]
     },
     "metadata": {
      "needs_background": "light"
     },
     "output_type": "display_data"
    }
   ],
   "source": [
    "data_sub['Franchise'].hist(bins=2)"
   ]
  },
  {
   "cell_type": "code",
   "execution_count": 35,
   "id": "7bc1428d-7f3d-4d25-b16d-8d71a86921cd",
   "metadata": {},
   "outputs": [
    {
     "data": {
      "text/plain": [
       "count    318229.000000\n",
       "mean          0.075245\n",
       "std           0.263786\n",
       "min           0.000000\n",
       "25%           0.000000\n",
       "50%           0.000000\n",
       "75%           0.000000\n",
       "max           1.000000\n",
       "Name: Franchise, dtype: float64"
      ]
     },
     "execution_count": 35,
     "metadata": {},
     "output_type": "execute_result"
    }
   ],
   "source": [
    "data_sub['Franchise'].describe()"
   ]
  },
  {
   "cell_type": "code",
   "execution_count": 36,
   "id": "3a276309-f419-48f4-8645-ba9af2fa3c20",
   "metadata": {},
   "outputs": [
    {
     "data": {
      "text/plain": [
       "<seaborn.axisgrid.PairGrid at 0x7f523e275cd0>"
      ]
     },
     "execution_count": 36,
     "metadata": {},
     "output_type": "execute_result"
    },
    {
     "data": {
      "image/png": "[encoded data removed]",
      "text/plain": [
       "<Figure size 243.625x180 with 2 Axes>"
      ]
     },
     "metadata": {
      "needs_background": "light"
     },
     "output_type": "display_data"
    }
   ],
   "source": [
    "sns.pairplot(data=data_sub[['Franchise', 'LoanStatus']], hue=\"LoanStatus\")"
   ]
  },
  {
   "cell_type": "markdown",
   "id": "cd104dd7-b0e6-4f0d-87a9-50d80970a4c9",
   "metadata": {},
   "source": [
    "## NAICS code"
   ]
  },
  {
   "cell_type": "code",
   "execution_count": 37,
   "id": "faf983bb-0cd1-4532-8449-b804be095250",
   "metadata": {},
   "outputs": [
    {
     "data": {
      "text/plain": [
       "722511.0    9365\n",
       "722513.0    6582\n",
       "722110.0    6314\n",
       "621210.0    6288\n",
       "484121.0    6054\n",
       "            ... \n",
       "332995.0       1\n",
       "513112.0       1\n",
       "336321.0       1\n",
       "311312.0       1\n",
       "522210.0       1\n",
       "Name: NaicsCode, Length: 1224, dtype: int64"
      ]
     },
     "execution_count": 37,
     "metadata": {},
     "output_type": "execute_result"
    }
   ],
   "source": [
    "data_sub['NaicsCode'].value_counts()"
   ]
  },
  {
   "cell_type": "code",
   "execution_count": 38,
   "id": "c7ff1e5b-be67-49bb-b5d6-d035f052af43",
   "metadata": {},
   "outputs": [],
   "source": [
    "data_sub['NaicsCodeTwoDigit'] = data_sub['NaicsCode'].astype(str).str.slice(0,2)"
   ]
  },
  {
   "cell_type": "code",
   "execution_count": 39,
   "id": "ce426793-36f3-452b-aaa8-10f261c79652",
   "metadata": {},
   "outputs": [
    {
     "data": {
      "text/plain": [
       "72    38714\n",
       "23    34217\n",
       "54    33041\n",
       "44    30916\n",
       "62    29293\n",
       "81    26604\n",
       "42    18261\n",
       "48    17152\n",
       "56    14944\n",
       "33    13363\n",
       "45    12295\n",
       "71     8220\n",
       "53     6937\n",
       "31     6444\n",
       "32     6199\n",
       "11     5657\n",
       "52     5263\n",
       "61     4057\n",
       "51     3960\n",
       "49     1167\n",
       "21     1013\n",
       "22      272\n",
       "55      172\n",
       "92       61\n",
       "na        7\n",
       "Name: NaicsCodeTwoDigit, dtype: int64"
      ]
     },
     "execution_count": 39,
     "metadata": {},
     "output_type": "execute_result"
    }
   ],
   "source": [
    "data_sub['NaicsCodeTwoDigit'].value_counts()"
   ]
  },
  {
   "cell_type": "code",
   "execution_count": 40,
   "id": "f0d10829-8fbc-4d38-bb30-5dc074b26bf3",
   "metadata": {},
   "outputs": [
    {
     "data": {
      "text/plain": [
       "<AxesSubplot:>"
      ]
     },
     "execution_count": 40,
     "metadata": {},
     "output_type": "execute_result"
    },
    {
     "data": {
      "image/png": "[encoded data removed]",
      "text/plain": [
       "<Figure size 432x288 with 1 Axes>"
      ]
     },
     "metadata": {
      "needs_background": "light"
     },
     "output_type": "display_data"
    }
   ],
   "source": [
    "data_sub['NaicsCodeTwoDigit'].hist(bins=len(data_sub['NaicsCodeTwoDigit'].unique()))"
   ]
  },
  {
   "cell_type": "markdown",
   "id": "d5c5a561-c2cd-4773-816b-b3ecf1eded11",
   "metadata": {},
   "source": [
    "## ZIP code"
   ]
  },
  {
   "cell_type": "code",
   "execution_count": 41,
   "id": "16cf489b-e106-456e-add0-338e343830fb",
   "metadata": {},
   "outputs": [
    {
     "data": {
      "text/plain": [
       "<AxesSubplot:>"
      ]
     },
     "execution_count": 41,
     "metadata": {},
     "output_type": "execute_result"
    },
    {
     "data": {
      "image/png": "[encoded data removed]",
      "text/plain": [
       "<Figure size 432x432 with 1 Axes>"
      ]
     },
     "metadata": {
      "needs_background": "light"
     },
     "output_type": "display_data"
    }
   ],
   "source": [
    "data_sub.BorrState.hist(bins=len(data_sub.BorrState.unique()), xrot = 90, figsize = (6, 6))"
   ]
  },
  {
   "cell_type": "markdown",
   "id": "8f3b0cc1-be24-4b50-ae4c-25e36f7243fd",
   "metadata": {},
   "source": [
    "## Revolver or term"
   ]
  },
  {
   "cell_type": "code",
   "execution_count": 42,
   "id": "dc7696d1-e20f-4e6d-ab94-54a8fe72b8a4",
   "metadata": {},
   "outputs": [
    {
     "data": {
      "text/plain": [
       "count    318229.000000\n",
       "mean          0.333493\n",
       "std           0.471462\n",
       "min           0.000000\n",
       "25%           0.000000\n",
       "50%           0.000000\n",
       "75%           1.000000\n",
       "max           1.000000\n",
       "Name: RevolverStatus, dtype: float64"
      ]
     },
     "execution_count": 42,
     "metadata": {},
     "output_type": "execute_result"
    }
   ],
   "source": [
    "data_sub.RevolverStatus.describe()"
   ]
  },
  {
   "cell_type": "code",
   "execution_count": 43,
   "id": "431261b3-19a6-43a7-aa99-ce96e313ba14",
   "metadata": {},
   "outputs": [
    {
     "data": {
      "text/plain": [
       "<AxesSubplot:>"
      ]
     },
     "execution_count": 43,
     "metadata": {},
     "output_type": "execute_result"
    },
    {
     "data": {
      "image/png": "[encoded data removed]",
      "text/plain": [
       "<Figure size 432x288 with 1 Axes>"
      ]
     },
     "metadata": {
      "needs_background": "light"
     },
     "output_type": "display_data"
    }
   ],
   "source": [
    "data_sub.RevolverStatus.hist(bins=2)"
   ]
  },
  {
   "cell_type": "code",
   "execution_count": 44,
   "id": "a12e6071-f381-4b8c-974e-ea48f038a7d7",
   "metadata": {},
   "outputs": [
    {
     "data": {
      "text/plain": [
       "<seaborn.axisgrid.PairGrid at 0x7f523dfcf760>"
      ]
     },
     "execution_count": 44,
     "metadata": {},
     "output_type": "execute_result"
    },
    {
     "data": {
      "image/png": "[encoded data removed]",
      "text/plain": [
       "<Figure size 243.625x180 with 2 Axes>"
      ]
     },
     "metadata": {
      "needs_background": "light"
     },
     "output_type": "display_data"
    }
   ],
   "source": [
    "sns.pairplot(data=data_sub[['RevolverStatus', 'LoanStatus']], hue=\"LoanStatus\")"
   ]
  },
  {
   "cell_type": "markdown",
   "id": "fa66ffe6-19da-42e6-9289-c60f399ecc12",
   "metadata": {},
   "source": [
    "## DeliveryMethod"
   ]
  },
  {
   "cell_type": "code",
   "execution_count": 45,
   "id": "c6ab31af-1ff6-4ba5-af25-f21f9d2d7aaa",
   "metadata": {},
   "outputs": [
    {
     "data": {
      "text/plain": [
       "DeliveryMethod\n",
       "SBA EXPRES    169889\n",
       "PLP            82366\n",
       "OTH 7A         25876\n",
       "SLA            18281\n",
       "PATRIOT EX      5307\n",
       "COMM EXPRS      5091\n",
       "RLA             2499\n",
       "CA              2464\n",
       "CLP             1669\n",
       "EWCP            1543\n",
       "GO LOANS        1429\n",
       "EXPRES EXP      1051\n",
       "INTER TRDE       657\n",
       "DFP               95\n",
       "EXIM               8\n",
       "CRL                4\n",
       "dtype: int64"
      ]
     },
     "execution_count": 45,
     "metadata": {},
     "output_type": "execute_result"
    }
   ],
   "source": [
    "data_sub.value_counts('DeliveryMethod')"
   ]
  },
  {
   "cell_type": "code",
   "execution_count": 57,
   "id": "09223d3b-d08a-46a1-b4b9-1a77e4c90ffa",
   "metadata": {},
   "outputs": [
    {
     "data": {
      "text/plain": [
       "DeliveryMethod  LoanStatus\n",
       "SBA EXPRES      0             156914\n",
       "PLP             0              76615\n",
       "OTH 7A          0              23800\n",
       "SLA             0              16250\n",
       "SBA EXPRES      1              12975\n",
       "PLP             1               5751\n",
       "PATRIOT EX      0               4515\n",
       "COMM EXPRS      0               3991\n",
       "RLA             0               2255\n",
       "OTH 7A          1               2076\n",
       "CA              0               2065\n",
       "SLA             1               2031\n",
       "CLP             0               1575\n",
       "EWCP            0               1524\n",
       "GO LOANS        0               1278\n",
       "COMM EXPRS      1               1100\n",
       "EXPRES EXP      0                930\n",
       "PATRIOT EX      1                792\n",
       "INTER TRDE      0                627\n",
       "CA              1                399\n",
       "RLA             1                244\n",
       "GO LOANS        1                151\n",
       "EXPRES EXP      1                121\n",
       "CLP             1                 94\n",
       "DFP             0                 93\n",
       "INTER TRDE      1                 30\n",
       "EWCP            1                 19\n",
       "EXIM            0                  8\n",
       "CRL             0                  4\n",
       "DFP             1                  2\n",
       "dtype: int64"
      ]
     },
     "execution_count": 57,
     "metadata": {},
     "output_type": "execute_result"
    }
   ],
   "source": [
    "data_sub.value_counts(['DeliveryMethod', 'LoanStatus'])"
   ]
  },
  {
   "cell_type": "markdown",
   "id": "ac65ecaa-65bb-4d80-a110-fe7f5c245a8d",
   "metadata": {},
   "source": [
    "## ProjectCounty"
   ]
  },
  {
   "cell_type": "code",
   "execution_count": 89,
   "id": "71e3c2eb-d5c4-49d9-9ea2-7954cb8c600d",
   "metadata": {},
   "outputs": [
    {
     "data": {
      "text/plain": [
       "ProjectCounty\n",
       "LOS ANGELES    12653\n",
       "ORANGE          6016\n",
       "COOK            4740\n",
       "MARICOPA        4735\n",
       "HARRIS          4302\n",
       "               ...  \n",
       "CASEY              1\n",
       "HARTLEY            1\n",
       "CASWELL            1\n",
       "CATRON             1\n",
       "FOSTER             1\n",
       "Length: 1839, dtype: int64"
      ]
     },
     "execution_count": 89,
     "metadata": {},
     "output_type": "execute_result"
    }
   ],
   "source": [
    "data_sub.value_counts('ProjectCounty')"
   ]
  },
  {
   "cell_type": "code",
   "execution_count": 93,
   "id": "2274bae2-b5ff-4a2f-a462-fa18ec7e2d44",
   "metadata": {},
   "outputs": [],
   "source": [
    "counties = pd.merge(pd.DataFrame(data_sub.groupby('ProjectCounty')['LoanStatus'].count()).reset_index().rename(columns={'LoanStatus':'Count'}), \n",
    "                 pd.DataFrame(data_sub.groupby('ProjectCounty')['LoanStatus'].sum()).reset_index(), \n",
    "                 how='inner', on='ProjectCounty')\n",
    "counties['pct_default'] = counties['LoanStatus']/counties['Count']"
   ]
  },
  {
   "cell_type": "code",
   "execution_count": 94,
   "id": "faf8d089-f92a-42bc-9c56-b5363a79ab3b",
   "metadata": {},
   "outputs": [
    {
     "data": {
      "text/plain": [
       "<AxesSubplot:>"
      ]
     },
     "execution_count": 94,
     "metadata": {},
     "output_type": "execute_result"
    },
    {
     "data": {
      "image/png": "[encoded data removed]",
      "text/plain": [
       "<Figure size 432x288 with 1 Axes>"
      ]
     },
     "metadata": {
      "needs_background": "light"
     },
     "output_type": "display_data"
    }
   ],
   "source": [
    "counties.pct_default.hist(bins=100)"
   ]
  },
  {
   "cell_type": "code",
   "execution_count": 95,
   "id": "916648ae-8cec-4636-ad78-3c45be7d71dd",
   "metadata": {},
   "outputs": [
    {
     "data": {
      "text/plain": [
       "<AxesSubplot:xlabel='Count', ylabel='pct_default'>"
      ]
     },
     "execution_count": 95,
     "metadata": {},
     "output_type": "execute_result"
    },
    {
     "data": {
      "image/png": "[encoded data removed]",
      "text/plain": [
       "<Figure size 432x288 with 1 Axes>"
      ]
     },
     "metadata": {
      "needs_background": "light"
     },
     "output_type": "display_data"
    }
   ],
   "source": [
    "sns.scatterplot(x=counties['Count'], y=counties['pct_default'])"
   ]
  },
  {
   "cell_type": "markdown",
   "id": "694a6c8f-5055-4191-b669-a94f9f265449",
   "metadata": {},
   "source": [
    "## BusinessType"
   ]
  },
  {
   "cell_type": "code",
   "execution_count": 96,
   "id": "367dddb7-a16c-4235-84f8-7dd1beb017fa",
   "metadata": {},
   "outputs": [
    {
     "data": {
      "text/plain": [
       "BusinessType\n",
       "CORPORATION    275846\n",
       "INDIVIDUAL      36813\n",
       "PARTNERSHIP      5567\n",
       "dtype: int64"
      ]
     },
     "execution_count": 96,
     "metadata": {},
     "output_type": "execute_result"
    }
   ],
   "source": [
    "data_sub.value_counts('BusinessType')"
   ]
  },
  {
   "cell_type": "code",
   "execution_count": 98,
   "id": "f8840226-a266-42e7-9ee1-b1830ba11c1d",
   "metadata": {},
   "outputs": [
    {
     "data": {
      "text/plain": [
       "BusinessType  LoanStatus\n",
       "CORPORATION   0             253778\n",
       "INDIVIDUAL    0              33354\n",
       "CORPORATION   1              22068\n",
       "PARTNERSHIP   0               5309\n",
       "INDIVIDUAL    1               3459\n",
       "PARTNERSHIP   1                258\n",
       "dtype: int64"
      ]
     },
     "execution_count": 98,
     "metadata": {},
     "output_type": "execute_result"
    }
   ],
   "source": [
    "data_sub.value_counts(['BusinessType', 'LoanStatus'])"
   ]
  },
  {
   "cell_type": "markdown",
   "id": "e1a2b559-6e95-496f-9771-8cc1c9f7f651",
   "metadata": {},
   "source": [
    "## Jobs supported\n",
    "Since this is voluntary, I create a dummy var 1/0 with 1 being if they put anything down"
   ]
  },
  {
   "cell_type": "code",
   "execution_count": 100,
   "id": "5e7dff60-e2a0-4f4f-83a3-603cc7898f72",
   "metadata": {},
   "outputs": [],
   "source": [
    "data_sub['jobs_dummy'] = 0\n",
    "for i in range(0, len(data_sub)):\n",
    "    if data_sub.loc[i, 'JobsSupported'] > 0:\n",
    "        data_sub.loc[i, 'jobs_dummy'] = 1"
   ]
  },
  {
   "cell_type": "code",
   "execution_count": 102,
   "id": "fca7aa22-42f2-4c72-8cd7-23aa0ff67624",
   "metadata": {},
   "outputs": [
    {
     "data": {
      "text/html": [
       "<div>\n",
       "<style scoped>\n",
       "    .dataframe tbody tr th:only-of-type {\n",
       "        vertical-align: middle;\n",
       "    }\n",
       "\n",
       "    .dataframe tbody tr th {\n",
       "        vertical-align: top;\n",
       "    }\n",
       "\n",
       "    .dataframe thead th {\n",
       "        text-align: right;\n",
       "    }\n",
       "</style>\n",
       "<table border=\"1\" class=\"dataframe\">\n",
       "  <thead>\n",
       "    <tr style=\"text-align: right;\">\n",
       "      <th></th>\n",
       "      <th>jobs_dummy</th>\n",
       "      <th>LoanStatus</th>\n",
       "    </tr>\n",
       "  </thead>\n",
       "  <tbody>\n",
       "    <tr>\n",
       "      <th>jobs_dummy</th>\n",
       "      <td>1.000000</td>\n",
       "      <td>0.009009</td>\n",
       "    </tr>\n",
       "    <tr>\n",
       "      <th>LoanStatus</th>\n",
       "      <td>0.009009</td>\n",
       "      <td>1.000000</td>\n",
       "    </tr>\n",
       "  </tbody>\n",
       "</table>\n",
       "</div>"
      ],
      "text/plain": [
       "            jobs_dummy  LoanStatus\n",
       "jobs_dummy    1.000000    0.009009\n",
       "LoanStatus    0.009009    1.000000"
      ]
     },
     "execution_count": 102,
     "metadata": {},
     "output_type": "execute_result"
    }
   ],
   "source": [
    "data_sub[['jobs_dummy', 'LoanStatus']].corr()"
   ]
  },
  {
   "cell_type": "markdown",
   "id": "03114814-2a4f-4ac1-8956-32b9c4a5d8ca",
   "metadata": {},
   "source": [
    "## Banks"
   ]
  },
  {
   "cell_type": "code",
   "execution_count": 61,
   "id": "9d38a158-c981-42bb-9f9a-f9620b521a95",
   "metadata": {},
   "outputs": [
    {
     "data": {
      "text/plain": [
       "BankName\n",
       "JPMorgan Chase Bank, National Association    26152\n",
       "Wells Fargo Bank, National Association       23773\n",
       "The Huntington National Bank                 21146\n",
       "U.S. Bank, National Association              15993\n",
       "PNC Bank, National Association                9735\n",
       "                                             ...  \n",
       "Heritage Bank, Inc.                              1\n",
       "The Home National Bank of Thorntown              1\n",
       "Heritage Bank & Trust                            1\n",
       "Day Air CU Inc                                   1\n",
       "The Clay City Banking Co.                        1\n",
       "Length: 2796, dtype: int64"
      ]
     },
     "execution_count": 61,
     "metadata": {},
     "output_type": "execute_result"
    }
   ],
   "source": [
    "data_sub.value_counts('BankName')"
   ]
  },
  {
   "cell_type": "code",
   "execution_count": 63,
   "id": "3316b20b-55c0-4eb1-b306-c4ca83680373",
   "metadata": {},
   "outputs": [
    {
     "data": {
      "text/plain": [
       "0                                        Independent Bank\n",
       "1                                Live Oak Banking Company\n",
       "2       Iowa State Bank and Trust Company of Fairfield...\n",
       "3                                             Umpqua Bank\n",
       "4                               Zions Bank, A Division of\n",
       "                              ...                        \n",
       "2791                                Western Heritage Bank\n",
       "2792                            Nutmeg State Financial CU\n",
       "2793                       Liberty Bank and Trust Company\n",
       "2794                                            Ergo Bank\n",
       "2795                                    Affinity Plus FCU\n",
       "Name: BankName, Length: 2796, dtype: object"
      ]
     },
     "execution_count": 63,
     "metadata": {},
     "output_type": "execute_result"
    }
   ],
   "source": [
    "data_sub.BankName.drop_duplicates().reset_index(drop=True)"
   ]
  },
  {
   "cell_type": "code",
   "execution_count": 80,
   "id": "416baa97-f14a-47cf-8bfc-c52d601af2c6",
   "metadata": {},
   "outputs": [],
   "source": [
    "banks = pd.merge(pd.DataFrame(data_sub.groupby('BankName')['LoanStatus'].count()).reset_index().rename(columns={'LoanStatus':'Count'}), \n",
    "                 pd.DataFrame(data_sub.groupby('BankName')['LoanStatus'].sum()).reset_index(), \n",
    "                 how='inner', on='BankName')\n",
    "banks['pct_default'] = banks['LoanStatus']/banks['Count']"
   ]
  },
  {
   "cell_type": "code",
   "execution_count": 87,
   "id": "04ca30de-f71a-4f4a-90ca-ff525a733030",
   "metadata": {},
   "outputs": [
    {
     "data": {
      "text/plain": [
       "<AxesSubplot:>"
      ]
     },
     "execution_count": 87,
     "metadata": {},
     "output_type": "execute_result"
    },
    {
     "data": {
      "image/png": "[encoded data removed]",
      "text/plain": [
       "<Figure size 432x288 with 1 Axes>"
      ]
     },
     "metadata": {
      "needs_background": "light"
     },
     "output_type": "display_data"
    }
   ],
   "source": [
    "banks.pct_default.hist(bins=100)"
   ]
  },
  {
   "cell_type": "code",
   "execution_count": 88,
   "id": "5f58263c-cf22-4be3-91cf-98014a185c4b",
   "metadata": {},
   "outputs": [
    {
     "data": {
      "text/plain": [
       "<AxesSubplot:xlabel='Count', ylabel='pct_default'>"
      ]
     },
     "execution_count": 88,
     "metadata": {},
     "output_type": "execute_result"
    },
    {
     "data": {
      "image/png": "[encoded data removed]",
      "text/plain": [
       "<Figure size 432x288 with 1 Axes>"
      ]
     },
     "metadata": {
      "needs_background": "light"
     },
     "output_type": "display_data"
    }
   ],
   "source": [
    "sns.scatterplot(x=banks['Count'], y=banks['pct_default'])"
   ]
  },
  {
   "cell_type": "code",
   "execution_count": 103,
   "id": "4ad61116-ad4c-45fe-8210-3e316e50855e",
   "metadata": {},
   "outputs": [
    {
     "data": {
      "text/html": [
       "<div>\n",
       "<style scoped>\n",
       "    .dataframe tbody tr th:only-of-type {\n",
       "        vertical-align: middle;\n",
       "    }\n",
       "\n",
       "    .dataframe tbody tr th {\n",
       "        vertical-align: top;\n",
       "    }\n",
       "\n",
       "    .dataframe thead th {\n",
       "        text-align: right;\n",
       "    }\n",
       "</style>\n",
       "<table border=\"1\" class=\"dataframe\">\n",
       "  <thead>\n",
       "    <tr style=\"text-align: right;\">\n",
       "      <th></th>\n",
       "      <th>Count</th>\n",
       "      <th>LoanStatus</th>\n",
       "      <th>pct_default</th>\n",
       "    </tr>\n",
       "  </thead>\n",
       "  <tbody>\n",
       "    <tr>\n",
       "      <th>Count</th>\n",
       "      <td>1.000000</td>\n",
       "      <td>0.941218</td>\n",
       "      <td>-0.004531</td>\n",
       "    </tr>\n",
       "    <tr>\n",
       "      <th>LoanStatus</th>\n",
       "      <td>0.941218</td>\n",
       "      <td>1.000000</td>\n",
       "      <td>0.024468</td>\n",
       "    </tr>\n",
       "    <tr>\n",
       "      <th>pct_default</th>\n",
       "      <td>-0.004531</td>\n",
       "      <td>0.024468</td>\n",
       "      <td>1.000000</td>\n",
       "    </tr>\n",
       "  </tbody>\n",
       "</table>\n",
       "</div>"
      ],
      "text/plain": [
       "                Count  LoanStatus  pct_default\n",
       "Count        1.000000    0.941218    -0.004531\n",
       "LoanStatus   0.941218    1.000000     0.024468\n",
       "pct_default -0.004531    0.024468     1.000000"
      ]
     },
     "execution_count": 103,
     "metadata": {},
     "output_type": "execute_result"
    }
   ],
   "source": [
    "banks.corr()"
   ]
  },
  {
   "cell_type": "code",
   "execution_count": null,
   "id": "3dbe3aea-39c2-4d2c-a4b2-87245aa07cc8",
   "metadata": {},
   "outputs": [],
   "source": []
  }
 ],
 "metadata": {
  "kernelspec": {
   "display_name": "Python 3 (ipykernel)",
   "language": "python",
   "name": "python3"
  },
  "language_info": {
   "codemirror_mode": {
    "name": "ipython",
    "version": 3
   },
   "file_extension": ".py",
   "mimetype": "text/x-python",
   "name": "python",
   "nbconvert_exporter": "python",
   "pygments_lexer": "ipython3",
   "version": "3.9.9"
  }
 },
 "nbformat": 4,
 "nbformat_minor": 5
}
