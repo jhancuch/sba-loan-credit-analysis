{
  "cells": [
    {
      "cell_type": "markdown",
      "metadata": {
        "id": "view-in-github",
        "colab_type": "text"
      },
      "source": [
        "<a href=\"https://colab.research.google.com/github/jhancuch/sba-loan-credit-analysis/blob/main/eda/eda_sba_model.ipynb\" target=\"_parent\"><img src=\"https://colab.research.google.com/assets/colab-badge.svg\" alt=\"Open In Colab\"/></a>"
      ]
    },
    {
      "cell_type": "code",
      "execution_count": 1,
      "id": "ae0a4961-94db-47e9-af1d-7610f39f46e9",
      "metadata": {
        "id": "ae0a4961-94db-47e9-af1d-7610f39f46e9"
      },
      "outputs": [],
      "source": [
        "import pandas as pd\n",
        "import numpy as np\n",
        "\n",
        "%matplotlib inline\n",
        "\n",
        "import matplotlib.pyplot as plt\n",
        "import seaborn as sns"
      ]
    },
    {
      "cell_type": "markdown",
      "id": "b73dba26-1ca2-46ff-98e1-5b7f7d05c24f",
      "metadata": {
        "id": "b73dba26-1ca2-46ff-98e1-5b7f7d05c24f"
      },
      "source": [
        "# Load datasets and combine"
      ]
    },
    {
      "cell_type": "code",
      "execution_count": 2,
      "id": "5e087950-b19f-48d0-91ef-2a46cc597cae",
      "metadata": {
        "id": "5e087950-b19f-48d0-91ef-2a46cc597cae"
      },
      "outputs": [],
      "source": [
        "data1 = pd.read_csv('https://data.sba.gov/dataset/0ff8e8e9-b967-4f4e-987c-6ac78c575087/resource/02e2e83a-2af1-4ce8-91db-85e20ffadbf7/download/foia-7afy2010-fy2019-asof-220331.csv', \n",
        "                    encoding = \"ISO-8859-1\", low_memory = False)\n",
        "\n",
        "data2 = pd.read_csv('https://data.sba.gov/dataset/0ff8e8e9-b967-4f4e-987c-6ac78c575087/resource/c71ba6cf-b4e0-4e60-98f0-48aeaf4c6460/download/foia-7afy2020-present-asof-220331.csv', \n",
        "                    encoding = \"ISO-8859-1\", low_memory = False)\n",
        "\n",
        "data = pd.concat([data1, data2], ignore_index=True).reset_index(drop=True)"
      ]
    },
    {
      "cell_type": "code",
      "execution_count": 3,
      "id": "940a6e9a-1393-4f79-b5e8-0630d4c798bd",
      "metadata": {
        "id": "940a6e9a-1393-4f79-b5e8-0630d4c798bd"
      },
      "outputs": [],
      "source": [
        "# subset to observations with the LoanStatus PIF or CHGOFF aka paid in full or charged off. We don't care about loans that are currently being paid back\n",
        "df = data[(data['LoanStatus'] == 'PIF') | (data['LoanStatus'] == 'CHGOFF')].reset_index(drop=True)\n",
        "\n",
        "# convert PIF to 0 and CHGOFF to 1\n",
        "df.loc[df['LoanStatus'] == 'PIF', 'LoanStatus'] = '0' \n",
        "df.loc[df['LoanStatus'] == 'CHGOFF', 'LoanStatus'] = '1'\n",
        "df['LoanStatus'] = df['LoanStatus'].astype(int)"
      ]
    },
    {
      "cell_type": "code",
      "execution_count": 4,
      "id": "d528457e-6d21-4d3a-abf6-a83e070d7820",
      "metadata": {
        "id": "d528457e-6d21-4d3a-abf6-a83e070d7820",
        "outputId": "46af7750-f2b4-47c7-966b-fd28030f0beb",
        "colab": {
          "base_uri": "https://localhost:8080/"
        }
      },
      "outputs": [
        {
          "output_type": "stream",
          "name": "stdout",
          "text": [
            "<class 'pandas.core.frame.DataFrame'>\n",
            "RangeIndex: 318229 entries, 0 to 318228\n",
            "Data columns (total 36 columns):\n",
            " #   Column                 Non-Null Count   Dtype  \n",
            "---  ------                 --------------   -----  \n",
            " 0   AsOfDate               318229 non-null  int64  \n",
            " 1   Program                318229 non-null  object \n",
            " 2   BorrName               318218 non-null  object \n",
            " 3   BorrStreet             318229 non-null  object \n",
            " 4   BorrCity               318229 non-null  object \n",
            " 5   BorrState              318229 non-null  object \n",
            " 6   BorrZip                318229 non-null  int64  \n",
            " 7   BankName               318229 non-null  object \n",
            " 8   BankStreet             318228 non-null  object \n",
            " 9   BankCity               318228 non-null  object \n",
            " 10  BankState              318228 non-null  object \n",
            " 11  BankZip                318228 non-null  object \n",
            " 12  GrossApproval          318229 non-null  float64\n",
            " 13  SBAGuaranteedApproval  318229 non-null  float64\n",
            " 14  ApprovalDate           318229 non-null  object \n",
            " 15  ApprovalFiscalYear     318229 non-null  int64  \n",
            " 16  FirstDisbursementDate  317171 non-null  object \n",
            " 17  DeliveryMethod         318229 non-null  object \n",
            " 18  subpgmdesc             318229 non-null  object \n",
            " 19  InitialInterestRate    318229 non-null  float64\n",
            " 20  TermInMonths           318229 non-null  int64  \n",
            " 21  NaicsCode              318222 non-null  float64\n",
            " 22  NaicsDescription       318036 non-null  object \n",
            " 23  FranchiseCode          23972 non-null   object \n",
            " 24  FranchiseName          23945 non-null   object \n",
            " 25  ProjectCounty          318228 non-null  object \n",
            " 26  ProjectState           318229 non-null  object \n",
            " 27  SBADistrictOffice      318229 non-null  object \n",
            " 28  CongressionalDistrict  318207 non-null  float64\n",
            " 29  BusinessType           318226 non-null  object \n",
            " 30  LoanStatus             318229 non-null  int64  \n",
            " 31  PaidInFullDate         292444 non-null  object \n",
            " 32  ChargeOffDate          25784 non-null   object \n",
            " 33  GrossChargeOffAmount   318229 non-null  int64  \n",
            " 34  RevolverStatus         318229 non-null  int64  \n",
            " 35  JobsSupported          318229 non-null  int64  \n",
            "dtypes: float64(5), int64(8), object(23)\n",
            "memory usage: 87.4+ MB\n"
          ]
        }
      ],
      "source": [
        "df.info()"
      ]
    },
    {
      "cell_type": "markdown",
      "id": "b0d3f251-474a-4ab0-bd1f-5bb7e3788582",
      "metadata": {
        "id": "b0d3f251-474a-4ab0-bd1f-5bb7e3788582"
      },
      "source": [
        "## Loan Characteristics "
      ]
    },
    {
      "cell_type": "code",
      "execution_count": 5,
      "id": "bb8ad975-6c55-4bcd-a4d8-f6512c908e42",
      "metadata": {
        "id": "bb8ad975-6c55-4bcd-a4d8-f6512c908e42",
        "outputId": "8292d004-052b-4335-a3a8-abb38c31ed42",
        "colab": {
          "base_uri": "https://localhost:8080/",
          "height": 383
        }
      },
      "outputs": [
        {
          "output_type": "display_data",
          "data": {
            "text/plain": [
              "<Figure size 432x288 with 2 Axes>"
            ],
            "image/png": "[encoded data removed]"
          },
          "metadata": {
            "needs_background": "light"
          }
        }
      ],
      "source": [
        "sns.heatmap(df[['LoanStatus', 'RevolverStatus', 'TermInMonths', 'InitialInterestRate', 'GrossApproval', 'SBAGuaranteedApproval']].corr(), vmin = -1, vmax = 1, annot=True, cmap = 'crest')\n",
        "plt.show()"
      ]
    },
    {
      "cell_type": "code",
      "execution_count": 6,
      "id": "c64810f8-f875-40d3-a25a-836f18d79afc",
      "metadata": {
        "id": "c64810f8-f875-40d3-a25a-836f18d79afc"
      },
      "outputs": [],
      "source": [
        "df_ProjectCounty = pd.get_dummies(df['ProjectCounty'], prefix = 'ProjectCounty_')"
      ]
    },
    {
      "cell_type": "code",
      "execution_count": 7,
      "id": "362bbe94-9b77-402a-b89f-2fb6b994b5b2",
      "metadata": {
        "id": "362bbe94-9b77-402a-b89f-2fb6b994b5b2",
        "outputId": "046d0051-2aee-476e-a6f6-15848b0539ec",
        "colab": {
          "base_uri": "https://localhost:8080/"
        }
      },
      "outputs": [
        {
          "output_type": "stream",
          "name": "stdout",
          "text": [
            "0.0017282373938727325\n",
            "-0.00027433364124977087\n",
            "0.0038491763643353333\n",
            "-0.0003082652021533479\n",
            "-2.199846645519885e-05\n",
            "-0.0036848839198786757\n",
            "-9.427321635819198e-06\n",
            "-0.0015791367081928423\n",
            "-8.888150110746072e-06\n",
            "-0.001488822027083497\n",
            "-8.888150110746328e-06\n",
            "-0.0014888220270834424\n",
            "0.0041304040315815705\n",
            "-0.0008161357352523896\n",
            "-1.6628728819368064e-05\n",
            "-0.0010312376170784705\n",
            "-5.442815372603136e-06\n",
            "-0.000911706408545304\n",
            "0.003518530674345556\n",
            "-0.0007601242636431209\n"
          ]
        }
      ],
      "source": [
        "dependent_var = df[['LoanStatus']]\n",
        "\n",
        "for i in range(0, len(df_ProjectCounty.columns), 200):\n",
        "    end = i + 200\n",
        "    results = df_ProjectCounty.iloc[:, i:end].merge(dependent_var, how='inner', left_index=True, right_index=True).corr().iloc[0, 1:].sort_values(ascending=False)\n",
        "    print(results[0])\n",
        "    print(results[-1])"
      ]
    },
    {
      "cell_type": "markdown",
      "id": "ea9e9043-ed97-4614-8afc-35c3048fc98b",
      "metadata": {
        "id": "ea9e9043-ed97-4614-8afc-35c3048fc98b"
      },
      "source": [
        "## Company Characteristics"
      ]
    },
    {
      "cell_type": "code",
      "source": [
        "df['JobsDummy'] = 0\n",
        "df.loc[df.JobsSupported > 0, 'JobsDummy'] = 1\n"
      ],
      "metadata": {
        "id": "clkk7_CxthN-"
      },
      "id": "clkk7_CxthN-",
      "execution_count": 9,
      "outputs": []
    },
    {
      "cell_type": "code",
      "execution_count": 10,
      "id": "1303b528-7154-4aff-bdab-8cc15ea3234b",
      "metadata": {
        "id": "1303b528-7154-4aff-bdab-8cc15ea3234b",
        "outputId": "dd5f419b-f0f0-4594-90b6-f18b444ce7fb",
        "colab": {
          "base_uri": "https://localhost:8080/",
          "height": 269
        }
      },
      "outputs": [
        {
          "output_type": "display_data",
          "data": {
            "text/plain": [
              "<Figure size 432x288 with 2 Axes>"
            ],
            "image/png": "[encoded data removed]"
          },
          "metadata": {
            "needs_background": "light"
          }
        }
      ],
      "source": [
        "sns.heatmap(df[['LoanStatus', 'JobsDummy', 'JobsSupported']].corr(), vmin = -1, vmax = 1, annot=True, cmap = 'crest')\n",
        "plt.show()"
      ]
    },
    {
      "cell_type": "code",
      "execution_count": null,
      "id": "da24e79d-1539-4ade-9357-cf58cbe9fc67",
      "metadata": {
        "id": "da24e79d-1539-4ade-9357-cf58cbe9fc67"
      },
      "outputs": [],
      "source": [
        "df_borrZips = pd.merge(df[['LoanStatus']], pd.get_dummies(df['BorrZip'], prefix = 'BorrZip_'), how='inner', left_index = True, right_index = True)"
      ]
    },
    {
      "cell_type": "code",
      "execution_count": null,
      "id": "303c8636-2f6a-4396-a3de-03d81b913b0a",
      "metadata": {
        "id": "303c8636-2f6a-4396-a3de-03d81b913b0a",
        "outputId": "c8d6c082-efd5-4066-b3f7-7f60666c615c"
      },
      "outputs": [
        {
          "name": "stdout",
          "output_type": "stream",
          "text": [
            "0.006552790785740015\n",
            "-0.0032388945831462934\n",
            "-3.142401045790955e-06\n",
            "-3.887864049187442e-05\n",
            "-2.4343190573503125e-05\n",
            "-0.0003417782302139486\n",
            "-1.937218723321158e-05\n",
            "-0.00020413394106296776\n",
            "-4.4440331598456724e-06\n",
            "-5.897297963418375e-05\n",
            "-7.026666512302091e-06\n",
            "-7.235589751006584e-05\n",
            "-5.442815372603154e-06\n",
            "-5.8631510563734785e-05\n",
            "-7.697339599933672e-06\n",
            "-7.013513784543977e-05\n",
            "-4.4440331598456945e-06\n",
            "-4.4889659005649655e-05\n",
            "-6.284831715844348e-06\n",
            "-6.25429169689338e-05\n",
            "-6.284831715844393e-06\n",
            "-6.770194318801105e-05\n",
            "-6.284831715844385e-06\n",
            "-0.00010945135421142163\n",
            "-1.3332434651656093e-05\n",
            "-0.00014607681905828813\n",
            "-3.1424010457908794e-06\n",
            "-2.8975330585290428e-05\n",
            "-1.5712597743529493e-05\n",
            "-0.00019692655947696843\n",
            "-3.1424010457908912e-06\n",
            "-2.4343190573504203e-05\n",
            "-1.1330301726796654e-05\n",
            "-0.00013833613027467592\n",
            "-2.060746161643673e-05\n",
            "-0.00024125571196089793\n",
            "-1.3697795999874e-05\n",
            "-0.00011379459777244458\n",
            "-8.888150110746304e-06\n",
            "-6.158345819457872e-05\n",
            "-1.5070946951853272e-05\n",
            "-0.00013481538245518603\n",
            "-4.444033159845569e-06\n",
            "-3.97535756712648e-05\n",
            "-5.442815372603219e-06\n",
            "-4.929306322617228e-05\n",
            "-5.4428153726030935e-06\n",
            "-4.714164523085234e-05\n",
            "-1.0885784681017349e-05\n",
            "-0.00010611717847372838\n",
            "-3.142401045790688e-06\n",
            "-2.9482365128764277e-05\n",
            "-4.444033159845531e-06\n",
            "-3.204894707971704e-05\n",
            "-5.4428153726031595e-06\n",
            "-2.6103727867297803e-05\n",
            "-1.4053664249540047e-05\n",
            "-0.00016026891347536862\n"
          ]
        },
        {
          "ename": "KeyboardInterrupt",
          "evalue": "",
          "output_type": "error",
          "traceback": [
            "\u001b[0;31m---------------------------------------------------------------------------\u001b[0m",
            "\u001b[0;31mKeyboardInterrupt\u001b[0m                         Traceback (most recent call last)",
            "Input \u001b[0;32mIn [15]\u001b[0m, in \u001b[0;36m<cell line: 1>\u001b[0;34m()\u001b[0m\n\u001b[1;32m      1\u001b[0m \u001b[38;5;28;01mfor\u001b[39;00m i \u001b[38;5;129;01min\u001b[39;00m \u001b[38;5;28mrange\u001b[39m(\u001b[38;5;241m0\u001b[39m, \u001b[38;5;28mlen\u001b[39m(df_borrZips\u001b[38;5;241m.\u001b[39mcolumns), \u001b[38;5;241m200\u001b[39m):\n\u001b[1;32m      2\u001b[0m     end \u001b[38;5;241m=\u001b[39m i \u001b[38;5;241m+\u001b[39m \u001b[38;5;241m200\u001b[39m\n\u001b[0;32m----> 3\u001b[0m     results \u001b[38;5;241m=\u001b[39m \u001b[43mdf_borrZips\u001b[49m\u001b[38;5;241;43m.\u001b[39;49m\u001b[43miloc\u001b[49m\u001b[43m[\u001b[49m\u001b[43m:\u001b[49m\u001b[43m,\u001b[49m\u001b[43m \u001b[49m\u001b[43mi\u001b[49m\u001b[43m:\u001b[49m\u001b[43mend\u001b[49m\u001b[43m]\u001b[49m\u001b[38;5;241;43m.\u001b[39;49m\u001b[43mcorr\u001b[49m\u001b[43m(\u001b[49m\u001b[43m)\u001b[49m\u001b[38;5;241m.\u001b[39miloc[\u001b[38;5;241m0\u001b[39m, \u001b[38;5;241m1\u001b[39m:]\u001b[38;5;241m.\u001b[39msort_values(ascending\u001b[38;5;241m=\u001b[39m\u001b[38;5;28;01mFalse\u001b[39;00m)\n\u001b[1;32m      4\u001b[0m     \u001b[38;5;28mprint\u001b[39m(results[\u001b[38;5;241m0\u001b[39m])\n\u001b[1;32m      5\u001b[0m     \u001b[38;5;28mprint\u001b[39m(results[\u001b[38;5;241m-\u001b[39m\u001b[38;5;241m1\u001b[39m])\n",
            "File \u001b[0;32m~/.local/lib/python3.9/site-packages/pandas/core/frame.py:9534\u001b[0m, in \u001b[0;36mDataFrame.corr\u001b[0;34m(self, method, min_periods)\u001b[0m\n\u001b[1;32m   9531\u001b[0m mat \u001b[38;5;241m=\u001b[39m numeric_df\u001b[38;5;241m.\u001b[39mto_numpy(dtype\u001b[38;5;241m=\u001b[39m\u001b[38;5;28mfloat\u001b[39m, na_value\u001b[38;5;241m=\u001b[39mnp\u001b[38;5;241m.\u001b[39mnan, copy\u001b[38;5;241m=\u001b[39m\u001b[38;5;28;01mFalse\u001b[39;00m)\n\u001b[1;32m   9533\u001b[0m \u001b[38;5;28;01mif\u001b[39;00m method \u001b[38;5;241m==\u001b[39m \u001b[38;5;124m\"\u001b[39m\u001b[38;5;124mpearson\u001b[39m\u001b[38;5;124m\"\u001b[39m:\n\u001b[0;32m-> 9534\u001b[0m     correl \u001b[38;5;241m=\u001b[39m \u001b[43mlibalgos\u001b[49m\u001b[38;5;241;43m.\u001b[39;49m\u001b[43mnancorr\u001b[49m\u001b[43m(\u001b[49m\u001b[43mmat\u001b[49m\u001b[43m,\u001b[49m\u001b[43m \u001b[49m\u001b[43mminp\u001b[49m\u001b[38;5;241;43m=\u001b[39;49m\u001b[43mmin_periods\u001b[49m\u001b[43m)\u001b[49m\n\u001b[1;32m   9535\u001b[0m \u001b[38;5;28;01melif\u001b[39;00m method \u001b[38;5;241m==\u001b[39m \u001b[38;5;124m\"\u001b[39m\u001b[38;5;124mspearman\u001b[39m\u001b[38;5;124m\"\u001b[39m:\n\u001b[1;32m   9536\u001b[0m     correl \u001b[38;5;241m=\u001b[39m libalgos\u001b[38;5;241m.\u001b[39mnancorr_spearman(mat, minp\u001b[38;5;241m=\u001b[39mmin_periods)\n",
            "\u001b[0;31mKeyboardInterrupt\u001b[0m: "
          ]
        }
      ],
      "source": [
        "results = df_borrZips.corr().iloc[0, 1:].sort_values(ascending=False)\n",
        "print(results[0])\n",
        "print(results[-1])"
      ]
    },
    {
      "cell_type": "code",
      "execution_count": null,
      "id": "d13ff137-5f57-4002-b28e-6c49fe939651",
      "metadata": {
        "id": "d13ff137-5f57-4002-b28e-6c49fe939651"
      },
      "outputs": [],
      "source": [
        "borrName - # of loans in a year, # of loans total, BorrZi, DeliveryMethod, subpgmdesc, naicscode, franchise, businesstype, jobsupported"
      ]
    },
    {
      "cell_type": "code",
      "execution_count": null,
      "id": "e6a7c8bd-f4a2-4b2a-8a00-a5b98891683e",
      "metadata": {
        "id": "e6a7c8bd-f4a2-4b2a-8a00-a5b98891683e",
        "outputId": "9490eab6-f99b-424d-d7ac-21ac3c35474f"
      },
      "outputs": [
        {
          "name": "stdout",
          "output_type": "stream",
          "text": [
            "<class 'pandas.core.frame.DataFrame'>\n",
            "RangeIndex: 318229 entries, 0 to 318228\n",
            "Data columns (total 36 columns):\n",
            " #   Column                 Non-Null Count   Dtype  \n",
            "---  ------                 --------------   -----  \n",
            " 0   AsOfDate               318229 non-null  int64  \n",
            " 1   Program                318229 non-null  object \n",
            " 2   BorrName               318218 non-null  object \n",
            " 3   BorrStreet             318229 non-null  object \n",
            " 4   BorrCity               318229 non-null  object \n",
            " 5   BorrState              318229 non-null  object \n",
            " 6   BorrZip                318229 non-null  int64  \n",
            " 7   BankName               318229 non-null  object \n",
            " 8   BankStreet             318228 non-null  object \n",
            " 9   BankCity               318228 non-null  object \n",
            " 10  BankState              318228 non-null  object \n",
            " 11  BankZip                318228 non-null  object \n",
            " 12  GrossApproval          318229 non-null  float64\n",
            " 13  SBAGuaranteedApproval  318229 non-null  float64\n",
            " 14  ApprovalDate           318229 non-null  object \n",
            " 15  ApprovalFiscalYear     318229 non-null  int64  \n",
            " 16  FirstDisbursementDate  317171 non-null  object \n",
            " 17  DeliveryMethod         318229 non-null  object \n",
            " 18  subpgmdesc             318229 non-null  object \n",
            " 19  InitialInterestRate    318229 non-null  float64\n",
            " 20  TermInMonths           318229 non-null  int64  \n",
            " 21  NaicsCode              318222 non-null  float64\n",
            " 22  NaicsDescription       318036 non-null  object \n",
            " 23  FranchiseCode          23972 non-null   object \n",
            " 24  FranchiseName          23945 non-null   object \n",
            " 25  ProjectCounty          318228 non-null  object \n",
            " 26  ProjectState           318229 non-null  object \n",
            " 27  SBADistrictOffice      318229 non-null  object \n",
            " 28  CongressionalDistrict  318207 non-null  float64\n",
            " 29  BusinessType           318226 non-null  object \n",
            " 30  LoanStatus             318229 non-null  int64  \n",
            " 31  PaidInFullDate         292444 non-null  object \n",
            " 32  ChargeOffDate          25784 non-null   object \n",
            " 33  GrossChargeOffAmount   318229 non-null  int64  \n",
            " 34  RevolverStatus         318229 non-null  int64  \n",
            " 35  JobsSupported          318229 non-null  int64  \n",
            "dtypes: float64(5), int64(8), object(23)\n",
            "memory usage: 87.4+ MB\n"
          ]
        }
      ],
      "source": [
        "df.info()"
      ]
    },
    {
      "cell_type": "markdown",
      "id": "295be80a-4c11-4896-a815-a5273ccdcbea",
      "metadata": {
        "id": "295be80a-4c11-4896-a815-a5273ccdcbea"
      },
      "source": [
        "## Bank Characteristics"
      ]
    },
    {
      "cell_type": "code",
      "execution_count": null,
      "id": "dfdf8d96-6583-4bca-a36d-81422083b65b",
      "metadata": {
        "id": "dfdf8d96-6583-4bca-a36d-81422083b65b"
      },
      "outputs": [],
      "source": [
        "same zip as loan, same state as loan, bankname, bankzip, number of loans issued during that year, number of total loans issued, percent default during the year, % default overall"
      ]
    },
    {
      "cell_type": "markdown",
      "id": "966ab464-dd95-46d1-a7db-7ffaa42dc6ae",
      "metadata": {
        "id": "966ab464-dd95-46d1-a7db-7ffaa42dc6ae"
      },
      "source": [
        "## Feature Engineering"
      ]
    },
    {
      "cell_type": "code",
      "execution_count": null,
      "id": "93fa3c1a-9649-4b0c-8767-7d4abea4c1f0",
      "metadata": {
        "id": "93fa3c1a-9649-4b0c-8767-7d4abea4c1f0"
      },
      "outputs": [],
      "source": [
        ""
      ]
    }
  ],
  "metadata": {
    "kernelspec": {
      "display_name": "Python 3 (ipykernel)",
      "language": "python",
      "name": "python3"
    },
    "language_info": {
      "codemirror_mode": {
        "name": "ipython",
        "version": 3
      },
      "file_extension": ".py",
      "mimetype": "text/x-python",
      "name": "python",
      "nbconvert_exporter": "python",
      "pygments_lexer": "ipython3",
      "version": "3.9.9"
    },
    "colab": {
      "name": "eda_sba_model.ipynb",
      "provenance": [],
      "include_colab_link": true
    }
  },
  "nbformat": 4,
  "nbformat_minor": 5
}