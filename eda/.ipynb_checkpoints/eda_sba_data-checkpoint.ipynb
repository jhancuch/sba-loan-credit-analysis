{
 "cells": [
  {
   "cell_type": "code",
   "execution_count": 1,
   "id": "ff81f9d1-e1e1-49f6-b7e6-111035662b8b",
   "metadata": {},
   "outputs": [],
   "source": [
    "import pandas as pd\n",
    "import numpy as np\n",
    "import matplotlib.pyplot as plt"
   ]
  },
  {
   "cell_type": "markdown",
   "id": "4fefe540-fc80-40a2-8158-8f693e03a444",
   "metadata": {},
   "source": [
    "# Load datasets and combine"
   ]
  },
  {
   "cell_type": "code",
   "execution_count": 6,
   "id": "d96c01af-59ae-4b87-b359-8924bfe2a616",
   "metadata": {},
   "outputs": [],
   "source": [
    "data1 = pd.read_csv('/mnt/c/Users/jwnha/Documents/_School/MSDS/2022Summer/applicationDev/data/sba/foia-7afy2010-fy2019-asof-220331.csv', \n",
    "                    encoding = \"ISO-8859-1\", low_memory = False)"
   ]
  },
  {
   "cell_type": "code",
   "execution_count": 8,
   "id": "45ea4a54-b8b3-4793-9b0f-09afc9fb332f",
   "metadata": {},
   "outputs": [],
   "source": [
    "data2 = pd.read_csv('https://data.sba.gov/dataset/0ff8e8e9-b967-4f4e-987c-6ac78c575087/resource/c71ba6cf-b4e0-4e60-98f0-48aeaf4c6460/download/foia-7afy2020-present-asof-220331.csv', \n",
    "                    encoding = \"ISO-8859-1\", low_memory = False)"
   ]
  },
  {
   "cell_type": "code",
   "execution_count": 12,
   "id": "4d15485f-94fb-46dc-8d37-6294ee2c0ec2",
   "metadata": {},
   "outputs": [],
   "source": [
    "data = pd.concat([data1, data2], ignore_index=True).reset_index(drop=True)"
   ]
  },
  {
   "cell_type": "code",
   "execution_count": 13,
   "id": "7ebaf041-58c0-4419-ac3a-7219c0ddcaba",
   "metadata": {},
   "outputs": [
    {
     "data": {
      "text/html": [
       "<div>\n",
       "<style scoped>\n",
       "    .dataframe tbody tr th:only-of-type {\n",
       "        vertical-align: middle;\n",
       "    }\n",
       "\n",
       "    .dataframe tbody tr th {\n",
       "        vertical-align: top;\n",
       "    }\n",
       "\n",
       "    .dataframe thead th {\n",
       "        text-align: right;\n",
       "    }\n",
       "</style>\n",
       "<table border=\"1\" class=\"dataframe\">\n",
       "  <thead>\n",
       "    <tr style=\"text-align: right;\">\n",
       "      <th></th>\n",
       "      <th>AsOfDate</th>\n",
       "      <th>Program</th>\n",
       "      <th>BorrName</th>\n",
       "      <th>BorrStreet</th>\n",
       "      <th>BorrCity</th>\n",
       "      <th>BorrState</th>\n",
       "      <th>BorrZip</th>\n",
       "      <th>BankName</th>\n",
       "      <th>BankStreet</th>\n",
       "      <th>BankCity</th>\n",
       "      <th>...</th>\n",
       "      <th>ProjectState</th>\n",
       "      <th>SBADistrictOffice</th>\n",
       "      <th>CongressionalDistrict</th>\n",
       "      <th>BusinessType</th>\n",
       "      <th>LoanStatus</th>\n",
       "      <th>PaidInFullDate</th>\n",
       "      <th>ChargeOffDate</th>\n",
       "      <th>GrossChargeOffAmount</th>\n",
       "      <th>RevolverStatus</th>\n",
       "      <th>JobsSupported</th>\n",
       "    </tr>\n",
       "  </thead>\n",
       "  <tbody>\n",
       "    <tr>\n",
       "      <th>0</th>\n",
       "      <td>20220331</td>\n",
       "      <td>7A</td>\n",
       "      <td>Neal Vasso dba Vasso &amp; Associa</td>\n",
       "      <td>14800 Landmark Blvd.  Suite 88</td>\n",
       "      <td>Dallas</td>\n",
       "      <td>TX</td>\n",
       "      <td>75254</td>\n",
       "      <td>Independent Bank</td>\n",
       "      <td>3090 Craig Dr</td>\n",
       "      <td>MCKINNEY</td>\n",
       "      <td>...</td>\n",
       "      <td>TX</td>\n",
       "      <td>DALLAS / FT WORTH DISTRICT OFFICE</td>\n",
       "      <td>24.0</td>\n",
       "      <td>INDIVIDUAL</td>\n",
       "      <td>PIF</td>\n",
       "      <td>11/30/2015</td>\n",
       "      <td>NaN</td>\n",
       "      <td>0</td>\n",
       "      <td>0</td>\n",
       "      <td>7</td>\n",
       "    </tr>\n",
       "    <tr>\n",
       "      <th>1</th>\n",
       "      <td>20220331</td>\n",
       "      <td>7A</td>\n",
       "      <td>Leslie T. Williams DVM</td>\n",
       "      <td>4636 N. 55th Street</td>\n",
       "      <td>Boulder</td>\n",
       "      <td>CO</td>\n",
       "      <td>80301</td>\n",
       "      <td>Live Oak Banking Company</td>\n",
       "      <td>1741 Tiburon Dr</td>\n",
       "      <td>WILMINGTON</td>\n",
       "      <td>...</td>\n",
       "      <td>CO</td>\n",
       "      <td>COLORADO DISTRICT OFFICE</td>\n",
       "      <td>2.0</td>\n",
       "      <td>INDIVIDUAL</td>\n",
       "      <td>PIF</td>\n",
       "      <td>10/31/2018</td>\n",
       "      <td>NaN</td>\n",
       "      <td>0</td>\n",
       "      <td>0</td>\n",
       "      <td>1</td>\n",
       "    </tr>\n",
       "    <tr>\n",
       "      <th>2</th>\n",
       "      <td>20220331</td>\n",
       "      <td>7A</td>\n",
       "      <td>Ideal Energy Inc.</td>\n",
       "      <td>500 North 3rd St #106</td>\n",
       "      <td>FAIRFIELD</td>\n",
       "      <td>IA</td>\n",
       "      <td>52556</td>\n",
       "      <td>Iowa State Bank and Trust Company of Fairfield...</td>\n",
       "      <td>55 S 4th St</td>\n",
       "      <td>FAIRFIELD</td>\n",
       "      <td>...</td>\n",
       "      <td>IA</td>\n",
       "      <td>CEDAR RAPIDS BRANCH OFFICE</td>\n",
       "      <td>2.0</td>\n",
       "      <td>CORPORATION</td>\n",
       "      <td>PIF</td>\n",
       "      <td>02/29/2012</td>\n",
       "      <td>NaN</td>\n",
       "      <td>0</td>\n",
       "      <td>0</td>\n",
       "      <td>1</td>\n",
       "    </tr>\n",
       "    <tr>\n",
       "      <th>3</th>\n",
       "      <td>20220331</td>\n",
       "      <td>7A</td>\n",
       "      <td>Butler &amp; Son Pet Crematory</td>\n",
       "      <td>3337 Carrollton Villa Rica Hwy</td>\n",
       "      <td>Carrollton</td>\n",
       "      <td>GA</td>\n",
       "      <td>30116</td>\n",
       "      <td>Umpqua Bank</td>\n",
       "      <td>445 SE Main St, First Fl</td>\n",
       "      <td>ROSEBURG</td>\n",
       "      <td>...</td>\n",
       "      <td>GA</td>\n",
       "      <td>GEORGIA DISTRICT OFFICE</td>\n",
       "      <td>3.0</td>\n",
       "      <td>INDIVIDUAL</td>\n",
       "      <td>PIF</td>\n",
       "      <td>09/30/2014</td>\n",
       "      <td>NaN</td>\n",
       "      <td>0</td>\n",
       "      <td>0</td>\n",
       "      <td>1</td>\n",
       "    </tr>\n",
       "    <tr>\n",
       "      <th>4</th>\n",
       "      <td>20220331</td>\n",
       "      <td>7A</td>\n",
       "      <td>Holzheimer Bolek + Meehan Arch</td>\n",
       "      <td>7227 Chagrin Rd.</td>\n",
       "      <td>CHAGRIN FALLS</td>\n",
       "      <td>OH</td>\n",
       "      <td>44023</td>\n",
       "      <td>The Huntington National Bank</td>\n",
       "      <td>17 S High St.</td>\n",
       "      <td>COLUMBUS</td>\n",
       "      <td>...</td>\n",
       "      <td>OH</td>\n",
       "      <td>CLEVELAND DISTRICT OFFICE</td>\n",
       "      <td>14.0</td>\n",
       "      <td>CORPORATION</td>\n",
       "      <td>CANCLD</td>\n",
       "      <td>NaN</td>\n",
       "      <td>NaN</td>\n",
       "      <td>0</td>\n",
       "      <td>1</td>\n",
       "      <td>12</td>\n",
       "    </tr>\n",
       "  </tbody>\n",
       "</table>\n",
       "<p>5 rows × 36 columns</p>\n",
       "</div>"
      ],
      "text/plain": [
       "   AsOfDate Program                        BorrName  \\\n",
       "0  20220331      7A  Neal Vasso dba Vasso & Associa   \n",
       "1  20220331      7A          Leslie T. Williams DVM   \n",
       "2  20220331      7A               Ideal Energy Inc.   \n",
       "3  20220331      7A      Butler & Son Pet Crematory   \n",
       "4  20220331      7A  Holzheimer Bolek + Meehan Arch   \n",
       "\n",
       "                       BorrStreet       BorrCity BorrState  BorrZip  \\\n",
       "0  14800 Landmark Blvd.  Suite 88         Dallas        TX    75254   \n",
       "1             4636 N. 55th Street        Boulder        CO    80301   \n",
       "2           500 North 3rd St #106      FAIRFIELD        IA    52556   \n",
       "3  3337 Carrollton Villa Rica Hwy     Carrollton        GA    30116   \n",
       "4                7227 Chagrin Rd.  CHAGRIN FALLS        OH    44023   \n",
       "\n",
       "                                            BankName  \\\n",
       "0                                   Independent Bank   \n",
       "1                           Live Oak Banking Company   \n",
       "2  Iowa State Bank and Trust Company of Fairfield...   \n",
       "3                                        Umpqua Bank   \n",
       "4                       The Huntington National Bank   \n",
       "\n",
       "                 BankStreet    BankCity  ... ProjectState  \\\n",
       "0             3090 Craig Dr    MCKINNEY  ...           TX   \n",
       "1           1741 Tiburon Dr  WILMINGTON  ...           CO   \n",
       "2               55 S 4th St   FAIRFIELD  ...           IA   \n",
       "3  445 SE Main St, First Fl    ROSEBURG  ...           GA   \n",
       "4             17 S High St.    COLUMBUS  ...           OH   \n",
       "\n",
       "                   SBADistrictOffice  CongressionalDistrict  BusinessType  \\\n",
       "0  DALLAS / FT WORTH DISTRICT OFFICE                   24.0    INDIVIDUAL   \n",
       "1           COLORADO DISTRICT OFFICE                    2.0    INDIVIDUAL   \n",
       "2         CEDAR RAPIDS BRANCH OFFICE                    2.0   CORPORATION   \n",
       "3            GEORGIA DISTRICT OFFICE                    3.0    INDIVIDUAL   \n",
       "4          CLEVELAND DISTRICT OFFICE                   14.0   CORPORATION   \n",
       "\n",
       "  LoanStatus  PaidInFullDate ChargeOffDate GrossChargeOffAmount  \\\n",
       "0        PIF      11/30/2015           NaN                    0   \n",
       "1        PIF      10/31/2018           NaN                    0   \n",
       "2        PIF      02/29/2012           NaN                    0   \n",
       "3        PIF      09/30/2014           NaN                    0   \n",
       "4     CANCLD             NaN           NaN                    0   \n",
       "\n",
       "  RevolverStatus  JobsSupported  \n",
       "0              0              7  \n",
       "1              0              1  \n",
       "2              0              1  \n",
       "3              0              1  \n",
       "4              1             12  \n",
       "\n",
       "[5 rows x 36 columns]"
      ]
     },
     "execution_count": 13,
     "metadata": {},
     "output_type": "execute_result"
    }
   ],
   "source": [
    "data.head()"
   ]
  },
  {
   "cell_type": "code",
   "execution_count": 14,
   "id": "b6daf0dd-7722-41ee-98d2-afd5a55670cf",
   "metadata": {},
   "outputs": [
    {
     "data": {
      "text/html": [
       "<div>\n",
       "<style scoped>\n",
       "    .dataframe tbody tr th:only-of-type {\n",
       "        vertical-align: middle;\n",
       "    }\n",
       "\n",
       "    .dataframe tbody tr th {\n",
       "        vertical-align: top;\n",
       "    }\n",
       "\n",
       "    .dataframe thead th {\n",
       "        text-align: right;\n",
       "    }\n",
       "</style>\n",
       "<table border=\"1\" class=\"dataframe\">\n",
       "  <thead>\n",
       "    <tr style=\"text-align: right;\">\n",
       "      <th></th>\n",
       "      <th>AsOfDate</th>\n",
       "      <th>Program</th>\n",
       "      <th>BorrName</th>\n",
       "      <th>BorrStreet</th>\n",
       "      <th>BorrCity</th>\n",
       "      <th>BorrState</th>\n",
       "      <th>BorrZip</th>\n",
       "      <th>BankName</th>\n",
       "      <th>BankStreet</th>\n",
       "      <th>BankCity</th>\n",
       "      <th>...</th>\n",
       "      <th>ProjectState</th>\n",
       "      <th>SBADistrictOffice</th>\n",
       "      <th>CongressionalDistrict</th>\n",
       "      <th>BusinessType</th>\n",
       "      <th>LoanStatus</th>\n",
       "      <th>PaidInFullDate</th>\n",
       "      <th>ChargeOffDate</th>\n",
       "      <th>GrossChargeOffAmount</th>\n",
       "      <th>RevolverStatus</th>\n",
       "      <th>JobsSupported</th>\n",
       "    </tr>\n",
       "  </thead>\n",
       "  <tbody>\n",
       "    <tr>\n",
       "      <th>660206</th>\n",
       "      <td>20220331</td>\n",
       "      <td>7A</td>\n",
       "      <td>Coin Laundromat Express Inc.</td>\n",
       "      <td>12827 SW 42nd St</td>\n",
       "      <td>MIAMI</td>\n",
       "      <td>FL</td>\n",
       "      <td>33175</td>\n",
       "      <td>TD Bank, National Association</td>\n",
       "      <td>2035 Limestone Rd</td>\n",
       "      <td>WILMINGTON</td>\n",
       "      <td>...</td>\n",
       "      <td>FL</td>\n",
       "      <td>SOUTH FLORIDA DISTRICT OFFICE</td>\n",
       "      <td>26.0</td>\n",
       "      <td>CORPORATION</td>\n",
       "      <td>COMMIT</td>\n",
       "      <td>NaN</td>\n",
       "      <td>NaN</td>\n",
       "      <td>0</td>\n",
       "      <td>0</td>\n",
       "      <td>4</td>\n",
       "    </tr>\n",
       "    <tr>\n",
       "      <th>660207</th>\n",
       "      <td>20220331</td>\n",
       "      <td>7A</td>\n",
       "      <td>Voyage Pictures LLC</td>\n",
       "      <td>1115 IONIA AVE NW</td>\n",
       "      <td>Grand Rapids</td>\n",
       "      <td>MI</td>\n",
       "      <td>49503</td>\n",
       "      <td>The Huntington National Bank</td>\n",
       "      <td>17 S High St.</td>\n",
       "      <td>COLUMBUS</td>\n",
       "      <td>...</td>\n",
       "      <td>MI</td>\n",
       "      <td>MICHIGAN DISTRICT OFFICE</td>\n",
       "      <td>2.0</td>\n",
       "      <td>CORPORATION</td>\n",
       "      <td>COMMIT</td>\n",
       "      <td>NaN</td>\n",
       "      <td>NaN</td>\n",
       "      <td>0</td>\n",
       "      <td>1</td>\n",
       "      <td>2</td>\n",
       "    </tr>\n",
       "    <tr>\n",
       "      <th>660208</th>\n",
       "      <td>20220331</td>\n",
       "      <td>7A</td>\n",
       "      <td>Precision Spine and Sport</td>\n",
       "      <td>384 SHUNPIKE RD</td>\n",
       "      <td>CHATHAM</td>\n",
       "      <td>NJ</td>\n",
       "      <td>7928</td>\n",
       "      <td>Live Oak Banking Company</td>\n",
       "      <td>1741 Tiburon Dr</td>\n",
       "      <td>WILMINGTON</td>\n",
       "      <td>...</td>\n",
       "      <td>NJ</td>\n",
       "      <td>NEW JERSEY DISTRICT OFFICE</td>\n",
       "      <td>7.0</td>\n",
       "      <td>CORPORATION</td>\n",
       "      <td>COMMIT</td>\n",
       "      <td>NaN</td>\n",
       "      <td>NaN</td>\n",
       "      <td>0</td>\n",
       "      <td>0</td>\n",
       "      <td>6</td>\n",
       "    </tr>\n",
       "    <tr>\n",
       "      <th>660209</th>\n",
       "      <td>20220331</td>\n",
       "      <td>7A</td>\n",
       "      <td>Voyage Pictures LLC</td>\n",
       "      <td>1115 IONIA AVE NW</td>\n",
       "      <td>Grand Rapids</td>\n",
       "      <td>MI</td>\n",
       "      <td>49503</td>\n",
       "      <td>The Huntington National Bank</td>\n",
       "      <td>17 S High St.</td>\n",
       "      <td>COLUMBUS</td>\n",
       "      <td>...</td>\n",
       "      <td>MI</td>\n",
       "      <td>MICHIGAN DISTRICT OFFICE</td>\n",
       "      <td>2.0</td>\n",
       "      <td>CORPORATION</td>\n",
       "      <td>COMMIT</td>\n",
       "      <td>NaN</td>\n",
       "      <td>NaN</td>\n",
       "      <td>0</td>\n",
       "      <td>0</td>\n",
       "      <td>2</td>\n",
       "    </tr>\n",
       "    <tr>\n",
       "      <th>660210</th>\n",
       "      <td>20220331</td>\n",
       "      <td>7A</td>\n",
       "      <td>DQR Electric Inc.</td>\n",
       "      <td>81 ROOSEVELT ST</td>\n",
       "      <td>MARLBOROUGH</td>\n",
       "      <td>MA</td>\n",
       "      <td>1752</td>\n",
       "      <td>St. Mary's CU</td>\n",
       "      <td>46 Lizotte Dr</td>\n",
       "      <td>MARLBOROUGH</td>\n",
       "      <td>...</td>\n",
       "      <td>MA</td>\n",
       "      <td>MASSACHUSETTS DISTRICT OFFICE</td>\n",
       "      <td>2.0</td>\n",
       "      <td>CORPORATION</td>\n",
       "      <td>COMMIT</td>\n",
       "      <td>NaN</td>\n",
       "      <td>NaN</td>\n",
       "      <td>0</td>\n",
       "      <td>0</td>\n",
       "      <td>9</td>\n",
       "    </tr>\n",
       "  </tbody>\n",
       "</table>\n",
       "<p>5 rows × 36 columns</p>\n",
       "</div>"
      ],
      "text/plain": [
       "        AsOfDate Program                      BorrName         BorrStreet  \\\n",
       "660206  20220331      7A  Coin Laundromat Express Inc.   12827 SW 42nd St   \n",
       "660207  20220331      7A           Voyage Pictures LLC  1115 IONIA AVE NW   \n",
       "660208  20220331      7A     Precision Spine and Sport    384 SHUNPIKE RD   \n",
       "660209  20220331      7A           Voyage Pictures LLC  1115 IONIA AVE NW   \n",
       "660210  20220331      7A             DQR Electric Inc.    81 ROOSEVELT ST   \n",
       "\n",
       "            BorrCity BorrState  BorrZip                       BankName  \\\n",
       "660206         MIAMI        FL    33175  TD Bank, National Association   \n",
       "660207  Grand Rapids        MI    49503   The Huntington National Bank   \n",
       "660208       CHATHAM        NJ     7928       Live Oak Banking Company   \n",
       "660209  Grand Rapids        MI    49503   The Huntington National Bank   \n",
       "660210   MARLBOROUGH        MA     1752                  St. Mary's CU   \n",
       "\n",
       "               BankStreet     BankCity  ... ProjectState  \\\n",
       "660206  2035 Limestone Rd   WILMINGTON  ...           FL   \n",
       "660207      17 S High St.     COLUMBUS  ...           MI   \n",
       "660208    1741 Tiburon Dr   WILMINGTON  ...           NJ   \n",
       "660209      17 S High St.     COLUMBUS  ...           MI   \n",
       "660210      46 Lizotte Dr  MARLBOROUGH  ...           MA   \n",
       "\n",
       "                    SBADistrictOffice  CongressionalDistrict  BusinessType  \\\n",
       "660206  SOUTH FLORIDA DISTRICT OFFICE                   26.0   CORPORATION   \n",
       "660207       MICHIGAN DISTRICT OFFICE                    2.0   CORPORATION   \n",
       "660208     NEW JERSEY DISTRICT OFFICE                    7.0   CORPORATION   \n",
       "660209       MICHIGAN DISTRICT OFFICE                    2.0   CORPORATION   \n",
       "660210  MASSACHUSETTS DISTRICT OFFICE                    2.0   CORPORATION   \n",
       "\n",
       "       LoanStatus  PaidInFullDate ChargeOffDate GrossChargeOffAmount  \\\n",
       "660206     COMMIT             NaN           NaN                    0   \n",
       "660207     COMMIT             NaN           NaN                    0   \n",
       "660208     COMMIT             NaN           NaN                    0   \n",
       "660209     COMMIT             NaN           NaN                    0   \n",
       "660210     COMMIT             NaN           NaN                    0   \n",
       "\n",
       "       RevolverStatus  JobsSupported  \n",
       "660206              0              4  \n",
       "660207              1              2  \n",
       "660208              0              6  \n",
       "660209              0              2  \n",
       "660210              0              9  \n",
       "\n",
       "[5 rows x 36 columns]"
      ]
     },
     "execution_count": 14,
     "metadata": {},
     "output_type": "execute_result"
    }
   ],
   "source": [
    "data.tail()"
   ]
  },
  {
   "cell_type": "code",
   "execution_count": 15,
   "id": "cadbab13-d498-4a03-97c0-74d2efcfdfad",
   "metadata": {},
   "outputs": [
    {
     "name": "stdout",
     "output_type": "stream",
     "text": [
      "<class 'pandas.core.frame.DataFrame'>\n",
      "RangeIndex: 660211 entries, 0 to 660210\n",
      "Data columns (total 36 columns):\n",
      " #   Column                 Non-Null Count   Dtype  \n",
      "---  ------                 --------------   -----  \n",
      " 0   AsOfDate               660211 non-null  int64  \n",
      " 1   Program                660211 non-null  object \n",
      " 2   BorrName               660175 non-null  object \n",
      " 3   BorrStreet             660211 non-null  object \n",
      " 4   BorrCity               660211 non-null  object \n",
      " 5   BorrState              660211 non-null  object \n",
      " 6   BorrZip                660211 non-null  int64  \n",
      " 7   BankName               660211 non-null  object \n",
      " 8   BankStreet             660209 non-null  object \n",
      " 9   BankCity               660209 non-null  object \n",
      " 10  BankState              660209 non-null  object \n",
      " 11  BankZip                660209 non-null  object \n",
      " 12  GrossApproval          660207 non-null  float64\n",
      " 13  SBAGuaranteedApproval  660207 non-null  float64\n",
      " 14  ApprovalDate           660211 non-null  object \n",
      " 15  ApprovalFiscalYear     660211 non-null  int64  \n",
      " 16  FirstDisbursementDate  572487 non-null  object \n",
      " 17  DeliveryMethod         660207 non-null  object \n",
      " 18  subpgmdesc             660211 non-null  object \n",
      " 19  InitialInterestRate    660210 non-null  float64\n",
      " 20  TermInMonths           660211 non-null  int64  \n",
      " 21  NaicsCode              660196 non-null  float64\n",
      " 22  NaicsDescription       658646 non-null  object \n",
      " 23  FranchiseCode          64400 non-null   object \n",
      " 24  FranchiseName          64239 non-null   object \n",
      " 25  ProjectCounty          660207 non-null  object \n",
      " 26  ProjectState           660211 non-null  object \n",
      " 27  SBADistrictOffice      660211 non-null  object \n",
      " 28  CongressionalDistrict  660178 non-null  float64\n",
      " 29  BusinessType           660206 non-null  object \n",
      " 30  LoanStatus             660211 non-null  object \n",
      " 31  PaidInFullDate         292444 non-null  object \n",
      " 32  ChargeOffDate          25784 non-null   object \n",
      " 33  GrossChargeOffAmount   660211 non-null  int64  \n",
      " 34  RevolverStatus         660211 non-null  int64  \n",
      " 35  JobsSupported          660211 non-null  int64  \n",
      "dtypes: float64(5), int64(7), object(24)\n",
      "memory usage: 181.3+ MB\n"
     ]
    }
   ],
   "source": [
    "data.info()"
   ]
  },
  {
   "cell_type": "code",
   "execution_count": 17,
   "id": "f194a556-4d0d-4906-8d85-f42286e846fb",
   "metadata": {},
   "outputs": [
    {
     "data": {
      "text/html": [
       "<div>\n",
       "<style scoped>\n",
       "    .dataframe tbody tr th:only-of-type {\n",
       "        vertical-align: middle;\n",
       "    }\n",
       "\n",
       "    .dataframe tbody tr th {\n",
       "        vertical-align: top;\n",
       "    }\n",
       "\n",
       "    .dataframe thead th {\n",
       "        text-align: right;\n",
       "    }\n",
       "</style>\n",
       "<table border=\"1\" class=\"dataframe\">\n",
       "  <thead>\n",
       "    <tr style=\"text-align: right;\">\n",
       "      <th></th>\n",
       "      <th>AsOfDate</th>\n",
       "      <th>BorrZip</th>\n",
       "      <th>GrossApproval</th>\n",
       "      <th>SBAGuaranteedApproval</th>\n",
       "      <th>ApprovalFiscalYear</th>\n",
       "      <th>InitialInterestRate</th>\n",
       "      <th>TermInMonths</th>\n",
       "      <th>NaicsCode</th>\n",
       "      <th>CongressionalDistrict</th>\n",
       "      <th>GrossChargeOffAmount</th>\n",
       "      <th>RevolverStatus</th>\n",
       "      <th>JobsSupported</th>\n",
       "    </tr>\n",
       "  </thead>\n",
       "  <tbody>\n",
       "    <tr>\n",
       "      <th>count</th>\n",
       "      <td>660211.0</td>\n",
       "      <td>660211.000000</td>\n",
       "      <td>6.602070e+05</td>\n",
       "      <td>6.602070e+05</td>\n",
       "      <td>660211.000000</td>\n",
       "      <td>660210.000000</td>\n",
       "      <td>660211.000000</td>\n",
       "      <td>660196.000000</td>\n",
       "      <td>660178.000000</td>\n",
       "      <td>6.602110e+05</td>\n",
       "      <td>660211.000000</td>\n",
       "      <td>660211.000000</td>\n",
       "    </tr>\n",
       "    <tr>\n",
       "      <th>mean</th>\n",
       "      <td>20220331.0</td>\n",
       "      <td>52356.083113</td>\n",
       "      <td>4.177401e+05</td>\n",
       "      <td>3.143516e+05</td>\n",
       "      <td>2015.779421</td>\n",
       "      <td>6.421574</td>\n",
       "      <td>126.680198</td>\n",
       "      <td>524392.585662</td>\n",
       "      <td>9.319006</td>\n",
       "      <td>4.954406e+03</td>\n",
       "      <td>0.303030</td>\n",
       "      <td>10.826728</td>\n",
       "    </tr>\n",
       "    <tr>\n",
       "      <th>std</th>\n",
       "      <td>0.0</td>\n",
       "      <td>30623.869160</td>\n",
       "      <td>7.284100e+05</td>\n",
       "      <td>5.667752e+05</td>\n",
       "      <td>3.454124</td>\n",
       "      <td>1.565732</td>\n",
       "      <td>80.423293</td>\n",
       "      <td>175368.713561</td>\n",
       "      <td>10.594812</td>\n",
       "      <td>5.416382e+04</td>\n",
       "      <td>0.459569</td>\n",
       "      <td>20.402267</td>\n",
       "    </tr>\n",
       "    <tr>\n",
       "      <th>min</th>\n",
       "      <td>20220331.0</td>\n",
       "      <td>601.000000</td>\n",
       "      <td>1.000000e+03</td>\n",
       "      <td>5.000000e+02</td>\n",
       "      <td>2010.000000</td>\n",
       "      <td>0.000000</td>\n",
       "      <td>0.000000</td>\n",
       "      <td>111110.000000</td>\n",
       "      <td>0.000000</td>\n",
       "      <td>0.000000e+00</td>\n",
       "      <td>0.000000</td>\n",
       "      <td>0.000000</td>\n",
       "    </tr>\n",
       "    <tr>\n",
       "      <th>25%</th>\n",
       "      <td>20220331.0</td>\n",
       "      <td>28205.000000</td>\n",
       "      <td>4.700000e+04</td>\n",
       "      <td>2.500000e+04</td>\n",
       "      <td>2013.000000</td>\n",
       "      <td>5.500000</td>\n",
       "      <td>84.000000</td>\n",
       "      <td>424990.000000</td>\n",
       "      <td>2.000000</td>\n",
       "      <td>0.000000e+00</td>\n",
       "      <td>0.000000</td>\n",
       "      <td>2.000000</td>\n",
       "    </tr>\n",
       "    <tr>\n",
       "      <th>50%</th>\n",
       "      <td>20220331.0</td>\n",
       "      <td>50401.000000</td>\n",
       "      <td>1.500000e+05</td>\n",
       "      <td>1.000000e+05</td>\n",
       "      <td>2016.000000</td>\n",
       "      <td>6.000000</td>\n",
       "      <td>120.000000</td>\n",
       "      <td>541110.000000</td>\n",
       "      <td>6.000000</td>\n",
       "      <td>0.000000e+00</td>\n",
       "      <td>0.000000</td>\n",
       "      <td>5.000000</td>\n",
       "    </tr>\n",
       "    <tr>\n",
       "      <th>75%</th>\n",
       "      <td>20220331.0</td>\n",
       "      <td>80222.000000</td>\n",
       "      <td>4.200000e+05</td>\n",
       "      <td>3.183750e+05</td>\n",
       "      <td>2019.000000</td>\n",
       "      <td>7.250000</td>\n",
       "      <td>120.000000</td>\n",
       "      <td>624410.000000</td>\n",
       "      <td>11.000000</td>\n",
       "      <td>0.000000e+00</td>\n",
       "      <td>1.000000</td>\n",
       "      <td>12.000000</td>\n",
       "    </tr>\n",
       "    <tr>\n",
       "      <th>max</th>\n",
       "      <td>20220331.0</td>\n",
       "      <td>99929.000000</td>\n",
       "      <td>5.000000e+06</td>\n",
       "      <td>4.500000e+06</td>\n",
       "      <td>2022.000000</td>\n",
       "      <td>15.240000</td>\n",
       "      <td>847.000000</td>\n",
       "      <td>928120.000000</td>\n",
       "      <td>53.000000</td>\n",
       "      <td>4.706180e+06</td>\n",
       "      <td>1.000000</td>\n",
       "      <td>2150.000000</td>\n",
       "    </tr>\n",
       "  </tbody>\n",
       "</table>\n",
       "</div>"
      ],
      "text/plain": [
       "         AsOfDate        BorrZip  GrossApproval  SBAGuaranteedApproval  \\\n",
       "count    660211.0  660211.000000   6.602070e+05           6.602070e+05   \n",
       "mean   20220331.0   52356.083113   4.177401e+05           3.143516e+05   \n",
       "std           0.0   30623.869160   7.284100e+05           5.667752e+05   \n",
       "min    20220331.0     601.000000   1.000000e+03           5.000000e+02   \n",
       "25%    20220331.0   28205.000000   4.700000e+04           2.500000e+04   \n",
       "50%    20220331.0   50401.000000   1.500000e+05           1.000000e+05   \n",
       "75%    20220331.0   80222.000000   4.200000e+05           3.183750e+05   \n",
       "max    20220331.0   99929.000000   5.000000e+06           4.500000e+06   \n",
       "\n",
       "       ApprovalFiscalYear  InitialInterestRate   TermInMonths      NaicsCode  \\\n",
       "count       660211.000000        660210.000000  660211.000000  660196.000000   \n",
       "mean          2015.779421             6.421574     126.680198  524392.585662   \n",
       "std              3.454124             1.565732      80.423293  175368.713561   \n",
       "min           2010.000000             0.000000       0.000000  111110.000000   \n",
       "25%           2013.000000             5.500000      84.000000  424990.000000   \n",
       "50%           2016.000000             6.000000     120.000000  541110.000000   \n",
       "75%           2019.000000             7.250000     120.000000  624410.000000   \n",
       "max           2022.000000            15.240000     847.000000  928120.000000   \n",
       "\n",
       "       CongressionalDistrict  GrossChargeOffAmount  RevolverStatus  \\\n",
       "count          660178.000000          6.602110e+05   660211.000000   \n",
       "mean                9.319006          4.954406e+03        0.303030   \n",
       "std                10.594812          5.416382e+04        0.459569   \n",
       "min                 0.000000          0.000000e+00        0.000000   \n",
       "25%                 2.000000          0.000000e+00        0.000000   \n",
       "50%                 6.000000          0.000000e+00        0.000000   \n",
       "75%                11.000000          0.000000e+00        1.000000   \n",
       "max                53.000000          4.706180e+06        1.000000   \n",
       "\n",
       "       JobsSupported  \n",
       "count  660211.000000  \n",
       "mean       10.826728  \n",
       "std        20.402267  \n",
       "min         0.000000  \n",
       "25%         2.000000  \n",
       "50%         5.000000  \n",
       "75%        12.000000  \n",
       "max      2150.000000  "
      ]
     },
     "execution_count": 17,
     "metadata": {},
     "output_type": "execute_result"
    }
   ],
   "source": [
    "data.describe()"
   ]
  },
  {
   "cell_type": "code",
   "execution_count": 20,
   "id": "eb3fee7a-3795-4f2f-8351-5bd3b3bf76b0",
   "metadata": {},
   "outputs": [],
   "source": [
    "# subset to observations with the LoanStatus PIF or CHGOFF aka paid in full or charged off. We don't care about loans that are currently being paid back\n",
    "data_sub = data[(data['LoanStatus'] == 'PIF') | (data['LoanStatus'] == 'CHGOFF')].reset_index(drop=True)"
   ]
  },
  {
   "cell_type": "markdown",
   "id": "996e016a-72e2-43e7-b422-0c63523c013a",
   "metadata": {},
   "source": [
    "## Interest rate"
   ]
  },
  {
   "cell_type": "code",
   "execution_count": 25,
   "id": "2c4a3fe6-7eac-4939-8ee0-4cffdd4e97ef",
   "metadata": {},
   "outputs": [
    {
     "data": {
      "text/plain": [
       "<AxesSubplot:>"
      ]
     },
     "execution_count": 25,
     "metadata": {},
     "output_type": "execute_result"
    },
    {
     "data": {
      "image/png": "[encoded data removed]",
      "text/plain": [
       "<Figure size 432x288 with 1 Axes>"
      ]
     },
     "metadata": {
      "needs_background": "light"
     },
     "output_type": "display_data"
    }
   ],
   "source": [
    "data_sub.InitialInterestRate.hist(bins=50)"
   ]
  },
  {
   "cell_type": "code",
   "execution_count": 26,
   "id": "121cbc6d-b397-4cc3-a128-ef1442b88285",
   "metadata": {},
   "outputs": [
    {
     "data": {
      "text/plain": [
       "count    318229.000000\n",
       "mean          6.405675\n",
       "std           1.494836\n",
       "min           0.000000\n",
       "25%           5.500000\n",
       "50%           6.000000\n",
       "75%           7.250000\n",
       "max          13.250000\n",
       "Name: InitialInterestRate, dtype: float64"
      ]
     },
     "execution_count": 26,
     "metadata": {},
     "output_type": "execute_result"
    }
   ],
   "source": [
    "data_sub.InitialInterestRate.describe()"
   ]
  },
  {
   "cell_type": "code",
   "execution_count": 30,
   "id": "63d83784-33dd-4f49-a3bc-dfda30e260fb",
   "metadata": {},
   "outputs": [
    {
     "data": {
      "image/png": "[encoded data removed]",
      "text/plain": [
       "<Figure size 432x288 with 1 Axes>"
      ]
     },
     "metadata": {
      "needs_background": "light"
     },
     "output_type": "display_data"
    },
    {
     "data": {
      "image/png": "[encoded data removed]",
      "text/plain": [
       "<Figure size 432x288 with 1 Axes>"
      ]
     },
     "metadata": {
      "needs_background": "light"
     },
     "output_type": "display_data"
    },
    {
     "data": {
      "image/png": "[encoded data removed]",
      "text/plain": [
       "<Figure size 432x288 with 1 Axes>"
      ]
     },
     "metadata": {
      "needs_background": "light"
     },
     "output_type": "display_data"
    },
    {
     "data": {
      "image/png": "[encoded data removed]",
      "text/plain": [
       "<Figure size 432x288 with 1 Axes>"
      ]
     },
     "metadata": {
      "needs_background": "light"
     },
     "output_type": "display_data"
    },
    {
     "data": {
      "image/png": "[encoded data removed]",
      "text/plain": [
       "<Figure size 432x288 with 1 Axes>"
      ]
     },
     "metadata": {
      "needs_background": "light"
     },
     "output_type": "display_data"
    },
    {
     "data": {
      "image/png": "[encoded data removed]",
      "text/plain": [
       "<Figure size 432x288 with 1 Axes>"
      ]
     },
     "metadata": {
      "needs_background": "light"
     },
     "output_type": "display_data"
    },
    {
     "data": {
      "image/png": "[encoded data removed]",
      "text/plain": [
       "<Figure size 432x288 with 1 Axes>"
      ]
     },
     "metadata": {
      "needs_background": "light"
     },
     "output_type": "display_data"
    },
    {
     "data": {
      "image/png": "[encoded data removed]",
      "text/plain": [
       "<Figure size 432x288 with 1 Axes>"
      ]
     },
     "metadata": {
      "needs_background": "light"
     },
     "output_type": "display_data"
    },
    {
     "data": {
      "image/png": "[encoded data removed]",
      "text/plain": [
       "<Figure size 432x288 with 1 Axes>"
      ]
     },
     "metadata": {
      "needs_background": "light"
     },
     "output_type": "display_data"
    },
    {
     "data": {
      "image/png": "[encoded data removed]",
      "text/plain": [
       "<Figure size 432x288 with 1 Axes>"
      ]
     },
     "metadata": {
      "needs_background": "light"
     },
     "output_type": "display_data"
    },
    {
     "data": {
      "image/png": "[encoded data removed]",
      "text/plain": [
       "<Figure size 432x288 with 1 Axes>"
      ]
     },
     "metadata": {
      "needs_background": "light"
     },
     "output_type": "display_data"
    },
    {
     "data": {
      "image/png": "[encoded data removed]",
      "text/plain": [
       "<Figure size 432x288 with 1 Axes>"
      ]
     },
     "metadata": {
      "needs_background": "light"
     },
     "output_type": "display_data"
    },
    {
     "data": {
      "image/png": "[encoded data removed]",
      "text/plain": [
       "<Figure size 432x288 with 1 Axes>"
      ]
     },
     "metadata": {
      "needs_background": "light"
     },
     "output_type": "display_data"
    }
   ],
   "source": [
    "for i in data_sub.ApprovalFiscalYear.unique():\n",
    "    temp = data_sub[data_sub['ApprovalFiscalYear'] == i]\n",
    "    plt.hist(temp.InitialInterestRate, bins=20)\n",
    "    plt.title(\"Year: \" + str(i))\n",
    "    plt.show()\n",
    "    "
   ]
  },
  {
   "cell_type": "markdown",
   "id": "7d96b188-871e-4890-a320-ac7a5ace7582",
   "metadata": {},
   "source": [
    "## term length"
   ]
  },
  {
   "cell_type": "markdown",
   "id": "7f07f1fe-2df4-49b6-b004-7636d6f71f08",
   "metadata": {},
   "source": [
    "## principal"
   ]
  },
  {
   "cell_type": "markdown",
   "id": "deb4f05a-8057-450f-8d45-ed867ee79deb",
   "metadata": {},
   "source": [
    "## SBA guarantee amount"
   ]
  },
  {
   "cell_type": "markdown",
   "id": "f492b3e3-2bd8-49bb-a719-9aceff66ab2e",
   "metadata": {},
   "source": [
    "## franchise"
   ]
  },
  {
   "cell_type": "markdown",
   "id": "cd104dd7-b0e6-4f0d-87a9-50d80970a4c9",
   "metadata": {},
   "source": [
    "## naics code"
   ]
  },
  {
   "cell_type": "markdown",
   "id": "d5c5a561-c2cd-4773-816b-b3ecf1eded11",
   "metadata": {},
   "source": [
    "## zip code"
   ]
  },
  {
   "cell_type": "markdown",
   "id": "8f3b0cc1-be24-4b50-ae4c-25e36f7243fd",
   "metadata": {},
   "source": [
    "## revolver or term"
   ]
  }
 ],
 "metadata": {
  "kernelspec": {
   "display_name": "Python 3 (ipykernel)",
   "language": "python",
   "name": "python3"
  },
  "language_info": {
   "codemirror_mode": {
    "name": "ipython",
    "version": 3
   },
   "file_extension": ".py",
   "mimetype": "text/x-python",
   "name": "python",
   "nbconvert_exporter": "python",
   "pygments_lexer": "ipython3",
   "version": "3.9.9"
  }
 },
 "nbformat": 4,
 "nbformat_minor": 5
}
