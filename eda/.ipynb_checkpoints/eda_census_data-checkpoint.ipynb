{
 "cells": [
  {
   "cell_type": "code",
   "execution_count": 10,
   "id": "5ed3da5e-12b2-4eaf-a760-0a10dd673fba",
   "metadata": {},
   "outputs": [],
   "source": [
    "import os\n",
    "\n",
    "import pandas as pd\n",
    "\n",
    "import matplotlib as plt\n",
    "import seaborn as sns"
   ]
  },
  {
   "cell_type": "markdown",
   "id": "52ea0be0-37ef-49d8-b1ea-d585075f2a41",
   "metadata": {},
   "source": [
    "## Business Patterns by ZIP"
   ]
  },
  {
   "cell_type": "code",
   "execution_count": 11,
   "id": "e278bca6-4964-4c65-866d-1f1c78725a1b",
   "metadata": {},
   "outputs": [],
   "source": [
    "os.chdir('/mnt/c/Users/jwnha/Documents/_School/MSDS/2022Summer/applicationDev/data/business_patterns_zip')"
   ]
  },
  {
   "cell_type": "code",
   "execution_count": 13,
   "id": "2ee924f0-3251-48f3-a070-5f50ed57f6b2",
   "metadata": {},
   "outputs": [],
   "source": [
    "bp_zip = pd.read_csv('zbp20totals.txt', delimiter=',', encoding = 'unicode_escape', engine ='python')"
   ]
  },
  {
   "cell_type": "code",
   "execution_count": 14,
   "id": "acebcaf6-b9ad-47cd-9758-c29889c32ec2",
   "metadata": {},
   "outputs": [
    {
     "data": {
      "text/html": [
       "<div>\n",
       "<style scoped>\n",
       "    .dataframe tbody tr th:only-of-type {\n",
       "        vertical-align: middle;\n",
       "    }\n",
       "\n",
       "    .dataframe tbody tr th {\n",
       "        vertical-align: top;\n",
       "    }\n",
       "\n",
       "    .dataframe thead th {\n",
       "        text-align: right;\n",
       "    }\n",
       "</style>\n",
       "<table border=\"1\" class=\"dataframe\">\n",
       "  <thead>\n",
       "    <tr style=\"text-align: right;\">\n",
       "      <th></th>\n",
       "      <th>zip</th>\n",
       "      <th>name</th>\n",
       "      <th>emp_nf</th>\n",
       "      <th>emp</th>\n",
       "      <th>qp1_nf</th>\n",
       "      <th>qp1</th>\n",
       "      <th>ap_nf</th>\n",
       "      <th>ap</th>\n",
       "      <th>est</th>\n",
       "      <th>city</th>\n",
       "      <th>stabbr</th>\n",
       "      <th>cty_name</th>\n",
       "    </tr>\n",
       "  </thead>\n",
       "  <tbody>\n",
       "    <tr>\n",
       "      <th>0</th>\n",
       "      <td>501</td>\n",
       "      <td>HOLTSVILLE, NY</td>\n",
       "      <td>J</td>\n",
       "      <td>49</td>\n",
       "      <td>J</td>\n",
       "      <td>261</td>\n",
       "      <td>J</td>\n",
       "      <td>850</td>\n",
       "      <td>5</td>\n",
       "      <td>HOLTSVILLE</td>\n",
       "      <td>NY</td>\n",
       "      <td>SUFFOLK</td>\n",
       "    </tr>\n",
       "    <tr>\n",
       "      <th>1</th>\n",
       "      <td>1001</td>\n",
       "      <td>AGAWAM, MA</td>\n",
       "      <td>G</td>\n",
       "      <td>7944</td>\n",
       "      <td>G</td>\n",
       "      <td>100626</td>\n",
       "      <td>G</td>\n",
       "      <td>409249</td>\n",
       "      <td>469</td>\n",
       "      <td>AGAWAM</td>\n",
       "      <td>MA</td>\n",
       "      <td>HAMPDEN</td>\n",
       "    </tr>\n",
       "    <tr>\n",
       "      <th>2</th>\n",
       "      <td>1002</td>\n",
       "      <td>AMHERST, MA</td>\n",
       "      <td>H</td>\n",
       "      <td>7732</td>\n",
       "      <td>H</td>\n",
       "      <td>73903</td>\n",
       "      <td>H</td>\n",
       "      <td>294936</td>\n",
       "      <td>523</td>\n",
       "      <td>AMHERST</td>\n",
       "      <td>MA</td>\n",
       "      <td>HAMPSHIRE</td>\n",
       "    </tr>\n",
       "    <tr>\n",
       "      <th>3</th>\n",
       "      <td>1003</td>\n",
       "      <td>AMHERST, MA</td>\n",
       "      <td>G</td>\n",
       "      <td>239</td>\n",
       "      <td>H</td>\n",
       "      <td>2515</td>\n",
       "      <td>H</td>\n",
       "      <td>9481</td>\n",
       "      <td>16</td>\n",
       "      <td>AMHERST</td>\n",
       "      <td>MA</td>\n",
       "      <td>HAMPSHIRE</td>\n",
       "    </tr>\n",
       "    <tr>\n",
       "      <th>4</th>\n",
       "      <td>1004</td>\n",
       "      <td>AMHERST, MA</td>\n",
       "      <td>J</td>\n",
       "      <td>197</td>\n",
       "      <td>H</td>\n",
       "      <td>1439</td>\n",
       "      <td>H</td>\n",
       "      <td>5892</td>\n",
       "      <td>9</td>\n",
       "      <td>AMHERST</td>\n",
       "      <td>MA</td>\n",
       "      <td>HAMPSHIRE</td>\n",
       "    </tr>\n",
       "  </tbody>\n",
       "</table>\n",
       "</div>"
      ],
      "text/plain": [
       "    zip            name emp_nf   emp qp1_nf     qp1 ap_nf      ap  est  \\\n",
       "0   501  HOLTSVILLE, NY      J    49      J     261     J     850    5   \n",
       "1  1001      AGAWAM, MA      G  7944      G  100626     G  409249  469   \n",
       "2  1002     AMHERST, MA      H  7732      H   73903     H  294936  523   \n",
       "3  1003     AMHERST, MA      G   239      H    2515     H    9481   16   \n",
       "4  1004     AMHERST, MA      J   197      H    1439     H    5892    9   \n",
       "\n",
       "         city stabbr   cty_name  \n",
       "0  HOLTSVILLE     NY    SUFFOLK  \n",
       "1      AGAWAM     MA    HAMPDEN  \n",
       "2     AMHERST     MA  HAMPSHIRE  \n",
       "3     AMHERST     MA  HAMPSHIRE  \n",
       "4     AMHERST     MA  HAMPSHIRE  "
      ]
     },
     "execution_count": 14,
     "metadata": {},
     "output_type": "execute_result"
    }
   ],
   "source": [
    "bp_zip.head()"
   ]
  },
  {
   "cell_type": "code",
   "execution_count": 29,
   "id": "8d4fb240-c0f1-4ed1-b6bc-fdc9c4bb7a36",
   "metadata": {},
   "outputs": [],
   "source": [
    "bp_zip_1 = bp_zip[[\"zip\", \"emp\", \"est\", \"ap\"]]"
   ]
  },
  {
   "cell_type": "code",
   "execution_count": 30,
   "id": "1cfe6cd5-8718-4207-80a9-cc2c3b79382a",
   "metadata": {},
   "outputs": [],
   "source": [
    "# rename columns to make them more intuitive\n",
    "bp_zip_2 = bp_zip_1.rename(columns = {\"emp\": \"num_employees\", \"est\": \"num_establishments\", \"ap\": \"annual_payroll_1000s\"})"
   ]
  },
  {
   "cell_type": "code",
   "execution_count": 31,
   "id": "11e0840b-82d9-43e6-aadb-f99aebf7b97d",
   "metadata": {},
   "outputs": [
    {
     "name": "stdout",
     "output_type": "stream",
     "text": [
      "<class 'pandas.core.frame.DataFrame'>\n",
      "RangeIndex: 35053 entries, 0 to 35052\n",
      "Data columns (total 4 columns):\n",
      " #   Column                Non-Null Count  Dtype\n",
      "---  ------                --------------  -----\n",
      " 0   zip                   35053 non-null  int64\n",
      " 1   num_employees         35053 non-null  int64\n",
      " 2   num_establishments    35053 non-null  int64\n",
      " 3   annual_payroll_1000s  35053 non-null  int64\n",
      "dtypes: int64(4)\n",
      "memory usage: 1.1 MB\n"
     ]
    }
   ],
   "source": [
    "bp_zip_2.info()"
   ]
  },
  {
   "cell_type": "code",
   "execution_count": 32,
   "id": "6d7520a3-a559-4ebb-aa80-8cc76b793061",
   "metadata": {},
   "outputs": [],
   "source": [
    "# convert zip column to a string and pad with zeros\n",
    "bp_zip_2['zip'] = bp_zip_2['zip'].astype(str).str.zfill(5)"
   ]
  },
  {
   "cell_type": "code",
   "execution_count": 33,
   "id": "7b4723e3-23b6-4607-975f-3637c596432e",
   "metadata": {},
   "outputs": [
    {
     "name": "stdout",
     "output_type": "stream",
     "text": [
      "35053\n",
      "35053\n"
     ]
    }
   ],
   "source": [
    "# Check that we don't have any duplicate zips\n",
    "print(len(bp_zip_2.zip))\n",
    "print(len(bp_zip_2.zip.drop_duplicates()))"
   ]
  },
  {
   "cell_type": "code",
   "execution_count": 38,
   "id": "c52ffa71-887e-41c9-b39d-6406c151693c",
   "metadata": {},
   "outputs": [
    {
     "data": {
      "text/plain": [
       "count    3.505300e+04\n",
       "mean     3.823588e+03\n",
       "std      3.550615e+04\n",
       "min      0.000000e+00\n",
       "25%      8.000000e+01\n",
       "50%      4.230000e+02\n",
       "75%      3.367000e+03\n",
       "max      6.476624e+06\n",
       "Name: num_employees, dtype: float64"
      ]
     },
     "execution_count": 38,
     "metadata": {},
     "output_type": "execute_result"
    }
   ],
   "source": [
    "# Summary Statistics\n",
    "bp_zip_2['num_employees'].describe()"
   ]
  },
  {
   "cell_type": "code",
   "execution_count": 35,
   "id": "72944324-e918-454b-bfac-a9dc3ee57630",
   "metadata": {},
   "outputs": [
    {
     "data": {
      "text/plain": [
       "count    35053.000000\n",
       "mean       228.085356\n",
       "std        443.894261\n",
       "min          3.000000\n",
       "25%         11.000000\n",
       "50%         41.000000\n",
       "75%        255.000000\n",
       "max      33466.000000\n",
       "Name: num_establishments, dtype: float64"
      ]
     },
     "execution_count": 35,
     "metadata": {},
     "output_type": "execute_result"
    }
   ],
   "source": [
    "bp_zip_2['num_establishments'].describe()"
   ]
  },
  {
   "cell_type": "code",
   "execution_count": 36,
   "id": "4b290aaf-d333-4619-a0b5-40f194854fe7",
   "metadata": {},
   "outputs": [
    {
     "data": {
      "text/plain": [
       "count    3.505300e+04\n",
       "mean     2.156041e+05\n",
       "std      2.154285e+06\n",
       "min      1.100000e+01\n",
       "25%      2.958000e+03\n",
       "50%      1.716600e+04\n",
       "75%      1.425480e+05\n",
       "max      3.820090e+08\n",
       "Name: annual_payroll_1000s, dtype: float64"
      ]
     },
     "execution_count": 36,
     "metadata": {},
     "output_type": "execute_result"
    }
   ],
   "source": [
    "bp_zip_2['annual_payroll_1000s'].describe()\n"
   ]
  },
  {
   "cell_type": "code",
   "execution_count": 48,
   "id": "4c64c9f4-0d7d-4c9e-a037-127a6dbff5a0",
   "metadata": {},
   "outputs": [
    {
     "data": {
      "text/plain": [
       "<AxesSubplot:>"
      ]
     },
     "execution_count": 48,
     "metadata": {},
     "output_type": "execute_result"
    },
    {
     "data": {
      "image/png": "[encoded data removed]",
      "text/plain": [
       "<Figure size 432x288 with 1 Axes>"
      ]
     },
     "metadata": {
      "needs_background": "light"
     },
     "output_type": "display_data"
    }
   ],
   "source": [
    "bp_zip_2['num_employees'].hist(bins=1000, grid=False)"
   ]
  },
  {
   "cell_type": "code",
   "execution_count": 47,
   "id": "cf276162-22b4-4b0c-87b6-8483e366d064",
   "metadata": {},
   "outputs": [
    {
     "data": {
      "text/plain": [
       "<AxesSubplot:>"
      ]
     },
     "execution_count": 47,
     "metadata": {},
     "output_type": "execute_result"
    },
    {
     "data": {
      "image/png": "[encoded data removed]",
      "text/plain": [
       "<Figure size 432x288 with 1 Axes>"
      ]
     },
     "metadata": {
      "needs_background": "light"
     },
     "output_type": "display_data"
    }
   ],
   "source": [
    "bp_zip_2['num_establishments'].hist(bins=1000, grid=False)"
   ]
  },
  {
   "cell_type": "code",
   "execution_count": 52,
   "id": "62e49c21-e5b1-452b-9844-684165f94be5",
   "metadata": {},
   "outputs": [
    {
     "data": {
      "text/plain": [
       "<AxesSubplot:>"
      ]
     },
     "execution_count": 52,
     "metadata": {},
     "output_type": "execute_result"
    },
    {
     "data": {
      "image/png": "[encoded data removed]",
      "text/plain": [
       "<Figure size 432x288 with 1 Axes>"
      ]
     },
     "metadata": {
      "needs_background": "light"
     },
     "output_type": "display_data"
    }
   ],
   "source": [
    "bp_zip_2['annual_payroll_1000s'].hist(bins=1000, grid=False)"
   ]
  },
  {
   "cell_type": "code",
   "execution_count": null,
   "id": "40bbc941-33fc-4bc7-91ac-6920f5af2d71",
   "metadata": {},
   "outputs": [],
   "source": []
  }
 ],
 "metadata": {
  "kernelspec": {
   "display_name": "Python 3 (ipykernel)",
   "language": "python",
   "name": "python3"
  },
  "language_info": {
   "codemirror_mode": {
    "name": "ipython",
    "version": 3
   },
   "file_extension": ".py",
   "mimetype": "text/x-python",
   "name": "python",
   "nbconvert_exporter": "python",
   "pygments_lexer": "ipython3",
   "version": "3.9.0"
  },
  "toc-autonumbering": false,
  "toc-showcode": true,
  "toc-showmarkdowntxt": true
 },
 "nbformat": 4,
 "nbformat_minor": 5
}
