{
 "cells": [
  {
   "cell_type": "markdown",
   "id": "18fbe21b-4c7e-47c4-98f1-0b8be075bc1e",
   "metadata": {},
   "source": [
    "The goal of this notebook is to take each of the census variables I will be using in my model and find which macroeconomic variables I can use to grow the variables used in the model for 2020-2022."
   ]
  },
  {
   "cell_type": "code",
   "execution_count": 1,
   "id": "09a93722-0e31-42e7-aef2-2332b2c1d9b2",
   "metadata": {},
   "outputs": [],
   "source": [
    "import pandas as pd\n",
    "import numpy as np\n",
    "\n",
    "%matplotlib inline\n",
    "\n",
    "import matplotlib.pyplot as plt\n",
    "import seaborn as sns"
   ]
  },
  {
   "cell_type": "markdown",
   "id": "26150eec-bb3e-480d-8948-db067875df9c",
   "metadata": {},
   "source": [
    "# Load data"
   ]
  },
  {
   "cell_type": "markdown",
   "id": "0e57f3f8-1172-4752-8245-32ef973eed11",
   "metadata": {},
   "source": [
    "## BEA Data for Estimates\n",
    "https://www.bea.gov/data/economic-accounts/regional\n",
    "\n",
    "https://www.bea.gov/data/economic-accounts/national"
   ]
  },
  {
   "cell_type": "markdown",
   "id": "8727d59c-6ce6-4927-88fb-e3f71ce9e51c",
   "metadata": {},
   "source": [
    "### PCE by State"
   ]
  },
  {
   "cell_type": "code",
   "execution_count": 6,
   "id": "afc29c08-ee25-493e-96f6-8053af35651d",
   "metadata": {},
   "outputs": [],
   "source": [
    "consumer_spending_state = pd.read_csv('https://raw.githubusercontent.com/jhancuch/sba-loan-credit-analysis/main/data/bea/PCE.csv')"
   ]
  },
  {
   "cell_type": "code",
   "execution_count": 7,
   "id": "d26b9aec-b693-4b91-a0ea-83991e39e5b4",
   "metadata": {},
   "outputs": [
    {
     "name": "stdout",
     "output_type": "stream",
     "text": [
      "<class 'pandas.core.frame.DataFrame'>\n",
      "RangeIndex: 51 entries, 0 to 50\n",
      "Data columns (total 25 columns):\n",
      " #   Column   Non-Null Count  Dtype \n",
      "---  ------   --------------  ----- \n",
      " 0   GeoName  51 non-null     object\n",
      " 1   1997     51 non-null     int64 \n",
      " 2   1998     51 non-null     int64 \n",
      " 3   1999     51 non-null     int64 \n",
      " 4   2000     51 non-null     int64 \n",
      " 5   2001     51 non-null     int64 \n",
      " 6   2002     51 non-null     int64 \n",
      " 7   2003     51 non-null     int64 \n",
      " 8   2004     51 non-null     int64 \n",
      " 9   2005     51 non-null     int64 \n",
      " 10  2006     51 non-null     int64 \n",
      " 11  2007     51 non-null     int64 \n",
      " 12  2008     51 non-null     int64 \n",
      " 13  2009     51 non-null     int64 \n",
      " 14  2010     51 non-null     int64 \n",
      " 15  2011     51 non-null     int64 \n",
      " 16  2012     51 non-null     int64 \n",
      " 17  2013     51 non-null     int64 \n",
      " 18  2014     51 non-null     int64 \n",
      " 19  2015     51 non-null     int64 \n",
      " 20  2016     51 non-null     int64 \n",
      " 21  2017     51 non-null     int64 \n",
      " 22  2018     51 non-null     int64 \n",
      " 23  2019     51 non-null     int64 \n",
      " 24  2020     51 non-null     int64 \n",
      "dtypes: int64(24), object(1)\n",
      "memory usage: 10.1+ KB\n"
     ]
    }
   ],
   "source": [
    "consumer_spending_state.info()"
   ]
  },
  {
   "cell_type": "code",
   "execution_count": 10,
   "id": "5bb433f1-0c45-4712-915b-4342401ebcaa",
   "metadata": {},
   "outputs": [],
   "source": [
    "consumer_spending_state = consumer_spending_state.add_prefix('pce_')"
   ]
  },
  {
   "cell_type": "markdown",
   "id": "f433c56a-8991-4892-87b1-39867335c776",
   "metadata": {},
   "source": [
    "### Employment by State"
   ]
  },
  {
   "cell_type": "code",
   "execution_count": 11,
   "id": "775c2844-c319-41ca-b2c8-9586e2e438f4",
   "metadata": {},
   "outputs": [],
   "source": [
    "employment_state = pd.read_csv('https://raw.githubusercontent.com/jhancuch/sba-loan-credit-analysis/main/data/bea/total_employment_state.csv')"
   ]
  },
  {
   "cell_type": "code",
   "execution_count": 12,
   "id": "eee08ff3-cf2e-4d38-9c65-b3d988562885",
   "metadata": {},
   "outputs": [
    {
     "name": "stdout",
     "output_type": "stream",
     "text": [
      "<class 'pandas.core.frame.DataFrame'>\n",
      "RangeIndex: 51 entries, 0 to 50\n",
      "Data columns (total 33 columns):\n",
      " #   Column   Non-Null Count  Dtype \n",
      "---  ------   --------------  ----- \n",
      " 0   GeoName  51 non-null     object\n",
      " 1   1990     51 non-null     int64 \n",
      " 2   1991     51 non-null     int64 \n",
      " 3   1992     51 non-null     int64 \n",
      " 4   1993     51 non-null     int64 \n",
      " 5   1994     51 non-null     int64 \n",
      " 6   1995     51 non-null     int64 \n",
      " 7   1996     51 non-null     int64 \n",
      " 8   1997     51 non-null     int64 \n",
      " 9   1998     51 non-null     int64 \n",
      " 10  1999     51 non-null     int64 \n",
      " 11  2000     51 non-null     int64 \n",
      " 12  2001     51 non-null     int64 \n",
      " 13  2002     51 non-null     int64 \n",
      " 14  2003     51 non-null     int64 \n",
      " 15  2004     51 non-null     int64 \n",
      " 16  2005     51 non-null     int64 \n",
      " 17  2006     51 non-null     int64 \n",
      " 18  2007     51 non-null     int64 \n",
      " 19  2008     51 non-null     int64 \n",
      " 20  2009     51 non-null     int64 \n",
      " 21  2010     51 non-null     int64 \n",
      " 22  2011     51 non-null     int64 \n",
      " 23  2012     51 non-null     int64 \n",
      " 24  2013     51 non-null     int64 \n",
      " 25  2014     51 non-null     int64 \n",
      " 26  2015     51 non-null     int64 \n",
      " 27  2016     51 non-null     int64 \n",
      " 28  2017     51 non-null     int64 \n",
      " 29  2018     51 non-null     int64 \n",
      " 30  2019     51 non-null     int64 \n",
      " 31  2020     51 non-null     int64 \n",
      " 32  2021     51 non-null     object\n",
      "dtypes: int64(31), object(2)\n",
      "memory usage: 13.3+ KB\n"
     ]
    }
   ],
   "source": [
    "employment_state.info()"
   ]
  },
  {
   "cell_type": "code",
   "execution_count": 13,
   "id": "90cdde3c-a69d-4a4a-9b3b-a8825288b5a3",
   "metadata": {},
   "outputs": [],
   "source": [
    "employment_state = employment_state.add_prefix('emp_')"
   ]
  },
  {
   "cell_type": "markdown",
   "id": "79ccecf1-888f-442d-ad47-95497274a693",
   "metadata": {},
   "source": [
    "### GDP by State"
   ]
  },
  {
   "cell_type": "code",
   "execution_count": 16,
   "id": "31b37a96-cf5c-4bfe-a9e1-64b8584a786a",
   "metadata": {},
   "outputs": [],
   "source": [
    "gdp = pd.read_csv('https://raw.githubusercontent.com/jhancuch/sba-loan-credit-analysis/main/data/bea/gdp_state.csv')"
   ]
  },
  {
   "cell_type": "code",
   "execution_count": 17,
   "id": "8f197dff-1546-498b-a710-0cc6122f00e9",
   "metadata": {},
   "outputs": [
    {
     "name": "stdout",
     "output_type": "stream",
     "text": [
      "<class 'pandas.core.frame.DataFrame'>\n",
      "RangeIndex: 51 entries, 0 to 50\n",
      "Data columns (total 18 columns):\n",
      " #   Column   Non-Null Count  Dtype  \n",
      "---  ------   --------------  -----  \n",
      " 0   GeoName  51 non-null     object \n",
      " 1   2005     51 non-null     float64\n",
      " 2   2006     51 non-null     float64\n",
      " 3   2007     51 non-null     float64\n",
      " 4   2008     51 non-null     float64\n",
      " 5   2009     51 non-null     float64\n",
      " 6   2010     51 non-null     float64\n",
      " 7   2011     51 non-null     float64\n",
      " 8   2012     51 non-null     float64\n",
      " 9   2013     51 non-null     float64\n",
      " 10  2014     51 non-null     float64\n",
      " 11  2015     51 non-null     float64\n",
      " 12  2016     51 non-null     float64\n",
      " 13  2017     51 non-null     float64\n",
      " 14  2018     51 non-null     float64\n",
      " 15  2019     51 non-null     float64\n",
      " 16  2020     51 non-null     float64\n",
      " 17  2021     51 non-null     float64\n",
      "dtypes: float64(17), object(1)\n",
      "memory usage: 7.3+ KB\n"
     ]
    }
   ],
   "source": [
    "gdp.info()"
   ]
  },
  {
   "cell_type": "code",
   "execution_count": 19,
   "id": "d23cbe19-00c1-4da7-bcea-19cdd032c1e5",
   "metadata": {},
   "outputs": [],
   "source": [
    "gdp = gdp.add_prefix('gdp_')"
   ]
  },
  {
   "cell_type": "markdown",
   "id": "d585206b-1e36-47ec-804e-51755ed0af1b",
   "metadata": {},
   "source": [
    "### Per Capita Income by State"
   ]
  },
  {
   "cell_type": "code",
   "execution_count": 20,
   "id": "9ef8633a-1a1d-4e94-a658-15087a704ec2",
   "metadata": {},
   "outputs": [],
   "source": [
    "pi = pd.read_csv('https://raw.githubusercontent.com/jhancuch/sba-loan-credit-analysis/main/data/bea/per_capita_income.csv')"
   ]
  },
  {
   "cell_type": "code",
   "execution_count": 21,
   "id": "845f5c06-ca90-4758-b73b-44ee3a424dc6",
   "metadata": {},
   "outputs": [
    {
     "name": "stdout",
     "output_type": "stream",
     "text": [
      "<class 'pandas.core.frame.DataFrame'>\n",
      "RangeIndex: 51 entries, 0 to 50\n",
      "Data columns (total 13 columns):\n",
      " #   Column   Non-Null Count  Dtype  \n",
      "---  ------   --------------  -----  \n",
      " 0   GeoName  51 non-null     object \n",
      " 1   2010     51 non-null     float64\n",
      " 2   2011     51 non-null     float64\n",
      " 3   2012     51 non-null     float64\n",
      " 4   2013     51 non-null     float64\n",
      " 5   2014     51 non-null     float64\n",
      " 6   2015     51 non-null     float64\n",
      " 7   2016     51 non-null     float64\n",
      " 8   2017     51 non-null     float64\n",
      " 9   2018     51 non-null     float64\n",
      " 10  2019     51 non-null     float64\n",
      " 11  2020     51 non-null     float64\n",
      " 12  2021     51 non-null     float64\n",
      "dtypes: float64(12), object(1)\n",
      "memory usage: 5.3+ KB\n"
     ]
    }
   ],
   "source": [
    "pi.info()"
   ]
  },
  {
   "cell_type": "code",
   "execution_count": 22,
   "id": "59bfbe5c-7f61-4f29-9219-6f6e2cbbaf94",
   "metadata": {},
   "outputs": [],
   "source": [
    "pi = pi.add_prefix('per_cap_income_')"
   ]
  },
  {
   "cell_type": "markdown",
   "id": "b2592ccc-e743-45b8-8be8-dd8674f9c647",
   "metadata": {},
   "source": [
    "## Census data"
   ]
  },
  {
   "cell_type": "markdown",
   "id": "111917a4-40fa-4266-8c07-d60de9f9778f",
   "metadata": {},
   "source": [
    "### Business patterns by ZIP"
   ]
  },
  {
   "cell_type": "code",
   "execution_count": 23,
   "id": "8a476913-4b19-4935-b9eb-e0f4ded9084b",
   "metadata": {},
   "outputs": [],
   "source": [
    "bp_zip = pd.read_csv('https://raw.githubusercontent.com/jhancuch/sba-loan-credit-analysis/main/data/business_patterns_zip/zbp20totals.txt', delimiter=',', encoding = 'unicode_escape', engine ='python')"
   ]
  },
  {
   "cell_type": "code",
   "execution_count": 24,
   "id": "f1bcc474-87bc-4d00-8bbc-8e37b6215195",
   "metadata": {},
   "outputs": [
    {
     "data": {
      "text/html": [
       "<div>\n",
       "<style scoped>\n",
       "    .dataframe tbody tr th:only-of-type {\n",
       "        vertical-align: middle;\n",
       "    }\n",
       "\n",
       "    .dataframe tbody tr th {\n",
       "        vertical-align: top;\n",
       "    }\n",
       "\n",
       "    .dataframe thead th {\n",
       "        text-align: right;\n",
       "    }\n",
       "</style>\n",
       "<table border=\"1\" class=\"dataframe\">\n",
       "  <thead>\n",
       "    <tr style=\"text-align: right;\">\n",
       "      <th></th>\n",
       "      <th>zip</th>\n",
       "      <th>name</th>\n",
       "      <th>emp_nf</th>\n",
       "      <th>emp</th>\n",
       "      <th>qp1_nf</th>\n",
       "      <th>qp1</th>\n",
       "      <th>ap_nf</th>\n",
       "      <th>ap</th>\n",
       "      <th>est</th>\n",
       "      <th>city</th>\n",
       "      <th>stabbr</th>\n",
       "      <th>cty_name</th>\n",
       "    </tr>\n",
       "  </thead>\n",
       "  <tbody>\n",
       "    <tr>\n",
       "      <th>0</th>\n",
       "      <td>501</td>\n",
       "      <td>HOLTSVILLE, NY</td>\n",
       "      <td>J</td>\n",
       "      <td>49</td>\n",
       "      <td>J</td>\n",
       "      <td>261</td>\n",
       "      <td>J</td>\n",
       "      <td>850</td>\n",
       "      <td>5</td>\n",
       "      <td>HOLTSVILLE</td>\n",
       "      <td>NY</td>\n",
       "      <td>SUFFOLK</td>\n",
       "    </tr>\n",
       "    <tr>\n",
       "      <th>1</th>\n",
       "      <td>1001</td>\n",
       "      <td>AGAWAM, MA</td>\n",
       "      <td>G</td>\n",
       "      <td>7944</td>\n",
       "      <td>G</td>\n",
       "      <td>100626</td>\n",
       "      <td>G</td>\n",
       "      <td>409249</td>\n",
       "      <td>469</td>\n",
       "      <td>AGAWAM</td>\n",
       "      <td>MA</td>\n",
       "      <td>HAMPDEN</td>\n",
       "    </tr>\n",
       "    <tr>\n",
       "      <th>2</th>\n",
       "      <td>1002</td>\n",
       "      <td>AMHERST, MA</td>\n",
       "      <td>H</td>\n",
       "      <td>7732</td>\n",
       "      <td>H</td>\n",
       "      <td>73903</td>\n",
       "      <td>H</td>\n",
       "      <td>294936</td>\n",
       "      <td>523</td>\n",
       "      <td>AMHERST</td>\n",
       "      <td>MA</td>\n",
       "      <td>HAMPSHIRE</td>\n",
       "    </tr>\n",
       "    <tr>\n",
       "      <th>3</th>\n",
       "      <td>1003</td>\n",
       "      <td>AMHERST, MA</td>\n",
       "      <td>G</td>\n",
       "      <td>239</td>\n",
       "      <td>H</td>\n",
       "      <td>2515</td>\n",
       "      <td>H</td>\n",
       "      <td>9481</td>\n",
       "      <td>16</td>\n",
       "      <td>AMHERST</td>\n",
       "      <td>MA</td>\n",
       "      <td>HAMPSHIRE</td>\n",
       "    </tr>\n",
       "    <tr>\n",
       "      <th>4</th>\n",
       "      <td>1004</td>\n",
       "      <td>AMHERST, MA</td>\n",
       "      <td>J</td>\n",
       "      <td>197</td>\n",
       "      <td>H</td>\n",
       "      <td>1439</td>\n",
       "      <td>H</td>\n",
       "      <td>5892</td>\n",
       "      <td>9</td>\n",
       "      <td>AMHERST</td>\n",
       "      <td>MA</td>\n",
       "      <td>HAMPSHIRE</td>\n",
       "    </tr>\n",
       "    <tr>\n",
       "      <th>...</th>\n",
       "      <td>...</td>\n",
       "      <td>...</td>\n",
       "      <td>...</td>\n",
       "      <td>...</td>\n",
       "      <td>...</td>\n",
       "      <td>...</td>\n",
       "      <td>...</td>\n",
       "      <td>...</td>\n",
       "      <td>...</td>\n",
       "      <td>...</td>\n",
       "      <td>...</td>\n",
       "      <td>...</td>\n",
       "    </tr>\n",
       "    <tr>\n",
       "      <th>35048</th>\n",
       "      <td>99926</td>\n",
       "      <td>METLAKATLA, AK</td>\n",
       "      <td>G</td>\n",
       "      <td>51</td>\n",
       "      <td>H</td>\n",
       "      <td>442</td>\n",
       "      <td>H</td>\n",
       "      <td>1991</td>\n",
       "      <td>11</td>\n",
       "      <td>METLAKATLA</td>\n",
       "      <td>AK</td>\n",
       "      <td>PRINCE OF WALES-HYDER CENSUS A</td>\n",
       "    </tr>\n",
       "    <tr>\n",
       "      <th>35049</th>\n",
       "      <td>99928</td>\n",
       "      <td>WARD COVE, AK</td>\n",
       "      <td>G</td>\n",
       "      <td>15</td>\n",
       "      <td>G</td>\n",
       "      <td>86</td>\n",
       "      <td>H</td>\n",
       "      <td>639</td>\n",
       "      <td>4</td>\n",
       "      <td>WARD COVE</td>\n",
       "      <td>AK</td>\n",
       "      <td>KETCHIKAN GATEWAY BOROUGH</td>\n",
       "    </tr>\n",
       "    <tr>\n",
       "      <th>35050</th>\n",
       "      <td>99929</td>\n",
       "      <td>WRANGELL, AK</td>\n",
       "      <td>G</td>\n",
       "      <td>474</td>\n",
       "      <td>H</td>\n",
       "      <td>5029</td>\n",
       "      <td>H</td>\n",
       "      <td>21917</td>\n",
       "      <td>93</td>\n",
       "      <td>WRANGELL</td>\n",
       "      <td>AK</td>\n",
       "      <td>WRANGELL CITY AND BOROUGH</td>\n",
       "    </tr>\n",
       "    <tr>\n",
       "      <th>35051</th>\n",
       "      <td>99950</td>\n",
       "      <td>KETCHIKAN, AK</td>\n",
       "      <td>J</td>\n",
       "      <td>43</td>\n",
       "      <td>J</td>\n",
       "      <td>151</td>\n",
       "      <td>H</td>\n",
       "      <td>803</td>\n",
       "      <td>12</td>\n",
       "      <td>KETCHIKAN</td>\n",
       "      <td>AK</td>\n",
       "      <td>KETCHIKAN GATEWAY BOROUGH</td>\n",
       "    </tr>\n",
       "    <tr>\n",
       "      <th>35052</th>\n",
       "      <td>99999</td>\n",
       "      <td>UNCLASSIFIED</td>\n",
       "      <td>G</td>\n",
       "      <td>6476624</td>\n",
       "      <td>G</td>\n",
       "      <td>102310686</td>\n",
       "      <td>G</td>\n",
       "      <td>382008952</td>\n",
       "      <td>33466</td>\n",
       "      <td>NaN</td>\n",
       "      <td></td>\n",
       "      <td>NaN</td>\n",
       "    </tr>\n",
       "  </tbody>\n",
       "</table>\n",
       "<p>35053 rows × 12 columns</p>\n",
       "</div>"
      ],
      "text/plain": [
       "         zip            name emp_nf      emp qp1_nf        qp1 ap_nf  \\\n",
       "0        501  HOLTSVILLE, NY      J       49      J        261     J   \n",
       "1       1001      AGAWAM, MA      G     7944      G     100626     G   \n",
       "2       1002     AMHERST, MA      H     7732      H      73903     H   \n",
       "3       1003     AMHERST, MA      G      239      H       2515     H   \n",
       "4       1004     AMHERST, MA      J      197      H       1439     H   \n",
       "...      ...             ...    ...      ...    ...        ...   ...   \n",
       "35048  99926  METLAKATLA, AK      G       51      H        442     H   \n",
       "35049  99928   WARD COVE, AK      G       15      G         86     H   \n",
       "35050  99929    WRANGELL, AK      G      474      H       5029     H   \n",
       "35051  99950   KETCHIKAN, AK      J       43      J        151     H   \n",
       "35052  99999    UNCLASSIFIED      G  6476624      G  102310686     G   \n",
       "\n",
       "              ap    est        city stabbr                        cty_name  \n",
       "0            850      5  HOLTSVILLE     NY                         SUFFOLK  \n",
       "1         409249    469      AGAWAM     MA                         HAMPDEN  \n",
       "2         294936    523     AMHERST     MA                       HAMPSHIRE  \n",
       "3           9481     16     AMHERST     MA                       HAMPSHIRE  \n",
       "4           5892      9     AMHERST     MA                       HAMPSHIRE  \n",
       "...          ...    ...         ...    ...                             ...  \n",
       "35048       1991     11  METLAKATLA     AK  PRINCE OF WALES-HYDER CENSUS A  \n",
       "35049        639      4   WARD COVE     AK       KETCHIKAN GATEWAY BOROUGH  \n",
       "35050      21917     93    WRANGELL     AK       WRANGELL CITY AND BOROUGH  \n",
       "35051        803     12   KETCHIKAN     AK       KETCHIKAN GATEWAY BOROUGH  \n",
       "35052  382008952  33466         NaN                                    NaN  \n",
       "\n",
       "[35053 rows x 12 columns]"
      ]
     },
     "execution_count": 24,
     "metadata": {},
     "output_type": "execute_result"
    }
   ],
   "source": [
    "bp_zip"
   ]
  },
  {
   "cell_type": "code",
   "execution_count": null,
   "id": "01b610f7-2b64-4d9d-9439-5b1f5068a8de",
   "metadata": {},
   "outputs": [],
   "source": [
    "bp_zip1 = bp_zip[[]]\n",
    "bp_zip_1 = bp_zip.rename(columns = {\"emp\": \"num_employees\", \"est\": \"num_establishments\", \"ap\": \"annual_payroll_1000s\"})"
   ]
  },
  {
   "cell_type": "markdown",
   "id": "3b5cf78d-bcab-4e52-a9f1-67c5c6ea1bd3",
   "metadata": {},
   "source": [
    "### Total Population"
   ]
  },
  {
   "cell_type": "code",
   "execution_count": null,
   "id": "e866ebcc-ed92-4957-97e9-a2cd7378f0b6",
   "metadata": {},
   "outputs": [],
   "source": []
  },
  {
   "cell_type": "markdown",
   "id": "514a87c0-e1d6-49f1-8f79-49cf2d98176f",
   "metadata": {},
   "source": [
    "### Employment Status"
   ]
  },
  {
   "cell_type": "markdown",
   "id": "56eeeb59-f04b-4384-9818-5c2ecedd02bf",
   "metadata": {},
   "source": [
    "### Nonemployer"
   ]
  },
  {
   "cell_type": "markdown",
   "id": "3da449b3-6fca-4240-878f-f5f875354f1a",
   "metadata": {},
   "source": [
    "### Manufacturing"
   ]
  },
  {
   "cell_type": "markdown",
   "id": "b8a775de-887e-4c06-a27c-6f0bedafce27",
   "metadata": {},
   "source": [
    "### Retail Trade"
   ]
  },
  {
   "cell_type": "code",
   "execution_count": 25,
   "id": "b191966d-d752-46f0-beb9-1ea171413194",
   "metadata": {},
   "outputs": [],
   "source": [
    "retail_trade = pd.read_csv('https://raw.githubusercontent.com/jhancuch/sba-loan-credit-analysis/main/data/retail_trade/sales.csv', header = 3, encoding = 'unicode_escape', engine ='python')"
   ]
  },
  {
   "cell_type": "code",
   "execution_count": 32,
   "id": "b1eb3643-2d0c-43ff-8313-ad9f0349d4d2",
   "metadata": {},
   "outputs": [],
   "source": [
    "retail_trade_1 = retail_trade.iloc[3:71, :]\n",
    "retail_trade_2 = retail_trade_1[['NAICS Code','2020','2019r','2018r','2017r','2016r','2015r','2014r','2013r','2012','2011', '2010']]\n",
    "retail_trade_3 = retail_trade_2.rename(columns = {'NAICS Code': 'naics',\n",
    "                                                 '2019r': '2019',\n",
    "                                                 '2018r': '2018',\n",
    "                                                 '2017r': '2017',\n",
    "                                                 '2016r': '2016',\n",
    "                                                 '2015r': '2015',\n",
    "                                                 '2014r': '2014',\n",
    "                                                 '2013r': '2013'}).reset_index(drop=True)\n",
    "# Subset to if only the naics is three digits long \n",
    "retail_trade_4_list = []\n",
    "\n",
    "for i in range(0, len(retail_trade_3)):\n",
    "    if len(retail_trade_3.loc[i, 'naics']) == 3:\n",
    "        temp_list = list(retail_trade_3.iloc[i, :])\n",
    "        retail_trade_4_list.append(temp_list)\n",
    "        \n",
    "retail_trade_4 = pd.DataFrame(retail_trade_4_list, columns=['naics', '2020', '2019', '2018', '2017', '2016', '2015', '2014', '2013', '2012', '2011', '2010'])\n",
    "\n",
    "# Convert variables to integers and subset naics code to only two digits\n",
    "retail_trade_4['naics'] = retail_trade_4['naics'].str.slice(0, 2)\n",
    "for i in retail_trade_4.columns:\n",
    "    retail_trade_4[i] = retail_trade_4[i].str.replace(',', '')\n",
    "    retail_trade_4[i] = retail_trade_4[i].astype(int)\n",
    "\n",
    "retail_trade_5 = retail_trade_4.groupby(['naics'])[['2020', '2019', '2018', '2017', '2016', '2015', '2014', '2013', '2012', '2011', '2010']].sum().reset_index()"
   ]
  },
  {
   "cell_type": "code",
   "execution_count": 46,
   "id": "87b2111f-271e-47ca-a79c-4377d9cab44c",
   "metadata": {},
   "outputs": [],
   "source": [
    "retail_trade_6 = pd.DataFrame(retail_trade_5.iloc[0, 1:] + retail_trade_5.iloc[1, 1:]).reset_index()"
   ]
  },
  {
   "cell_type": "code",
   "execution_count": 53,
   "id": "9272576b-d437-4103-908d-c3436bbbfe59",
   "metadata": {},
   "outputs": [
    {
     "data": {
      "text/html": [
       "<div>\n",
       "<style scoped>\n",
       "    .dataframe tbody tr th:only-of-type {\n",
       "        vertical-align: middle;\n",
       "    }\n",
       "\n",
       "    .dataframe tbody tr th {\n",
       "        vertical-align: top;\n",
       "    }\n",
       "\n",
       "    .dataframe thead th {\n",
       "        text-align: right;\n",
       "    }\n",
       "</style>\n",
       "<table border=\"1\" class=\"dataframe\">\n",
       "  <thead>\n",
       "    <tr style=\"text-align: right;\">\n",
       "      <th>index</th>\n",
       "      <th>2010</th>\n",
       "      <th>2011</th>\n",
       "      <th>2012</th>\n",
       "      <th>2013</th>\n",
       "      <th>2014</th>\n",
       "      <th>2015</th>\n",
       "      <th>2016</th>\n",
       "      <th>2017</th>\n",
       "      <th>2018</th>\n",
       "      <th>2019</th>\n",
       "      <th>2020</th>\n",
       "    </tr>\n",
       "  </thead>\n",
       "  <tbody>\n",
       "    <tr>\n",
       "      <th>0</th>\n",
       "      <td>NaN</td>\n",
       "      <td>NaN</td>\n",
       "      <td>NaN</td>\n",
       "      <td>NaN</td>\n",
       "      <td>NaN</td>\n",
       "      <td>NaN</td>\n",
       "      <td>NaN</td>\n",
       "      <td>NaN</td>\n",
       "      <td>NaN</td>\n",
       "      <td>NaN</td>\n",
       "      <td>5570393.0</td>\n",
       "    </tr>\n",
       "    <tr>\n",
       "      <th>1</th>\n",
       "      <td>NaN</td>\n",
       "      <td>NaN</td>\n",
       "      <td>NaN</td>\n",
       "      <td>NaN</td>\n",
       "      <td>NaN</td>\n",
       "      <td>NaN</td>\n",
       "      <td>NaN</td>\n",
       "      <td>NaN</td>\n",
       "      <td>NaN</td>\n",
       "      <td>5402272.0</td>\n",
       "      <td>NaN</td>\n",
       "    </tr>\n",
       "    <tr>\n",
       "      <th>2</th>\n",
       "      <td>NaN</td>\n",
       "      <td>NaN</td>\n",
       "      <td>NaN</td>\n",
       "      <td>NaN</td>\n",
       "      <td>NaN</td>\n",
       "      <td>NaN</td>\n",
       "      <td>NaN</td>\n",
       "      <td>NaN</td>\n",
       "      <td>5255425.0</td>\n",
       "      <td>NaN</td>\n",
       "      <td>NaN</td>\n",
       "    </tr>\n",
       "    <tr>\n",
       "      <th>3</th>\n",
       "      <td>NaN</td>\n",
       "      <td>NaN</td>\n",
       "      <td>NaN</td>\n",
       "      <td>NaN</td>\n",
       "      <td>NaN</td>\n",
       "      <td>NaN</td>\n",
       "      <td>NaN</td>\n",
       "      <td>5040214.0</td>\n",
       "      <td>NaN</td>\n",
       "      <td>NaN</td>\n",
       "      <td>NaN</td>\n",
       "    </tr>\n",
       "    <tr>\n",
       "      <th>4</th>\n",
       "      <td>NaN</td>\n",
       "      <td>NaN</td>\n",
       "      <td>NaN</td>\n",
       "      <td>NaN</td>\n",
       "      <td>NaN</td>\n",
       "      <td>NaN</td>\n",
       "      <td>4848096.0</td>\n",
       "      <td>NaN</td>\n",
       "      <td>NaN</td>\n",
       "      <td>NaN</td>\n",
       "      <td>NaN</td>\n",
       "    </tr>\n",
       "    <tr>\n",
       "      <th>5</th>\n",
       "      <td>NaN</td>\n",
       "      <td>NaN</td>\n",
       "      <td>NaN</td>\n",
       "      <td>NaN</td>\n",
       "      <td>NaN</td>\n",
       "      <td>4726111.0</td>\n",
       "      <td>NaN</td>\n",
       "      <td>NaN</td>\n",
       "      <td>NaN</td>\n",
       "      <td>NaN</td>\n",
       "      <td>NaN</td>\n",
       "    </tr>\n",
       "    <tr>\n",
       "      <th>6</th>\n",
       "      <td>NaN</td>\n",
       "      <td>NaN</td>\n",
       "      <td>NaN</td>\n",
       "      <td>NaN</td>\n",
       "      <td>4640651.0</td>\n",
       "      <td>NaN</td>\n",
       "      <td>NaN</td>\n",
       "      <td>NaN</td>\n",
       "      <td>NaN</td>\n",
       "      <td>NaN</td>\n",
       "      <td>NaN</td>\n",
       "    </tr>\n",
       "    <tr>\n",
       "      <th>7</th>\n",
       "      <td>NaN</td>\n",
       "      <td>NaN</td>\n",
       "      <td>NaN</td>\n",
       "      <td>4459238.0</td>\n",
       "      <td>NaN</td>\n",
       "      <td>NaN</td>\n",
       "      <td>NaN</td>\n",
       "      <td>NaN</td>\n",
       "      <td>NaN</td>\n",
       "      <td>NaN</td>\n",
       "      <td>NaN</td>\n",
       "    </tr>\n",
       "    <tr>\n",
       "      <th>8</th>\n",
       "      <td>NaN</td>\n",
       "      <td>NaN</td>\n",
       "      <td>4302229.0</td>\n",
       "      <td>NaN</td>\n",
       "      <td>NaN</td>\n",
       "      <td>NaN</td>\n",
       "      <td>NaN</td>\n",
       "      <td>NaN</td>\n",
       "      <td>NaN</td>\n",
       "      <td>NaN</td>\n",
       "      <td>NaN</td>\n",
       "    </tr>\n",
       "    <tr>\n",
       "      <th>9</th>\n",
       "      <td>NaN</td>\n",
       "      <td>4102952.0</td>\n",
       "      <td>NaN</td>\n",
       "      <td>NaN</td>\n",
       "      <td>NaN</td>\n",
       "      <td>NaN</td>\n",
       "      <td>NaN</td>\n",
       "      <td>NaN</td>\n",
       "      <td>NaN</td>\n",
       "      <td>NaN</td>\n",
       "      <td>NaN</td>\n",
       "    </tr>\n",
       "    <tr>\n",
       "      <th>10</th>\n",
       "      <td>3818048.0</td>\n",
       "      <td>NaN</td>\n",
       "      <td>NaN</td>\n",
       "      <td>NaN</td>\n",
       "      <td>NaN</td>\n",
       "      <td>NaN</td>\n",
       "      <td>NaN</td>\n",
       "      <td>NaN</td>\n",
       "      <td>NaN</td>\n",
       "      <td>NaN</td>\n",
       "      <td>NaN</td>\n",
       "    </tr>\n",
       "  </tbody>\n",
       "</table>\n",
       "</div>"
      ],
      "text/plain": [
       "index       2010       2011       2012       2013       2014       2015  \\\n",
       "0            NaN        NaN        NaN        NaN        NaN        NaN   \n",
       "1            NaN        NaN        NaN        NaN        NaN        NaN   \n",
       "2            NaN        NaN        NaN        NaN        NaN        NaN   \n",
       "3            NaN        NaN        NaN        NaN        NaN        NaN   \n",
       "4            NaN        NaN        NaN        NaN        NaN        NaN   \n",
       "5            NaN        NaN        NaN        NaN        NaN  4726111.0   \n",
       "6            NaN        NaN        NaN        NaN  4640651.0        NaN   \n",
       "7            NaN        NaN        NaN  4459238.0        NaN        NaN   \n",
       "8            NaN        NaN  4302229.0        NaN        NaN        NaN   \n",
       "9            NaN  4102952.0        NaN        NaN        NaN        NaN   \n",
       "10     3818048.0        NaN        NaN        NaN        NaN        NaN   \n",
       "\n",
       "index       2016       2017       2018       2019       2020  \n",
       "0            NaN        NaN        NaN        NaN  5570393.0  \n",
       "1            NaN        NaN        NaN  5402272.0        NaN  \n",
       "2            NaN        NaN  5255425.0        NaN        NaN  \n",
       "3            NaN  5040214.0        NaN        NaN        NaN  \n",
       "4      4848096.0        NaN        NaN        NaN        NaN  \n",
       "5            NaN        NaN        NaN        NaN        NaN  \n",
       "6            NaN        NaN        NaN        NaN        NaN  \n",
       "7            NaN        NaN        NaN        NaN        NaN  \n",
       "8            NaN        NaN        NaN        NaN        NaN  \n",
       "9            NaN        NaN        NaN        NaN        NaN  \n",
       "10           NaN        NaN        NaN        NaN        NaN  "
      ]
     },
     "execution_count": 53,
     "metadata": {},
     "output_type": "execute_result"
    }
   ],
   "source": [
    "pd.pivot(retail_trade_6, columns='index', values=0)"
   ]
  },
  {
   "cell_type": "code",
   "execution_count": 51,
   "id": "9e077525-0fbf-4cdb-a23c-bdf877a37783",
   "metadata": {},
   "outputs": [
    {
     "data": {
      "text/plain": [
       "Index(['index', 0], dtype='object')"
      ]
     },
     "execution_count": 51,
     "metadata": {},
     "output_type": "execute_result"
    }
   ],
   "source": [
    "retail_trade_6.columns"
   ]
  },
  {
   "cell_type": "markdown",
   "id": "2fc1e008-fe31-47c8-8a79-c68a457564ac",
   "metadata": {},
   "source": [
    "### Services"
   ]
  },
  {
   "cell_type": "markdown",
   "id": "d14d898b-dbad-417d-b308-f4e7dc481eb3",
   "metadata": {},
   "source": [
    "### Wholesale Trade"
   ]
  },
  {
   "cell_type": "markdown",
   "id": "3125198c-8dd5-43f6-be49-d2fcf4e14fbf",
   "metadata": {},
   "source": [
    "# Correlation Checks"
   ]
  },
  {
   "cell_type": "markdown",
   "id": "3ca069c9-2676-4f0c-b70a-dff594ea6e06",
   "metadata": {},
   "source": [
    "## Retail Trade"
   ]
  },
  {
   "cell_type": "code",
   "execution_count": 29,
   "id": "fc46c215-6f10-4641-a9a7-518000c36917",
   "metadata": {},
   "outputs": [],
   "source": [
    "retail_trade_corr = pd.concat([retail_trade_3['2019'], consumer_spending_state['pce_2019']], axis=1)"
   ]
  },
  {
   "cell_type": "code",
   "execution_count": 30,
   "id": "9f35ff2a-cd87-4d11-99a2-4b2e34b74857",
   "metadata": {},
   "outputs": [
    {
     "data": {
      "text/html": [
       "<div>\n",
       "<style scoped>\n",
       "    .dataframe tbody tr th:only-of-type {\n",
       "        vertical-align: middle;\n",
       "    }\n",
       "\n",
       "    .dataframe tbody tr th {\n",
       "        vertical-align: top;\n",
       "    }\n",
       "\n",
       "    .dataframe thead th {\n",
       "        text-align: right;\n",
       "    }\n",
       "</style>\n",
       "<table border=\"1\" class=\"dataframe\">\n",
       "  <thead>\n",
       "    <tr style=\"text-align: right;\">\n",
       "      <th></th>\n",
       "      <th>2019</th>\n",
       "      <th>pce_2019</th>\n",
       "    </tr>\n",
       "  </thead>\n",
       "  <tbody>\n",
       "    <tr>\n",
       "      <th>0</th>\n",
       "      <td>1,237,744</td>\n",
       "      <td>36217.0</td>\n",
       "    </tr>\n",
       "    <tr>\n",
       "      <th>1</th>\n",
       "      <td>1,065,549</td>\n",
       "      <td>51499.0</td>\n",
       "    </tr>\n",
       "    <tr>\n",
       "      <th>2</th>\n",
       "      <td>942,836</td>\n",
       "      <td>39450.0</td>\n",
       "    </tr>\n",
       "    <tr>\n",
       "      <th>3</th>\n",
       "      <td>122,713</td>\n",
       "      <td>34568.0</td>\n",
       "    </tr>\n",
       "    <tr>\n",
       "      <th>4</th>\n",
       "      <td>75,407</td>\n",
       "      <td>48722.0</td>\n",
       "    </tr>\n",
       "    <tr>\n",
       "      <th>...</th>\n",
       "      <td>...</td>\n",
       "      <td>...</td>\n",
       "    </tr>\n",
       "    <tr>\n",
       "      <th>63</th>\n",
       "      <td>750,640</td>\n",
       "      <td>NaN</td>\n",
       "    </tr>\n",
       "    <tr>\n",
       "      <th>64</th>\n",
       "      <td>657,089</td>\n",
       "      <td>NaN</td>\n",
       "    </tr>\n",
       "    <tr>\n",
       "      <th>65</th>\n",
       "      <td>9,075</td>\n",
       "      <td>NaN</td>\n",
       "    </tr>\n",
       "    <tr>\n",
       "      <th>66</th>\n",
       "      <td>84,476</td>\n",
       "      <td>NaN</td>\n",
       "    </tr>\n",
       "    <tr>\n",
       "      <th>67</th>\n",
       "      <td>34,997</td>\n",
       "      <td>NaN</td>\n",
       "    </tr>\n",
       "  </tbody>\n",
       "</table>\n",
       "<p>68 rows × 2 columns</p>\n",
       "</div>"
      ],
      "text/plain": [
       "         2019  pce_2019\n",
       "0   1,237,744   36217.0\n",
       "1   1,065,549   51499.0\n",
       "2     942,836   39450.0\n",
       "3     122,713   34568.0\n",
       "4      75,407   48722.0\n",
       "..        ...       ...\n",
       "63    750,640       NaN\n",
       "64    657,089       NaN\n",
       "65      9,075       NaN\n",
       "66     84,476       NaN\n",
       "67     34,997       NaN\n",
       "\n",
       "[68 rows x 2 columns]"
      ]
     },
     "execution_count": 30,
     "metadata": {},
     "output_type": "execute_result"
    }
   ],
   "source": [
    "retail_trade_corr"
   ]
  },
  {
   "cell_type": "code",
   "execution_count": null,
   "id": "d1d07669-ece0-4682-812a-349fbc146513",
   "metadata": {},
   "outputs": [],
   "source": []
  }
 ],
 "metadata": {
  "kernelspec": {
   "display_name": "Python 3 (ipykernel)",
   "language": "python",
   "name": "python3"
  },
  "language_info": {
   "codemirror_mode": {
    "name": "ipython",
    "version": 3
   },
   "file_extension": ".py",
   "mimetype": "text/x-python",
   "name": "python",
   "nbconvert_exporter": "python",
   "pygments_lexer": "ipython3",
   "version": "3.9.9"
  }
 },
 "nbformat": 4,
 "nbformat_minor": 5
}
