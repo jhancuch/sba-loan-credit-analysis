{
 "cells": [
  {
   "cell_type": "code",
   "execution_count": 2,
   "id": "ae0a4961-94db-47e9-af1d-7610f39f46e9",
   "metadata": {},
   "outputs": [],
   "source": [
    "import pandas as pd\n",
    "import numpy as np\n",
    "\n",
    "%matplotlib inline\n",
    "\n",
    "import matplotlib.pyplot as plt\n",
    "import seaborn as sns"
   ]
  },
  {
   "cell_type": "markdown",
   "id": "b73dba26-1ca2-46ff-98e1-5b7f7d05c24f",
   "metadata": {},
   "source": [
    "# Load datasets and combine"
   ]
  },
  {
   "cell_type": "code",
   "execution_count": 3,
   "id": "5e087950-b19f-48d0-91ef-2a46cc597cae",
   "metadata": {},
   "outputs": [],
   "source": [
    "data1 = pd.read_csv('https://data.sba.gov/dataset/0ff8e8e9-b967-4f4e-987c-6ac78c575087/resource/02e2e83a-2af1-4ce8-91db-85e20ffadbf7/download/foia-7afy2010-fy2019-asof-220331.csv', \n",
    "                    encoding = \"ISO-8859-1\", low_memory = False)\n",
    "\n",
    "data2 = pd.read_csv('https://data.sba.gov/dataset/0ff8e8e9-b967-4f4e-987c-6ac78c575087/resource/c71ba6cf-b4e0-4e60-98f0-48aeaf4c6460/download/foia-7afy2020-present-asof-220331.csv', \n",
    "                    encoding = \"ISO-8859-1\", low_memory = False)\n",
    "\n",
    "data = pd.concat([data1, data2], ignore_index=True).reset_index(drop=True)"
   ]
  },
  {
   "cell_type": "code",
   "execution_count": null,
   "id": "940a6e9a-1393-4f79-b5e8-0630d4c798bd",
   "metadata": {},
   "outputs": [],
   "source": [
    "# subset to observations with the LoanStatus PIF or CHGOFF aka paid in full or charged off. We don't care about loans that are currently being paid back\n",
    "df = data[(data['LoanStatus'] == 'PIF') | (data['LoanStatus'] == 'CHGOFF')].reset_index(drop=True)\n",
    "\n",
    "# convert PIF to 0 and CHGOFF to 1\n",
    "df.loc[df['LoanStatus'] == 'PIF', 'LoanStatus'] = '0' \n",
    "df.loc[df['LoanStatus'] == 'CHGOFF', 'LoanStatus'] = '1'\n",
    "df['LoanStatus'] = df['LoanStatus'].astype(int)"
   ]
  }
 ],
 "metadata": {
  "kernelspec": {
   "display_name": "Python 3 (ipykernel)",
   "language": "python",
   "name": "python3"
  },
  "language_info": {
   "codemirror_mode": {
    "name": "ipython",
    "version": 3
   },
   "file_extension": ".py",
   "mimetype": "text/x-python",
   "name": "python",
   "nbconvert_exporter": "python",
   "pygments_lexer": "ipython3",
   "version": "3.9.9"
  }
 },
 "nbformat": 4,
 "nbformat_minor": 5
}
