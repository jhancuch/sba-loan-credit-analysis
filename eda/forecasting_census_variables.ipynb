{
 "cells": [
  {
   "cell_type": "markdown",
   "id": "18fbe21b-4c7e-47c4-98f1-0b8be075bc1e",
   "metadata": {},
   "source": [
    "The goal of this notebook is to take each of the census variables I will be using in my model and find which macroeconomic variables I can use to grow the variables used in the model for 2020-2022."
   ]
  },
  {
   "cell_type": "code",
   "execution_count": 1,
   "id": "09a93722-0e31-42e7-aef2-2332b2c1d9b2",
   "metadata": {},
   "outputs": [],
   "source": [
    "import pandas as pd\n",
    "import numpy as np\n",
    "\n",
    "%matplotlib inline\n",
    "\n",
    "import matplotlib.pyplot as plt\n",
    "import seaborn as sns"
   ]
  },
  {
   "cell_type": "markdown",
   "id": "26150eec-bb3e-480d-8948-db067875df9c",
   "metadata": {},
   "source": [
    "# Load data"
   ]
  },
  {
   "cell_type": "markdown",
   "id": "0e57f3f8-1172-4752-8245-32ef973eed11",
   "metadata": {},
   "source": [
    "## BEA Data for Estimates\n",
    "https://www.bea.gov/data/economic-accounts/regional\n",
    "\n",
    "https://www.bea.gov/data/economic-accounts/national"
   ]
  },
  {
   "cell_type": "markdown",
   "id": "8727d59c-6ce6-4927-88fb-e3f71ce9e51c",
   "metadata": {},
   "source": [
    "### PCE by State"
   ]
  },
  {
   "cell_type": "code",
   "execution_count": 6,
   "id": "afc29c08-ee25-493e-96f6-8053af35651d",
   "metadata": {},
   "outputs": [],
   "source": [
    "consumer_spending_state = pd.read_csv('https://raw.githubusercontent.com/jhancuch/sba-loan-credit-analysis/main/data/bea/PCE.csv')"
   ]
  },
  {
   "cell_type": "code",
   "execution_count": 7,
   "id": "d26b9aec-b693-4b91-a0ea-83991e39e5b4",
   "metadata": {},
   "outputs": [
    {
     "name": "stdout",
     "output_type": "stream",
     "text": [
      "<class 'pandas.core.frame.DataFrame'>\n",
      "RangeIndex: 51 entries, 0 to 50\n",
      "Data columns (total 25 columns):\n",
      " #   Column   Non-Null Count  Dtype \n",
      "---  ------   --------------  ----- \n",
      " 0   GeoName  51 non-null     object\n",
      " 1   1997     51 non-null     int64 \n",
      " 2   1998     51 non-null     int64 \n",
      " 3   1999     51 non-null     int64 \n",
      " 4   2000     51 non-null     int64 \n",
      " 5   2001     51 non-null     int64 \n",
      " 6   2002     51 non-null     int64 \n",
      " 7   2003     51 non-null     int64 \n",
      " 8   2004     51 non-null     int64 \n",
      " 9   2005     51 non-null     int64 \n",
      " 10  2006     51 non-null     int64 \n",
      " 11  2007     51 non-null     int64 \n",
      " 12  2008     51 non-null     int64 \n",
      " 13  2009     51 non-null     int64 \n",
      " 14  2010     51 non-null     int64 \n",
      " 15  2011     51 non-null     int64 \n",
      " 16  2012     51 non-null     int64 \n",
      " 17  2013     51 non-null     int64 \n",
      " 18  2014     51 non-null     int64 \n",
      " 19  2015     51 non-null     int64 \n",
      " 20  2016     51 non-null     int64 \n",
      " 21  2017     51 non-null     int64 \n",
      " 22  2018     51 non-null     int64 \n",
      " 23  2019     51 non-null     int64 \n",
      " 24  2020     51 non-null     int64 \n",
      "dtypes: int64(24), object(1)\n",
      "memory usage: 10.1+ KB\n"
     ]
    }
   ],
   "source": [
    "consumer_spending_state.info()"
   ]
  },
  {
   "cell_type": "code",
   "execution_count": 10,
   "id": "5bb433f1-0c45-4712-915b-4342401ebcaa",
   "metadata": {},
   "outputs": [],
   "source": [
    "consumer_spending_state = consumer_spending_state.add_prefix('pce_')"
   ]
  },
  {
   "cell_type": "markdown",
   "id": "f433c56a-8991-4892-87b1-39867335c776",
   "metadata": {},
   "source": [
    "### Employment by State"
   ]
  },
  {
   "cell_type": "code",
   "execution_count": 11,
   "id": "775c2844-c319-41ca-b2c8-9586e2e438f4",
   "metadata": {},
   "outputs": [],
   "source": [
    "employment_state = pd.read_csv('https://raw.githubusercontent.com/jhancuch/sba-loan-credit-analysis/main/data/bea/total_employment_state.csv')"
   ]
  },
  {
   "cell_type": "code",
   "execution_count": 12,
   "id": "eee08ff3-cf2e-4d38-9c65-b3d988562885",
   "metadata": {},
   "outputs": [
    {
     "name": "stdout",
     "output_type": "stream",
     "text": [
      "<class 'pandas.core.frame.DataFrame'>\n",
      "RangeIndex: 51 entries, 0 to 50\n",
      "Data columns (total 33 columns):\n",
      " #   Column   Non-Null Count  Dtype \n",
      "---  ------   --------------  ----- \n",
      " 0   GeoName  51 non-null     object\n",
      " 1   1990     51 non-null     int64 \n",
      " 2   1991     51 non-null     int64 \n",
      " 3   1992     51 non-null     int64 \n",
      " 4   1993     51 non-null     int64 \n",
      " 5   1994     51 non-null     int64 \n",
      " 6   1995     51 non-null     int64 \n",
      " 7   1996     51 non-null     int64 \n",
      " 8   1997     51 non-null     int64 \n",
      " 9   1998     51 non-null     int64 \n",
      " 10  1999     51 non-null     int64 \n",
      " 11  2000     51 non-null     int64 \n",
      " 12  2001     51 non-null     int64 \n",
      " 13  2002     51 non-null     int64 \n",
      " 14  2003     51 non-null     int64 \n",
      " 15  2004     51 non-null     int64 \n",
      " 16  2005     51 non-null     int64 \n",
      " 17  2006     51 non-null     int64 \n",
      " 18  2007     51 non-null     int64 \n",
      " 19  2008     51 non-null     int64 \n",
      " 20  2009     51 non-null     int64 \n",
      " 21  2010     51 non-null     int64 \n",
      " 22  2011     51 non-null     int64 \n",
      " 23  2012     51 non-null     int64 \n",
      " 24  2013     51 non-null     int64 \n",
      " 25  2014     51 non-null     int64 \n",
      " 26  2015     51 non-null     int64 \n",
      " 27  2016     51 non-null     int64 \n",
      " 28  2017     51 non-null     int64 \n",
      " 29  2018     51 non-null     int64 \n",
      " 30  2019     51 non-null     int64 \n",
      " 31  2020     51 non-null     int64 \n",
      " 32  2021     51 non-null     object\n",
      "dtypes: int64(31), object(2)\n",
      "memory usage: 13.3+ KB\n"
     ]
    }
   ],
   "source": [
    "employment_state.info()"
   ]
  },
  {
   "cell_type": "code",
   "execution_count": 13,
   "id": "90cdde3c-a69d-4a4a-9b3b-a8825288b5a3",
   "metadata": {},
   "outputs": [],
   "source": [
    "employment_state = employment_state.add_prefix('emp_')"
   ]
  },
  {
   "cell_type": "markdown",
   "id": "79ccecf1-888f-442d-ad47-95497274a693",
   "metadata": {},
   "source": [
    "### GDP by State"
   ]
  },
  {
   "cell_type": "code",
   "execution_count": 16,
   "id": "31b37a96-cf5c-4bfe-a9e1-64b8584a786a",
   "metadata": {},
   "outputs": [],
   "source": [
    "gdp = pd.read_csv('https://raw.githubusercontent.com/jhancuch/sba-loan-credit-analysis/main/data/bea/gdp_state.csv')"
   ]
  },
  {
   "cell_type": "code",
   "execution_count": 17,
   "id": "8f197dff-1546-498b-a710-0cc6122f00e9",
   "metadata": {},
   "outputs": [
    {
     "name": "stdout",
     "output_type": "stream",
     "text": [
      "<class 'pandas.core.frame.DataFrame'>\n",
      "RangeIndex: 51 entries, 0 to 50\n",
      "Data columns (total 18 columns):\n",
      " #   Column   Non-Null Count  Dtype  \n",
      "---  ------   --------------  -----  \n",
      " 0   GeoName  51 non-null     object \n",
      " 1   2005     51 non-null     float64\n",
      " 2   2006     51 non-null     float64\n",
      " 3   2007     51 non-null     float64\n",
      " 4   2008     51 non-null     float64\n",
      " 5   2009     51 non-null     float64\n",
      " 6   2010     51 non-null     float64\n",
      " 7   2011     51 non-null     float64\n",
      " 8   2012     51 non-null     float64\n",
      " 9   2013     51 non-null     float64\n",
      " 10  2014     51 non-null     float64\n",
      " 11  2015     51 non-null     float64\n",
      " 12  2016     51 non-null     float64\n",
      " 13  2017     51 non-null     float64\n",
      " 14  2018     51 non-null     float64\n",
      " 15  2019     51 non-null     float64\n",
      " 16  2020     51 non-null     float64\n",
      " 17  2021     51 non-null     float64\n",
      "dtypes: float64(17), object(1)\n",
      "memory usage: 7.3+ KB\n"
     ]
    }
   ],
   "source": [
    "gdp.info()"
   ]
  },
  {
   "cell_type": "code",
   "execution_count": 19,
   "id": "d23cbe19-00c1-4da7-bcea-19cdd032c1e5",
   "metadata": {},
   "outputs": [],
   "source": [
    "gdp = gdp.add_prefix('gdp_')"
   ]
  },
  {
   "cell_type": "markdown",
   "id": "d585206b-1e36-47ec-804e-51755ed0af1b",
   "metadata": {},
   "source": [
    "### Personal Income by State"
   ]
  },
  {
   "cell_type": "code",
   "execution_count": null,
   "id": "9ef8633a-1a1d-4e94-a658-15087a704ec2",
   "metadata": {},
   "outputs": [],
   "source": [
    "pi = pd.read_csv('https://raw.githubusercontent.com/jhancuch/sba-loan-credit-analysis/main/data/bea/gdp_state.csv')"
   ]
  },
  {
   "cell_type": "code",
   "execution_count": null,
   "id": "845f5c06-ca90-4758-b73b-44ee3a424dc6",
   "metadata": {},
   "outputs": [],
   "source": [
    "pi.info()"
   ]
  },
  {
   "cell_type": "code",
   "execution_count": null,
   "id": "59bfbe5c-7f61-4f29-9219-6f6e2cbbaf94",
   "metadata": {},
   "outputs": [],
   "source": [
    "pi = pi.add_prefix('gdp_')"
   ]
  },
  {
   "cell_type": "markdown",
   "id": "b2592ccc-e743-45b8-8be8-dd8674f9c647",
   "metadata": {},
   "source": [
    "## Census data"
   ]
  },
  {
   "cell_type": "markdown",
   "id": "111917a4-40fa-4266-8c07-d60de9f9778f",
   "metadata": {},
   "source": [
    "### Business patterns by ZIP"
   ]
  },
  {
   "cell_type": "code",
   "execution_count": null,
   "id": "8a476913-4b19-4935-b9eb-e0f4ded9084b",
   "metadata": {},
   "outputs": [],
   "source": [
    "bp_zip = pd.read_csv('https://raw.githubusercontent.com/jhancuch/sba-loan-credit-analysis/main/data/business_patterns_zip/zbp20totals.txt', delimiter=',', encoding = 'unicode_escape', engine ='python')\n",
    "\n",
    "bp_zip_2 = bp_zip_1.rename(columns = {\"emp\": \"num_employees\", \"est\": \"num_establishments\", \"ap\": \"annual_payroll_1000s\"})"
   ]
  },
  {
   "cell_type": "markdown",
   "id": "3b5cf78d-bcab-4e52-a9f1-67c5c6ea1bd3",
   "metadata": {},
   "source": [
    "### Total Population"
   ]
  },
  {
   "cell_type": "code",
   "execution_count": null,
   "id": "e866ebcc-ed92-4957-97e9-a2cd7378f0b6",
   "metadata": {},
   "outputs": [],
   "source": []
  },
  {
   "cell_type": "markdown",
   "id": "514a87c0-e1d6-49f1-8f79-49cf2d98176f",
   "metadata": {},
   "source": [
    "### Employment Status"
   ]
  },
  {
   "cell_type": "markdown",
   "id": "56eeeb59-f04b-4384-9818-5c2ecedd02bf",
   "metadata": {},
   "source": [
    "### Nonemployer"
   ]
  },
  {
   "cell_type": "markdown",
   "id": "3da449b3-6fca-4240-878f-f5f875354f1a",
   "metadata": {},
   "source": [
    "### Manufacturing"
   ]
  },
  {
   "cell_type": "markdown",
   "id": "b8a775de-887e-4c06-a27c-6f0bedafce27",
   "metadata": {},
   "source": [
    "### Retail Trade"
   ]
  },
  {
   "cell_type": "markdown",
   "id": "2fc1e008-fe31-47c8-8a79-c68a457564ac",
   "metadata": {},
   "source": [
    "### Services"
   ]
  },
  {
   "cell_type": "markdown",
   "id": "d14d898b-dbad-417d-b308-f4e7dc481eb3",
   "metadata": {},
   "source": [
    "### Wholesale Trade"
   ]
  },
  {
   "cell_type": "code",
   "execution_count": null,
   "id": "20cfdd52-2f78-4307-b2be-f9a372f4c75f",
   "metadata": {},
   "outputs": [],
   "source": []
  }
 ],
 "metadata": {
  "kernelspec": {
   "display_name": "Python 3 (ipykernel)",
   "language": "python",
   "name": "python3"
  },
  "language_info": {
   "codemirror_mode": {
    "name": "ipython",
    "version": 3
   },
   "file_extension": ".py",
   "mimetype": "text/x-python",
   "name": "python",
   "nbconvert_exporter": "python",
   "pygments_lexer": "ipython3",
   "version": "3.9.9"
  }
 },
 "nbformat": 4,
 "nbformat_minor": 5
}
