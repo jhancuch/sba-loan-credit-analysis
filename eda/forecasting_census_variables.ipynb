{
 "cells": [
  {
   "cell_type": "markdown",
   "id": "18fbe21b-4c7e-47c4-98f1-0b8be075bc1e",
   "metadata": {},
   "source": [
    "The goal of this notebook is to take each of the census variables I will be using in my model and find which macroeconomic variables I can use to grow the variables used in the model for 2020-2022."
   ]
  },
  {
   "cell_type": "markdown",
   "id": "26150eec-bb3e-480d-8948-db067875df9c",
   "metadata": {},
   "source": [
    "# Load data"
   ]
  },
  {
   "cell_type": "markdown",
   "id": "b2592ccc-e743-45b8-8be8-dd8674f9c647",
   "metadata": {},
   "source": [
    "## Census data"
   ]
  },
  {
   "cell_type": "markdown",
   "id": "111917a4-40fa-4266-8c07-d60de9f9778f",
   "metadata": {},
   "source": [
    "### Business patterns by ZIP"
   ]
  },
  {
   "cell_type": "markdown",
   "id": "3b5cf78d-bcab-4e52-a9f1-67c5c6ea1bd3",
   "metadata": {},
   "source": [
    "### Total Population"
   ]
  },
  {
   "cell_type": "code",
   "execution_count": null,
   "id": "6cc9eb00-1bb2-45d6-8e0d-43de25229590",
   "metadata": {},
   "outputs": [],
   "source": [
    "### Employment Status"
   ]
  },
  {
   "cell_type": "code",
   "execution_count": null,
   "id": "ae4363ff-6b11-4889-8e58-c5c03ba827d6",
   "metadata": {},
   "outputs": [],
   "source": [
    "### Nonemployer"
   ]
  },
  {
   "cell_type": "code",
   "execution_count": null,
   "id": "dbdd2029-e376-4d65-bfba-ff2223c5e204",
   "metadata": {},
   "outputs": [],
   "source": [
    "### Manufacturing"
   ]
  },
  {
   "cell_type": "code",
   "execution_count": null,
   "id": "575023ab-9569-4a52-908c-f1f21a6829c2",
   "metadata": {},
   "outputs": [],
   "source": [
    "### Retail Trade"
   ]
  },
  {
   "cell_type": "code",
   "execution_count": null,
   "id": "c697dacb-2ea3-443c-b593-e557e9c077aa",
   "metadata": {},
   "outputs": [],
   "source": [
    "### S"
   ]
  }
 ],
 "metadata": {
  "kernelspec": {
   "display_name": "Python 3 (ipykernel)",
   "language": "python",
   "name": "python3"
  },
  "language_info": {
   "codemirror_mode": {
    "name": "ipython",
    "version": 3
   },
   "file_extension": ".py",
   "mimetype": "text/x-python",
   "name": "python",
   "nbconvert_exporter": "python",
   "pygments_lexer": "ipython3",
   "version": "3.9.9"
  }
 },
 "nbformat": 4,
 "nbformat_minor": 5
}
