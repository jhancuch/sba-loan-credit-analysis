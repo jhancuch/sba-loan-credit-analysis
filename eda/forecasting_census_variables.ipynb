{
 "cells": [
  {
   "cell_type": "markdown",
   "id": "18fbe21b-4c7e-47c4-98f1-0b8be075bc1e",
   "metadata": {},
   "source": [
    "The goal of this notebook is to take each of the census variables I will be using in my model and find which macroeconomic variables I can use to grow the variables used in the model for 2020-2022."
   ]
  },
  {
   "cell_type": "markdown",
   "id": "26150eec-bb3e-480d-8948-db067875df9c",
   "metadata": {},
   "source": [
    "# Load data"
   ]
  },
  {
   "cell_type": "markdown",
   "id": "0e57f3f8-1172-4752-8245-32ef973eed11",
   "metadata": {},
   "source": [
    "## BEA Data for Estimates\n",
    "https://www.bea.gov/data/economic-accounts/regional"
   ]
  },
  {
   "cell_type": "code",
   "execution_count": null,
   "id": "53772da9-caed-42f7-aa3e-0bac26c51d9e",
   "metadata": {},
   "outputs": [],
   "source": [
    "### Consumer Spending by State"
   ]
  },
  {
   "cell_type": "code",
   "execution_count": null,
   "id": "e1c96d15-00a1-44f0-9e10-adeac33567be",
   "metadata": {},
   "outputs": [],
   "source": [
    "### Employment by State"
   ]
  },
  {
   "cell_type": "code",
   "execution_count": null,
   "id": "00f622b7-bac0-4c3c-beaf-cbff05c67dc2",
   "metadata": {},
   "outputs": [],
   "source": [
    "### GDP by State"
   ]
  },
  {
   "cell_type": "code",
   "execution_count": null,
   "id": "5c36e127-d34c-4a1a-8389-8afe1b254e7d",
   "metadata": {},
   "outputs": [],
   "source": []
  },
  {
   "cell_type": "markdown",
   "id": "b2592ccc-e743-45b8-8be8-dd8674f9c647",
   "metadata": {},
   "source": [
    "## Census data"
   ]
  },
  {
   "cell_type": "markdown",
   "id": "111917a4-40fa-4266-8c07-d60de9f9778f",
   "metadata": {},
   "source": [
    "### Business patterns by ZIP"
   ]
  },
  {
   "cell_type": "code",
   "execution_count": null,
   "id": "8a476913-4b19-4935-b9eb-e0f4ded9084b",
   "metadata": {},
   "outputs": [],
   "source": [
    "bp_zip = pd.read_csv('https://raw.githubusercontent.com/jhancuch/sba-loan-credit-analysis/main/data/business_patterns_zip/zbp20totals.txt', delimiter=',', encoding = 'unicode_escape', engine ='python')\n",
    "\n",
    "bp_zip_2 = bp_zip_1.rename(columns = {\"emp\": \"num_employees\", \"est\": \"num_establishments\", \"ap\": \"annual_payroll_1000s\"})"
   ]
  },
  {
   "cell_type": "markdown",
   "id": "3b5cf78d-bcab-4e52-a9f1-67c5c6ea1bd3",
   "metadata": {},
   "source": [
    "### Total Population"
   ]
  },
  {
   "cell_type": "code",
   "execution_count": null,
   "id": "e866ebcc-ed92-4957-97e9-a2cd7378f0b6",
   "metadata": {},
   "outputs": [],
   "source": []
  },
  {
   "cell_type": "markdown",
   "id": "514a87c0-e1d6-49f1-8f79-49cf2d98176f",
   "metadata": {},
   "source": [
    "### Employment Status"
   ]
  },
  {
   "cell_type": "markdown",
   "id": "56eeeb59-f04b-4384-9818-5c2ecedd02bf",
   "metadata": {},
   "source": [
    "### Nonemployer"
   ]
  },
  {
   "cell_type": "markdown",
   "id": "3da449b3-6fca-4240-878f-f5f875354f1a",
   "metadata": {},
   "source": [
    "### Manufacturing"
   ]
  },
  {
   "cell_type": "markdown",
   "id": "b8a775de-887e-4c06-a27c-6f0bedafce27",
   "metadata": {},
   "source": [
    "### Retail Trade"
   ]
  },
  {
   "cell_type": "markdown",
   "id": "2fc1e008-fe31-47c8-8a79-c68a457564ac",
   "metadata": {},
   "source": [
    "### Services"
   ]
  },
  {
   "cell_type": "markdown",
   "id": "d14d898b-dbad-417d-b308-f4e7dc481eb3",
   "metadata": {},
   "source": [
    "### Wholesale Trade"
   ]
  },
  {
   "cell_type": "code",
   "execution_count": null,
   "id": "20cfdd52-2f78-4307-b2be-f9a372f4c75f",
   "metadata": {},
   "outputs": [],
   "source": []
  }
 ],
 "metadata": {
  "kernelspec": {
   "display_name": "Python 3 (ipykernel)",
   "language": "python",
   "name": "python3"
  },
  "language_info": {
   "codemirror_mode": {
    "name": "ipython",
    "version": 3
   },
   "file_extension": ".py",
   "mimetype": "text/x-python",
   "name": "python",
   "nbconvert_exporter": "python",
   "pygments_lexer": "ipython3",
   "version": "3.9.9"
  }
 },
 "nbformat": 4,
 "nbformat_minor": 5
}
