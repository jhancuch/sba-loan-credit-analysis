{
 "cells": [
  {
   "cell_type": "code",
   "execution_count": 422,
   "id": "5ed3da5e-12b2-4eaf-a760-0a10dd673fba",
   "metadata": {},
   "outputs": [],
   "source": [
    "import pandas as pd\n",
    "import numpy as np"
   ]
  },
  {
   "cell_type": "markdown",
   "id": "52ea0be0-37ef-49d8-b1ea-d585075f2a41",
   "metadata": {},
   "source": [
    "## Business Patterns by ZIP"
   ]
  },
  {
   "cell_type": "code",
   "execution_count": 401,
   "id": "2ee924f0-3251-48f3-a070-5f50ed57f6b2",
   "metadata": {},
   "outputs": [],
   "source": [
    "bp_zip = pd.read_csv('https://raw.githubusercontent.com/jhancuch/sba-loan-credit-analysis/main/data/business_patterns_zip/zbp20totals.txt', delimiter=',', encoding = 'unicode_escape', engine ='python')"
   ]
  },
  {
   "cell_type": "code",
   "execution_count": 402,
   "id": "acebcaf6-b9ad-47cd-9758-c29889c32ec2",
   "metadata": {},
   "outputs": [
    {
     "data": {
      "text/html": [
       "<div>\n",
       "<style scoped>\n",
       "    .dataframe tbody tr th:only-of-type {\n",
       "        vertical-align: middle;\n",
       "    }\n",
       "\n",
       "    .dataframe tbody tr th {\n",
       "        vertical-align: top;\n",
       "    }\n",
       "\n",
       "    .dataframe thead th {\n",
       "        text-align: right;\n",
       "    }\n",
       "</style>\n",
       "<table border=\"1\" class=\"dataframe\">\n",
       "  <thead>\n",
       "    <tr style=\"text-align: right;\">\n",
       "      <th></th>\n",
       "      <th>zip</th>\n",
       "      <th>name</th>\n",
       "      <th>emp_nf</th>\n",
       "      <th>emp</th>\n",
       "      <th>qp1_nf</th>\n",
       "      <th>qp1</th>\n",
       "      <th>ap_nf</th>\n",
       "      <th>ap</th>\n",
       "      <th>est</th>\n",
       "      <th>city</th>\n",
       "      <th>stabbr</th>\n",
       "      <th>cty_name</th>\n",
       "    </tr>\n",
       "  </thead>\n",
       "  <tbody>\n",
       "    <tr>\n",
       "      <th>0</th>\n",
       "      <td>501</td>\n",
       "      <td>HOLTSVILLE, NY</td>\n",
       "      <td>J</td>\n",
       "      <td>49</td>\n",
       "      <td>J</td>\n",
       "      <td>261</td>\n",
       "      <td>J</td>\n",
       "      <td>850</td>\n",
       "      <td>5</td>\n",
       "      <td>HOLTSVILLE</td>\n",
       "      <td>NY</td>\n",
       "      <td>SUFFOLK</td>\n",
       "    </tr>\n",
       "    <tr>\n",
       "      <th>1</th>\n",
       "      <td>1001</td>\n",
       "      <td>AGAWAM, MA</td>\n",
       "      <td>G</td>\n",
       "      <td>7944</td>\n",
       "      <td>G</td>\n",
       "      <td>100626</td>\n",
       "      <td>G</td>\n",
       "      <td>409249</td>\n",
       "      <td>469</td>\n",
       "      <td>AGAWAM</td>\n",
       "      <td>MA</td>\n",
       "      <td>HAMPDEN</td>\n",
       "    </tr>\n",
       "    <tr>\n",
       "      <th>2</th>\n",
       "      <td>1002</td>\n",
       "      <td>AMHERST, MA</td>\n",
       "      <td>H</td>\n",
       "      <td>7732</td>\n",
       "      <td>H</td>\n",
       "      <td>73903</td>\n",
       "      <td>H</td>\n",
       "      <td>294936</td>\n",
       "      <td>523</td>\n",
       "      <td>AMHERST</td>\n",
       "      <td>MA</td>\n",
       "      <td>HAMPSHIRE</td>\n",
       "    </tr>\n",
       "    <tr>\n",
       "      <th>3</th>\n",
       "      <td>1003</td>\n",
       "      <td>AMHERST, MA</td>\n",
       "      <td>G</td>\n",
       "      <td>239</td>\n",
       "      <td>H</td>\n",
       "      <td>2515</td>\n",
       "      <td>H</td>\n",
       "      <td>9481</td>\n",
       "      <td>16</td>\n",
       "      <td>AMHERST</td>\n",
       "      <td>MA</td>\n",
       "      <td>HAMPSHIRE</td>\n",
       "    </tr>\n",
       "    <tr>\n",
       "      <th>4</th>\n",
       "      <td>1004</td>\n",
       "      <td>AMHERST, MA</td>\n",
       "      <td>J</td>\n",
       "      <td>197</td>\n",
       "      <td>H</td>\n",
       "      <td>1439</td>\n",
       "      <td>H</td>\n",
       "      <td>5892</td>\n",
       "      <td>9</td>\n",
       "      <td>AMHERST</td>\n",
       "      <td>MA</td>\n",
       "      <td>HAMPSHIRE</td>\n",
       "    </tr>\n",
       "  </tbody>\n",
       "</table>\n",
       "</div>"
      ],
      "text/plain": [
       "    zip            name emp_nf   emp qp1_nf     qp1 ap_nf      ap  est  \\\n",
       "0   501  HOLTSVILLE, NY      J    49      J     261     J     850    5   \n",
       "1  1001      AGAWAM, MA      G  7944      G  100626     G  409249  469   \n",
       "2  1002     AMHERST, MA      H  7732      H   73903     H  294936  523   \n",
       "3  1003     AMHERST, MA      G   239      H    2515     H    9481   16   \n",
       "4  1004     AMHERST, MA      J   197      H    1439     H    5892    9   \n",
       "\n",
       "         city stabbr   cty_name  \n",
       "0  HOLTSVILLE     NY    SUFFOLK  \n",
       "1      AGAWAM     MA    HAMPDEN  \n",
       "2     AMHERST     MA  HAMPSHIRE  \n",
       "3     AMHERST     MA  HAMPSHIRE  \n",
       "4     AMHERST     MA  HAMPSHIRE  "
      ]
     },
     "execution_count": 402,
     "metadata": {},
     "output_type": "execute_result"
    }
   ],
   "source": [
    "bp_zip.head()"
   ]
  },
  {
   "cell_type": "code",
   "execution_count": 29,
   "id": "8d4fb240-c0f1-4ed1-b6bc-fdc9c4bb7a36",
   "metadata": {},
   "outputs": [],
   "source": [
    "bp_zip_1 = bp_zip[[\"zip\", \"emp\", \"est\", \"ap\"]]"
   ]
  },
  {
   "cell_type": "code",
   "execution_count": 30,
   "id": "1cfe6cd5-8718-4207-80a9-cc2c3b79382a",
   "metadata": {},
   "outputs": [],
   "source": [
    "# rename columns to make them more intuitive\n",
    "bp_zip_2 = bp_zip_1.rename(columns = {\"emp\": \"num_employees\", \"est\": \"num_establishments\", \"ap\": \"annual_payroll_1000s\"})"
   ]
  },
  {
   "cell_type": "code",
   "execution_count": 31,
   "id": "11e0840b-82d9-43e6-aadb-f99aebf7b97d",
   "metadata": {},
   "outputs": [
    {
     "name": "stdout",
     "output_type": "stream",
     "text": [
      "<class 'pandas.core.frame.DataFrame'>\n",
      "RangeIndex: 35053 entries, 0 to 35052\n",
      "Data columns (total 4 columns):\n",
      " #   Column                Non-Null Count  Dtype\n",
      "---  ------                --------------  -----\n",
      " 0   zip                   35053 non-null  int64\n",
      " 1   num_employees         35053 non-null  int64\n",
      " 2   num_establishments    35053 non-null  int64\n",
      " 3   annual_payroll_1000s  35053 non-null  int64\n",
      "dtypes: int64(4)\n",
      "memory usage: 1.1 MB\n"
     ]
    }
   ],
   "source": [
    "bp_zip_2.info()"
   ]
  },
  {
   "cell_type": "code",
   "execution_count": 32,
   "id": "6d7520a3-a559-4ebb-aa80-8cc76b793061",
   "metadata": {},
   "outputs": [],
   "source": [
    "# convert zip column to a string and pad with zeros\n",
    "bp_zip_2['zip'] = bp_zip_2['zip'].astype(str).str.zfill(5)"
   ]
  },
  {
   "cell_type": "code",
   "execution_count": 33,
   "id": "7b4723e3-23b6-4607-975f-3637c596432e",
   "metadata": {},
   "outputs": [
    {
     "name": "stdout",
     "output_type": "stream",
     "text": [
      "35053\n",
      "35053\n"
     ]
    }
   ],
   "source": [
    "# Check that we don't have any duplicate zips\n",
    "print(len(bp_zip_2.zip))\n",
    "print(len(bp_zip_2.zip.drop_duplicates()))"
   ]
  },
  {
   "cell_type": "code",
   "execution_count": 38,
   "id": "c52ffa71-887e-41c9-b39d-6406c151693c",
   "metadata": {},
   "outputs": [
    {
     "data": {
      "text/plain": [
       "count    3.505300e+04\n",
       "mean     3.823588e+03\n",
       "std      3.550615e+04\n",
       "min      0.000000e+00\n",
       "25%      8.000000e+01\n",
       "50%      4.230000e+02\n",
       "75%      3.367000e+03\n",
       "max      6.476624e+06\n",
       "Name: num_employees, dtype: float64"
      ]
     },
     "execution_count": 38,
     "metadata": {},
     "output_type": "execute_result"
    }
   ],
   "source": [
    "# Summary Statistics\n",
    "bp_zip_2['num_employees'].describe()"
   ]
  },
  {
   "cell_type": "code",
   "execution_count": 54,
   "id": "bf50390d-4a9e-4152-8974-937d67ff6664",
   "metadata": {},
   "outputs": [
    {
     "data": {
      "text/plain": [
       "count    3.505300e+04\n",
       "mean              inf\n",
       "std               NaN\n",
       "min      1.224490e+03\n",
       "25%      3.208814e+04\n",
       "50%      3.964880e+04\n",
       "75%      4.942221e+04\n",
       "max               inf\n",
       "Name: average_salary, dtype: float64"
      ]
     },
     "execution_count": 54,
     "metadata": {},
     "output_type": "execute_result"
    }
   ],
   "source": [
    "bp_zip_2['average_salary'] = (bp_zip_2['annual_payroll_1000s']*1000)/bp_zip_2['num_employees']\n",
    "bp_zip_2['average_salary'].describe()"
   ]
  },
  {
   "cell_type": "code",
   "execution_count": 57,
   "id": "1fd4c50f-f739-40d6-9105-6eb5e814e51e",
   "metadata": {},
   "outputs": [
    {
     "data": {
      "text/html": [
       "<div>\n",
       "<style scoped>\n",
       "    .dataframe tbody tr th:only-of-type {\n",
       "        vertical-align: middle;\n",
       "    }\n",
       "\n",
       "    .dataframe tbody tr th {\n",
       "        vertical-align: top;\n",
       "    }\n",
       "\n",
       "    .dataframe thead th {\n",
       "        text-align: right;\n",
       "    }\n",
       "</style>\n",
       "<table border=\"1\" class=\"dataframe\">\n",
       "  <thead>\n",
       "    <tr style=\"text-align: right;\">\n",
       "      <th></th>\n",
       "      <th>zip</th>\n",
       "      <th>num_employees</th>\n",
       "      <th>num_establishments</th>\n",
       "      <th>annual_payroll_1000s</th>\n",
       "      <th>average_salary</th>\n",
       "    </tr>\n",
       "  </thead>\n",
       "  <tbody>\n",
       "    <tr>\n",
       "      <th>11444</th>\n",
       "      <td>32855</td>\n",
       "      <td>0</td>\n",
       "      <td>3</td>\n",
       "      <td>454</td>\n",
       "      <td>inf</td>\n",
       "    </tr>\n",
       "    <tr>\n",
       "      <th>31711</th>\n",
       "      <td>91102</td>\n",
       "      <td>0</td>\n",
       "      <td>3</td>\n",
       "      <td>92</td>\n",
       "      <td>inf</td>\n",
       "    </tr>\n",
       "    <tr>\n",
       "      <th>32660</th>\n",
       "      <td>93642</td>\n",
       "      <td>0</td>\n",
       "      <td>3</td>\n",
       "      <td>235</td>\n",
       "      <td>inf</td>\n",
       "    </tr>\n",
       "  </tbody>\n",
       "</table>\n",
       "</div>"
      ],
      "text/plain": [
       "         zip  num_employees  num_establishments  annual_payroll_1000s  \\\n",
       "11444  32855              0                   3                   454   \n",
       "31711  91102              0                   3                    92   \n",
       "32660  93642              0                   3                   235   \n",
       "\n",
       "       average_salary  \n",
       "11444             inf  \n",
       "31711             inf  \n",
       "32660             inf  "
      ]
     },
     "execution_count": 57,
     "metadata": {},
     "output_type": "execute_result"
    }
   ],
   "source": [
    "# For any of the zips where there were 0 employees recorded, we replace the inf with the total annual payroll\n",
    "bp_zip_2[bp_zip_2['average_salary'] == np.inf]"
   ]
  },
  {
   "cell_type": "code",
   "execution_count": 61,
   "id": "b6f13950-7923-4551-98a8-edd755b7c322",
   "metadata": {},
   "outputs": [],
   "source": [
    "bp_zip_2.loc[bp_zip_2['average_salary'] == np.inf, 'average_salary'] = bp_zip_2['annual_payroll_1000s']*1000"
   ]
  },
  {
   "cell_type": "code",
   "execution_count": 35,
   "id": "72944324-e918-454b-bfac-a9dc3ee57630",
   "metadata": {},
   "outputs": [
    {
     "data": {
      "text/plain": [
       "count    35053.000000\n",
       "mean       228.085356\n",
       "std        443.894261\n",
       "min          3.000000\n",
       "25%         11.000000\n",
       "50%         41.000000\n",
       "75%        255.000000\n",
       "max      33466.000000\n",
       "Name: num_establishments, dtype: float64"
      ]
     },
     "execution_count": 35,
     "metadata": {},
     "output_type": "execute_result"
    }
   ],
   "source": [
    "bp_zip_2['num_establishments'].describe()"
   ]
  },
  {
   "cell_type": "code",
   "execution_count": 36,
   "id": "4b290aaf-d333-4619-a0b5-40f194854fe7",
   "metadata": {},
   "outputs": [
    {
     "data": {
      "text/plain": [
       "count    3.505300e+04\n",
       "mean     2.156041e+05\n",
       "std      2.154285e+06\n",
       "min      1.100000e+01\n",
       "25%      2.958000e+03\n",
       "50%      1.716600e+04\n",
       "75%      1.425480e+05\n",
       "max      3.820090e+08\n",
       "Name: annual_payroll_1000s, dtype: float64"
      ]
     },
     "execution_count": 36,
     "metadata": {},
     "output_type": "execute_result"
    }
   ],
   "source": [
    "bp_zip_2['annual_payroll_1000s'].describe()"
   ]
  },
  {
   "cell_type": "code",
   "execution_count": 48,
   "id": "4c64c9f4-0d7d-4c9e-a037-127a6dbff5a0",
   "metadata": {},
   "outputs": [
    {
     "data": {
      "text/plain": [
       "<AxesSubplot:>"
      ]
     },
     "execution_count": 48,
     "metadata": {},
     "output_type": "execute_result"
    },
    {
     "data": {
      "image/png": "[encoded data removed]",
      "text/plain": [
       "<Figure size 432x288 with 1 Axes>"
      ]
     },
     "metadata": {
      "needs_background": "light"
     },
     "output_type": "display_data"
    }
   ],
   "source": [
    "bp_zip_2['num_employees'].hist(bins=1000, grid=False)"
   ]
  },
  {
   "cell_type": "code",
   "execution_count": 47,
   "id": "cf276162-22b4-4b0c-87b6-8483e366d064",
   "metadata": {},
   "outputs": [
    {
     "data": {
      "text/plain": [
       "<AxesSubplot:>"
      ]
     },
     "execution_count": 47,
     "metadata": {},
     "output_type": "execute_result"
    },
    {
     "data": {
      "image/png": "[encoded data removed]",
      "text/plain": [
       "<Figure size 432x288 with 1 Axes>"
      ]
     },
     "metadata": {
      "needs_background": "light"
     },
     "output_type": "display_data"
    }
   ],
   "source": [
    "bp_zip_2['num_establishments'].hist(bins=1000, grid=False)"
   ]
  },
  {
   "cell_type": "code",
   "execution_count": 52,
   "id": "62e49c21-e5b1-452b-9844-684165f94be5",
   "metadata": {},
   "outputs": [
    {
     "data": {
      "text/plain": [
       "<AxesSubplot:>"
      ]
     },
     "execution_count": 52,
     "metadata": {},
     "output_type": "execute_result"
    },
    {
     "data": {
      "image/png": "[encoded data removed]",
      "text/plain": [
       "<Figure size 432x288 with 1 Axes>"
      ]
     },
     "metadata": {
      "needs_background": "light"
     },
     "output_type": "display_data"
    }
   ],
   "source": [
    "bp_zip_2['annual_payroll_1000s'].hist(bins=1000, grid=False)"
   ]
  },
  {
   "cell_type": "code",
   "execution_count": 63,
   "id": "40bbc941-33fc-4bc7-91ac-6920f5af2d71",
   "metadata": {},
   "outputs": [
    {
     "data": {
      "text/plain": [
       "<AxesSubplot:>"
      ]
     },
     "execution_count": 63,
     "metadata": {},
     "output_type": "execute_result"
    },
    {
     "data": {
      "image/png": "[encoded data removed]",
      "text/plain": [
       "<Figure size 432x288 with 1 Axes>"
      ]
     },
     "metadata": {
      "needs_background": "light"
     },
     "output_type": "display_data"
    }
   ],
   "source": [
    "bp_zip_2['average_salary'].hist(bins=10000, grid=False)"
   ]
  },
  {
   "cell_type": "markdown",
   "id": "5c6f0e05-233c-4728-91dc-d0fa3e2de385",
   "metadata": {},
   "source": [
    "## Total Population"
   ]
  },
  {
   "cell_type": "code",
   "execution_count": 415,
   "id": "4b384f1d-ff6a-46a2-92ca-2f2805de133b",
   "metadata": {},
   "outputs": [],
   "source": [
    "tot_pop = pd.read_csv('https://raw.githubusercontent.com/jhancuch/sba-loan-credit-analysis/main/data/total_population/tot_population_2020.csv')"
   ]
  },
  {
   "cell_type": "code",
   "execution_count": 416,
   "id": "69b90418-03f9-4c52-ba1b-5e53eb9aa8c9",
   "metadata": {},
   "outputs": [
    {
     "data": {
      "text/html": [
       "<div>\n",
       "<style scoped>\n",
       "    .dataframe tbody tr th:only-of-type {\n",
       "        vertical-align: middle;\n",
       "    }\n",
       "\n",
       "    .dataframe tbody tr th {\n",
       "        vertical-align: top;\n",
       "    }\n",
       "\n",
       "    .dataframe thead th {\n",
       "        text-align: right;\n",
       "    }\n",
       "</style>\n",
       "<table border=\"1\" class=\"dataframe\">\n",
       "  <thead>\n",
       "    <tr style=\"text-align: right;\">\n",
       "      <th></th>\n",
       "      <th>B01003_001E</th>\n",
       "      <th>B01003_001M</th>\n",
       "      <th>GEO_ID</th>\n",
       "      <th>NAME</th>\n",
       "    </tr>\n",
       "  </thead>\n",
       "  <tbody>\n",
       "    <tr>\n",
       "      <th>0</th>\n",
       "      <td>Estimate!!Total</td>\n",
       "      <td>Margin of Error!!Total</td>\n",
       "      <td>id</td>\n",
       "      <td>Geographic Area Name</td>\n",
       "    </tr>\n",
       "    <tr>\n",
       "      <th>1</th>\n",
       "      <td>16773</td>\n",
       "      <td>259</td>\n",
       "      <td>8600000US00601</td>\n",
       "      <td>ZCTA5 00601</td>\n",
       "    </tr>\n",
       "    <tr>\n",
       "      <th>2</th>\n",
       "      <td>37083</td>\n",
       "      <td>149</td>\n",
       "      <td>8600000US00602</td>\n",
       "      <td>ZCTA5 00602</td>\n",
       "    </tr>\n",
       "    <tr>\n",
       "      <th>3</th>\n",
       "      <td>45652</td>\n",
       "      <td>784</td>\n",
       "      <td>8600000US00603</td>\n",
       "      <td>ZCTA5 00603</td>\n",
       "    </tr>\n",
       "    <tr>\n",
       "      <th>4</th>\n",
       "      <td>6231</td>\n",
       "      <td>337</td>\n",
       "      <td>8600000US00606</td>\n",
       "      <td>ZCTA5 00606</td>\n",
       "    </tr>\n",
       "  </tbody>\n",
       "</table>\n",
       "</div>"
      ],
      "text/plain": [
       "       B01003_001E             B01003_001M          GEO_ID  \\\n",
       "0  Estimate!!Total  Margin of Error!!Total              id   \n",
       "1            16773                     259  8600000US00601   \n",
       "2            37083                     149  8600000US00602   \n",
       "3            45652                     784  8600000US00603   \n",
       "4             6231                     337  8600000US00606   \n",
       "\n",
       "                   NAME  \n",
       "0  Geographic Area Name  \n",
       "1           ZCTA5 00601  \n",
       "2           ZCTA5 00602  \n",
       "3           ZCTA5 00603  \n",
       "4           ZCTA5 00606  "
      ]
     },
     "execution_count": 416,
     "metadata": {},
     "output_type": "execute_result"
    }
   ],
   "source": [
    "tot_pop.head()"
   ]
  },
  {
   "cell_type": "code",
   "execution_count": 67,
   "id": "708cbb00-69b4-4999-bc7c-0d744465333f",
   "metadata": {},
   "outputs": [
    {
     "name": "stdout",
     "output_type": "stream",
     "text": [
      "<class 'pandas.core.frame.DataFrame'>\n",
      "RangeIndex: 33121 entries, 0 to 33120\n",
      "Data columns (total 4 columns):\n",
      " #   Column       Non-Null Count  Dtype \n",
      "---  ------       --------------  ----- \n",
      " 0   B01003_001E  33121 non-null  object\n",
      " 1   B01003_001M  33121 non-null  object\n",
      " 2   GEO_ID       33121 non-null  object\n",
      " 3   NAME         33121 non-null  object\n",
      "dtypes: object(4)\n",
      "memory usage: 1.0+ MB\n"
     ]
    }
   ],
   "source": [
    "tot_pop.info()"
   ]
  },
  {
   "cell_type": "code",
   "execution_count": 68,
   "id": "08e5d2ba-c70a-412a-a334-2e7e9e388eb9",
   "metadata": {},
   "outputs": [],
   "source": [
    "# Rename columns and drop the extra header row\n",
    "tot_pop1 = tot_pop.rename(columns = {\"B01003_001E\": \"total_pop\", \"NAME\": \"zip\"})"
   ]
  },
  {
   "cell_type": "code",
   "execution_count": 72,
   "id": "9b9ffd96-c8fd-4157-b53a-31a71849dec8",
   "metadata": {},
   "outputs": [],
   "source": [
    "tot_pop2 = tot_pop1.iloc[1:, :].drop(axis=1, columns=['B01003_001M','GEO_ID'])"
   ]
  },
  {
   "cell_type": "code",
   "execution_count": 74,
   "id": "0cde8d0a-e29f-4df6-ba9f-ee690b3e1b89",
   "metadata": {},
   "outputs": [],
   "source": [
    "# Remove ZCTA5 string and convert total_pop to int\n",
    "tot_pop2['zip'] = tot_pop2['zip'].replace('ZCTA5 ', '', regex=True)\n",
    "tot_pop2['total_pop'] = tot_pop2['total_pop'].astype(int)"
   ]
  },
  {
   "cell_type": "code",
   "execution_count": 75,
   "id": "cb166dee-1151-4df3-b6d2-c5d9b20de1d6",
   "metadata": {},
   "outputs": [
    {
     "data": {
      "text/html": [
       "<div>\n",
       "<style scoped>\n",
       "    .dataframe tbody tr th:only-of-type {\n",
       "        vertical-align: middle;\n",
       "    }\n",
       "\n",
       "    .dataframe tbody tr th {\n",
       "        vertical-align: top;\n",
       "    }\n",
       "\n",
       "    .dataframe thead th {\n",
       "        text-align: right;\n",
       "    }\n",
       "</style>\n",
       "<table border=\"1\" class=\"dataframe\">\n",
       "  <thead>\n",
       "    <tr style=\"text-align: right;\">\n",
       "      <th></th>\n",
       "      <th>total_pop</th>\n",
       "      <th>zip</th>\n",
       "    </tr>\n",
       "  </thead>\n",
       "  <tbody>\n",
       "    <tr>\n",
       "      <th>1</th>\n",
       "      <td>16773</td>\n",
       "      <td>00601</td>\n",
       "    </tr>\n",
       "    <tr>\n",
       "      <th>2</th>\n",
       "      <td>37083</td>\n",
       "      <td>00602</td>\n",
       "    </tr>\n",
       "    <tr>\n",
       "      <th>3</th>\n",
       "      <td>45652</td>\n",
       "      <td>00603</td>\n",
       "    </tr>\n",
       "    <tr>\n",
       "      <th>4</th>\n",
       "      <td>6231</td>\n",
       "      <td>00606</td>\n",
       "    </tr>\n",
       "    <tr>\n",
       "      <th>5</th>\n",
       "      <td>26502</td>\n",
       "      <td>00610</td>\n",
       "    </tr>\n",
       "    <tr>\n",
       "      <th>...</th>\n",
       "      <td>...</td>\n",
       "      <td>...</td>\n",
       "    </tr>\n",
       "    <tr>\n",
       "      <th>33116</th>\n",
       "      <td>12</td>\n",
       "      <td>99923</td>\n",
       "    </tr>\n",
       "    <tr>\n",
       "      <th>33117</th>\n",
       "      <td>990</td>\n",
       "      <td>99925</td>\n",
       "    </tr>\n",
       "    <tr>\n",
       "      <th>33118</th>\n",
       "      <td>1582</td>\n",
       "      <td>99926</td>\n",
       "    </tr>\n",
       "    <tr>\n",
       "      <th>33119</th>\n",
       "      <td>0</td>\n",
       "      <td>99927</td>\n",
       "    </tr>\n",
       "    <tr>\n",
       "      <th>33120</th>\n",
       "      <td>2509</td>\n",
       "      <td>99929</td>\n",
       "    </tr>\n",
       "  </tbody>\n",
       "</table>\n",
       "<p>33120 rows × 2 columns</p>\n",
       "</div>"
      ],
      "text/plain": [
       "       total_pop    zip\n",
       "1          16773  00601\n",
       "2          37083  00602\n",
       "3          45652  00603\n",
       "4           6231  00606\n",
       "5          26502  00610\n",
       "...          ...    ...\n",
       "33116         12  99923\n",
       "33117        990  99925\n",
       "33118       1582  99926\n",
       "33119          0  99927\n",
       "33120       2509  99929\n",
       "\n",
       "[33120 rows x 2 columns]"
      ]
     },
     "execution_count": 75,
     "metadata": {},
     "output_type": "execute_result"
    }
   ],
   "source": [
    "tot_pop2"
   ]
  },
  {
   "cell_type": "code",
   "execution_count": 76,
   "id": "015c59bf-1a86-443d-8102-7433ba4ae013",
   "metadata": {},
   "outputs": [
    {
     "data": {
      "text/plain": [
       "array([[<AxesSubplot:title={'center':'total_pop'}>]], dtype=object)"
      ]
     },
     "execution_count": 76,
     "metadata": {},
     "output_type": "execute_result"
    },
    {
     "data": {
      "image/png": "[encoded data removed]",
      "text/plain": [
       "<Figure size 432x288 with 1 Axes>"
      ]
     },
     "metadata": {
      "needs_background": "light"
     },
     "output_type": "display_data"
    }
   ],
   "source": [
    "tot_pop2.hist(bins=1000, grid=False)"
   ]
  },
  {
   "cell_type": "markdown",
   "id": "e99e41c1-f70e-4d25-84d5-a115da4d530c",
   "metadata": {},
   "source": [
    "## Employment Status"
   ]
  },
  {
   "cell_type": "code",
   "execution_count": 403,
   "id": "5fed4307-4481-4ed2-8a2f-e9251c8ea2f9",
   "metadata": {},
   "outputs": [],
   "source": [
    "emp_status = pd.read_csv('https://raw.githubusercontent.com/jhancuch/sba-loan-credit-analysis/main/data/employment_status/employment2020.csv', header = 1)"
   ]
  },
  {
   "cell_type": "code",
   "execution_count": 404,
   "id": "1b6458e2-10df-4cfd-a563-ecc35e38e5ff",
   "metadata": {},
   "outputs": [
    {
     "data": {
      "text/html": [
       "<div>\n",
       "<style scoped>\n",
       "    .dataframe tbody tr th:only-of-type {\n",
       "        vertical-align: middle;\n",
       "    }\n",
       "\n",
       "    .dataframe tbody tr th {\n",
       "        vertical-align: top;\n",
       "    }\n",
       "\n",
       "    .dataframe thead th {\n",
       "        text-align: right;\n",
       "    }\n",
       "</style>\n",
       "<table border=\"1\" class=\"dataframe\">\n",
       "  <thead>\n",
       "    <tr style=\"text-align: right;\">\n",
       "      <th></th>\n",
       "      <th>id</th>\n",
       "      <th>Geographic Area Name</th>\n",
       "      <th>Estimate!!Occupied housing units!!Occupied housing units</th>\n",
       "      <th>Margin of Error!!Occupied housing units!!Occupied housing units</th>\n",
       "      <th>Estimate!!Occupied housing units!!Occupied housing units!!HOUSEHOLD INCOME IN THE PAST 12 MONTHS (IN 2020 INFLATION-ADJUSTED DOLLARS)!!Less than $5,000</th>\n",
       "      <th>Margin of Error!!Occupied housing units!!Occupied housing units!!HOUSEHOLD INCOME IN THE PAST 12 MONTHS (IN 2020 INFLATION-ADJUSTED DOLLARS)!!Less than $5,000</th>\n",
       "      <th>Estimate!!Occupied housing units!!Occupied housing units!!HOUSEHOLD INCOME IN THE PAST 12 MONTHS (IN 2020 INFLATION-ADJUSTED DOLLARS)!!$5,000 to $9,999</th>\n",
       "      <th>Margin of Error!!Occupied housing units!!Occupied housing units!!HOUSEHOLD INCOME IN THE PAST 12 MONTHS (IN 2020 INFLATION-ADJUSTED DOLLARS)!!$5,000 to $9,999</th>\n",
       "      <th>Estimate!!Occupied housing units!!Occupied housing units!!HOUSEHOLD INCOME IN THE PAST 12 MONTHS (IN 2020 INFLATION-ADJUSTED DOLLARS)!!$10,000 to $14,999</th>\n",
       "      <th>Margin of Error!!Occupied housing units!!Occupied housing units!!HOUSEHOLD INCOME IN THE PAST 12 MONTHS (IN 2020 INFLATION-ADJUSTED DOLLARS)!!$10,000 to $14,999</th>\n",
       "      <th>...</th>\n",
       "      <th>Estimate!!Occupied housing units!!Occupied housing units!!MONTHLY HOUSING COSTS AS A PERCENTAGE OF HOUSEHOLD INCOME IN THE PAST 12 MONTHS!!$75,000 or more</th>\n",
       "      <th>Margin of Error!!Occupied housing units!!Occupied housing units!!MONTHLY HOUSING COSTS AS A PERCENTAGE OF HOUSEHOLD INCOME IN THE PAST 12 MONTHS!!$75,000 or more</th>\n",
       "      <th>Estimate!!Occupied housing units!!Occupied housing units!!MONTHLY HOUSING COSTS AS A PERCENTAGE OF HOUSEHOLD INCOME IN THE PAST 12 MONTHS!!$75,000 or more!!Less than 20 percent</th>\n",
       "      <th>Margin of Error!!Occupied housing units!!Occupied housing units!!MONTHLY HOUSING COSTS AS A PERCENTAGE OF HOUSEHOLD INCOME IN THE PAST 12 MONTHS!!$75,000 or more!!Less than 20 percent</th>\n",
       "      <th>Estimate!!Occupied housing units!!Occupied housing units!!MONTHLY HOUSING COSTS AS A PERCENTAGE OF HOUSEHOLD INCOME IN THE PAST 12 MONTHS!!$75,000 or more!!20 to 29 percent</th>\n",
       "      <th>Margin of Error!!Occupied housing units!!Occupied housing units!!MONTHLY HOUSING COSTS AS A PERCENTAGE OF HOUSEHOLD INCOME IN THE PAST 12 MONTHS!!$75,000 or more!!20 to 29 percent</th>\n",
       "      <th>Estimate!!Occupied housing units!!Occupied housing units!!MONTHLY HOUSING COSTS AS A PERCENTAGE OF HOUSEHOLD INCOME IN THE PAST 12 MONTHS!!$75,000 or more!!30 percent or more</th>\n",
       "      <th>Margin of Error!!Occupied housing units!!Occupied housing units!!MONTHLY HOUSING COSTS AS A PERCENTAGE OF HOUSEHOLD INCOME IN THE PAST 12 MONTHS!!$75,000 or more!!30 percent or more</th>\n",
       "      <th>Estimate!!Occupied housing units!!Occupied housing units!!MONTHLY HOUSING COSTS AS A PERCENTAGE OF HOUSEHOLD INCOME IN THE PAST 12 MONTHS!!Zero or negative income</th>\n",
       "      <th>Margin of Error!!Occupied housing units!!Occupied housing units!!MONTHLY HOUSING COSTS AS A PERCENTAGE OF HOUSEHOLD INCOME IN THE PAST 12 MONTHS!!Zero or negative income</th>\n",
       "    </tr>\n",
       "  </thead>\n",
       "  <tbody>\n",
       "    <tr>\n",
       "      <th>0</th>\n",
       "      <td>8600000US00601</td>\n",
       "      <td>ZCTA5 00601</td>\n",
       "      <td>5555</td>\n",
       "      <td>255</td>\n",
       "      <td>1032</td>\n",
       "      <td>223</td>\n",
       "      <td>945</td>\n",
       "      <td>164</td>\n",
       "      <td>913</td>\n",
       "      <td>178</td>\n",
       "      <td>...</td>\n",
       "      <td>68</td>\n",
       "      <td>46</td>\n",
       "      <td>68</td>\n",
       "      <td>46</td>\n",
       "      <td>0</td>\n",
       "      <td>23</td>\n",
       "      <td>0</td>\n",
       "      <td>23</td>\n",
       "      <td>128</td>\n",
       "      <td>52</td>\n",
       "    </tr>\n",
       "    <tr>\n",
       "      <th>1</th>\n",
       "      <td>8600000US00602</td>\n",
       "      <td>ZCTA5 00602</td>\n",
       "      <td>12901</td>\n",
       "      <td>432</td>\n",
       "      <td>1670</td>\n",
       "      <td>305</td>\n",
       "      <td>2028</td>\n",
       "      <td>309</td>\n",
       "      <td>2124</td>\n",
       "      <td>364</td>\n",
       "      <td>...</td>\n",
       "      <td>762</td>\n",
       "      <td>196</td>\n",
       "      <td>669</td>\n",
       "      <td>181</td>\n",
       "      <td>93</td>\n",
       "      <td>90</td>\n",
       "      <td>0</td>\n",
       "      <td>30</td>\n",
       "      <td>324</td>\n",
       "      <td>123</td>\n",
       "    </tr>\n",
       "    <tr>\n",
       "      <th>2</th>\n",
       "      <td>8600000US00603</td>\n",
       "      <td>ZCTA5 00603</td>\n",
       "      <td>19431</td>\n",
       "      <td>496</td>\n",
       "      <td>4172</td>\n",
       "      <td>443</td>\n",
       "      <td>2812</td>\n",
       "      <td>334</td>\n",
       "      <td>2397</td>\n",
       "      <td>323</td>\n",
       "      <td>...</td>\n",
       "      <td>1317</td>\n",
       "      <td>264</td>\n",
       "      <td>1252</td>\n",
       "      <td>266</td>\n",
       "      <td>65</td>\n",
       "      <td>47</td>\n",
       "      <td>0</td>\n",
       "      <td>30</td>\n",
       "      <td>1012</td>\n",
       "      <td>268</td>\n",
       "    </tr>\n",
       "    <tr>\n",
       "      <th>3</th>\n",
       "      <td>8600000US00606</td>\n",
       "      <td>ZCTA5 00606</td>\n",
       "      <td>1983</td>\n",
       "      <td>181</td>\n",
       "      <td>351</td>\n",
       "      <td>103</td>\n",
       "      <td>386</td>\n",
       "      <td>124</td>\n",
       "      <td>255</td>\n",
       "      <td>84</td>\n",
       "      <td>...</td>\n",
       "      <td>20</td>\n",
       "      <td>20</td>\n",
       "      <td>20</td>\n",
       "      <td>20</td>\n",
       "      <td>0</td>\n",
       "      <td>20</td>\n",
       "      <td>0</td>\n",
       "      <td>20</td>\n",
       "      <td>77</td>\n",
       "      <td>40</td>\n",
       "    </tr>\n",
       "    <tr>\n",
       "      <th>4</th>\n",
       "      <td>8600000US00610</td>\n",
       "      <td>ZCTA5 00610</td>\n",
       "      <td>8864</td>\n",
       "      <td>348</td>\n",
       "      <td>855</td>\n",
       "      <td>189</td>\n",
       "      <td>1261</td>\n",
       "      <td>237</td>\n",
       "      <td>1242</td>\n",
       "      <td>249</td>\n",
       "      <td>...</td>\n",
       "      <td>457</td>\n",
       "      <td>150</td>\n",
       "      <td>446</td>\n",
       "      <td>149</td>\n",
       "      <td>11</td>\n",
       "      <td>17</td>\n",
       "      <td>0</td>\n",
       "      <td>27</td>\n",
       "      <td>269</td>\n",
       "      <td>118</td>\n",
       "    </tr>\n",
       "  </tbody>\n",
       "</table>\n",
       "<p>5 rows × 92 columns</p>\n",
       "</div>"
      ],
      "text/plain": [
       "               id Geographic Area Name  \\\n",
       "0  8600000US00601          ZCTA5 00601   \n",
       "1  8600000US00602          ZCTA5 00602   \n",
       "2  8600000US00603          ZCTA5 00603   \n",
       "3  8600000US00606          ZCTA5 00606   \n",
       "4  8600000US00610          ZCTA5 00610   \n",
       "\n",
       "   Estimate!!Occupied housing units!!Occupied housing units  \\\n",
       "0                                               5555          \n",
       "1                                              12901          \n",
       "2                                              19431          \n",
       "3                                               1983          \n",
       "4                                               8864          \n",
       "\n",
       "   Margin of Error!!Occupied housing units!!Occupied housing units  \\\n",
       "0                                                255                 \n",
       "1                                                432                 \n",
       "2                                                496                 \n",
       "3                                                181                 \n",
       "4                                                348                 \n",
       "\n",
       "   Estimate!!Occupied housing units!!Occupied housing units!!HOUSEHOLD INCOME IN THE PAST 12 MONTHS (IN 2020 INFLATION-ADJUSTED DOLLARS)!!Less than $5,000  \\\n",
       "0                                               1032                                                                                                         \n",
       "1                                               1670                                                                                                         \n",
       "2                                               4172                                                                                                         \n",
       "3                                                351                                                                                                         \n",
       "4                                                855                                                                                                         \n",
       "\n",
       "   Margin of Error!!Occupied housing units!!Occupied housing units!!HOUSEHOLD INCOME IN THE PAST 12 MONTHS (IN 2020 INFLATION-ADJUSTED DOLLARS)!!Less than $5,000  \\\n",
       "0                                                223                                                                                                                \n",
       "1                                                305                                                                                                                \n",
       "2                                                443                                                                                                                \n",
       "3                                                103                                                                                                                \n",
       "4                                                189                                                                                                                \n",
       "\n",
       "   Estimate!!Occupied housing units!!Occupied housing units!!HOUSEHOLD INCOME IN THE PAST 12 MONTHS (IN 2020 INFLATION-ADJUSTED DOLLARS)!!$5,000 to $9,999  \\\n",
       "0                                                945                                                                                                         \n",
       "1                                               2028                                                                                                         \n",
       "2                                               2812                                                                                                         \n",
       "3                                                386                                                                                                         \n",
       "4                                               1261                                                                                                         \n",
       "\n",
       "   Margin of Error!!Occupied housing units!!Occupied housing units!!HOUSEHOLD INCOME IN THE PAST 12 MONTHS (IN 2020 INFLATION-ADJUSTED DOLLARS)!!$5,000 to $9,999  \\\n",
       "0                                                164                                                                                                                \n",
       "1                                                309                                                                                                                \n",
       "2                                                334                                                                                                                \n",
       "3                                                124                                                                                                                \n",
       "4                                                237                                                                                                                \n",
       "\n",
       "   Estimate!!Occupied housing units!!Occupied housing units!!HOUSEHOLD INCOME IN THE PAST 12 MONTHS (IN 2020 INFLATION-ADJUSTED DOLLARS)!!$10,000 to $14,999  \\\n",
       "0                                                913                                                                                                           \n",
       "1                                               2124                                                                                                           \n",
       "2                                               2397                                                                                                           \n",
       "3                                                255                                                                                                           \n",
       "4                                               1242                                                                                                           \n",
       "\n",
       "   Margin of Error!!Occupied housing units!!Occupied housing units!!HOUSEHOLD INCOME IN THE PAST 12 MONTHS (IN 2020 INFLATION-ADJUSTED DOLLARS)!!$10,000 to $14,999  \\\n",
       "0                                                178                                                                                                                  \n",
       "1                                                364                                                                                                                  \n",
       "2                                                323                                                                                                                  \n",
       "3                                                 84                                                                                                                  \n",
       "4                                                249                                                                                                                  \n",
       "\n",
       "   ...  \\\n",
       "0  ...   \n",
       "1  ...   \n",
       "2  ...   \n",
       "3  ...   \n",
       "4  ...   \n",
       "\n",
       "   Estimate!!Occupied housing units!!Occupied housing units!!MONTHLY HOUSING COSTS AS A PERCENTAGE OF HOUSEHOLD INCOME IN THE PAST 12 MONTHS!!$75,000 or more  \\\n",
       "0                                                 68                                                                                                            \n",
       "1                                                762                                                                                                            \n",
       "2                                               1317                                                                                                            \n",
       "3                                                 20                                                                                                            \n",
       "4                                                457                                                                                                            \n",
       "\n",
       "   Margin of Error!!Occupied housing units!!Occupied housing units!!MONTHLY HOUSING COSTS AS A PERCENTAGE OF HOUSEHOLD INCOME IN THE PAST 12 MONTHS!!$75,000 or more  \\\n",
       "0                                                 46                                                                                                                   \n",
       "1                                                196                                                                                                                   \n",
       "2                                                264                                                                                                                   \n",
       "3                                                 20                                                                                                                   \n",
       "4                                                150                                                                                                                   \n",
       "\n",
       "   Estimate!!Occupied housing units!!Occupied housing units!!MONTHLY HOUSING COSTS AS A PERCENTAGE OF HOUSEHOLD INCOME IN THE PAST 12 MONTHS!!$75,000 or more!!Less than 20 percent  \\\n",
       "0                                                 68                                                                                                                                  \n",
       "1                                                669                                                                                                                                  \n",
       "2                                               1252                                                                                                                                  \n",
       "3                                                 20                                                                                                                                  \n",
       "4                                                446                                                                                                                                  \n",
       "\n",
       "   Margin of Error!!Occupied housing units!!Occupied housing units!!MONTHLY HOUSING COSTS AS A PERCENTAGE OF HOUSEHOLD INCOME IN THE PAST 12 MONTHS!!$75,000 or more!!Less than 20 percent  \\\n",
       "0                                                 46                                                                                                                                         \n",
       "1                                                181                                                                                                                                         \n",
       "2                                                266                                                                                                                                         \n",
       "3                                                 20                                                                                                                                         \n",
       "4                                                149                                                                                                                                         \n",
       "\n",
       "   Estimate!!Occupied housing units!!Occupied housing units!!MONTHLY HOUSING COSTS AS A PERCENTAGE OF HOUSEHOLD INCOME IN THE PAST 12 MONTHS!!$75,000 or more!!20 to 29 percent  \\\n",
       "0                                                  0                                                                                                                              \n",
       "1                                                 93                                                                                                                              \n",
       "2                                                 65                                                                                                                              \n",
       "3                                                  0                                                                                                                              \n",
       "4                                                 11                                                                                                                              \n",
       "\n",
       "   Margin of Error!!Occupied housing units!!Occupied housing units!!MONTHLY HOUSING COSTS AS A PERCENTAGE OF HOUSEHOLD INCOME IN THE PAST 12 MONTHS!!$75,000 or more!!20 to 29 percent  \\\n",
       "0                                                 23                                                                                                                                     \n",
       "1                                                 90                                                                                                                                     \n",
       "2                                                 47                                                                                                                                     \n",
       "3                                                 20                                                                                                                                     \n",
       "4                                                 17                                                                                                                                     \n",
       "\n",
       "   Estimate!!Occupied housing units!!Occupied housing units!!MONTHLY HOUSING COSTS AS A PERCENTAGE OF HOUSEHOLD INCOME IN THE PAST 12 MONTHS!!$75,000 or more!!30 percent or more  \\\n",
       "0                                                  0                                                                                                                                \n",
       "1                                                  0                                                                                                                                \n",
       "2                                                  0                                                                                                                                \n",
       "3                                                  0                                                                                                                                \n",
       "4                                                  0                                                                                                                                \n",
       "\n",
       "   Margin of Error!!Occupied housing units!!Occupied housing units!!MONTHLY HOUSING COSTS AS A PERCENTAGE OF HOUSEHOLD INCOME IN THE PAST 12 MONTHS!!$75,000 or more!!30 percent or more  \\\n",
       "0                                                 23                                                                                                                                       \n",
       "1                                                 30                                                                                                                                       \n",
       "2                                                 30                                                                                                                                       \n",
       "3                                                 20                                                                                                                                       \n",
       "4                                                 27                                                                                                                                       \n",
       "\n",
       "   Estimate!!Occupied housing units!!Occupied housing units!!MONTHLY HOUSING COSTS AS A PERCENTAGE OF HOUSEHOLD INCOME IN THE PAST 12 MONTHS!!Zero or negative income  \\\n",
       "0                                                128                                                                                                                    \n",
       "1                                                324                                                                                                                    \n",
       "2                                               1012                                                                                                                    \n",
       "3                                                 77                                                                                                                    \n",
       "4                                                269                                                                                                                    \n",
       "\n",
       "   Margin of Error!!Occupied housing units!!Occupied housing units!!MONTHLY HOUSING COSTS AS A PERCENTAGE OF HOUSEHOLD INCOME IN THE PAST 12 MONTHS!!Zero or negative income  \n",
       "0                                                 52                                                                                                                          \n",
       "1                                                123                                                                                                                          \n",
       "2                                                268                                                                                                                          \n",
       "3                                                 40                                                                                                                          \n",
       "4                                                118                                                                                                                          \n",
       "\n",
       "[5 rows x 92 columns]"
      ]
     },
     "execution_count": 404,
     "metadata": {},
     "output_type": "execute_result"
    }
   ],
   "source": [
    "emp_status.head()"
   ]
  },
  {
   "cell_type": "code",
   "execution_count": 147,
   "id": "390a26c8-66bb-4b55-9be9-919d6175ef11",
   "metadata": {},
   "outputs": [],
   "source": [
    "emp_status_1 = emp_status[['Geographic Area Name', \n",
    "                           'Estimate!!Occupied housing units!!Occupied housing units!!HOUSEHOLD INCOME IN THE PAST 12 MONTHS (IN 2020 INFLATION-ADJUSTED DOLLARS)!!Median household income (dollars)',\n",
    "                           'Estimate!!Occupied housing units!!Occupied housing units!!MONTHLY HOUSING COSTS AS A PERCENTAGE OF HOUSEHOLD INCOME IN THE PAST 12 MONTHS!!Less than $20,000!!Less than 20 percent',\n",
    "                           'Estimate!!Occupied housing units!!Occupied housing units!!MONTHLY HOUSING COSTS AS A PERCENTAGE OF HOUSEHOLD INCOME IN THE PAST 12 MONTHS!!Less than $20,000!!20 to 29 percent',\n",
    "                           'Estimate!!Occupied housing units!!Occupied housing units!!MONTHLY HOUSING COSTS AS A PERCENTAGE OF HOUSEHOLD INCOME IN THE PAST 12 MONTHS!!Less than $20,000!!30 percent or more',\n",
    "                           'Estimate!!Occupied housing units!!Occupied housing units!!MONTHLY HOUSING COSTS AS A PERCENTAGE OF HOUSEHOLD INCOME IN THE PAST 12 MONTHS!!$20,000 to $34,999!!Less than 20 percent',\n",
    "                           'Estimate!!Occupied housing units!!Occupied housing units!!MONTHLY HOUSING COSTS AS A PERCENTAGE OF HOUSEHOLD INCOME IN THE PAST 12 MONTHS!!$20,000 to $34,999!!20 to 29 percent',\n",
    "                           'Estimate!!Occupied housing units!!Occupied housing units!!MONTHLY HOUSING COSTS AS A PERCENTAGE OF HOUSEHOLD INCOME IN THE PAST 12 MONTHS!!$20,000 to $34,999!!30 percent or more',\n",
    "                           'Estimate!!Occupied housing units!!Occupied housing units!!MONTHLY HOUSING COSTS AS A PERCENTAGE OF HOUSEHOLD INCOME IN THE PAST 12 MONTHS!!$35,000 to $49,999!!Less than 20 percent',\n",
    "                           'Estimate!!Occupied housing units!!Occupied housing units!!MONTHLY HOUSING COSTS AS A PERCENTAGE OF HOUSEHOLD INCOME IN THE PAST 12 MONTHS!!$35,000 to $49,999!!20 to 29 percent',\n",
    "                           'Estimate!!Occupied housing units!!Occupied housing units!!MONTHLY HOUSING COSTS AS A PERCENTAGE OF HOUSEHOLD INCOME IN THE PAST 12 MONTHS!!$35,000 to $49,999!!30 percent or more',\n",
    "                           'Estimate!!Occupied housing units!!Occupied housing units!!MONTHLY HOUSING COSTS AS A PERCENTAGE OF HOUSEHOLD INCOME IN THE PAST 12 MONTHS!!$50,000 to $74,999!!Less than 20 percent',\n",
    "                           'Estimate!!Occupied housing units!!Occupied housing units!!MONTHLY HOUSING COSTS AS A PERCENTAGE OF HOUSEHOLD INCOME IN THE PAST 12 MONTHS!!$50,000 to $74,999!!20 to 29 percent',\n",
    "                           'Estimate!!Occupied housing units!!Occupied housing units!!MONTHLY HOUSING COSTS AS A PERCENTAGE OF HOUSEHOLD INCOME IN THE PAST 12 MONTHS!!$50,000 to $74,999!!30 percent or more',\n",
    "                           'Estimate!!Occupied housing units!!Occupied housing units!!MONTHLY HOUSING COSTS AS A PERCENTAGE OF HOUSEHOLD INCOME IN THE PAST 12 MONTHS!!$75,000 or more!!Less than 20 percent',\n",
    "                           'Estimate!!Occupied housing units!!Occupied housing units!!MONTHLY HOUSING COSTS AS A PERCENTAGE OF HOUSEHOLD INCOME IN THE PAST 12 MONTHS!!$75,000 or more!!20 to 29 percent',\n",
    "                           'Estimate!!Occupied housing units!!Occupied housing units!!MONTHLY HOUSING COSTS AS A PERCENTAGE OF HOUSEHOLD INCOME IN THE PAST 12 MONTHS!!$75,000 or more!!30 percent or more'\n",
    "                          ]]"
   ]
  },
  {
   "cell_type": "code",
   "execution_count": 148,
   "id": "fd2a17a8-ee37-4ee2-b04b-4142c48f8719",
   "metadata": {},
   "outputs": [],
   "source": [
    "emp_status_2 = emp_status_1.rename(columns = {'Geographic Area Name': 'zip', \n",
    "                                              'Estimate!!Occupied housing units!!Occupied housing units!!HOUSEHOLD INCOME IN THE PAST 12 MONTHS (IN 2020 INFLATION-ADJUSTED DOLLARS)!!Median household income (dollars)': 'houshold_income_2020_median',\n",
    "                                              'Estimate!!Occupied housing units!!Occupied housing units!!MONTHLY HOUSING COSTS AS A PERCENTAGE OF HOUSEHOLD INCOME IN THE PAST 12 MONTHS!!Less than $20,000!!Less than 20 percent': 'incm_l_20k_house_pct_l_20',\n",
    "                                              'Estimate!!Occupied housing units!!Occupied housing units!!MONTHLY HOUSING COSTS AS A PERCENTAGE OF HOUSEHOLD INCOME IN THE PAST 12 MONTHS!!Less than $20,000!!20 to 29 percent': 'incm_l_20k_house_pct_l_30_gt_20',\n",
    "                                              'Estimate!!Occupied housing units!!Occupied housing units!!MONTHLY HOUSING COSTS AS A PERCENTAGE OF HOUSEHOLD INCOME IN THE PAST 12 MONTHS!!Less than $20,000!!30 percent or more': 'incm_l_20k_house_pct_gt_30',\n",
    "                                              'Estimate!!Occupied housing units!!Occupied housing units!!MONTHLY HOUSING COSTS AS A PERCENTAGE OF HOUSEHOLD INCOME IN THE PAST 12 MONTHS!!$20,000 to $34,999!!Less than 20 percent': 'incm_gt_20k_l_35k_house_pct_l_20',\n",
    "                                              'Estimate!!Occupied housing units!!Occupied housing units!!MONTHLY HOUSING COSTS AS A PERCENTAGE OF HOUSEHOLD INCOME IN THE PAST 12 MONTHS!!$20,000 to $34,999!!20 to 29 percent': 'incm_gt_20k_l_35k_house_pct_l_30_gt_20',\n",
    "                                              'Estimate!!Occupied housing units!!Occupied housing units!!MONTHLY HOUSING COSTS AS A PERCENTAGE OF HOUSEHOLD INCOME IN THE PAST 12 MONTHS!!$20,000 to $34,999!!30 percent or more': 'incm_gt_20k_l_35k_house_pct_gt_30',\n",
    "                                              'Estimate!!Occupied housing units!!Occupied housing units!!MONTHLY HOUSING COSTS AS A PERCENTAGE OF HOUSEHOLD INCOME IN THE PAST 12 MONTHS!!$35,000 to $49,999!!Less than 20 percent': 'incm_gt_35k_l_50k_house_pct_l_20',\n",
    "                                              'Estimate!!Occupied housing units!!Occupied housing units!!MONTHLY HOUSING COSTS AS A PERCENTAGE OF HOUSEHOLD INCOME IN THE PAST 12 MONTHS!!$35,000 to $49,999!!20 to 29 percent': 'incm_gt_35k_l_50k_house_pct_l_30_gt_20',\n",
    "                                              'Estimate!!Occupied housing units!!Occupied housing units!!MONTHLY HOUSING COSTS AS A PERCENTAGE OF HOUSEHOLD INCOME IN THE PAST 12 MONTHS!!$35,000 to $49,999!!30 percent or more': 'incm_gt_35k_l_50k_house_pct_gt_30',\n",
    "                                              'Estimate!!Occupied housing units!!Occupied housing units!!MONTHLY HOUSING COSTS AS A PERCENTAGE OF HOUSEHOLD INCOME IN THE PAST 12 MONTHS!!$50,000 to $74,999!!Less than 20 percent': 'incm_gt_50k_l_75k_house_pct_l_20',\n",
    "                                              'Estimate!!Occupied housing units!!Occupied housing units!!MONTHLY HOUSING COSTS AS A PERCENTAGE OF HOUSEHOLD INCOME IN THE PAST 12 MONTHS!!$50,000 to $74,999!!20 to 29 percent': 'incm_gt_50k_l_75k_house_pct_l_30_gt_20',\n",
    "                                              'Estimate!!Occupied housing units!!Occupied housing units!!MONTHLY HOUSING COSTS AS A PERCENTAGE OF HOUSEHOLD INCOME IN THE PAST 12 MONTHS!!$50,000 to $74,999!!30 percent or more': 'incm_gt_50k_l_75k_house_pct_gt_30',\n",
    "                                              'Estimate!!Occupied housing units!!Occupied housing units!!MONTHLY HOUSING COSTS AS A PERCENTAGE OF HOUSEHOLD INCOME IN THE PAST 12 MONTHS!!$75,000 or more!!Less than 20 percent': 'incm_gt_75k_house_pct_l_20',\n",
    "                                              'Estimate!!Occupied housing units!!Occupied housing units!!MONTHLY HOUSING COSTS AS A PERCENTAGE OF HOUSEHOLD INCOME IN THE PAST 12 MONTHS!!$75,000 or more!!20 to 29 percent': 'incm_gt_75k_house_pct_l_30_gt_20',\n",
    "                                              'Estimate!!Occupied housing units!!Occupied housing units!!MONTHLY HOUSING COSTS AS A PERCENTAGE OF HOUSEHOLD INCOME IN THE PAST 12 MONTHS!!$75,000 or more!!30 percent or more': 'incm_gt_75k_house_pct_gt_30'})"
   ]
  },
  {
   "cell_type": "code",
   "execution_count": 149,
   "id": "0c7fe7fd-3b2b-47d9-ac83-c4ed1e41a21a",
   "metadata": {},
   "outputs": [
    {
     "name": "stdout",
     "output_type": "stream",
     "text": [
      "<class 'pandas.core.frame.DataFrame'>\n",
      "RangeIndex: 33120 entries, 0 to 33119\n",
      "Data columns (total 17 columns):\n",
      " #   Column                                  Non-Null Count  Dtype \n",
      "---  ------                                  --------------  ----- \n",
      " 0   zip                                     33120 non-null  object\n",
      " 1   houshold_income_2020_median             33120 non-null  object\n",
      " 2   incm_l_20k_house_pct_l_20               33120 non-null  int64 \n",
      " 3   incm_l_20k_house_pct_l_30_gt_20         33120 non-null  int64 \n",
      " 4   incm_l_20k_house_pct_gt_30              33120 non-null  int64 \n",
      " 5   incm_gt_20k_l_35k_house_pct_l_20        33120 non-null  int64 \n",
      " 6   incm_gt_20k_l_35k_house_pct_l_30_gt_20  33120 non-null  int64 \n",
      " 7   incm_gt_20k_l_35k_house_pct_gt_30       33120 non-null  int64 \n",
      " 8   incm_gt_35k_l_50k_house_pct_l_20        33120 non-null  int64 \n",
      " 9   incm_gt_35k_l_50k_house_pct_l_30_gt_20  33120 non-null  int64 \n",
      " 10  incm_gt_35k_l_50k_house_pct_gt_30       33120 non-null  int64 \n",
      " 11  incm_gt_50k_l_75k_house_pct_l_20        33120 non-null  int64 \n",
      " 12  incm_gt_50k_l_75k_house_pct_l_30_gt_20  33120 non-null  int64 \n",
      " 13  incm_gt_50k_l_75k_house_pct_gt_30       33120 non-null  int64 \n",
      " 14  incm_gt_75k_house_pct_l_20              33120 non-null  int64 \n",
      " 15  incm_gt_75k_house_pct_l_30_gt_20        33120 non-null  int64 \n",
      " 16  incm_gt_75k_house_pct_gt_30             33120 non-null  int64 \n",
      "dtypes: int64(15), object(2)\n",
      "memory usage: 4.3+ MB\n"
     ]
    }
   ],
   "source": [
    "emp_status_2.info()"
   ]
  },
  {
   "cell_type": "code",
   "execution_count": 150,
   "id": "9e4184a0-a269-46c6-b5ba-77ef47e909ed",
   "metadata": {},
   "outputs": [],
   "source": [
    "# Remove ZCTA5 string and convert houshold_income_2020_median to int. For non-disclosed figures due to masking concerns, I use the median value of the median household income\n",
    "emp_status_2['zip'] = emp_status_2['zip'].replace('ZCTA5 ', '', regex=True)\n",
    "\n",
    "emp_status_2['houshold_income_2020_median'] = emp_status_2['houshold_income_2020_median'].replace('250,000+', '250000')\n",
    "emp_status_2['houshold_income_2020_median'] = emp_status_2['houshold_income_2020_median'].replace('2,500-', np.nan, regex=True)\n",
    "emp_status_2['houshold_income_2020_median'] = emp_status_2['houshold_income_2020_median'].replace('-', np.nan, regex=True)\n",
    "\n",
    "emp_status_2['houshold_income_2020_median'] = emp_status_2['houshold_income_2020_median'].astype(float)\n",
    "emp_status_2.loc[emp_status_2['houshold_income_2020_median'] == np.nan, 'houshold_income_2020_median'] = emp_status_2['houshold_income_2020_median'].median"
   ]
  },
  {
   "cell_type": "code",
   "execution_count": 151,
   "id": "0832c13e-7e4c-4f6d-84a7-4c38e681049a",
   "metadata": {},
   "outputs": [
    {
     "data": {
      "text/plain": [
       "Index(['houshold_income_2020_median', 'incm_l_20k_house_pct_l_20',\n",
       "       'incm_l_20k_house_pct_l_30_gt_20', 'incm_l_20k_house_pct_gt_30',\n",
       "       'incm_gt_20k_l_35k_house_pct_l_20',\n",
       "       'incm_gt_20k_l_35k_house_pct_l_30_gt_20',\n",
       "       'incm_gt_20k_l_35k_house_pct_gt_30', 'incm_gt_35k_l_50k_house_pct_l_20',\n",
       "       'incm_gt_35k_l_50k_house_pct_l_30_gt_20',\n",
       "       'incm_gt_35k_l_50k_house_pct_gt_30', 'incm_gt_50k_l_75k_house_pct_l_20',\n",
       "       'incm_gt_50k_l_75k_house_pct_l_30_gt_20',\n",
       "       'incm_gt_50k_l_75k_house_pct_gt_30', 'incm_gt_75k_house_pct_l_20',\n",
       "       'incm_gt_75k_house_pct_l_30_gt_20', 'incm_gt_75k_house_pct_gt_30'],\n",
       "      dtype='object')"
      ]
     },
     "execution_count": 151,
     "metadata": {},
     "output_type": "execute_result"
    }
   ],
   "source": [
    "emp_status_2.columns[1:]"
   ]
  },
  {
   "cell_type": "code",
   "execution_count": 185,
   "id": "d0e7fc73-c9f5-483f-a0cf-7c70bf231c50",
   "metadata": {},
   "outputs": [
    {
     "data": {
      "text/plain": [
       "<AxesSubplot:>"
      ]
     },
     "execution_count": 185,
     "metadata": {},
     "output_type": "execute_result"
    },
    {
     "data": {
      "image/png": "[encoded data removed]",
      "text/plain": [
       "<Figure size 432x288 with 1 Axes>"
      ]
     },
     "metadata": {
      "needs_background": "light"
     },
     "output_type": "display_data"
    }
   ],
   "source": [
    "emp_status_2['houshold_income_2020_median'].hist(bins=100)"
   ]
  },
  {
   "cell_type": "code",
   "execution_count": 187,
   "id": "e6eb11d0-a272-4c50-b0c3-299c55b6ecc1",
   "metadata": {},
   "outputs": [
    {
     "data": {
      "text/plain": [
       "<AxesSubplot:>"
      ]
     },
     "execution_count": 187,
     "metadata": {},
     "output_type": "execute_result"
    },
    {
     "data": {
      "image/png": "[encoded data removed]",
      "text/plain": [
       "<Figure size 432x288 with 1 Axes>"
      ]
     },
     "metadata": {
      "needs_background": "light"
     },
     "output_type": "display_data"
    }
   ],
   "source": [
    "emp_status_2['incm_l_20k_house_pct_l_20'].hist(bins=100)"
   ]
  },
  {
   "cell_type": "code",
   "execution_count": 188,
   "id": "c3a46a0d-7914-4aaf-a22e-7ca4aae9bafb",
   "metadata": {},
   "outputs": [
    {
     "data": {
      "text/plain": [
       "<AxesSubplot:>"
      ]
     },
     "execution_count": 188,
     "metadata": {},
     "output_type": "execute_result"
    },
    {
     "data": {
      "image/png": "[encoded data removed]",
      "text/plain": [
       "<Figure size 432x288 with 1 Axes>"
      ]
     },
     "metadata": {
      "needs_background": "light"
     },
     "output_type": "display_data"
    }
   ],
   "source": [
    "emp_status_2['incm_l_20k_house_pct_l_30_gt_20'].hist(bins=100)"
   ]
  },
  {
   "cell_type": "code",
   "execution_count": 189,
   "id": "6add4a70-0920-4dff-a38d-122e26178e45",
   "metadata": {},
   "outputs": [
    {
     "data": {
      "text/plain": [
       "<AxesSubplot:>"
      ]
     },
     "execution_count": 189,
     "metadata": {},
     "output_type": "execute_result"
    },
    {
     "data": {
      "image/png": "[encoded data removed]",
      "text/plain": [
       "<Figure size 432x288 with 1 Axes>"
      ]
     },
     "metadata": {
      "needs_background": "light"
     },
     "output_type": "display_data"
    }
   ],
   "source": [
    "emp_status_2['incm_gt_20k_l_35k_house_pct_l_20'].hist(bins=100)"
   ]
  },
  {
   "cell_type": "code",
   "execution_count": 190,
   "id": "7ac6dfba-2627-424d-a0c2-5fb15754aaab",
   "metadata": {},
   "outputs": [
    {
     "data": {
      "text/plain": [
       "<AxesSubplot:>"
      ]
     },
     "execution_count": 190,
     "metadata": {},
     "output_type": "execute_result"
    },
    {
     "data": {
      "image/png": "[encoded data removed]",
      "text/plain": [
       "<Figure size 432x288 with 1 Axes>"
      ]
     },
     "metadata": {
      "needs_background": "light"
     },
     "output_type": "display_data"
    }
   ],
   "source": [
    "emp_status_2['incm_gt_20k_l_35k_house_pct_l_30_gt_20'].hist(bins=100)"
   ]
  },
  {
   "cell_type": "code",
   "execution_count": 191,
   "id": "ea680c2e-ce82-40a1-813c-0347345046ff",
   "metadata": {},
   "outputs": [
    {
     "data": {
      "text/plain": [
       "<AxesSubplot:>"
      ]
     },
     "execution_count": 191,
     "metadata": {},
     "output_type": "execute_result"
    },
    {
     "data": {
      "image/png": "[encoded data removed]",
      "text/plain": [
       "<Figure size 432x288 with 1 Axes>"
      ]
     },
     "metadata": {
      "needs_background": "light"
     },
     "output_type": "display_data"
    }
   ],
   "source": [
    "emp_status_2['incm_gt_20k_l_35k_house_pct_gt_30'].hist(bins=100)"
   ]
  },
  {
   "cell_type": "code",
   "execution_count": 192,
   "id": "159661c2-7796-4f7a-a84c-30f766d6256e",
   "metadata": {},
   "outputs": [
    {
     "data": {
      "text/plain": [
       "<AxesSubplot:>"
      ]
     },
     "execution_count": 192,
     "metadata": {},
     "output_type": "execute_result"
    },
    {
     "data": {
      "image/png": "[encoded data removed]",
      "text/plain": [
       "<Figure size 432x288 with 1 Axes>"
      ]
     },
     "metadata": {
      "needs_background": "light"
     },
     "output_type": "display_data"
    }
   ],
   "source": [
    "emp_status_2['incm_gt_35k_l_50k_house_pct_l_20'].hist(bins=100)"
   ]
  },
  {
   "cell_type": "code",
   "execution_count": 193,
   "id": "7bf4af14-933d-4824-8114-33ff4d5ee405",
   "metadata": {},
   "outputs": [
    {
     "data": {
      "text/plain": [
       "<AxesSubplot:>"
      ]
     },
     "execution_count": 193,
     "metadata": {},
     "output_type": "execute_result"
    },
    {
     "data": {
      "image/png": "[encoded data removed]",
      "text/plain": [
       "<Figure size 432x288 with 1 Axes>"
      ]
     },
     "metadata": {
      "needs_background": "light"
     },
     "output_type": "display_data"
    }
   ],
   "source": [
    "emp_status_2['incm_gt_35k_l_50k_house_pct_l_30_gt_20'].hist(bins=100)"
   ]
  },
  {
   "cell_type": "code",
   "execution_count": 194,
   "id": "0854a444-a861-4bdc-ace0-36e8c28bde61",
   "metadata": {},
   "outputs": [
    {
     "data": {
      "text/plain": [
       "<AxesSubplot:>"
      ]
     },
     "execution_count": 194,
     "metadata": {},
     "output_type": "execute_result"
    },
    {
     "data": {
      "image/png": "[encoded data removed]",
      "text/plain": [
       "<Figure size 432x288 with 1 Axes>"
      ]
     },
     "metadata": {
      "needs_background": "light"
     },
     "output_type": "display_data"
    }
   ],
   "source": [
    "emp_status_2['incm_gt_35k_l_50k_house_pct_gt_30'].hist(bins=100)"
   ]
  },
  {
   "cell_type": "code",
   "execution_count": 195,
   "id": "805efcbf-a8b9-4a7a-8f38-e811cc1a776b",
   "metadata": {},
   "outputs": [
    {
     "data": {
      "text/plain": [
       "<AxesSubplot:>"
      ]
     },
     "execution_count": 195,
     "metadata": {},
     "output_type": "execute_result"
    },
    {
     "data": {
      "image/png": "[encoded data removed]",
      "text/plain": [
       "<Figure size 432x288 with 1 Axes>"
      ]
     },
     "metadata": {
      "needs_background": "light"
     },
     "output_type": "display_data"
    }
   ],
   "source": [
    "emp_status_2['incm_gt_50k_l_75k_house_pct_l_20'].hist(bins=100)"
   ]
  },
  {
   "cell_type": "code",
   "execution_count": 196,
   "id": "f57cf15f-819c-4d69-806d-7527b8756a3a",
   "metadata": {},
   "outputs": [
    {
     "data": {
      "text/plain": [
       "<AxesSubplot:>"
      ]
     },
     "execution_count": 196,
     "metadata": {},
     "output_type": "execute_result"
    },
    {
     "data": {
      "image/png": "[encoded data removed]",
      "text/plain": [
       "<Figure size 432x288 with 1 Axes>"
      ]
     },
     "metadata": {
      "needs_background": "light"
     },
     "output_type": "display_data"
    }
   ],
   "source": [
    "emp_status_2['incm_gt_50k_l_75k_house_pct_l_30_gt_20'].hist(bins=100)"
   ]
  },
  {
   "cell_type": "code",
   "execution_count": 197,
   "id": "612478f3-f6ca-4e04-881a-bb5c44756bfc",
   "metadata": {},
   "outputs": [
    {
     "data": {
      "text/plain": [
       "<AxesSubplot:>"
      ]
     },
     "execution_count": 197,
     "metadata": {},
     "output_type": "execute_result"
    },
    {
     "data": {
      "image/png": "[encoded data removed]",
      "text/plain": [
       "<Figure size 432x288 with 1 Axes>"
      ]
     },
     "metadata": {
      "needs_background": "light"
     },
     "output_type": "display_data"
    }
   ],
   "source": [
    "emp_status_2['incm_gt_50k_l_75k_house_pct_gt_30'].hist(bins=100)"
   ]
  },
  {
   "cell_type": "code",
   "execution_count": 198,
   "id": "74484ee1-d717-45ad-9772-8c2f63d4bef3",
   "metadata": {},
   "outputs": [
    {
     "data": {
      "text/plain": [
       "<AxesSubplot:>"
      ]
     },
     "execution_count": 198,
     "metadata": {},
     "output_type": "execute_result"
    },
    {
     "data": {
      "image/png": "[encoded data removed]",
      "text/plain": [
       "<Figure size 432x288 with 1 Axes>"
      ]
     },
     "metadata": {
      "needs_background": "light"
     },
     "output_type": "display_data"
    }
   ],
   "source": [
    "emp_status_2['incm_gt_75k_house_pct_l_20'].hist(bins=100)"
   ]
  },
  {
   "cell_type": "code",
   "execution_count": 199,
   "id": "50df3ba7-1297-4866-8c81-ed984e54b711",
   "metadata": {},
   "outputs": [
    {
     "data": {
      "text/plain": [
       "<AxesSubplot:>"
      ]
     },
     "execution_count": 199,
     "metadata": {},
     "output_type": "execute_result"
    },
    {
     "data": {
      "image/png": "[encoded data removed]",
      "text/plain": [
       "<Figure size 432x288 with 1 Axes>"
      ]
     },
     "metadata": {
      "needs_background": "light"
     },
     "output_type": "display_data"
    }
   ],
   "source": [
    "emp_status_2['incm_gt_75k_house_pct_l_30_gt_20'].hist(bins=100)"
   ]
  },
  {
   "cell_type": "code",
   "execution_count": 200,
   "id": "6531c0a6-850a-42ab-b0eb-6a53c79c4f1d",
   "metadata": {},
   "outputs": [
    {
     "data": {
      "text/plain": [
       "<AxesSubplot:>"
      ]
     },
     "execution_count": 200,
     "metadata": {},
     "output_type": "execute_result"
    },
    {
     "data": {
      "image/png": "[encoded data removed]",
      "text/plain": [
       "<Figure size 432x288 with 1 Axes>"
      ]
     },
     "metadata": {
      "needs_background": "light"
     },
     "output_type": "display_data"
    }
   ],
   "source": [
    "emp_status_2['incm_gt_75k_house_pct_gt_30'].hist(bins=100)"
   ]
  },
  {
   "cell_type": "markdown",
   "id": "02312873-1af2-4044-89d3-b5b9d6ede856",
   "metadata": {},
   "source": [
    "## Nonemployer\n"
   ]
  },
  {
   "cell_type": "code",
   "execution_count": 407,
   "id": "ca3e9f11-8498-44ce-92f9-71718e294c8f",
   "metadata": {},
   "outputs": [],
   "source": [
    "nonemployer = pd.read_csv('https://raw.githubusercontent.com/jhancuch/sba-loan-credit-analysis/main/data/nonemployer/nonemp18st.txt', delimiter=',', encoding = 'unicode_escape', engine ='python')"
   ]
  },
  {
   "cell_type": "code",
   "execution_count": 408,
   "id": "16616449-4b81-4a53-a00e-10b9e6097252",
   "metadata": {},
   "outputs": [
    {
     "data": {
      "text/html": [
       "<div>\n",
       "<style scoped>\n",
       "    .dataframe tbody tr th:only-of-type {\n",
       "        vertical-align: middle;\n",
       "    }\n",
       "\n",
       "    .dataframe tbody tr th {\n",
       "        vertical-align: top;\n",
       "    }\n",
       "\n",
       "    .dataframe thead th {\n",
       "        text-align: right;\n",
       "    }\n",
       "</style>\n",
       "<table border=\"1\" class=\"dataframe\">\n",
       "  <thead>\n",
       "    <tr style=\"text-align: right;\">\n",
       "      <th></th>\n",
       "      <th>ST</th>\n",
       "      <th>NAICS</th>\n",
       "      <th>LFO</th>\n",
       "      <th>ESTAB_F</th>\n",
       "      <th>ESTAB</th>\n",
       "      <th>RCPTOT_N_F</th>\n",
       "      <th>RCPTOT_F</th>\n",
       "      <th>RCPTOT</th>\n",
       "    </tr>\n",
       "  </thead>\n",
       "  <tbody>\n",
       "    <tr>\n",
       "      <th>0</th>\n",
       "      <td>1</td>\n",
       "      <td>00</td>\n",
       "      <td>-</td>\n",
       "      <td>NaN</td>\n",
       "      <td>336445</td>\n",
       "      <td>G</td>\n",
       "      <td>NaN</td>\n",
       "      <td>14797010</td>\n",
       "    </tr>\n",
       "    <tr>\n",
       "      <th>1</th>\n",
       "      <td>1</td>\n",
       "      <td>00</td>\n",
       "      <td>C</td>\n",
       "      <td>NaN</td>\n",
       "      <td>2120</td>\n",
       "      <td>G</td>\n",
       "      <td>NaN</td>\n",
       "      <td>284011</td>\n",
       "    </tr>\n",
       "    <tr>\n",
       "      <th>2</th>\n",
       "      <td>1</td>\n",
       "      <td>00</td>\n",
       "      <td>Z</td>\n",
       "      <td>NaN</td>\n",
       "      <td>10736</td>\n",
       "      <td>G</td>\n",
       "      <td>NaN</td>\n",
       "      <td>1494019</td>\n",
       "    </tr>\n",
       "    <tr>\n",
       "      <th>3</th>\n",
       "      <td>1</td>\n",
       "      <td>00</td>\n",
       "      <td>S</td>\n",
       "      <td>NaN</td>\n",
       "      <td>300297</td>\n",
       "      <td>G</td>\n",
       "      <td>NaN</td>\n",
       "      <td>9998975</td>\n",
       "    </tr>\n",
       "    <tr>\n",
       "      <th>4</th>\n",
       "      <td>1</td>\n",
       "      <td>00</td>\n",
       "      <td>P</td>\n",
       "      <td>NaN</td>\n",
       "      <td>23292</td>\n",
       "      <td>G</td>\n",
       "      <td>NaN</td>\n",
       "      <td>3020005</td>\n",
       "    </tr>\n",
       "  </tbody>\n",
       "</table>\n",
       "</div>"
      ],
      "text/plain": [
       "   ST NAICS LFO ESTAB_F   ESTAB RCPTOT_N_F RCPTOT_F    RCPTOT\n",
       "0   1    00   -     NaN  336445          G      NaN  14797010\n",
       "1   1    00   C     NaN    2120          G      NaN    284011\n",
       "2   1    00   Z     NaN   10736          G      NaN   1494019\n",
       "3   1    00   S     NaN  300297          G      NaN   9998975\n",
       "4   1    00   P     NaN   23292          G      NaN   3020005"
      ]
     },
     "execution_count": 408,
     "metadata": {},
     "output_type": "execute_result"
    }
   ],
   "source": [
    "nonemployer.head()"
   ]
  },
  {
   "cell_type": "code",
   "execution_count": 353,
   "id": "8efdb35e-446c-4066-a8e9-7b7be7a64247",
   "metadata": {},
   "outputs": [],
   "source": [
    "nonemployer1 = nonemployer[['ST', 'NAICS', 'RCPTOT']]"
   ]
  },
  {
   "cell_type": "code",
   "execution_count": 354,
   "id": "4474ed0a-39fc-4415-8d5e-c2235f482944",
   "metadata": {},
   "outputs": [],
   "source": [
    "# Rename columns\n",
    "nonemployer2 = nonemployer1.rename(columns = {\"ST\": \"state_fips\", \"NAICS\": \"naics\", \"RCPTOT\": \"revenue_total\"})"
   ]
  },
  {
   "cell_type": "code",
   "execution_count": 355,
   "id": "a29f3713-91a8-401e-b10c-814d5a62208a",
   "metadata": {},
   "outputs": [
    {
     "data": {
      "text/plain": [
       "12    2314\n",
       "6     2300\n",
       "36    2299\n",
       "48    2299\n",
       "17    2226\n",
       "42    2203\n",
       "13    2181\n",
       "26    2169\n",
       "39    2162\n",
       "34    2153\n",
       "37    2149\n",
       "51    2115\n",
       "8     2096\n",
       "25    2084\n",
       "22    2066\n",
       "4     2065\n",
       "53    2058\n",
       "29    2032\n",
       "18    2031\n",
       "24    2031\n",
       "47    2022\n",
       "27    2021\n",
       "40    2001\n",
       "55    1998\n",
       "32    1991\n",
       "45    1978\n",
       "1     1967\n",
       "21    1965\n",
       "41    1961\n",
       "49    1957\n",
       "9     1899\n",
       "5     1895\n",
       "28    1886\n",
       "20    1868\n",
       "19    1845\n",
       "16    1762\n",
       "31    1735\n",
       "30    1728\n",
       "35    1724\n",
       "10    1714\n",
       "15    1682\n",
       "56    1642\n",
       "23    1630\n",
       "33    1622\n",
       "54    1606\n",
       "44    1541\n",
       "46    1525\n",
       "38    1500\n",
       "2     1439\n",
       "50    1435\n",
       "11    1265\n",
       "Name: state_fips, dtype: int64"
      ]
     },
     "execution_count": 355,
     "metadata": {},
     "output_type": "execute_result"
    }
   ],
   "source": [
    "nonemployer2['state_fips'].value_counts()"
   ]
  },
  {
   "cell_type": "code",
   "execution_count": 356,
   "id": "18a38bcd-d8a3-4b9c-b259-a78f226906f0",
   "metadata": {},
   "outputs": [
    {
     "data": {
      "text/plain": [
       "00        255\n",
       "5312      255\n",
       "541       255\n",
       "54        255\n",
       "5617      255\n",
       "         ... \n",
       "532281     81\n",
       "3252       77\n",
       "56145      77\n",
       "532283     54\n",
       "3274       26\n",
       "Name: naics, Length: 470, dtype: int64"
      ]
     },
     "execution_count": 356,
     "metadata": {},
     "output_type": "execute_result"
    }
   ],
   "source": [
    "nonemployer2['naics'].value_counts()"
   ]
  },
  {
   "cell_type": "code",
   "execution_count": 362,
   "id": "20d39904-f184-4266-a735-5b76a1a5ba16",
   "metadata": {},
   "outputs": [],
   "source": [
    "# Subset to if only the naics is three digits long \n",
    "nonemployer3_list = []\n",
    "\n",
    "for i in range(0, len(nonemployer2)):\n",
    "    if len(nonemployer2.loc[i, 'naics']) == 3:\n",
    "        temp_list = list(nonemployer2.iloc[i, :])\n",
    "        nonemployer3_list.append(temp_list)\n",
    "        \n",
    "nonemployer3 = pd.DataFrame(nonemployer3_list, columns=['state_fips', 'naics', 'revenue_total'])"
   ]
  },
  {
   "cell_type": "code",
   "execution_count": 364,
   "id": "705b2880-76e8-4e1c-8480-2661147644a3",
   "metadata": {},
   "outputs": [
    {
     "data": {
      "text/plain": [
       "44    1930\n",
       "33    1763\n",
       "48    1458\n",
       "51    1429\n",
       "32    1359\n",
       "31    1092\n",
       "45     981\n",
       "52     760\n",
       "23     760\n",
       "42     750\n",
       "81     746\n",
       "11     720\n",
       "62     705\n",
       "53     666\n",
       "71     659\n",
       "21     548\n",
       "72     508\n",
       "56     485\n",
       "49     432\n",
       "54     255\n",
       "61     253\n",
       "22     248\n",
       "Name: naics, dtype: int64"
      ]
     },
     "execution_count": 364,
     "metadata": {},
     "output_type": "execute_result"
    }
   ],
   "source": [
    "# adjust naics to only two digits\n",
    "nonemployer3['naics'] = nonemployer3['naics'].astype(str)\n",
    "nonemployer3['naics'] = nonemployer3['naics'].str.slice(0, 2)\n",
    "nonemployer3['naics'].value_counts()"
   ]
  },
  {
   "cell_type": "code",
   "execution_count": 365,
   "id": "5a533aee-aca7-4f88-bc94-1814fa1c0d31",
   "metadata": {},
   "outputs": [
    {
     "data": {
      "text/plain": [
       "<AxesSubplot:>"
      ]
     },
     "execution_count": 365,
     "metadata": {},
     "output_type": "execute_result"
    },
    {
     "data": {
      "image/png": "[encoded data removed]",
      "text/plain": [
       "<Figure size 432x288 with 1 Axes>"
      ]
     },
     "metadata": {
      "needs_background": "light"
     },
     "output_type": "display_data"
    }
   ],
   "source": [
    "nonemployer2['revenue_total'].hist(bins=100)"
   ]
  },
  {
   "cell_type": "markdown",
   "id": "84f34aa4-cd0f-4014-8cca-139da3e8ce92",
   "metadata": {},
   "source": [
    "## Manufacturing"
   ]
  },
  {
   "cell_type": "code",
   "execution_count": 405,
   "id": "e0bc78e4-ca17-490e-b5c9-e6cc721f4d4a",
   "metadata": {},
   "outputs": [],
   "source": [
    "manufacturing = pd.read_csv('https://raw.githubusercontent.com/jhancuch/sba-loan-credit-analysis/main/data/manufacturing/manufacturing2020.csv')"
   ]
  },
  {
   "cell_type": "code",
   "execution_count": 406,
   "id": "0a6a2c83-1823-4dd8-a091-5fca7f401b60",
   "metadata": {},
   "outputs": [
    {
     "data": {
      "text/html": [
       "<div>\n",
       "<style scoped>\n",
       "    .dataframe tbody tr th:only-of-type {\n",
       "        vertical-align: middle;\n",
       "    }\n",
       "\n",
       "    .dataframe tbody tr th {\n",
       "        vertical-align: top;\n",
       "    }\n",
       "\n",
       "    .dataframe thead th {\n",
       "        text-align: right;\n",
       "    }\n",
       "</style>\n",
       "<table border=\"1\" class=\"dataframe\">\n",
       "  <thead>\n",
       "    <tr style=\"text-align: right;\">\n",
       "      <th></th>\n",
       "      <th>Geographic Area Name (NAME)</th>\n",
       "      <th>2017 NAICS code (NAICS2017)</th>\n",
       "      <th>Meaning of NAICS code (NAICS2017_LABEL)</th>\n",
       "      <th>Year (YEAR)</th>\n",
       "      <th>Sales, value of shipments, or revenue ($1,000) (RCPTOT)</th>\n",
       "      <th>Relative standard error for estimate of sales, value of shipments, or revenue (%) (RCPTOT_S)</th>\n",
       "      <th>Annual payroll ($1,000) (PAYANN)</th>\n",
       "      <th>Relative standard error for estimate of annual payroll (%) (PAYANN_S)</th>\n",
       "      <th>First-quarter payroll ($1,000) (PAYQTR1)</th>\n",
       "      <th>Relative standard error for estimate of first-quarter payroll (%) (PAYQTR1_S)</th>\n",
       "      <th>...</th>\n",
       "      <th>Relative standard error for estimate of advertising and promotional services (%) (PCHADVT_S)</th>\n",
       "      <th>Purchased professional and technical services ($1,000) (PCHPRTE)</th>\n",
       "      <th>Relative standard error for estimate of purchased professional and technical services (%) (PCHPRTE_S)</th>\n",
       "      <th>Taxes and license fees ($1,000) (PCHTAX)</th>\n",
       "      <th>Relative standard error for estimate of taxes and license fees (%) (PCHTAX_S)</th>\n",
       "      <th>All other operating expenses ($1,000) (PCHOEXP)</th>\n",
       "      <th>Relative standard error for estimate of all other operating expenses (%) (PCHOEXP_S)</th>\n",
       "      <th>Range indicating percent of total sales, value of shipments, or revenue imputed (RCPTOT_IMP)</th>\n",
       "      <th>Range indicating percent of total annual payroll imputed (PAYANN_IMP)</th>\n",
       "      <th>Range indicating percent of total employees imputed (EMP_IMP)</th>\n",
       "    </tr>\n",
       "  </thead>\n",
       "  <tbody>\n",
       "    <tr>\n",
       "      <th>0</th>\n",
       "      <td>Alabama</td>\n",
       "      <td>31-33</td>\n",
       "      <td>Manufacturing</td>\n",
       "      <td>2018</td>\n",
       "      <td>137,578,434</td>\n",
       "      <td>0.2</td>\n",
       "      <td>13,356,360</td>\n",
       "      <td>0.5</td>\n",
       "      <td>3,319,728</td>\n",
       "      <td>0.7</td>\n",
       "      <td>...</td>\n",
       "      <td>N</td>\n",
       "      <td>N</td>\n",
       "      <td>N</td>\n",
       "      <td>N</td>\n",
       "      <td>N</td>\n",
       "      <td>N</td>\n",
       "      <td>N</td>\n",
       "      <td>30% to less than 40%</td>\n",
       "      <td>20% to less than 30%</td>\n",
       "      <td>30% to less than 40%</td>\n",
       "    </tr>\n",
       "    <tr>\n",
       "      <th>1</th>\n",
       "      <td>Alabama</td>\n",
       "      <td>31-33</td>\n",
       "      <td>Manufacturing</td>\n",
       "      <td>2019</td>\n",
       "      <td>137,962,780</td>\n",
       "      <td>2.0</td>\n",
       "      <td>14,280,134</td>\n",
       "      <td>1.9</td>\n",
       "      <td>3,561,153</td>\n",
       "      <td>1.9</td>\n",
       "      <td>...</td>\n",
       "      <td>N</td>\n",
       "      <td>N</td>\n",
       "      <td>N</td>\n",
       "      <td>N</td>\n",
       "      <td>N</td>\n",
       "      <td>N</td>\n",
       "      <td>N</td>\n",
       "      <td>30% to less than 40%</td>\n",
       "      <td>20% to less than 30%</td>\n",
       "      <td>30% to less than 40%</td>\n",
       "    </tr>\n",
       "    <tr>\n",
       "      <th>2</th>\n",
       "      <td>Alabama</td>\n",
       "      <td>31-33</td>\n",
       "      <td>Manufacturing</td>\n",
       "      <td>2020</td>\n",
       "      <td>128,150,773</td>\n",
       "      <td>2.3</td>\n",
       "      <td>14,098,274</td>\n",
       "      <td>2.1</td>\n",
       "      <td>3,676,892</td>\n",
       "      <td>2.2</td>\n",
       "      <td>...</td>\n",
       "      <td>N</td>\n",
       "      <td>N</td>\n",
       "      <td>N</td>\n",
       "      <td>N</td>\n",
       "      <td>N</td>\n",
       "      <td>N</td>\n",
       "      <td>N</td>\n",
       "      <td>20% to less than 30%</td>\n",
       "      <td>20% to less than 30%</td>\n",
       "      <td>Less than 10%</td>\n",
       "    </tr>\n",
       "    <tr>\n",
       "      <th>3</th>\n",
       "      <td>Alaska</td>\n",
       "      <td>31-33</td>\n",
       "      <td>Manufacturing</td>\n",
       "      <td>2018</td>\n",
       "      <td>6,869,580</td>\n",
       "      <td>0.6</td>\n",
       "      <td>615,024</td>\n",
       "      <td>0.7</td>\n",
       "      <td>151,226</td>\n",
       "      <td>1.5</td>\n",
       "      <td>...</td>\n",
       "      <td>N</td>\n",
       "      <td>N</td>\n",
       "      <td>N</td>\n",
       "      <td>N</td>\n",
       "      <td>N</td>\n",
       "      <td>N</td>\n",
       "      <td>N</td>\n",
       "      <td>60% to less than 70%</td>\n",
       "      <td>40% to less than 50%</td>\n",
       "      <td>60% to less than 70%</td>\n",
       "    </tr>\n",
       "    <tr>\n",
       "      <th>4</th>\n",
       "      <td>Alaska</td>\n",
       "      <td>31-33</td>\n",
       "      <td>Manufacturing</td>\n",
       "      <td>2019</td>\n",
       "      <td>6,443,039</td>\n",
       "      <td>0.6</td>\n",
       "      <td>644,442</td>\n",
       "      <td>1.0</td>\n",
       "      <td>152,007</td>\n",
       "      <td>0.8</td>\n",
       "      <td>...</td>\n",
       "      <td>N</td>\n",
       "      <td>N</td>\n",
       "      <td>N</td>\n",
       "      <td>N</td>\n",
       "      <td>N</td>\n",
       "      <td>N</td>\n",
       "      <td>N</td>\n",
       "      <td>20% to less than 30%</td>\n",
       "      <td>30% to less than 40%</td>\n",
       "      <td>50% to less than 60%</td>\n",
       "    </tr>\n",
       "  </tbody>\n",
       "</table>\n",
       "<p>5 rows × 109 columns</p>\n",
       "</div>"
      ],
      "text/plain": [
       "  Geographic Area Name (NAME) 2017 NAICS code (NAICS2017)  \\\n",
       "0                     Alabama                       31-33   \n",
       "1                     Alabama                       31-33   \n",
       "2                     Alabama                       31-33   \n",
       "3                      Alaska                       31-33   \n",
       "4                      Alaska                       31-33   \n",
       "\n",
       "  Meaning of NAICS code (NAICS2017_LABEL)  Year (YEAR)  \\\n",
       "0                           Manufacturing         2018   \n",
       "1                           Manufacturing         2019   \n",
       "2                           Manufacturing         2020   \n",
       "3                           Manufacturing         2018   \n",
       "4                           Manufacturing         2019   \n",
       "\n",
       "  Sales, value of shipments, or revenue ($1,000) (RCPTOT)  \\\n",
       "0                                        137,578,434        \n",
       "1                                        137,962,780        \n",
       "2                                        128,150,773        \n",
       "3                                          6,869,580        \n",
       "4                                          6,443,039        \n",
       "\n",
       "   Relative standard error for estimate of sales, value of shipments, or revenue (%) (RCPTOT_S)  \\\n",
       "0                                                0.2                                              \n",
       "1                                                2.0                                              \n",
       "2                                                2.3                                              \n",
       "3                                                0.6                                              \n",
       "4                                                0.6                                              \n",
       "\n",
       "  Annual payroll ($1,000) (PAYANN)  \\\n",
       "0                       13,356,360   \n",
       "1                       14,280,134   \n",
       "2                       14,098,274   \n",
       "3                          615,024   \n",
       "4                          644,442   \n",
       "\n",
       "   Relative standard error for estimate of annual payroll (%) (PAYANN_S)  \\\n",
       "0                                                0.5                       \n",
       "1                                                1.9                       \n",
       "2                                                2.1                       \n",
       "3                                                0.7                       \n",
       "4                                                1.0                       \n",
       "\n",
       "  First-quarter payroll ($1,000) (PAYQTR1)  \\\n",
       "0                                3,319,728   \n",
       "1                                3,561,153   \n",
       "2                                3,676,892   \n",
       "3                                  151,226   \n",
       "4                                  152,007   \n",
       "\n",
       "   Relative standard error for estimate of first-quarter payroll (%) (PAYQTR1_S)  \\\n",
       "0                                                0.7                               \n",
       "1                                                1.9                               \n",
       "2                                                2.2                               \n",
       "3                                                1.5                               \n",
       "4                                                0.8                               \n",
       "\n",
       "   ...  \\\n",
       "0  ...   \n",
       "1  ...   \n",
       "2  ...   \n",
       "3  ...   \n",
       "4  ...   \n",
       "\n",
       "  Relative standard error for estimate of advertising and promotional services (%) (PCHADVT_S)  \\\n",
       "0                                                  N                                             \n",
       "1                                                  N                                             \n",
       "2                                                  N                                             \n",
       "3                                                  N                                             \n",
       "4                                                  N                                             \n",
       "\n",
       "   Purchased professional and technical services ($1,000) (PCHPRTE)  \\\n",
       "0                                                  N                  \n",
       "1                                                  N                  \n",
       "2                                                  N                  \n",
       "3                                                  N                  \n",
       "4                                                  N                  \n",
       "\n",
       "  Relative standard error for estimate of purchased professional and technical services (%) (PCHPRTE_S)  \\\n",
       "0                                                  N                                                      \n",
       "1                                                  N                                                      \n",
       "2                                                  N                                                      \n",
       "3                                                  N                                                      \n",
       "4                                                  N                                                      \n",
       "\n",
       "   Taxes and license fees ($1,000) (PCHTAX)  \\\n",
       "0                                         N   \n",
       "1                                         N   \n",
       "2                                         N   \n",
       "3                                         N   \n",
       "4                                         N   \n",
       "\n",
       "  Relative standard error for estimate of taxes and license fees (%) (PCHTAX_S)  \\\n",
       "0                                                  N                              \n",
       "1                                                  N                              \n",
       "2                                                  N                              \n",
       "3                                                  N                              \n",
       "4                                                  N                              \n",
       "\n",
       "   All other operating expenses ($1,000) (PCHOEXP)  \\\n",
       "0                                                N   \n",
       "1                                                N   \n",
       "2                                                N   \n",
       "3                                                N   \n",
       "4                                                N   \n",
       "\n",
       "  Relative standard error for estimate of all other operating expenses (%) (PCHOEXP_S)  \\\n",
       "0                                                  N                                     \n",
       "1                                                  N                                     \n",
       "2                                                  N                                     \n",
       "3                                                  N                                     \n",
       "4                                                  N                                     \n",
       "\n",
       "   Range indicating percent of total sales, value of shipments, or revenue imputed (RCPTOT_IMP)  \\\n",
       "0                               30% to less than 40%                                              \n",
       "1                               30% to less than 40%                                              \n",
       "2                               20% to less than 30%                                              \n",
       "3                               60% to less than 70%                                              \n",
       "4                               20% to less than 30%                                              \n",
       "\n",
       "  Range indicating percent of total annual payroll imputed (PAYANN_IMP)  \\\n",
       "0                               20% to less than 30%                      \n",
       "1                               20% to less than 30%                      \n",
       "2                               20% to less than 30%                      \n",
       "3                               40% to less than 50%                      \n",
       "4                               30% to less than 40%                      \n",
       "\n",
       "   Range indicating percent of total employees imputed (EMP_IMP)  \n",
       "0                               30% to less than 40%              \n",
       "1                               30% to less than 40%              \n",
       "2                                      Less than 10%              \n",
       "3                               60% to less than 70%              \n",
       "4                               50% to less than 60%              \n",
       "\n",
       "[5 rows x 109 columns]"
      ]
     },
     "execution_count": 406,
     "metadata": {},
     "output_type": "execute_result"
    }
   ],
   "source": [
    "manufacturing.head()"
   ]
  },
  {
   "cell_type": "code",
   "execution_count": 208,
   "id": "58e585b5-bfe2-4c8e-9c56-b765e6ccb797",
   "metadata": {},
   "outputs": [
    {
     "name": "stdout",
     "output_type": "stream",
     "text": [
      "<class 'pandas.core.frame.DataFrame'>\n",
      "RangeIndex: 153 entries, 0 to 152\n",
      "Columns: 109 entries, Geographic Area Name (NAME) to Range indicating percent of total employees imputed (EMP_IMP)\n",
      "dtypes: float64(16), int64(1), object(92)\n",
      "memory usage: 130.4+ KB\n"
     ]
    }
   ],
   "source": [
    "manufacturing.info()"
   ]
  },
  {
   "cell_type": "code",
   "execution_count": 209,
   "id": "7d252990-c749-4ceb-bbbb-37e0c6669d9a",
   "metadata": {},
   "outputs": [],
   "source": [
    "manufacturing1 = manufacturing[['Geographic Area Name (NAME)', '2017 NAICS code (NAICS2017)', 'Year (YEAR)', 'Sales, value of shipments, or revenue ($1,000) (RCPTOT)']]"
   ]
  },
  {
   "cell_type": "code",
   "execution_count": 210,
   "id": "191af81f-7127-4f1b-8486-70ca6eae73a9",
   "metadata": {},
   "outputs": [],
   "source": [
    "manufacturing2 = manufacturing1.rename(columns = {'Geographic Area Name (NAME)': 'state', \n",
    "                                                  '2017 NAICS code (NAICS2017)': 'naics', \n",
    "                                                  'Year (YEAR)': 'year', \n",
    "                                                  'Sales, value of shipments, or revenue ($1,000) (RCPTOT)': 'total_revenue_1000s'})"
   ]
  },
  {
   "cell_type": "code",
   "execution_count": 212,
   "id": "a239e25b-907e-4c2f-9ea9-9b687cf1f53b",
   "metadata": {},
   "outputs": [
    {
     "name": "stdout",
     "output_type": "stream",
     "text": [
      "<class 'pandas.core.frame.DataFrame'>\n",
      "RangeIndex: 153 entries, 0 to 152\n",
      "Data columns (total 4 columns):\n",
      " #   Column               Non-Null Count  Dtype \n",
      "---  ------               --------------  ----- \n",
      " 0   state                153 non-null    object\n",
      " 1   naics                153 non-null    object\n",
      " 2   year                 153 non-null    int64 \n",
      " 3   total_revenue_1000s  153 non-null    object\n",
      "dtypes: int64(1), object(3)\n",
      "memory usage: 4.9+ KB\n"
     ]
    }
   ],
   "source": [
    "manufacturing2.info()"
   ]
  },
  {
   "cell_type": "code",
   "execution_count": 214,
   "id": "d91fcbcc-728c-4576-b0c8-41fceac0d4d2",
   "metadata": {},
   "outputs": [],
   "source": [
    "# convert total revenue to int\n",
    "manufacturing2['total_revenue_1000s'] = manufacturing2['total_revenue_1000s'].replace(',', '', regex=True)\n",
    "manufacturing2['total_revenue_1000s'] = manufacturing2['total_revenue_1000s'].astype(int)"
   ]
  },
  {
   "cell_type": "code",
   "execution_count": 216,
   "id": "ee053d33-8d2e-4bac-9e80-da122ffa650d",
   "metadata": {},
   "outputs": [
    {
     "data": {
      "text/plain": [
       "Alabama                 3\n",
       "Pennsylvania            3\n",
       "Nevada                  3\n",
       "New Hampshire           3\n",
       "New Jersey              3\n",
       "New Mexico              3\n",
       "New York                3\n",
       "North Carolina          3\n",
       "North Dakota            3\n",
       "Ohio                    3\n",
       "Oklahoma                3\n",
       "Oregon                  3\n",
       "Rhode Island            3\n",
       "Montana                 3\n",
       "South Carolina          3\n",
       "South Dakota            3\n",
       "Tennessee               3\n",
       "Texas                   3\n",
       "Utah                    3\n",
       "Vermont                 3\n",
       "Virginia                3\n",
       "Washington              3\n",
       "West Virginia           3\n",
       "Wisconsin               3\n",
       "Nebraska                3\n",
       "Missouri                3\n",
       "Alaska                  3\n",
       "Idaho                   3\n",
       "Arizona                 3\n",
       "Arkansas                3\n",
       "California              3\n",
       "Colorado                3\n",
       "Connecticut             3\n",
       "Delaware                3\n",
       "District of Columbia    3\n",
       "Florida                 3\n",
       "Georgia                 3\n",
       "Hawaii                  3\n",
       "Illinois                3\n",
       "Mississippi             3\n",
       "Indiana                 3\n",
       "Iowa                    3\n",
       "Kansas                  3\n",
       "Kentucky                3\n",
       "Louisiana               3\n",
       "Maine                   3\n",
       "Maryland                3\n",
       "Massachusetts           3\n",
       "Michigan                3\n",
       "Minnesota               3\n",
       "Wyoming                 3\n",
       "Name: state, dtype: int64"
      ]
     },
     "execution_count": 216,
     "metadata": {},
     "output_type": "execute_result"
    }
   ],
   "source": [
    "manufacturing2['state'].value_counts()"
   ]
  },
  {
   "cell_type": "code",
   "execution_count": 217,
   "id": "7765fbff-c70f-476f-a51f-736750f7f5d2",
   "metadata": {},
   "outputs": [
    {
     "data": {
      "text/plain": [
       "31-33    153\n",
       "Name: naics, dtype: int64"
      ]
     },
     "execution_count": 217,
     "metadata": {},
     "output_type": "execute_result"
    }
   ],
   "source": [
    "manufacturing2['naics'].value_counts()"
   ]
  },
  {
   "cell_type": "code",
   "execution_count": 218,
   "id": "9f7bd0bd-52de-4968-81bd-7888c71c2adb",
   "metadata": {},
   "outputs": [
    {
     "data": {
      "text/plain": [
       "2018    51\n",
       "2019    51\n",
       "2020    51\n",
       "Name: year, dtype: int64"
      ]
     },
     "execution_count": 218,
     "metadata": {},
     "output_type": "execute_result"
    }
   ],
   "source": [
    "manufacturing2['year'].value_counts()"
   ]
  },
  {
   "cell_type": "code",
   "execution_count": 219,
   "id": "cfb38a1d-4c0d-4443-83d7-e5a097b28ce1",
   "metadata": {},
   "outputs": [
    {
     "data": {
      "text/plain": [
       "<AxesSubplot:>"
      ]
     },
     "execution_count": 219,
     "metadata": {},
     "output_type": "execute_result"
    },
    {
     "data": {
      "image/png": "[encoded data removed]",
      "text/plain": [
       "<Figure size 432x288 with 1 Axes>"
      ]
     },
     "metadata": {
      "needs_background": "light"
     },
     "output_type": "display_data"
    }
   ],
   "source": [
    "manufacturing2['total_revenue_1000s'].hist(bins=100)"
   ]
  },
  {
   "cell_type": "markdown",
   "id": "e2c0b605-0090-43d4-81bf-888a3d7ac43e",
   "metadata": {},
   "source": [
    "## Retail Trade"
   ]
  },
  {
   "cell_type": "code",
   "execution_count": 409,
   "id": "3c0647b1-a08a-4fd2-9086-9656ec9ef768",
   "metadata": {},
   "outputs": [],
   "source": [
    "retail_trade = pd.read_csv('https://raw.githubusercontent.com/jhancuch/sba-loan-credit-analysis/main/data/retail_trade/sales.csv', header = 3, encoding = 'unicode_escape', engine ='python')"
   ]
  },
  {
   "cell_type": "code",
   "execution_count": 410,
   "id": "062f06d2-1be1-4668-8567-37acba2a55b2",
   "metadata": {},
   "outputs": [
    {
     "data": {
      "text/html": [
       "<div>\n",
       "<style scoped>\n",
       "    .dataframe tbody tr th:only-of-type {\n",
       "        vertical-align: middle;\n",
       "    }\n",
       "\n",
       "    .dataframe tbody tr th {\n",
       "        vertical-align: top;\n",
       "    }\n",
       "\n",
       "    .dataframe thead th {\n",
       "        text-align: right;\n",
       "    }\n",
       "</style>\n",
       "<table border=\"1\" class=\"dataframe\">\n",
       "  <thead>\n",
       "    <tr style=\"text-align: right;\">\n",
       "      <th></th>\n",
       "      <th>NAICS Code</th>\n",
       "      <th>Kind of Business</th>\n",
       "      <th>2020</th>\n",
       "      <th>2019r</th>\n",
       "      <th>2018r</th>\n",
       "      <th>2017r</th>\n",
       "      <th>2016r</th>\n",
       "      <th>2015r</th>\n",
       "      <th>2014r</th>\n",
       "      <th>2013r</th>\n",
       "      <th>...</th>\n",
       "      <th>Unnamed: 248</th>\n",
       "      <th>Unnamed: 249</th>\n",
       "      <th>Unnamed: 250</th>\n",
       "      <th>Unnamed: 251</th>\n",
       "      <th>Unnamed: 252</th>\n",
       "      <th>Unnamed: 253</th>\n",
       "      <th>Unnamed: 254</th>\n",
       "      <th>Unnamed: 255</th>\n",
       "      <th>Unnamed: 256</th>\n",
       "      <th>Unnamed: 257</th>\n",
       "    </tr>\n",
       "  </thead>\n",
       "  <tbody>\n",
       "    <tr>\n",
       "      <th>0</th>\n",
       "      <td>NaN</td>\n",
       "      <td>Retail sales, total ",
       "",
       "",
       "",
       "",
       "",
       "",
       "",
       "",
       "",
       "",
       "",
       "",
       "",
       "",
       "...",
       "",
       "",
       "",
       "",
       "",
       "",
       "",
       "...</td>\n",
       "      <td>5,570,393</td>\n",
       "      <td>5,402,272</td>\n",
       "      <td>5,255,425</td>\n",
       "      <td>5,040,214</td>\n",
       "      <td>4,848,096</td>\n",
       "      <td>4,726,111</td>\n",
       "      <td>4,640,651</td>\n",
       "      <td>4,459,238</td>\n",
       "      <td>...</td>\n",
       "      <td>NaN</td>\n",
       "      <td>NaN</td>\n",
       "      <td>NaN</td>\n",
       "      <td>NaN</td>\n",
       "      <td>NaN</td>\n",
       "      <td>NaN</td>\n",
       "      <td>NaN</td>\n",
       "      <td>NaN</td>\n",
       "      <td>NaN</td>\n",
       "      <td>NaN</td>\n",
       "    </tr>\n",
       "    <tr>\n",
       "      <th>1</th>\n",
       "      <td>NaN</td>\n",
       "      <td>Retail sales, total (excl. motor vehicle and p...</td>\n",
       "      <td>4,362,089</td>\n",
       "      <td>4,164,528</td>\n",
       "      <td>4,050,484</td>\n",
       "      <td>3,854,518</td>\n",
       "      <td>3,696,376</td>\n",
       "      <td>3,622,590</td>\n",
       "      <td>3,613,911</td>\n",
       "      <td>3,497,181</td>\n",
       "      <td>...</td>\n",
       "      <td>NaN</td>\n",
       "      <td>NaN</td>\n",
       "      <td>NaN</td>\n",
       "      <td>NaN</td>\n",
       "      <td>NaN</td>\n",
       "      <td>NaN</td>\n",
       "      <td>NaN</td>\n",
       "      <td>NaN</td>\n",
       "      <td>NaN</td>\n",
       "      <td>NaN</td>\n",
       "    </tr>\n",
       "    <tr>\n",
       "      <th>2</th>\n",
       "      <td>NaN</td>\n",
       "      <td>GAFO1 ",
       "",
       "",
       "",
       "",
       "",
       "",
       "",
       "",
       "",
       "",
       "",
       "",
       "",
       "",
       "...",
       "",
       "",
       "",
       "",
       "",
       "",
       "",
       "",
       "",
       "",
       "",
       "",
       "",
       "",
       "",
       "",
       "",
       "",
       "",
       "",
       "",
       "...</td>\n",
       "      <td>1,229,215</td>\n",
       "      <td>1,306,269</td>\n",
       "      <td>1,298,225</td>\n",
       "      <td>1,274,977</td>\n",
       "      <td>1,267,817</td>\n",
       "      <td>1,262,841</td>\n",
       "      <td>1,241,577</td>\n",
       "      <td>1,213,826</td>\n",
       "      <td>...</td>\n",
       "      <td>NaN</td>\n",
       "      <td>NaN</td>\n",
       "      <td>NaN</td>\n",
       "      <td>NaN</td>\n",
       "      <td>NaN</td>\n",
       "      <td>NaN</td>\n",
       "      <td>NaN</td>\n",
       "      <td>NaN</td>\n",
       "      <td>NaN</td>\n",
       "      <td>NaN</td>\n",
       "    </tr>\n",
       "    <tr>\n",
       "      <th>3</th>\n",
       "      <td>441</td>\n",
       "      <td>Motor vehicle and parts dealers ",
       "",
       "",
       "",
       "",
       "",
       "",
       "",
       "",
       "",
       "...</td>\n",
       "      <td>1,208,304</td>\n",
       "      <td>1,237,744</td>\n",
       "      <td>1,204,941</td>\n",
       "      <td>1,185,696</td>\n",
       "      <td>1,151,720</td>\n",
       "      <td>1,103,521</td>\n",
       "      <td>1,026,740</td>\n",
       "      <td>962,057</td>\n",
       "      <td>...</td>\n",
       "      <td>NaN</td>\n",
       "      <td>NaN</td>\n",
       "      <td>NaN</td>\n",
       "      <td>NaN</td>\n",
       "      <td>NaN</td>\n",
       "      <td>NaN</td>\n",
       "      <td>NaN</td>\n",
       "      <td>NaN</td>\n",
       "      <td>NaN</td>\n",
       "      <td>NaN</td>\n",
       "    </tr>\n",
       "    <tr>\n",
       "      <th>4</th>\n",
       "      <td>4411</td>\n",
       "      <td>Automobile dealers ",
       "",
       "",
       "",
       "",
       "",
       "",
       "",
       "",
       "",
       "",
       "",
       "",
       "",
       "",
       "...",
       "",
       "",
       "",
       "",
       "",
       "...</td>\n",
       "      <td>1,023,172</td>\n",
       "      <td>1,065,549</td>\n",
       "      <td>1,035,685</td>\n",
       "      <td>1,020,587</td>\n",
       "      <td>991,812</td>\n",
       "      <td>949,238</td>\n",
       "      <td>880,991</td>\n",
       "      <td>821,791</td>\n",
       "      <td>...</td>\n",
       "      <td>NaN</td>\n",
       "      <td>NaN</td>\n",
       "      <td>NaN</td>\n",
       "      <td>NaN</td>\n",
       "      <td>NaN</td>\n",
       "      <td>NaN</td>\n",
       "      <td>NaN</td>\n",
       "      <td>NaN</td>\n",
       "      <td>NaN</td>\n",
       "      <td>NaN</td>\n",
       "    </tr>\n",
       "  </tbody>\n",
       "</table>\n",
       "<p>5 rows × 258 columns</p>\n",
       "</div>"
      ],
      "text/plain": [
       "  NAICS Code                                   Kind of Business       2020  \\\n",
       "0        NaN  Retail sales, total \n",
       "\n",
       "\n",
       "\n",
       "\n",
       "\n",
       "\n",
       "\n",
       "\n",
       "\n",
       "\n",
       "\n",
       "\n",
       "\n",
       "\n",
       "...\n",
       "\n",
       "\n",
       "\n",
       "\n",
       "\n",
       "\n",
       "\n",
       "...  5,570,393   \n",
       "1        NaN  Retail sales, total (excl. motor vehicle and p...  4,362,089   \n",
       "2        NaN  GAFO1 \n",
       "\n",
       "\n",
       "\n",
       "\n",
       "\n",
       "\n",
       "\n",
       "\n",
       "\n",
       "\n",
       "\n",
       "\n",
       "\n",
       "\n",
       "...\n",
       "\n",
       "\n",
       "\n",
       "\n",
       "\n",
       "\n",
       "\n",
       "\n",
       "\n",
       "\n",
       "\n",
       "\n",
       "\n",
       "\n",
       "\n",
       "\n",
       "\n",
       "\n",
       "\n",
       "\n",
       "\n",
       "...  1,229,215   \n",
       "3        441      Motor vehicle and parts dealers \n",
       "\n",
       "\n",
       "\n",
       "\n",
       "\n",
       "\n",
       "\n",
       "\n",
       "\n",
       "...  1,208,304   \n",
       "4       4411     Automobile dealers \n",
       "\n",
       "\n",
       "\n",
       "\n",
       "\n",
       "\n",
       "\n",
       "\n",
       "\n",
       "\n",
       "\n",
       "\n",
       "\n",
       "\n",
       "...\n",
       "\n",
       "\n",
       "\n",
       "\n",
       "\n",
       "...  1,023,172   \n",
       "\n",
       "       2019r      2018r      2017r      2016r      2015r      2014r  \\\n",
       "0  5,402,272  5,255,425  5,040,214  4,848,096  4,726,111  4,640,651   \n",
       "1  4,164,528  4,050,484  3,854,518  3,696,376  3,622,590  3,613,911   \n",
       "2  1,306,269  1,298,225  1,274,977  1,267,817  1,262,841  1,241,577   \n",
       "3  1,237,744  1,204,941  1,185,696  1,151,720  1,103,521  1,026,740   \n",
       "4  1,065,549  1,035,685  1,020,587    991,812    949,238    880,991   \n",
       "\n",
       "       2013r  ... Unnamed: 248 Unnamed: 249 Unnamed: 250 Unnamed: 251  \\\n",
       "0  4,459,238  ...          NaN          NaN          NaN          NaN   \n",
       "1  3,497,181  ...          NaN          NaN          NaN          NaN   \n",
       "2  1,213,826  ...          NaN          NaN          NaN          NaN   \n",
       "3    962,057  ...          NaN          NaN          NaN          NaN   \n",
       "4    821,791  ...          NaN          NaN          NaN          NaN   \n",
       "\n",
       "  Unnamed: 252 Unnamed: 253 Unnamed: 254 Unnamed: 255 Unnamed: 256  \\\n",
       "0          NaN          NaN          NaN          NaN          NaN   \n",
       "1          NaN          NaN          NaN          NaN          NaN   \n",
       "2          NaN          NaN          NaN          NaN          NaN   \n",
       "3          NaN          NaN          NaN          NaN          NaN   \n",
       "4          NaN          NaN          NaN          NaN          NaN   \n",
       "\n",
       "  Unnamed: 257  \n",
       "0          NaN  \n",
       "1          NaN  \n",
       "2          NaN  \n",
       "3          NaN  \n",
       "4          NaN  \n",
       "\n",
       "[5 rows x 258 columns]"
      ]
     },
     "execution_count": 410,
     "metadata": {},
     "output_type": "execute_result"
    }
   ],
   "source": [
    "retail_trade.head()"
   ]
  },
  {
   "cell_type": "code",
   "execution_count": 411,
   "id": "cc4784c2-1236-4a98-a51d-aa1e83e22cd5",
   "metadata": {},
   "outputs": [],
   "source": [
    "retail_trade_1 = retail_trade.iloc[3:71, :]\n",
    "retail_trade_2 = retail_trade_1[['NAICS Code','2020','2019r','2018r','2017r','2016r','2015r','2014r','2013r','2012','2011', '2010']]\n",
    "retail_trade_3 = retail_trade_2.rename(columns = {'NAICS Code': 'naics',\n",
    "                                                 '2019r': '2019',\n",
    "                                                 '2018r': '2018',\n",
    "                                                 '2017r': '2017',\n",
    "                                                 '2016r': '2016',\n",
    "                                                 '2015r': '2015',\n",
    "                                                 '2014r': '2014',\n",
    "                                                 '2013r': '2013'}).reset_index(drop=True)"
   ]
  },
  {
   "cell_type": "code",
   "execution_count": 412,
   "id": "9b671bde-3bcc-4694-b50e-50ff1dc7aaba",
   "metadata": {},
   "outputs": [
    {
     "data": {
      "text/html": [
       "<div>\n",
       "<style scoped>\n",
       "    .dataframe tbody tr th:only-of-type {\n",
       "        vertical-align: middle;\n",
       "    }\n",
       "\n",
       "    .dataframe tbody tr th {\n",
       "        vertical-align: top;\n",
       "    }\n",
       "\n",
       "    .dataframe thead th {\n",
       "        text-align: right;\n",
       "    }\n",
       "</style>\n",
       "<table border=\"1\" class=\"dataframe\">\n",
       "  <thead>\n",
       "    <tr style=\"text-align: right;\">\n",
       "      <th></th>\n",
       "      <th>naics</th>\n",
       "      <th>2020</th>\n",
       "      <th>2019</th>\n",
       "      <th>2018</th>\n",
       "      <th>2017</th>\n",
       "      <th>2016</th>\n",
       "      <th>2015</th>\n",
       "      <th>2014</th>\n",
       "      <th>2013</th>\n",
       "      <th>2012</th>\n",
       "      <th>2011</th>\n",
       "      <th>2010</th>\n",
       "    </tr>\n",
       "  </thead>\n",
       "  <tbody>\n",
       "    <tr>\n",
       "      <th>0</th>\n",
       "      <td>441</td>\n",
       "      <td>1,208,304</td>\n",
       "      <td>1,237,744</td>\n",
       "      <td>1,204,941</td>\n",
       "      <td>1,185,696</td>\n",
       "      <td>1,151,720</td>\n",
       "      <td>1,103,521</td>\n",
       "      <td>1,026,740</td>\n",
       "      <td>962,057</td>\n",
       "      <td>886,494</td>\n",
       "      <td>812,938</td>\n",
       "      <td>742,913</td>\n",
       "    </tr>\n",
       "    <tr>\n",
       "      <th>1</th>\n",
       "      <td>4411</td>\n",
       "      <td>1,023,172</td>\n",
       "      <td>1,065,549</td>\n",
       "      <td>1,035,685</td>\n",
       "      <td>1,020,587</td>\n",
       "      <td>991,812</td>\n",
       "      <td>949,238</td>\n",
       "      <td>880,991</td>\n",
       "      <td>821,791</td>\n",
       "      <td>752,778</td>\n",
       "      <td>684,505</td>\n",
       "      <td>621,180</td>\n",
       "    </tr>\n",
       "    <tr>\n",
       "      <th>2</th>\n",
       "      <td>44111</td>\n",
       "      <td>905,494</td>\n",
       "      <td>942,836</td>\n",
       "      <td>918,326</td>\n",
       "      <td>906,487</td>\n",
       "      <td>883,452</td>\n",
       "      <td>848,167</td>\n",
       "      <td>788,883</td>\n",
       "      <td>737,082</td>\n",
       "      <td>672,550</td>\n",
       "      <td>608,788</td>\n",
       "      <td>549,473</td>\n",
       "    </tr>\n",
       "    <tr>\n",
       "      <th>3</th>\n",
       "      <td>44112</td>\n",
       "      <td>117,678</td>\n",
       "      <td>122,713</td>\n",
       "      <td>117,359</td>\n",
       "      <td>114,100</td>\n",
       "      <td>108,360</td>\n",
       "      <td>101,071</td>\n",
       "      <td>92,108</td>\n",
       "      <td>84,709</td>\n",
       "      <td>80,228</td>\n",
       "      <td>75,717</td>\n",
       "      <td>71,707</td>\n",
       "    </tr>\n",
       "    <tr>\n",
       "      <th>4</th>\n",
       "      <td>4412</td>\n",
       "      <td>87,149</td>\n",
       "      <td>75,407</td>\n",
       "      <td>74,309</td>\n",
       "      <td>71,666</td>\n",
       "      <td>67,255</td>\n",
       "      <td>63,386</td>\n",
       "      <td>58,941</td>\n",
       "      <td>54,737</td>\n",
       "      <td>49,581</td>\n",
       "      <td>45,469</td>\n",
       "      <td>43,794</td>\n",
       "    </tr>\n",
       "    <tr>\n",
       "      <th>...</th>\n",
       "      <td>...</td>\n",
       "      <td>...</td>\n",
       "      <td>...</td>\n",
       "      <td>...</td>\n",
       "      <td>...</td>\n",
       "      <td>...</td>\n",
       "      <td>...</td>\n",
       "      <td>...</td>\n",
       "      <td>...</td>\n",
       "      <td>...</td>\n",
       "      <td>...</td>\n",
       "      <td>...</td>\n",
       "    </tr>\n",
       "    <tr>\n",
       "      <th>63</th>\n",
       "      <td>454</td>\n",
       "      <td>978,306</td>\n",
       "      <td>750,640</td>\n",
       "      <td>675,816</td>\n",
       "      <td>608,194</td>\n",
       "      <td>544,316</td>\n",
       "      <td>498,331</td>\n",
       "      <td>464,167</td>\n",
       "      <td>429,977</td>\n",
       "      <td>408,171</td>\n",
       "      <td>376,344</td>\n",
       "      <td>340,957</td>\n",
       "    </tr>\n",
       "    <tr>\n",
       "      <th>64</th>\n",
       "      <td>4541</td>\n",
       "      <td>888,502</td>\n",
       "      <td>657,089</td>\n",
       "      <td>583,789</td>\n",
       "      <td>524,639</td>\n",
       "      <td>467,278</td>\n",
       "      <td>418,960</td>\n",
       "      <td>376,891</td>\n",
       "      <td>346,163</td>\n",
       "      <td>328,655</td>\n",
       "      <td>294,697</td>\n",
       "      <td>263,488</td>\n",
       "    </tr>\n",
       "    <tr>\n",
       "      <th>65</th>\n",
       "      <td>4542</td>\n",
       "      <td>6,982</td>\n",
       "      <td>9,075</td>\n",
       "      <td>8,437</td>\n",
       "      <td>7,930</td>\n",
       "      <td>7,753</td>\n",
       "      <td>7,184</td>\n",
       "      <td>6,775</td>\n",
       "      <td>6,577</td>\n",
       "      <td>6,642</td>\n",
       "      <td>6,293</td>\n",
       "      <td>6,456</td>\n",
       "    </tr>\n",
       "    <tr>\n",
       "      <th>66</th>\n",
       "      <td>4543</td>\n",
       "      <td>82,822</td>\n",
       "      <td>84,476</td>\n",
       "      <td>83,590</td>\n",
       "      <td>75,625</td>\n",
       "      <td>69,285</td>\n",
       "      <td>72,187</td>\n",
       "      <td>80,501</td>\n",
       "      <td>77,237</td>\n",
       "      <td>72,874</td>\n",
       "      <td>75,354</td>\n",
       "      <td>71,013</td>\n",
       "    </tr>\n",
       "    <tr>\n",
       "      <th>67</th>\n",
       "      <td>45431</td>\n",
       "      <td>29,240</td>\n",
       "      <td>34,997</td>\n",
       "      <td>36,617</td>\n",
       "      <td>31,433</td>\n",
       "      <td>27,587</td>\n",
       "      <td>32,856</td>\n",
       "      <td>41,670</td>\n",
       "      <td>38,657</td>\n",
       "      <td>35,935</td>\n",
       "      <td>39,469</td>\n",
       "      <td>35,524</td>\n",
       "    </tr>\n",
       "  </tbody>\n",
       "</table>\n",
       "<p>68 rows × 12 columns</p>\n",
       "</div>"
      ],
      "text/plain": [
       "    naics       2020       2019       2018       2017       2016       2015  \\\n",
       "0     441  1,208,304  1,237,744  1,204,941  1,185,696  1,151,720  1,103,521   \n",
       "1    4411  1,023,172  1,065,549  1,035,685  1,020,587    991,812    949,238   \n",
       "2   44111    905,494    942,836    918,326    906,487    883,452    848,167   \n",
       "3   44112    117,678    122,713    117,359    114,100    108,360    101,071   \n",
       "4    4412     87,149     75,407     74,309     71,666     67,255     63,386   \n",
       "..    ...        ...        ...        ...        ...        ...        ...   \n",
       "63    454    978,306    750,640    675,816    608,194    544,316    498,331   \n",
       "64   4541    888,502    657,089    583,789    524,639    467,278    418,960   \n",
       "65   4542      6,982      9,075      8,437      7,930      7,753      7,184   \n",
       "66   4543     82,822     84,476     83,590     75,625     69,285     72,187   \n",
       "67  45431     29,240     34,997     36,617     31,433     27,587     32,856   \n",
       "\n",
       "         2014     2013     2012     2011     2010  \n",
       "0   1,026,740  962,057  886,494  812,938  742,913  \n",
       "1     880,991  821,791  752,778  684,505  621,180  \n",
       "2     788,883  737,082  672,550  608,788  549,473  \n",
       "3      92,108   84,709   80,228   75,717   71,707  \n",
       "4      58,941   54,737   49,581   45,469   43,794  \n",
       "..        ...      ...      ...      ...      ...  \n",
       "63    464,167  429,977  408,171  376,344  340,957  \n",
       "64    376,891  346,163  328,655  294,697  263,488  \n",
       "65      6,775    6,577    6,642    6,293    6,456  \n",
       "66     80,501   77,237   72,874   75,354   71,013  \n",
       "67     41,670   38,657   35,935   39,469   35,524  \n",
       "\n",
       "[68 rows x 12 columns]"
      ]
     },
     "execution_count": 412,
     "metadata": {},
     "output_type": "execute_result"
    }
   ],
   "source": [
    "retail_trade_3"
   ]
  },
  {
   "cell_type": "code",
   "execution_count": 379,
   "id": "bc04d74a-9d4d-4eb3-81c3-573afa009078",
   "metadata": {},
   "outputs": [],
   "source": [
    "# Subset to if only the naics is three digits long \n",
    "retail_trade_4_list = []\n",
    "\n",
    "for i in range(0, len(retail_trade_3)):\n",
    "    if len(retail_trade_3.loc[i, 'naics']) == 3:\n",
    "        temp_list = list(retail_trade_3.iloc[i, :])\n",
    "        retail_trade_4_list.append(temp_list)\n",
    "        \n",
    "retail_trade_4 = pd.DataFrame(retail_trade_4_list, columns=['naics', '2020', '2019', '2018', '2017', '2016', '2015', '2014', '2013', '2012', '2011', '2010'])"
   ]
  },
  {
   "cell_type": "code",
   "execution_count": 380,
   "id": "214756c3-2576-4cba-a2bc-0bd532383de7",
   "metadata": {},
   "outputs": [],
   "source": [
    "# Convert variables to integers and subset naics code to only two digits\n",
    "retail_trade_4['naics'] = retail_trade_4['naics'].str.slice(0, 2)\n",
    "for i in retail_trade_4.columns:\n",
    "    retail_trade_4[i] = retail_trade_4[i].str.replace(',', '')\n",
    "    retail_trade_4[i] = retail_trade_4[i].astype(int)\n",
    "\n",
    "retail_trade_5 = retail_trade_4.groupby(['naics'])[['2020', '2019', '2018', '2017', '2016', '2015', '2014', '2013', '2012', '2011', '2010']].sum().reset_index()"
   ]
  },
  {
   "cell_type": "code",
   "execution_count": 381,
   "id": "a004fda8-3c59-409d-b04f-a56e9cd8c661",
   "metadata": {},
   "outputs": [
    {
     "data": {
      "text/html": [
       "<div>\n",
       "<style scoped>\n",
       "    .dataframe tbody tr th:only-of-type {\n",
       "        vertical-align: middle;\n",
       "    }\n",
       "\n",
       "    .dataframe tbody tr th {\n",
       "        vertical-align: top;\n",
       "    }\n",
       "\n",
       "    .dataframe thead th {\n",
       "        text-align: right;\n",
       "    }\n",
       "</style>\n",
       "<table border=\"1\" class=\"dataframe\">\n",
       "  <thead>\n",
       "    <tr style=\"text-align: right;\">\n",
       "      <th></th>\n",
       "      <th>naics</th>\n",
       "      <th>2020</th>\n",
       "      <th>2019</th>\n",
       "      <th>2018</th>\n",
       "      <th>2017</th>\n",
       "      <th>2016</th>\n",
       "      <th>2015</th>\n",
       "      <th>2014</th>\n",
       "      <th>2013</th>\n",
       "      <th>2012</th>\n",
       "      <th>2011</th>\n",
       "      <th>2010</th>\n",
       "    </tr>\n",
       "  </thead>\n",
       "  <tbody>\n",
       "    <tr>\n",
       "      <th>0</th>\n",
       "      <td>44</td>\n",
       "      <td>3650486</td>\n",
       "      <td>3724753</td>\n",
       "      <td>3663796</td>\n",
       "      <td>3533051</td>\n",
       "      <td>3414105</td>\n",
       "      <td>3343706</td>\n",
       "      <td>3306999</td>\n",
       "      <td>3180839</td>\n",
       "      <td>3060568</td>\n",
       "      <td>2914794</td>\n",
       "      <td>2690873</td>\n",
       "    </tr>\n",
       "    <tr>\n",
       "      <th>1</th>\n",
       "      <td>45</td>\n",
       "      <td>1919907</td>\n",
       "      <td>1677519</td>\n",
       "      <td>1591629</td>\n",
       "      <td>1507163</td>\n",
       "      <td>1433991</td>\n",
       "      <td>1382405</td>\n",
       "      <td>1333652</td>\n",
       "      <td>1278399</td>\n",
       "      <td>1241661</td>\n",
       "      <td>1188158</td>\n",
       "      <td>1127175</td>\n",
       "    </tr>\n",
       "  </tbody>\n",
       "</table>\n",
       "</div>"
      ],
      "text/plain": [
       "   naics     2020     2019     2018     2017     2016     2015     2014  \\\n",
       "0     44  3650486  3724753  3663796  3533051  3414105  3343706  3306999   \n",
       "1     45  1919907  1677519  1591629  1507163  1433991  1382405  1333652   \n",
       "\n",
       "      2013     2012     2011     2010  \n",
       "0  3180839  3060568  2914794  2690873  \n",
       "1  1278399  1241661  1188158  1127175  "
      ]
     },
     "execution_count": 381,
     "metadata": {},
     "output_type": "execute_result"
    }
   ],
   "source": [
    "retail_trade_5"
   ]
  },
  {
   "cell_type": "markdown",
   "id": "998193b1-14d5-43a7-990d-d3cf1acf249b",
   "metadata": {},
   "source": [
    "## Services"
   ]
  },
  {
   "cell_type": "code",
   "execution_count": 413,
   "id": "d36243d8-5b9d-4437-968b-16cd0e0006c9",
   "metadata": {},
   "outputs": [],
   "source": [
    "services = pd.read_csv('https://raw.githubusercontent.com/jhancuch/sba-loan-credit-analysis/main/data/services/Table1.csv', header = 3, encoding = 'unicode_escape', engine ='python')"
   ]
  },
  {
   "cell_type": "code",
   "execution_count": 414,
   "id": "5fa01c14-e343-42ac-b3d1-f5e0405482ac",
   "metadata": {},
   "outputs": [
    {
     "data": {
      "text/html": [
       "<div>\n",
       "<style scoped>\n",
       "    .dataframe tbody tr th:only-of-type {\n",
       "        vertical-align: middle;\n",
       "    }\n",
       "\n",
       "    .dataframe tbody tr th {\n",
       "        vertical-align: top;\n",
       "    }\n",
       "\n",
       "    .dataframe thead th {\n",
       "        text-align: right;\n",
       "    }\n",
       "</style>\n",
       "<table border=\"1\" class=\"dataframe\">\n",
       "  <thead>\n",
       "    <tr style=\"text-align: right;\">\n",
       "      <th></th>\n",
       "      <th>NAICS</th>\n",
       "      <th>NAICS Description</th>\n",
       "      <th>Item</th>\n",
       "      <th>Tax Status</th>\n",
       "      <th>Employer Status</th>\n",
       "      <th>2020 Estimate</th>\n",
       "      <th>2019 Estimate</th>\n",
       "      <th>2018 Estimate</th>\n",
       "      <th>2017 Estimate</th>\n",
       "      <th>2016 Estimate</th>\n",
       "      <th>...</th>\n",
       "      <th>2018 Coefficient of Variation</th>\n",
       "      <th>2017 Coefficient of Variation</th>\n",
       "      <th>2016 Coefficient of Variation</th>\n",
       "      <th>2015 Coefficient of Variation</th>\n",
       "      <th>2014 Coefficient of Variation</th>\n",
       "      <th>2013 Coefficient of Variation</th>\n",
       "      <th>Unnamed: 21</th>\n",
       "      <th>Unnamed: 22</th>\n",
       "      <th>Unnamed: 23</th>\n",
       "      <th>Unnamed: 24</th>\n",
       "    </tr>\n",
       "  </thead>\n",
       "  <tbody>\n",
       "    <tr>\n",
       "      <th>0</th>\n",
       "      <td>000000</td>\n",
       "      <td>Services Total1,8</td>\n",
       "      <td>Revenue</td>\n",
       "      <td>All Establishments</td>\n",
       "      <td>Employer and Nonemployer Firms</td>\n",
       "      <td>17,606,914</td>\n",
       "      <td>18,000,647</td>\n",
       "      <td>17,112,559</td>\n",
       "      <td>16,169,814</td>\n",
       "      <td>15,393,780</td>\n",
       "      <td>...</td>\n",
       "      <td>0.2</td>\n",
       "      <td>0.1</td>\n",
       "      <td>0.3</td>\n",
       "      <td>0.3</td>\n",
       "      <td>NaN</td>\n",
       "      <td>NaN</td>\n",
       "      <td>NaN</td>\n",
       "      <td>NaN</td>\n",
       "      <td>NaN</td>\n",
       "      <td>NaN</td>\n",
       "    </tr>\n",
       "    <tr>\n",
       "      <th>1</th>\n",
       "      <td>000000</td>\n",
       "      <td>Services Total1,8</td>\n",
       "      <td>Revenue</td>\n",
       "      <td>All Establishments</td>\n",
       "      <td>Employer Firms</td>\n",
       "      <td>16,668,151</td>\n",
       "      <td>16,999,369</td>\n",
       "      <td>16,160,891</td>\n",
       "      <td>15,266,389</td>\n",
       "      <td>14,541,859</td>\n",
       "      <td>...</td>\n",
       "      <td>0.2</td>\n",
       "      <td>0.1</td>\n",
       "      <td>0.4</td>\n",
       "      <td>0.3</td>\n",
       "      <td>NaN</td>\n",
       "      <td>NaN</td>\n",
       "      <td>NaN</td>\n",
       "      <td>NaN</td>\n",
       "      <td>NaN</td>\n",
       "      <td>NaN</td>\n",
       "    </tr>\n",
       "    <tr>\n",
       "      <th>2</th>\n",
       "      <td>00000A</td>\n",
       "      <td>Selected Services Total2,8</td>\n",
       "      <td>Revenue</td>\n",
       "      <td>All Establishments</td>\n",
       "      <td>Employer and Nonemployer Firms</td>\n",
       "      <td>16,957,694</td>\n",
       "      <td>17,227,899</td>\n",
       "      <td>16,380,539</td>\n",
       "      <td>15,477,165</td>\n",
       "      <td>14,735,913</td>\n",
       "      <td>...</td>\n",
       "      <td>0.2</td>\n",
       "      <td>0.1</td>\n",
       "      <td>0.3</td>\n",
       "      <td>0.2</td>\n",
       "      <td>NaN</td>\n",
       "      <td>NaN</td>\n",
       "      <td>NaN</td>\n",
       "      <td>NaN</td>\n",
       "      <td>NaN</td>\n",
       "      <td>NaN</td>\n",
       "    </tr>\n",
       "    <tr>\n",
       "      <th>3</th>\n",
       "      <td>00000A</td>\n",
       "      <td>Selected Services Total2,8</td>\n",
       "      <td>Revenue</td>\n",
       "      <td>All Establishments</td>\n",
       "      <td>Employer Firms</td>\n",
       "      <td>16,029,801</td>\n",
       "      <td>16,241,401</td>\n",
       "      <td>15,443,062</td>\n",
       "      <td>14,588,242</td>\n",
       "      <td>13,897,744</td>\n",
       "      <td>...</td>\n",
       "      <td>0.2</td>\n",
       "      <td>0.1</td>\n",
       "      <td>0.3</td>\n",
       "      <td>0.2</td>\n",
       "      <td>NaN</td>\n",
       "      <td>NaN</td>\n",
       "      <td>NaN</td>\n",
       "      <td>NaN</td>\n",
       "      <td>NaN</td>\n",
       "      <td>NaN</td>\n",
       "    </tr>\n",
       "    <tr>\n",
       "      <th>4</th>\n",
       "      <td>22</td>\n",
       "      <td>Utilities3</td>\n",
       "      <td>Revenue</td>\n",
       "      <td>All Establishments</td>\n",
       "      <td>Employer and Nonemployer Firms</td>\n",
       "      <td>581,559</td>\n",
       "      <td>600,127</td>\n",
       "      <td>598,384</td>\n",
       "      <td>577,955</td>\n",
       "      <td>570,652</td>\n",
       "      <td>...</td>\n",
       "      <td>0.3</td>\n",
       "      <td>0.0</td>\n",
       "      <td>0.4</td>\n",
       "      <td>0.3</td>\n",
       "      <td>0.6</td>\n",
       "      <td>0.4</td>\n",
       "      <td>NaN</td>\n",
       "      <td>NaN</td>\n",
       "      <td>NaN</td>\n",
       "      <td>NaN</td>\n",
       "    </tr>\n",
       "  </tbody>\n",
       "</table>\n",
       "<p>5 rows × 25 columns</p>\n",
       "</div>"
      ],
      "text/plain": [
       "    NAICS           NAICS Description     Item          Tax Status  \\\n",
       "0  000000           Services Total1,8  Revenue  All Establishments   \n",
       "1  000000           Services Total1,8  Revenue  All Establishments   \n",
       "2  00000A  Selected Services Total2,8  Revenue  All Establishments   \n",
       "3  00000A  Selected Services Total2,8  Revenue  All Establishments   \n",
       "4      22                  Utilities3  Revenue  All Establishments   \n",
       "\n",
       "                  Employer Status 2020 Estimate 2019 Estimate 2018 Estimate  \\\n",
       "0  Employer and Nonemployer Firms    17,606,914    18,000,647    17,112,559   \n",
       "1                  Employer Firms    16,668,151    16,999,369    16,160,891   \n",
       "2  Employer and Nonemployer Firms    16,957,694    17,227,899    16,380,539   \n",
       "3                  Employer Firms    16,029,801    16,241,401    15,443,062   \n",
       "4  Employer and Nonemployer Firms       581,559       600,127       598,384   \n",
       "\n",
       "  2017 Estimate 2016 Estimate  ... 2018 Coefficient of Variation  \\\n",
       "0    16,169,814    15,393,780  ...                           0.2   \n",
       "1    15,266,389    14,541,859  ...                           0.2   \n",
       "2    15,477,165    14,735,913  ...                           0.2   \n",
       "3    14,588,242    13,897,744  ...                           0.2   \n",
       "4       577,955       570,652  ...                           0.3   \n",
       "\n",
       "  2017 Coefficient of Variation 2016 Coefficient of Variation  \\\n",
       "0                           0.1                           0.3   \n",
       "1                           0.1                           0.4   \n",
       "2                           0.1                           0.3   \n",
       "3                           0.1                           0.3   \n",
       "4                           0.0                           0.4   \n",
       "\n",
       "  2015 Coefficient of Variation 2014 Coefficient of Variation  \\\n",
       "0                           0.3                           NaN   \n",
       "1                           0.3                           NaN   \n",
       "2                           0.2                           NaN   \n",
       "3                           0.2                           NaN   \n",
       "4                           0.3                           0.6   \n",
       "\n",
       "  2013 Coefficient of Variation  Unnamed: 21 Unnamed: 22 Unnamed: 23  \\\n",
       "0                           NaN          NaN         NaN         NaN   \n",
       "1                           NaN          NaN         NaN         NaN   \n",
       "2                           NaN          NaN         NaN         NaN   \n",
       "3                           NaN          NaN         NaN         NaN   \n",
       "4                           0.4          NaN         NaN         NaN   \n",
       "\n",
       "  Unnamed: 24  \n",
       "0         NaN  \n",
       "1         NaN  \n",
       "2         NaN  \n",
       "3         NaN  \n",
       "4         NaN  \n",
       "\n",
       "[5 rows x 25 columns]"
      ]
     },
     "execution_count": 414,
     "metadata": {},
     "output_type": "execute_result"
    }
   ],
   "source": [
    "services.head()"
   ]
  },
  {
   "cell_type": "code",
   "execution_count": 390,
   "id": "4e1c5985-f799-4131-97f1-3e9dc562da98",
   "metadata": {},
   "outputs": [],
   "source": [
    "# subset columns and rows. We already have more granular data for nonemployer firms so we drop those\n",
    "services_1 = services.loc[services['Employer Status'] == 'Employer Firms']\n",
    "services_2 = services_1[['NAICS', '2020 Estimate', '2019 Estimate', '2018 Estimate', '2017 Estimate', '2016 Estimate']]\n",
    "services_2 = services_2.rename(columns = {'NAICS': 'naics',\n",
    "                                         '2020 Estimate': '2020',\n",
    "                                         '2019 Estimate': '2019',\n",
    "                                         '2018 Estimate': '2018',\n",
    "                                         '2017 Estimate': '2017',\n",
    "                                         '2016 Estimate': '2016'})\n",
    "services_3 = services_2.loc[4:, :].copy().reset_index(drop=True)"
   ]
  },
  {
   "cell_type": "code",
   "execution_count": 395,
   "id": "ec3e35e2-4aaa-4739-be87-b61e3ecc8201",
   "metadata": {},
   "outputs": [],
   "source": [
    "# Subset to if only the naics is two digits long \n",
    "services_4_list = []\n",
    "\n",
    "for i in range(0, len(services_3)):\n",
    "    if len(services_3.loc[i, 'naics']) == 2:\n",
    "        temp_list = list(services_3.iloc[i, :])\n",
    "        services_4_list.append(temp_list)\n",
    "        \n",
    "services_4 = pd.DataFrame(services_4_list, columns=['naics', '2020', '2019', '2018', '2017', '2016'])"
   ]
  },
  {
   "cell_type": "code",
   "execution_count": 397,
   "id": "237e8aff-9fa6-40a9-b35a-c65ab485a4de",
   "metadata": {},
   "outputs": [],
   "source": [
    "# Convert to integers and group by naics\n",
    "for i in services_4.columns:\n",
    "    services_4[i] = services_4[i].str.replace(',', '')\n",
    "    services_4[i] = services_4[i].astype(int)\n",
    "\n",
    "services_5 = services_4.groupby(['naics'])[['2020', '2019', '2018', '2017', '2016']].sum().reset_index()"
   ]
  },
  {
   "cell_type": "code",
   "execution_count": 398,
   "id": "615a0051-9d97-462e-95a2-2d807b91caaf",
   "metadata": {},
   "outputs": [
    {
     "data": {
      "text/html": [
       "<div>\n",
       "<style scoped>\n",
       "    .dataframe tbody tr th:only-of-type {\n",
       "        vertical-align: middle;\n",
       "    }\n",
       "\n",
       "    .dataframe tbody tr th {\n",
       "        vertical-align: top;\n",
       "    }\n",
       "\n",
       "    .dataframe thead th {\n",
       "        text-align: right;\n",
       "    }\n",
       "</style>\n",
       "<table border=\"1\" class=\"dataframe\">\n",
       "  <thead>\n",
       "    <tr style=\"text-align: right;\">\n",
       "      <th></th>\n",
       "      <th>naics</th>\n",
       "      <th>2020</th>\n",
       "      <th>2019</th>\n",
       "      <th>2018</th>\n",
       "      <th>2017</th>\n",
       "      <th>2016</th>\n",
       "    </tr>\n",
       "  </thead>\n",
       "  <tbody>\n",
       "    <tr>\n",
       "      <th>0</th>\n",
       "      <td>22</td>\n",
       "      <td>580647</td>\n",
       "      <td>599220</td>\n",
       "      <td>597481</td>\n",
       "      <td>577100</td>\n",
       "      <td>569673</td>\n",
       "    </tr>\n",
       "    <tr>\n",
       "      <th>1</th>\n",
       "      <td>51</td>\n",
       "      <td>1791438</td>\n",
       "      <td>1755214</td>\n",
       "      <td>1680739</td>\n",
       "      <td>1582097</td>\n",
       "      <td>1528182</td>\n",
       "    </tr>\n",
       "    <tr>\n",
       "      <th>2</th>\n",
       "      <td>52</td>\n",
       "      <td>4959947</td>\n",
       "      <td>4854315</td>\n",
       "      <td>4610615</td>\n",
       "      <td>4340009</td>\n",
       "      <td>4146670</td>\n",
       "    </tr>\n",
       "    <tr>\n",
       "      <th>3</th>\n",
       "      <td>53</td>\n",
       "      <td>730742</td>\n",
       "      <td>756268</td>\n",
       "      <td>712099</td>\n",
       "      <td>670304</td>\n",
       "      <td>635119</td>\n",
       "    </tr>\n",
       "    <tr>\n",
       "      <th>4</th>\n",
       "      <td>54</td>\n",
       "      <td>2143768</td>\n",
       "      <td>2077668</td>\n",
       "      <td>1963153</td>\n",
       "      <td>1855698</td>\n",
       "      <td>1741224</td>\n",
       "    </tr>\n",
       "    <tr>\n",
       "      <th>5</th>\n",
       "      <td>56</td>\n",
       "      <td>1042582</td>\n",
       "      <td>1090944</td>\n",
       "      <td>1023171</td>\n",
       "      <td>950896</td>\n",
       "      <td>886391</td>\n",
       "    </tr>\n",
       "    <tr>\n",
       "      <th>6</th>\n",
       "      <td>61</td>\n",
       "      <td>67793</td>\n",
       "      <td>72812</td>\n",
       "      <td>70293</td>\n",
       "      <td>65718</td>\n",
       "      <td>62890</td>\n",
       "    </tr>\n",
       "    <tr>\n",
       "      <th>7</th>\n",
       "      <td>62</td>\n",
       "      <td>2828912</td>\n",
       "      <td>2786127</td>\n",
       "      <td>2636270</td>\n",
       "      <td>2527900</td>\n",
       "      <td>2420320</td>\n",
       "    </tr>\n",
       "    <tr>\n",
       "      <th>8</th>\n",
       "      <td>71</td>\n",
       "      <td>210185</td>\n",
       "      <td>296444</td>\n",
       "      <td>280100</td>\n",
       "      <td>265621</td>\n",
       "      <td>248065</td>\n",
       "    </tr>\n",
       "    <tr>\n",
       "      <th>9</th>\n",
       "      <td>72</td>\n",
       "      <td>807086</td>\n",
       "      <td>1040970</td>\n",
       "      <td>989813</td>\n",
       "      <td>938236</td>\n",
       "      <td>895080</td>\n",
       "    </tr>\n",
       "    <tr>\n",
       "      <th>10</th>\n",
       "      <td>81</td>\n",
       "      <td>585383</td>\n",
       "      <td>598867</td>\n",
       "      <td>570655</td>\n",
       "      <td>544131</td>\n",
       "      <td>507802</td>\n",
       "    </tr>\n",
       "  </tbody>\n",
       "</table>\n",
       "</div>"
      ],
      "text/plain": [
       "    naics     2020     2019     2018     2017     2016\n",
       "0      22   580647   599220   597481   577100   569673\n",
       "1      51  1791438  1755214  1680739  1582097  1528182\n",
       "2      52  4959947  4854315  4610615  4340009  4146670\n",
       "3      53   730742   756268   712099   670304   635119\n",
       "4      54  2143768  2077668  1963153  1855698  1741224\n",
       "5      56  1042582  1090944  1023171   950896   886391\n",
       "6      61    67793    72812    70293    65718    62890\n",
       "7      62  2828912  2786127  2636270  2527900  2420320\n",
       "8      71   210185   296444   280100   265621   248065\n",
       "9      72   807086  1040970   989813   938236   895080\n",
       "10     81   585383   598867   570655   544131   507802"
      ]
     },
     "execution_count": 398,
     "metadata": {},
     "output_type": "execute_result"
    }
   ],
   "source": [
    "services_5"
   ]
  },
  {
   "cell_type": "markdown",
   "id": "7fc02e31-e7bd-458a-a7b8-e4abfdf9b5ba",
   "metadata": {},
   "source": [
    "## Wholesale Trade"
   ]
  },
  {
   "cell_type": "code",
   "execution_count": 417,
   "id": "f7767198-30ea-483a-98e2-2b997c55e5b7",
   "metadata": {},
   "outputs": [],
   "source": [
    "wholesale = pd.read_csv('https://raw.githubusercontent.com/jhancuch/sba-loan-credit-analysis/main/data/wholesale_trade/2020_awts_sales_table1.csv', header = 3, encoding = 'unicode_escape', engine ='python')"
   ]
  },
  {
   "cell_type": "code",
   "execution_count": 418,
   "id": "39e7127e-4d5c-42c8-aa0c-5f2d06ce5326",
   "metadata": {},
   "outputs": [
    {
     "data": {
      "text/html": [
       "<div>\n",
       "<style scoped>\n",
       "    .dataframe tbody tr th:only-of-type {\n",
       "        vertical-align: middle;\n",
       "    }\n",
       "\n",
       "    .dataframe tbody tr th {\n",
       "        vertical-align: top;\n",
       "    }\n",
       "\n",
       "    .dataframe thead th {\n",
       "        text-align: right;\n",
       "    }\n",
       "</style>\n",
       "<table border=\"1\" class=\"dataframe\">\n",
       "  <thead>\n",
       "    <tr style=\"text-align: right;\">\n",
       "      <th></th>\n",
       "      <th>2012 NAICS Code</th>\n",
       "      <th>Data Item</th>\n",
       "      <th>Kind of Business</th>\n",
       "      <th>Type of Operation</th>\n",
       "      <th>2020</th>\n",
       "      <th>2019r</th>\n",
       "      <th>2018r</th>\n",
       "      <th>2017r</th>\n",
       "      <th>2016r</th>\n",
       "      <th>2015r</th>\n",
       "      <th>...</th>\n",
       "      <th>Unnamed: 100</th>\n",
       "      <th>Unnamed: 101</th>\n",
       "      <th>Unnamed: 102</th>\n",
       "      <th>Unnamed: 103</th>\n",
       "      <th>Unnamed: 104</th>\n",
       "      <th>Unnamed: 105</th>\n",
       "      <th>Unnamed: 106</th>\n",
       "      <th>Unnamed: 107</th>\n",
       "      <th>Unnamed: 108</th>\n",
       "      <th>Unnamed: 109</th>\n",
       "    </tr>\n",
       "  </thead>\n",
       "  <tbody>\n",
       "    <tr>\n",
       "      <th>0</th>\n",
       "      <td>NaN</td>\n",
       "      <td>NaN</td>\n",
       "      <td>NaN</td>\n",
       "      <td>NaN</td>\n",
       "      <td>NaN</td>\n",
       "      <td>NaN</td>\n",
       "      <td>NaN</td>\n",
       "      <td>NaN</td>\n",
       "      <td>NaN</td>\n",
       "      <td>NaN</td>\n",
       "      <td>...</td>\n",
       "      <td>NaN</td>\n",
       "      <td>NaN</td>\n",
       "      <td>NaN</td>\n",
       "      <td>NaN</td>\n",
       "      <td>NaN</td>\n",
       "      <td>NaN</td>\n",
       "      <td>NaN</td>\n",
       "      <td>NaN</td>\n",
       "      <td>NaN</td>\n",
       "      <td>NaN</td>\n",
       "    </tr>\n",
       "    <tr>\n",
       "      <th>1</th>\n",
       "      <td>42</td>\n",
       "      <td>Sales</td>\n",
       "      <td>Wholesale Trade</td>\n",
       "      <td>Merchant Wholesalers</td>\n",
       "      <td>8,037,360</td>\n",
       "      <td>8,607,066</td>\n",
       "      <td>8,630,377</td>\n",
       "      <td>8,032,209</td>\n",
       "      <td>7,510,613</td>\n",
       "      <td>7,544,582</td>\n",
       "      <td>...</td>\n",
       "      <td>NaN</td>\n",
       "      <td>NaN</td>\n",
       "      <td>NaN</td>\n",
       "      <td>NaN</td>\n",
       "      <td>NaN</td>\n",
       "      <td>NaN</td>\n",
       "      <td>NaN</td>\n",
       "      <td>NaN</td>\n",
       "      <td>NaN</td>\n",
       "      <td>NaN</td>\n",
       "    </tr>\n",
       "    <tr>\n",
       "      <th>2</th>\n",
       "      <td>423</td>\n",
       "      <td>Sales</td>\n",
       "      <td>Durable Goods</td>\n",
       "      <td>Merchant Wholesalers</td>\n",
       "      <td>3,790,632</td>\n",
       "      <td>3,939,930</td>\n",
       "      <td>3,950,040</td>\n",
       "      <td>3,687,804</td>\n",
       "      <td>3,477,021</td>\n",
       "      <td>3,463,901</td>\n",
       "      <td>...</td>\n",
       "      <td>NaN</td>\n",
       "      <td>NaN</td>\n",
       "      <td>NaN</td>\n",
       "      <td>NaN</td>\n",
       "      <td>NaN</td>\n",
       "      <td>NaN</td>\n",
       "      <td>NaN</td>\n",
       "      <td>NaN</td>\n",
       "      <td>NaN</td>\n",
       "      <td>NaN</td>\n",
       "    </tr>\n",
       "    <tr>\n",
       "      <th>3</th>\n",
       "      <td>4231</td>\n",
       "      <td>Sales</td>\n",
       "      <td>Motor Vehicle and Motor Vehicle Parts and Supp...</td>\n",
       "      <td>Merchant Wholesalers</td>\n",
       "      <td>861,589</td>\n",
       "      <td>953,696</td>\n",
       "      <td>941,089</td>\n",
       "      <td>890,332</td>\n",
       "      <td>876,515</td>\n",
       "      <td>862,659</td>\n",
       "      <td>...</td>\n",
       "      <td>NaN</td>\n",
       "      <td>NaN</td>\n",
       "      <td>NaN</td>\n",
       "      <td>NaN</td>\n",
       "      <td>NaN</td>\n",
       "      <td>NaN</td>\n",
       "      <td>NaN</td>\n",
       "      <td>NaN</td>\n",
       "      <td>NaN</td>\n",
       "      <td>NaN</td>\n",
       "    </tr>\n",
       "    <tr>\n",
       "      <th>4</th>\n",
       "      <td>4232</td>\n",
       "      <td>Sales</td>\n",
       "      <td>Furniture and Home Furnishings</td>\n",
       "      <td>Merchant Wholesalers</td>\n",
       "      <td>119,716</td>\n",
       "      <td>122,658</td>\n",
       "      <td>119,676</td>\n",
       "      <td>115,061</td>\n",
       "      <td>108,523</td>\n",
       "      <td>103,304</td>\n",
       "      <td>...</td>\n",
       "      <td>NaN</td>\n",
       "      <td>NaN</td>\n",
       "      <td>NaN</td>\n",
       "      <td>NaN</td>\n",
       "      <td>NaN</td>\n",
       "      <td>NaN</td>\n",
       "      <td>NaN</td>\n",
       "      <td>NaN</td>\n",
       "      <td>NaN</td>\n",
       "      <td>NaN</td>\n",
       "    </tr>\n",
       "  </tbody>\n",
       "</table>\n",
       "<p>5 rows × 110 columns</p>\n",
       "</div>"
      ],
      "text/plain": [
       "  2012 NAICS Code  \\\n",
       "0             NaN   \n",
       "1              42   \n",
       "2             423   \n",
       "3            4231   \n",
       "4            4232   \n",
       "\n",
       "  Data Item                                                          \\\n",
       "0                                                NaN                  \n",
       "1                                              Sales                  \n",
       "2                                              Sales                  \n",
       "3                                              Sales                  \n",
       "4                                              Sales                  \n",
       "\n",
       "                                   Kind of Business   \\\n",
       "0                                                NaN   \n",
       "1                                    Wholesale Trade   \n",
       "2                                      Durable Goods   \n",
       "3  Motor Vehicle and Motor Vehicle Parts and Supp...   \n",
       "4                     Furniture and Home Furnishings   \n",
       "\n",
       "  Type of Operation                                                          \\\n",
       "0                                                NaN                          \n",
       "1                               Merchant Wholesalers                          \n",
       "2                               Merchant Wholesalers                          \n",
       "3                               Merchant Wholesalers                          \n",
       "4                               Merchant Wholesalers                          \n",
       "\n",
       "        2020      2019r      2018r      2017r      2016r      2015r  ...  \\\n",
       "0        NaN        NaN        NaN        NaN        NaN        NaN  ...   \n",
       "1  8,037,360  8,607,066  8,630,377  8,032,209  7,510,613  7,544,582  ...   \n",
       "2  3,790,632  3,939,930  3,950,040  3,687,804  3,477,021  3,463,901  ...   \n",
       "3    861,589    953,696    941,089    890,332    876,515    862,659  ...   \n",
       "4    119,716    122,658    119,676    115,061    108,523    103,304  ...   \n",
       "\n",
       "  Unnamed: 100 Unnamed: 101 Unnamed: 102 Unnamed: 103 Unnamed: 104  \\\n",
       "0          NaN          NaN          NaN          NaN          NaN   \n",
       "1          NaN          NaN          NaN          NaN          NaN   \n",
       "2          NaN          NaN          NaN          NaN          NaN   \n",
       "3          NaN          NaN          NaN          NaN          NaN   \n",
       "4          NaN          NaN          NaN          NaN          NaN   \n",
       "\n",
       "  Unnamed: 105 Unnamed: 106 Unnamed: 107 Unnamed: 108 Unnamed: 109  \n",
       "0          NaN          NaN          NaN          NaN          NaN  \n",
       "1          NaN          NaN          NaN          NaN          NaN  \n",
       "2          NaN          NaN          NaN          NaN          NaN  \n",
       "3          NaN          NaN          NaN          NaN          NaN  \n",
       "4          NaN          NaN          NaN          NaN          NaN  \n",
       "\n",
       "[5 rows x 110 columns]"
      ]
     },
     "execution_count": 418,
     "metadata": {},
     "output_type": "execute_result"
    }
   ],
   "source": [
    "wholesale.head()"
   ]
  },
  {
   "cell_type": "code",
   "execution_count": 419,
   "id": "c394976d-d4ea-4ff9-ab7c-98d38f7c1432",
   "metadata": {},
   "outputs": [
    {
     "data": {
      "text/html": [
       "<div>\n",
       "<style scoped>\n",
       "    .dataframe tbody tr th:only-of-type {\n",
       "        vertical-align: middle;\n",
       "    }\n",
       "\n",
       "    .dataframe tbody tr th {\n",
       "        vertical-align: top;\n",
       "    }\n",
       "\n",
       "    .dataframe thead th {\n",
       "        text-align: right;\n",
       "    }\n",
       "</style>\n",
       "<table border=\"1\" class=\"dataframe\">\n",
       "  <thead>\n",
       "    <tr style=\"text-align: right;\">\n",
       "      <th></th>\n",
       "      <th>2012 NAICS Code</th>\n",
       "      <th>Data Item</th>\n",
       "      <th>Kind of Business</th>\n",
       "      <th>Type of Operation</th>\n",
       "      <th>2020</th>\n",
       "      <th>2019r</th>\n",
       "      <th>2018r</th>\n",
       "      <th>2017r</th>\n",
       "      <th>2016r</th>\n",
       "      <th>2015r</th>\n",
       "      <th>...</th>\n",
       "      <th>Unnamed: 100</th>\n",
       "      <th>Unnamed: 101</th>\n",
       "      <th>Unnamed: 102</th>\n",
       "      <th>Unnamed: 103</th>\n",
       "      <th>Unnamed: 104</th>\n",
       "      <th>Unnamed: 105</th>\n",
       "      <th>Unnamed: 106</th>\n",
       "      <th>Unnamed: 107</th>\n",
       "      <th>Unnamed: 108</th>\n",
       "      <th>Unnamed: 109</th>\n",
       "    </tr>\n",
       "  </thead>\n",
       "  <tbody>\n",
       "    <tr>\n",
       "      <th>74</th>\n",
       "      <td>Estimates have not been adjusted for price cha...</td>\n",
       "      <td>NaN</td>\n",
       "      <td>NaN</td>\n",
       "      <td>NaN</td>\n",
       "      <td>NaN</td>\n",
       "      <td>NaN</td>\n",
       "      <td>NaN</td>\n",
       "      <td>NaN</td>\n",
       "      <td>NaN</td>\n",
       "      <td>NaN</td>\n",
       "      <td>...</td>\n",
       "      <td>NaN</td>\n",
       "      <td>NaN</td>\n",
       "      <td>NaN</td>\n",
       "      <td>NaN</td>\n",
       "      <td>NaN</td>\n",
       "      <td>NaN</td>\n",
       "      <td>NaN</td>\n",
       "      <td>NaN</td>\n",
       "      <td>NaN</td>\n",
       "      <td>NaN</td>\n",
       "    </tr>\n",
       "    <tr>\n",
       "      <th>75</th>\n",
       "      <td>The Census Bureau has reviewed this data produ...</td>\n",
       "      <td>NaN</td>\n",
       "      <td>NaN</td>\n",
       "      <td>NaN</td>\n",
       "      <td>NaN</td>\n",
       "      <td>NaN</td>\n",
       "      <td>NaN</td>\n",
       "      <td>NaN</td>\n",
       "      <td>NaN</td>\n",
       "      <td>NaN</td>\n",
       "      <td>...</td>\n",
       "      <td>NaN</td>\n",
       "      <td>NaN</td>\n",
       "      <td>NaN</td>\n",
       "      <td>NaN</td>\n",
       "      <td>NaN</td>\n",
       "      <td>NaN</td>\n",
       "      <td>NaN</td>\n",
       "      <td>NaN</td>\n",
       "      <td>NaN</td>\n",
       "      <td>NaN</td>\n",
       "    </tr>\n",
       "    <tr>\n",
       "      <th>76</th>\n",
       "      <td>Footnotes:</td>\n",
       "      <td>NaN</td>\n",
       "      <td>NaN</td>\n",
       "      <td>NaN</td>\n",
       "      <td>NaN</td>\n",
       "      <td>NaN</td>\n",
       "      <td>NaN</td>\n",
       "      <td>NaN</td>\n",
       "      <td>NaN</td>\n",
       "      <td>NaN</td>\n",
       "      <td>...</td>\n",
       "      <td>NaN</td>\n",
       "      <td>NaN</td>\n",
       "      <td>NaN</td>\n",
       "      <td>NaN</td>\n",
       "      <td>NaN</td>\n",
       "      <td>NaN</td>\n",
       "      <td>NaN</td>\n",
       "      <td>NaN</td>\n",
       "      <td>NaN</td>\n",
       "      <td>NaN</td>\n",
       "    </tr>\n",
       "    <tr>\n",
       "      <th>77</th>\n",
       "      <td>r Revised data.  For more information on the r...</td>\n",
       "      <td>NaN</td>\n",
       "      <td>NaN</td>\n",
       "      <td>NaN</td>\n",
       "      <td>NaN</td>\n",
       "      <td>NaN</td>\n",
       "      <td>NaN</td>\n",
       "      <td>NaN</td>\n",
       "      <td>NaN</td>\n",
       "      <td>NaN</td>\n",
       "      <td>...</td>\n",
       "      <td>NaN</td>\n",
       "      <td>NaN</td>\n",
       "      <td>NaN</td>\n",
       "      <td>NaN</td>\n",
       "      <td>NaN</td>\n",
       "      <td>NaN</td>\n",
       "      <td>NaN</td>\n",
       "      <td>NaN</td>\n",
       "      <td>NaN</td>\n",
       "      <td>NaN</td>\n",
       "    </tr>\n",
       "    <tr>\n",
       "      <th>78</th>\n",
       "      <td>NaN</td>\n",
       "      <td>NaN</td>\n",
       "      <td>NaN</td>\n",
       "      <td>NaN</td>\n",
       "      <td>NaN</td>\n",
       "      <td>NaN</td>\n",
       "      <td>NaN</td>\n",
       "      <td>NaN</td>\n",
       "      <td>NaN</td>\n",
       "      <td>NaN</td>\n",
       "      <td>...</td>\n",
       "      <td>NaN</td>\n",
       "      <td>NaN</td>\n",
       "      <td>NaN</td>\n",
       "      <td>NaN</td>\n",
       "      <td>NaN</td>\n",
       "      <td>NaN</td>\n",
       "      <td>NaN</td>\n",
       "      <td>NaN</td>\n",
       "      <td>NaN</td>\n",
       "      <td>NaN</td>\n",
       "    </tr>\n",
       "  </tbody>\n",
       "</table>\n",
       "<p>5 rows × 110 columns</p>\n",
       "</div>"
      ],
      "text/plain": [
       "                                      2012 NAICS Code  \\\n",
       "74  Estimates have not been adjusted for price cha...   \n",
       "75  The Census Bureau has reviewed this data produ...   \n",
       "76                                        Footnotes:    \n",
       "77  r Revised data.  For more information on the r...   \n",
       "78                                                NaN   \n",
       "\n",
       "   Data Item                                                          \\\n",
       "74                                                NaN                  \n",
       "75                                                NaN                  \n",
       "76                                                NaN                  \n",
       "77                                                NaN                  \n",
       "78                                                NaN                  \n",
       "\n",
       "   Kind of Business   \\\n",
       "74               NaN   \n",
       "75               NaN   \n",
       "76               NaN   \n",
       "77               NaN   \n",
       "78               NaN   \n",
       "\n",
       "   Type of Operation                                                          \\\n",
       "74                                                NaN                          \n",
       "75                                                NaN                          \n",
       "76                                                NaN                          \n",
       "77                                                NaN                          \n",
       "78                                                NaN                          \n",
       "\n",
       "   2020 2019r 2018r 2017r 2016r 2015r  ... Unnamed: 100 Unnamed: 101  \\\n",
       "74  NaN   NaN   NaN   NaN   NaN   NaN  ...          NaN          NaN   \n",
       "75  NaN   NaN   NaN   NaN   NaN   NaN  ...          NaN          NaN   \n",
       "76  NaN   NaN   NaN   NaN   NaN   NaN  ...          NaN          NaN   \n",
       "77  NaN   NaN   NaN   NaN   NaN   NaN  ...          NaN          NaN   \n",
       "78  NaN   NaN   NaN   NaN   NaN   NaN  ...          NaN          NaN   \n",
       "\n",
       "   Unnamed: 102 Unnamed: 103 Unnamed: 104 Unnamed: 105 Unnamed: 106  \\\n",
       "74          NaN          NaN          NaN          NaN          NaN   \n",
       "75          NaN          NaN          NaN          NaN          NaN   \n",
       "76          NaN          NaN          NaN          NaN          NaN   \n",
       "77          NaN          NaN          NaN          NaN          NaN   \n",
       "78          NaN          NaN          NaN          NaN          NaN   \n",
       "\n",
       "   Unnamed: 107 Unnamed: 108 Unnamed: 109  \n",
       "74          NaN          NaN          NaN  \n",
       "75          NaN          NaN          NaN  \n",
       "76          NaN          NaN          NaN  \n",
       "77          NaN          NaN          NaN  \n",
       "78          NaN          NaN          NaN  \n",
       "\n",
       "[5 rows x 110 columns]"
      ]
     },
     "execution_count": 419,
     "metadata": {},
     "output_type": "execute_result"
    }
   ],
   "source": [
    "wholesale.tail()"
   ]
  },
  {
   "cell_type": "code",
   "execution_count": 420,
   "id": "29fb10bf-c03d-4b8c-be25-0cde35b35a21",
   "metadata": {},
   "outputs": [],
   "source": [
    "# reformat table\n",
    "wholesale1 = wholesale[['2012 NAICS Code', '2020', '2019r', '2018r', '2017r', '2016r', '2015r', '2014r', '2013r']]\n",
    "wholesale2 = wholesale1.iloc[[1],:]\n",
    "wholesale3 = wholesale2.rename(columns = {'2012 NAICS Code':'naics',\n",
    "                                          '2020':'2020',\n",
    "                                          '2019r':'2019',\n",
    "                                          '2018r':'2018',\n",
    "                                          '2017r':'2017',\n",
    "                                          '2016r':'2016',\n",
    "                                          '2015r':'2015',\n",
    "                                          '2014r':'2014',\n",
    "                                          '2013r':'2013'})"
   ]
  },
  {
   "cell_type": "code",
   "execution_count": 421,
   "id": "72970a2f-345b-404a-b706-cfa570d354ed",
   "metadata": {},
   "outputs": [
    {
     "data": {
      "text/html": [
       "<div>\n",
       "<style scoped>\n",
       "    .dataframe tbody tr th:only-of-type {\n",
       "        vertical-align: middle;\n",
       "    }\n",
       "\n",
       "    .dataframe tbody tr th {\n",
       "        vertical-align: top;\n",
       "    }\n",
       "\n",
       "    .dataframe thead th {\n",
       "        text-align: right;\n",
       "    }\n",
       "</style>\n",
       "<table border=\"1\" class=\"dataframe\">\n",
       "  <thead>\n",
       "    <tr style=\"text-align: right;\">\n",
       "      <th></th>\n",
       "      <th>naics</th>\n",
       "      <th>2020</th>\n",
       "      <th>2019</th>\n",
       "      <th>2018</th>\n",
       "      <th>2017</th>\n",
       "      <th>2016</th>\n",
       "      <th>2015</th>\n",
       "      <th>2014</th>\n",
       "      <th>2013</th>\n",
       "    </tr>\n",
       "  </thead>\n",
       "  <tbody>\n",
       "    <tr>\n",
       "      <th>1</th>\n",
       "      <td>42</td>\n",
       "      <td>8,037,360</td>\n",
       "      <td>8,607,066</td>\n",
       "      <td>8,630,377</td>\n",
       "      <td>8,032,209</td>\n",
       "      <td>7,510,613</td>\n",
       "      <td>7,544,582</td>\n",
       "      <td>7,878,972</td>\n",
       "      <td>7,583,631</td>\n",
       "    </tr>\n",
       "  </tbody>\n",
       "</table>\n",
       "</div>"
      ],
      "text/plain": [
       "  naics       2020       2019       2018       2017       2016       2015  \\\n",
       "1    42  8,037,360  8,607,066  8,630,377  8,032,209  7,510,613  7,544,582   \n",
       "\n",
       "        2014       2013  \n",
       "1  7,878,972  7,583,631  "
      ]
     },
     "execution_count": 421,
     "metadata": {},
     "output_type": "execute_result"
    }
   ],
   "source": [
    "wholesale3"
   ]
  },
  {
   "cell_type": "code",
   "execution_count": null,
   "id": "19a51749-f7e1-4471-88a8-820c82c4deee",
   "metadata": {},
   "outputs": [],
   "source": []
  }
 ],
 "metadata": {
  "kernelspec": {
   "display_name": "Python 3 (ipykernel)",
   "language": "python",
   "name": "python3"
  },
  "language_info": {
   "codemirror_mode": {
    "name": "ipython",
    "version": 3
   },
   "file_extension": ".py",
   "mimetype": "text/x-python",
   "name": "python",
   "nbconvert_exporter": "python",
   "pygments_lexer": "ipython3",
   "version": "3.9.9"
  },
  "toc-autonumbering": true,
  "toc-showcode": false,
  "toc-showmarkdowntxt": false
 },
 "nbformat": 4,
 "nbformat_minor": 5
}
