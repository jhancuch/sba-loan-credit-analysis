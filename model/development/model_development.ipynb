{
 "cells": [
  {
   "cell_type": "markdown",
   "id": "3d0b1a55-1a9f-416a-9364-546c388188fe",
   "metadata": {},
   "source": [
    "Base models without a grid search will first be fitted to get a sense of which work best with the imbalanced dataset. Each model will be fitted with various iterations of the dataset. Then, models are down selected and greater tuning through grid searches occur before finally settling on a final model."
   ]
  },
  {
   "cell_type": "markdown",
   "id": "55f2e1d3-c090-431c-9d0e-ee081d852834",
   "metadata": {},
   "source": [
    "# Data Prep"
   ]
  },
  {
   "cell_type": "code",
   "execution_count": null,
   "id": "e5d23b16-4199-4c8d-86c4-e5baafb15894",
   "metadata": {},
   "outputs": [],
   "source": []
  },
  {
   "cell_type": "code",
   "execution_count": null,
   "id": "2278ef41-9353-4216-9f9f-aecf07a94ba1",
   "metadata": {},
   "outputs": [],
   "source": []
  },
  {
   "cell_type": "code",
   "execution_count": null,
   "id": "881cd9e0-fba8-4c1a-a0dc-209c83dab9af",
   "metadata": {},
   "outputs": [],
   "source": []
  },
  {
   "cell_type": "code",
   "execution_count": null,
   "id": "3ae3dab4-6857-44bd-abf0-74a1d61aef30",
   "metadata": {},
   "outputs": [],
   "source": []
  },
  {
   "cell_type": "code",
   "execution_count": null,
   "id": "0d9e8b49-07fa-4a53-93a6-1842cff370f8",
   "metadata": {},
   "outputs": [],
   "source": [
    "Random Forest"
   ]
  },
  {
   "cell_type": "code",
   "execution_count": null,
   "id": "b7fb6bd0-da3a-4b24-b084-93bf3e97b8f8",
   "metadata": {},
   "outputs": [],
   "source": [
    "BalancedRandomForestClassifier is another ensemble method in which each tree of the forest will be provided a balanced bootstrap sample"
   ]
  },
  {
   "cell_type": "code",
   "execution_count": null,
   "id": "37b5fa52-9994-4362-b631-bcc7973713dd",
   "metadata": {},
   "outputs": [],
   "source": [
    "RUSBoostClassifier randomly under-sample the dataset before to perform a boosting iteration"
   ]
  },
  {
   "cell_type": "code",
   "execution_count": null,
   "id": "047d2d28-c061-4572-be79-3eaf09453c85",
   "metadata": {},
   "outputs": [],
   "source": [
    "XGBOOST"
   ]
  },
  {
   "cell_type": "code",
   "execution_count": null,
   "id": "285e856a-e33b-459d-b097-3fac86550eb3",
   "metadata": {},
   "outputs": [],
   "source": [
    "LASSO"
   ]
  },
  {
   "cell_type": "code",
   "execution_count": null,
   "id": "1fe62b7f-d52a-45d5-8ac8-be4d92d743fb",
   "metadata": {},
   "outputs": [],
   "source": [
    "SVM, "
   ]
  },
  {
   "cell_type": "code",
   "execution_count": null,
   "id": "d55842cc-0668-48c2-b73d-24904aeb9eb4",
   "metadata": {},
   "outputs": [],
   "source": [
    "/Regualization ones, "
   ]
  },
  {
   "cell_type": "code",
   "execution_count": null,
   "id": "cfaa44f0-5d2d-4f7c-9523-68234f7704c7",
   "metadata": {},
   "outputs": [],
   "source": [
    "LOGISTIC REG"
   ]
  },
  {
   "cell_type": "code",
   "execution_count": null,
   "id": "d23b3095-cd60-4f11-b8bd-da07a89d1958",
   "metadata": {},
   "outputs": [],
   "source": []
  },
  {
   "cell_type": "code",
   "execution_count": null,
   "id": "fb3b9730-a1d0-4b2b-9340-65e343fe797c",
   "metadata": {},
   "outputs": [],
   "source": []
  },
  {
   "cell_type": "code",
   "execution_count": null,
   "id": "976b45aa-9aac-4ee5-8585-1e6989134cf7",
   "metadata": {},
   "outputs": [],
   "source": []
  },
  {
   "cell_type": "code",
   "execution_count": null,
   "id": "e14a9fa4-200c-4626-9d6c-716bdfbe40a8",
   "metadata": {},
   "outputs": [],
   "source": []
  },
  {
   "cell_type": "code",
   "execution_count": null,
   "id": "7b60eda7-7dc8-47cc-bbde-e4079e99028e",
   "metadata": {},
   "outputs": [],
   "source": []
  },
  {
   "cell_type": "code",
   "execution_count": null,
   "id": "eb2ebf39-da66-42fc-87ce-dde662c892f5",
   "metadata": {},
   "outputs": [],
   "source": []
  }
 ],
 "metadata": {
  "kernelspec": {
   "display_name": "Python 3 (ipykernel)",
   "language": "python",
   "name": "python3"
  },
  "language_info": {
   "codemirror_mode": {
    "name": "ipython",
    "version": 3
   },
   "file_extension": ".py",
   "mimetype": "text/x-python",
   "name": "python",
   "nbconvert_exporter": "python",
   "pygments_lexer": "ipython3",
   "version": "3.9.9"
  }
 },
 "nbformat": 4,
 "nbformat_minor": 5
}
