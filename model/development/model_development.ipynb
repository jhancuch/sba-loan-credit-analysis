{
 "cells": [
  {
   "cell_type": "markdown",
   "id": "3d0b1a55-1a9f-416a-9364-546c388188fe",
   "metadata": {},
   "source": [
    "Base models without a grid search will first be fitted to get a sense of which work best with the imbalanced dataset. Each model will be fitted with various iterations of the dataset. Then, models are down selected and greater tuning through grid searches occur before finally settling on a final model."
   ]
  },
  {
   "cell_type": "code",
   "execution_count": 2,
   "id": "f7f042d9-a7c5-45e2-a2b7-31b4a931e049",
   "metadata": {},
   "outputs": [],
   "source": [
    "import pandas as pd\n",
    "import numpy as np\n",
    "\n",
    "%matplotlib inline\n",
    "\n",
    "import matplotlib.pyplot as plt\n",
    "import seaborn as sns"
   ]
  },
  {
   "cell_type": "markdown",
   "id": "55f2e1d3-c090-431c-9d0e-ee081d852834",
   "metadata": {},
   "source": [
    "# Data Prep"
   ]
  },
  {
   "cell_type": "markdown",
   "id": "26825da6-3ce7-4aab-9ef4-4d9c9203f3df",
   "metadata": {},
   "source": [
    "## Load data"
   ]
  },
  {
   "cell_type": "code",
   "execution_count": 3,
   "id": "e5d23b16-4199-4c8d-86c4-e5baafb15894",
   "metadata": {},
   "outputs": [],
   "source": [
    "data1 = pd.read_csv('https://data.sba.gov/dataset/0ff8e8e9-b967-4f4e-987c-6ac78c575087/resource/c71ba6cf-b4e0-4e60-98f0-48aeaf4c6460/download/foia-7afy2020-present-asof-220331.csv', \n",
    "                    encoding = \"ISO-8859-1\", low_memory = False)\n",
    "\n",
    "data2 = pd.read_csv('https://data.sba.gov/dataset/0ff8e8e9-b967-4f4e-987c-6ac78c575087/resource/02e2e83a-2af1-4ce8-91db-85e20ffadbf7/download/foia-7afy2010-fy2019-asof-220331.csv', \n",
    "                    encoding = \"ISO-8859-1\", low_memory = False)\n",
    "\n",
    "data3 = pd.read_csv('https://data.sba.gov/dataset/0ff8e8e9-b967-4f4e-987c-6ac78c575087/resource/95d6972c-38df-4ecf-8f0a-eed224e8b02c/download/foia-7afy2000-fy2009-asof-220331.csv', \n",
    "                    encoding = \"ISO-8859-1\", low_memory = False)\n",
    "\n",
    "data = pd.concat([data1, data2, data3], ignore_index=True).reset_index(drop=True)"
   ]
  },
  {
   "cell_type": "code",
   "execution_count": 4,
   "id": "2278ef41-9353-4216-9f9f-aecf07a94ba1",
   "metadata": {},
   "outputs": [],
   "source": [
    "# subset to observations with the LoanStatus PIF or CHGOFF aka paid in full or charged off. We don't care about loans that are currently being paid back\n",
    "df = data[(data['LoanStatus'] == 'PIF') | (data['LoanStatus'] == 'CHGOFF')].drop_duplicates().reset_index(drop=True)\n",
    "\n",
    "# convert PIF to 0 and CHGOFF to 1\n",
    "df.loc[df['LoanStatus'] == 'PIF', 'LoanStatus'] = '0' \n",
    "df.loc[df['LoanStatus'] == 'CHGOFF', 'LoanStatus'] = '1'\n",
    "df['LoanStatus'] = df['LoanStatus'].astype(int)"
   ]
  },
  {
   "cell_type": "code",
   "execution_count": 26,
   "id": "edd3a5fc-641f-4c6e-a362-6a605a60b4c4",
   "metadata": {},
   "outputs": [
    {
     "name": "stdout",
     "output_type": "stream",
     "text": [
      "<class 'pandas.core.frame.DataFrame'>\n",
      "RangeIndex: 916423 entries, 0 to 916422\n",
      "Data columns (total 36 columns):\n",
      " #   Column                 Non-Null Count   Dtype  \n",
      "---  ------                 --------------   -----  \n",
      " 0   AsOfDate               916423 non-null  int64  \n",
      " 1   Program                916423 non-null  object \n",
      " 2   BorrName               916407 non-null  object \n",
      " 3   BorrStreet             916403 non-null  object \n",
      " 4   BorrCity               916413 non-null  object \n",
      " 5   BorrState              916413 non-null  object \n",
      " 6   BorrZip                916423 non-null  int64  \n",
      " 7   BankName               916423 non-null  object \n",
      " 8   BankStreet             916387 non-null  object \n",
      " 9   BankCity               916387 non-null  object \n",
      " 10  BankState              916381 non-null  object \n",
      " 11  BankZip                916387 non-null  object \n",
      " 12  GrossApproval          916413 non-null  float64\n",
      " 13  SBAGuaranteedApproval  916413 non-null  float64\n",
      " 14  ApprovalDate           916423 non-null  object \n",
      " 15  ApprovalFiscalYear     916423 non-null  int64  \n",
      " 16  FirstDisbursementDate  913870 non-null  object \n",
      " 17  DeliveryMethod         916413 non-null  object \n",
      " 18  subpgmdesc             916423 non-null  object \n",
      " 19  InitialInterestRate    349378 non-null  float64\n",
      " 20  TermInMonths           916423 non-null  int64  \n",
      " 21  NaicsCode              899599 non-null  float64\n",
      " 22  NaicsDescription       899410 non-null  object \n",
      " 23  FranchiseCode          57753 non-null   object \n",
      " 24  FranchiseName          57716 non-null   object \n",
      " 25  ProjectCounty          916263 non-null  object \n",
      " 26  ProjectState           916413 non-null  object \n",
      " 27  SBADistrictOffice      916413 non-null  object \n",
      " 28  CongressionalDistrict  914274 non-null  float64\n",
      " 29  BusinessType           916381 non-null  object \n",
      " 30  LoanStatus             916423 non-null  int64  \n",
      " 31  PaidInFullDate         743443 non-null  object \n",
      " 32  ChargeOffDate          172975 non-null  object \n",
      " 33  GrossChargeOffAmount   916423 non-null  int64  \n",
      " 34  RevolverStatus         916423 non-null  int64  \n",
      " 35  JobsSupported          916423 non-null  int64  \n",
      "dtypes: float64(5), int64(8), object(23)\n",
      "memory usage: 251.7+ MB\n"
     ]
    }
   ],
   "source": [
    "df.info()"
   ]
  },
  {
   "cell_type": "code",
   "execution_count": 28,
   "id": "4972a8f4-d6a8-4294-b287-19e105c0a27f",
   "metadata": {},
   "outputs": [
    {
     "data": {
      "text/plain": [
       "ApprovalFiscalYear  ind\n",
       "2000                0      37279\n",
       "2001                0      36990\n",
       "2002                0      44756\n",
       "2003                0      58556\n",
       "2004                0      70459\n",
       "2005                0      83283\n",
       "2006                0      85258\n",
       "2007                0      86781\n",
       "2008                0      59826\n",
       "2009                0       3857\n",
       "                    1      31402\n",
       "2010                1      38134\n",
       "2011                1      42842\n",
       "2012                1      35173\n",
       "2013                1      34487\n",
       "2014                1      37559\n",
       "2015                1      38787\n",
       "2016                1      34596\n",
       "2017                1      25235\n",
       "2018                1      17465\n",
       "2019                1       8630\n",
       "2020                1       3907\n",
       "2021                1       1123\n",
       "2022                1         38\n",
       "Name: JobsSupported, dtype: int64"
      ]
     },
     "execution_count": 28,
     "metadata": {},
     "output_type": "execute_result"
    }
   ],
   "source": [
    "temp = df.copy()\n",
    "temp['ind'] = 1\n",
    "temp.loc[temp.InitialInterestRate.isna(), 'ind'] = 0\n",
    "temp.groupby(['ApprovalFiscalYear', 'ind'])['JobsSupported'].count()"
   ]
  },
  {
   "cell_type": "markdown",
   "id": "53908629-b737-47b7-bfc4-a50611d31518",
   "metadata": {},
   "source": [
    "## Create core dataset (interest rate included)"
   ]
  },
  {
   "cell_type": "code",
   "execution_count": 24,
   "id": "96da7095-6ec1-4969-969c-540ee1c754d9",
   "metadata": {},
   "outputs": [],
   "source": [
    "core = df[['LoanStatus', 'BankName', 'RevolverStatus', 'TermInMonths', 'InitialInterestRate', 'ApprovalFiscalYear', 'NaicsCode', 'subpgmdesc', 'BankState', 'BorrState']].copy().dropna()\n",
    "\n",
    "# Same state for Bank and Borrower\n",
    "core['BorrBankSameState'] = 0\n",
    "core.loc[core.BankState == core.BorrState, 'BorrBankSameState'] = 1\n",
    "\n",
    "# Number of total loans, total defaults, and percentage of default for each bank\n",
    "df_BankDefaults = pd.merge(pd.DataFrame(df.groupby('BankName')['LoanStatus'].count()).reset_index().rename(columns={'LoanStatus':'TotLoanCounts'}), \n",
    "                           pd.DataFrame(df.groupby('BankName')['LoanStatus'].sum()).reset_index().rename(columns={'LoanStatus':'TotDefaultCounts'}), \n",
    "                           how='inner', on='BankName')\n",
    "core = pd.merge(core[['LoanStatus', 'BankName', 'RevolverStatus', 'TermInMonths', 'InitialInterestRate', 'BorrBankSameState', 'ApprovalFiscalYear', 'NaicsCode', 'subpgmdesc']], \n",
    "                df_BankDefaults, \n",
    "                how='inner', \n",
    "                on='BankName')\n",
    "core['TotPctDefault'] = core['TotDefaultCounts']/core['TotLoanCounts']\n",
    "\n",
    "# Number of yearly loans, yearly defaults, and percentage of default for each bank for each year of issuance \n",
    "df_BankDefaultsYearly = pd.merge(pd.DataFrame(df.groupby(['BankName', 'ApprovalFiscalYear'])['LoanStatus'].count()).reset_index().rename(columns={'LoanStatus':'YearlyLoanCounts'}), \n",
    "                           pd.DataFrame(df.groupby(['BankName', 'ApprovalFiscalYear'])['LoanStatus'].sum()).reset_index().rename(columns={'LoanStatus':'YearlyDefaultCounts'}), \n",
    "                           how='inner', on=['BankName', 'ApprovalFiscalYear'])\n",
    "core = pd.merge(core[['LoanStatus', 'BankName', 'ApprovalFiscalYear', 'RevolverStatus', 'TermInMonths', 'InitialInterestRate', 'BorrBankSameState',\n",
    "                     'TotPctDefault', 'TotDefaultCounts', 'TotLoanCounts', 'NaicsCode', 'subpgmdesc']], \n",
    "                df_BankDefaultsYearly, \n",
    "                how='inner', \n",
    "                on=['BankName', 'ApprovalFiscalYear'])\n",
    "core['YearlyPctDefault'] = core['YearlyDefaultCounts']/core['YearlyLoanCounts']\n"
   ]
  },
  {
   "cell_type": "markdown",
   "id": "40e90650-b12d-4cbf-96b6-f18e57b7f0c1",
   "metadata": {},
   "source": [
    "## Create features to test"
   ]
  },
  {
   "cell_type": "code",
   "execution_count": 29,
   "id": "cd020b4f-caea-46dc-84fb-b4e7333db1d4",
   "metadata": {},
   "outputs": [],
   "source": [
    "# Just the community express dummy indicator\n",
    "core_small = core.copy()\n",
    "core_small['subpgmdesc_community_express'] = 0\n",
    "core_small.loc[core_small.subpgmdesc == 'Community Express', 'subpgmdesc_community_express'] = 1\n",
    "\n",
    "# Dummy variables for all of the sub program descriptions\n",
    "core_large = pd.merge(core.drop('subpgmdesc', axis=1), pd.get_dummies(core['subpgmdesc'], prefix = 'subpgmdesc_', drop_first=True), how='inner', left_index = True, right_index = True)"
   ]
  },
  {
   "cell_type": "code",
   "execution_count": 30,
   "id": "64d4956d-1477-45f2-af7b-a3534a72249a",
   "metadata": {},
   "outputs": [],
   "source": [
    "# core_small gets none of the naics codes\n",
    "core_small.drop('NaicsCode', axis=1, inplace=True)\n",
    "\n",
    "# core_large gets all of the naics codes\n",
    "core_large['NaicsCode'] = core_large['NaicsCode'].astype(str)\n",
    "core_large['NaicsCode'] = core_large['NaicsCode'].str.slice(stop=2)\n",
    "core_large['NaicsCode'] = core_large['NaicsCode'].astype(int)\n",
    "core_large = pd.merge(core_large.drop('NaicsCode', axis=1), pd.get_dummies(core_large['NaicsCode'], prefix = 'NaicsCode_', drop_first=True), how='inner', left_index = True, right_index = True) "
   ]
  },
  {
   "cell_type": "code",
   "execution_count": 31,
   "id": "5b4677d0-0eda-4292-8815-c2a7fb4f39a0",
   "metadata": {},
   "outputs": [],
   "source": [
    "# core_small just has dummy variables for 2006 and 2007\n",
    "core_small['Year2006'] = 0\n",
    "core_small.loc[core_small.ApprovalFiscalYear == 2006, 'Year2006'] = 1\n",
    "\n",
    "core_small['Year2007'] = 0\n",
    "core_small.loc[core_small.ApprovalFiscalYear == 2007, 'Year2007'] = 1"
   ]
  },
  {
   "cell_type": "code",
   "execution_count": 32,
   "id": "1b8ca90a-b0c6-451d-8dd4-de1c3b47c958",
   "metadata": {},
   "outputs": [],
   "source": [
    "# core_large has dummy variables for all years\n",
    "core_large = pd.merge(core_large.drop('ApprovalFiscalYear', axis=1), pd.get_dummies(core_large['ApprovalFiscalYear'], prefix = 'ApprovalFiscalYear_', drop_first=True), how='inner', left_index = True, right_index = True) "
   ]
  },
  {
   "cell_type": "markdown",
   "id": "cce69c70-c5da-4701-b4fc-affe9998a305",
   "metadata": {},
   "source": [
    "## Create core dataset (without interest rate)"
   ]
  },
  {
   "cell_type": "code",
   "execution_count": 36,
   "id": "b8b715e8-2a61-453d-b74a-f7a2e578bb48",
   "metadata": {},
   "outputs": [],
   "source": [
    "core_no_int = df[['LoanStatus', 'BankName', 'RevolverStatus', 'TermInMonths', 'ApprovalFiscalYear', 'NaicsCode', 'subpgmdesc', 'BankState', 'BorrState']].copy().dropna()\n",
    "\n",
    "# Same state for Bank and Borrower\n",
    "core_no_int['BorrBankSameState'] = 0\n",
    "core_no_int.loc[core_no_int.BankState == core_no_int.BorrState, 'BorrBankSameState'] = 1\n",
    "\n",
    "# Number of total loans, total defaults, and percentage of default for each bank\n",
    "df_BankDefaults = pd.merge(pd.DataFrame(df.groupby('BankName')['LoanStatus'].count()).reset_index().rename(columns={'LoanStatus':'TotLoanCounts'}), \n",
    "                           pd.DataFrame(df.groupby('BankName')['LoanStatus'].sum()).reset_index().rename(columns={'LoanStatus':'TotDefaultCounts'}), \n",
    "                           how='inner', on='BankName')\n",
    "core_no_int = pd.merge(core_no_int[['LoanStatus', 'BankName', 'RevolverStatus', 'TermInMonths', 'BorrBankSameState', 'ApprovalFiscalYear', 'NaicsCode', 'subpgmdesc']], \n",
    "                df_BankDefaults, \n",
    "                how='inner', \n",
    "                on='BankName')\n",
    "core_no_int['TotPctDefault'] = core_no_int['TotDefaultCounts']/core_no_int['TotLoanCounts']\n",
    "\n",
    "# Number of yearly loans, yearly defaults, and percentage of default for each bank for each year of issuance \n",
    "df_BankDefaultsYearly = pd.merge(pd.DataFrame(df.groupby(['BankName', 'ApprovalFiscalYear'])['LoanStatus'].count()).reset_index().rename(columns={'LoanStatus':'YearlyLoanCounts'}), \n",
    "                           pd.DataFrame(df.groupby(['BankName', 'ApprovalFiscalYear'])['LoanStatus'].sum()).reset_index().rename(columns={'LoanStatus':'YearlyDefaultCounts'}), \n",
    "                           how='inner', on=['BankName', 'ApprovalFiscalYear'])\n",
    "core_no_int = pd.merge(core_no_int[['LoanStatus', 'BankName', 'ApprovalFiscalYear', 'RevolverStatus', 'TermInMonths', 'BorrBankSameState',\n",
    "                     'TotPctDefault', 'TotDefaultCounts', 'TotLoanCounts', 'NaicsCode', 'subpgmdesc']], \n",
    "                df_BankDefaultsYearly, \n",
    "                how='inner', \n",
    "                on=['BankName', 'ApprovalFiscalYear'])\n",
    "core_no_int['YearlyPctDefault'] = core_no_int['YearlyDefaultCounts']/core_no_int['YearlyLoanCounts']"
   ]
  },
  {
   "cell_type": "markdown",
   "id": "bd7c61e0-b387-4ca1-8125-c6aa52801df0",
   "metadata": {},
   "source": [
    "## Create features to test"
   ]
  },
  {
   "cell_type": "code",
   "execution_count": 42,
   "id": "9ba3248f-e6c6-4048-9759-e57ef0abca2c",
   "metadata": {},
   "outputs": [],
   "source": [
    "# Just the community express dummy indicator\n",
    "core_no_int_small = core_no_int.copy()\n",
    "core_no_int_small['subpgmdesc_community_express'] = 0\n",
    "core_no_int_small.loc[core_no_int_small.subpgmdesc == 'Community Express', 'subpgmdesc_community_express'] = 1\n",
    "\n",
    "# Dummy variables for all of the sub program descriptions\n",
    "core_no_int_large = pd.merge(core_no_int.drop('subpgmdesc', axis=1), pd.get_dummies(core_no_int['subpgmdesc'], prefix = 'subpgmdesc_', drop_first=True), how='inner', left_index = True, right_index = True)"
   ]
  },
  {
   "cell_type": "code",
   "execution_count": 43,
   "id": "1b0858ce-9547-47b4-8d87-db52a68ceb2b",
   "metadata": {},
   "outputs": [],
   "source": [
    "# core_small gets none of the naics codes\n",
    "core_no_int_small.drop('NaicsCode', axis=1, inplace=True)\n",
    "\n",
    "# core_large gets all of the naics codes\n",
    "core_no_int_large['NaicsCode'] = core_no_int_large['NaicsCode'].astype(str)\n",
    "core_no_int_large['NaicsCode'] = core_no_int_large['NaicsCode'].str.slice(stop=2)\n",
    "core_no_int_large['NaicsCode'] = core_no_int_large['NaicsCode'].astype(int)\n",
    "core_no_int_large = pd.merge(core_no_int_large.drop('NaicsCode', axis=1), pd.get_dummies(core_no_int_large['NaicsCode'], prefix = 'NaicsCode_', drop_first=True), how='inner', left_index = True, right_index = True) "
   ]
  },
  {
   "cell_type": "code",
   "execution_count": 44,
   "id": "c7720616-1580-4c9a-9515-974d38f29f41",
   "metadata": {},
   "outputs": [],
   "source": [
    "# core_small just has dummy variables for 2006 and 2007\n",
    "core_no_int_small['Year2006'] = 0\n",
    "core_no_int_small.loc[core_no_int_small.ApprovalFiscalYear == 2006, 'Year2006'] = 1\n",
    "\n",
    "core_no_int_small['Year2007'] = 0\n",
    "core_no_int_small.loc[core_no_int_small.ApprovalFiscalYear == 2007, 'Year2007'] = 1"
   ]
  },
  {
   "cell_type": "code",
   "execution_count": 45,
   "id": "780f8d38-38de-4c9d-8fb7-26a0c10be644",
   "metadata": {},
   "outputs": [],
   "source": [
    "# core_large has dummy variables for all years\n",
    "core_no_int_large = pd.merge(core_no_int_large.drop('ApprovalFiscalYear', axis=1), pd.get_dummies(core_no_int_large['ApprovalFiscalYear'], prefix = 'ApprovalFiscalYear_', drop_first=True), how='inner', left_index = True, right_index = True) "
   ]
  },
  {
   "cell_type": "markdown",
   "id": "6bff732b-a927-455b-a314-1c6fe821c5bc",
   "metadata": {},
   "source": [
    "# Models"
   ]
  },
  {
   "cell_type": "code",
   "execution_count": null,
   "id": "0d9e8b49-07fa-4a53-93a6-1842cff370f8",
   "metadata": {},
   "outputs": [],
   "source": [
    "Random Forest"
   ]
  },
  {
   "cell_type": "code",
   "execution_count": null,
   "id": "b7fb6bd0-da3a-4b24-b084-93bf3e97b8f8",
   "metadata": {},
   "outputs": [],
   "source": [
    "BalancedRandomForestClassifier is another ensemble method in which each tree of the forest will be provided a balanced bootstrap sample"
   ]
  },
  {
   "cell_type": "code",
   "execution_count": null,
   "id": "37b5fa52-9994-4362-b631-bcc7973713dd",
   "metadata": {},
   "outputs": [],
   "source": [
    "RUSBoostClassifier randomly under-sample the dataset before to perform a boosting iteration"
   ]
  },
  {
   "cell_type": "code",
   "execution_count": null,
   "id": "047d2d28-c061-4572-be79-3eaf09453c85",
   "metadata": {},
   "outputs": [],
   "source": [
    "XGBOOST"
   ]
  },
  {
   "cell_type": "code",
   "execution_count": null,
   "id": "285e856a-e33b-459d-b097-3fac86550eb3",
   "metadata": {},
   "outputs": [],
   "source": [
    "LASSO"
   ]
  },
  {
   "cell_type": "code",
   "execution_count": null,
   "id": "1fe62b7f-d52a-45d5-8ac8-be4d92d743fb",
   "metadata": {},
   "outputs": [],
   "source": [
    "SVM, "
   ]
  },
  {
   "cell_type": "code",
   "execution_count": null,
   "id": "d55842cc-0668-48c2-b73d-24904aeb9eb4",
   "metadata": {},
   "outputs": [],
   "source": [
    "/Regualization ones, "
   ]
  },
  {
   "cell_type": "code",
   "execution_count": null,
   "id": "cfaa44f0-5d2d-4f7c-9523-68234f7704c7",
   "metadata": {},
   "outputs": [],
   "source": [
    "LOGISTIC REG"
   ]
  },
  {
   "cell_type": "code",
   "execution_count": null,
   "id": "d23b3095-cd60-4f11-b8bd-da07a89d1958",
   "metadata": {},
   "outputs": [],
   "source": []
  },
  {
   "cell_type": "code",
   "execution_count": null,
   "id": "fb3b9730-a1d0-4b2b-9340-65e343fe797c",
   "metadata": {},
   "outputs": [],
   "source": []
  },
  {
   "cell_type": "code",
   "execution_count": null,
   "id": "976b45aa-9aac-4ee5-8585-1e6989134cf7",
   "metadata": {},
   "outputs": [],
   "source": []
  },
  {
   "cell_type": "code",
   "execution_count": null,
   "id": "e14a9fa4-200c-4626-9d6c-716bdfbe40a8",
   "metadata": {},
   "outputs": [],
   "source": []
  },
  {
   "cell_type": "code",
   "execution_count": null,
   "id": "7b60eda7-7dc8-47cc-bbde-e4079e99028e",
   "metadata": {},
   "outputs": [],
   "source": []
  },
  {
   "cell_type": "code",
   "execution_count": null,
   "id": "eb2ebf39-da66-42fc-87ce-dde662c892f5",
   "metadata": {},
   "outputs": [],
   "source": []
  }
 ],
 "metadata": {
  "kernelspec": {
   "display_name": "Python 3 (ipykernel)",
   "language": "python",
   "name": "python3"
  },
  "language_info": {
   "codemirror_mode": {
    "name": "ipython",
    "version": 3
   },
   "file_extension": ".py",
   "mimetype": "text/x-python",
   "name": "python",
   "nbconvert_exporter": "python",
   "pygments_lexer": "ipython3",
   "version": "3.9.9"
  }
 },
 "nbformat": 4,
 "nbformat_minor": 5
}
