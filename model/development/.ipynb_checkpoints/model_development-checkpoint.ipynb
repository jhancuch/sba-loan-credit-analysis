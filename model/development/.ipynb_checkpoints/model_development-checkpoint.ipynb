{
 "cells": [
  {
   "cell_type": "markdown",
   "id": "3d0b1a55-1a9f-416a-9364-546c388188fe",
   "metadata": {},
   "source": [
    "Base models without a grid search will first be fitted to get a sense of which work best with the imbalanced dataset. Each model will be fitted with various iterations of the dataset. Then, models are down selected and greater tuning through grid searches occur before finally settling on a final model."
   ]
  },
  {
   "cell_type": "code",
   "execution_count": 2,
   "id": "f7f042d9-a7c5-45e2-a2b7-31b4a931e049",
   "metadata": {},
   "outputs": [],
   "source": [
    "import pandas as pd\n",
    "import numpy as np\n",
    "\n",
    "%matplotlib inline\n",
    "\n",
    "import matplotlib.pyplot as plt\n",
    "import seaborn as sns"
   ]
  },
  {
   "cell_type": "markdown",
   "id": "55f2e1d3-c090-431c-9d0e-ee081d852834",
   "metadata": {},
   "source": [
    "# Data Prep"
   ]
  },
  {
   "cell_type": "markdown",
   "id": "26825da6-3ce7-4aab-9ef4-4d9c9203f3df",
   "metadata": {},
   "source": [
    "## Load data"
   ]
  },
  {
   "cell_type": "code",
   "execution_count": 3,
   "id": "e5d23b16-4199-4c8d-86c4-e5baafb15894",
   "metadata": {},
   "outputs": [],
   "source": [
    "data1 = pd.read_csv('https://data.sba.gov/dataset/0ff8e8e9-b967-4f4e-987c-6ac78c575087/resource/c71ba6cf-b4e0-4e60-98f0-48aeaf4c6460/download/foia-7afy2020-present-asof-220331.csv', \n",
    "                    encoding = \"ISO-8859-1\", low_memory = False)\n",
    "\n",
    "data2 = pd.read_csv('https://data.sba.gov/dataset/0ff8e8e9-b967-4f4e-987c-6ac78c575087/resource/02e2e83a-2af1-4ce8-91db-85e20ffadbf7/download/foia-7afy2010-fy2019-asof-220331.csv', \n",
    "                    encoding = \"ISO-8859-1\", low_memory = False)\n",
    "\n",
    "data3 = pd.read_csv('https://data.sba.gov/dataset/0ff8e8e9-b967-4f4e-987c-6ac78c575087/resource/95d6972c-38df-4ecf-8f0a-eed224e8b02c/download/foia-7afy2000-fy2009-asof-220331.csv', \n",
    "                    encoding = \"ISO-8859-1\", low_memory = False)\n",
    "\n",
    "data = pd.concat([data1, data2, data3], ignore_index=True).reset_index(drop=True)"
   ]
  },
  {
   "cell_type": "code",
   "execution_count": 4,
   "id": "2278ef41-9353-4216-9f9f-aecf07a94ba1",
   "metadata": {},
   "outputs": [],
   "source": [
    "# subset to observations with the LoanStatus PIF or CHGOFF aka paid in full or charged off. We don't care about loans that are currently being paid back\n",
    "df = data[(data['LoanStatus'] == 'PIF') | (data['LoanStatus'] == 'CHGOFF')].drop_duplicates().reset_index(drop=True)\n",
    "\n",
    "# convert PIF to 0 and CHGOFF to 1\n",
    "df.loc[df['LoanStatus'] == 'PIF', 'LoanStatus'] = '0' \n",
    "df.loc[df['LoanStatus'] == 'CHGOFF', 'LoanStatus'] = '1'\n",
    "df['LoanStatus'] = df['LoanStatus'].astype(int)"
   ]
  },
  {
   "cell_type": "markdown",
   "id": "53908629-b737-47b7-bfc4-a50611d31518",
   "metadata": {},
   "source": [
    "## Create core dataset"
   ]
  },
  {
   "cell_type": "code",
   "execution_count": 9,
   "id": "96da7095-6ec1-4969-969c-540ee1c754d9",
   "metadata": {},
   "outputs": [],
   "source": [
    "core = df.copy()\n",
    "\n",
    "# Same state for Bank and Borrower\n",
    "core['BorrBankSameState'] = 0\n",
    "core.loc[core.BankState == core.BorrState, 'BorrBankSameState'] = 1\n",
    "\n",
    "# Number of total loans, total defaults, and percentage of default for each bank\n",
    "df_BankDefaults = pd.merge(pd.DataFrame(df.groupby('BankName')['LoanStatus'].count()).reset_index().rename(columns={'LoanStatus':'TotLoanCounts'}), \n",
    "                           pd.DataFrame(df.groupby('BankName')['LoanStatus'].sum()).reset_index().rename(columns={'LoanStatus':'TotDefaultCounts'}), \n",
    "                           how='inner', on='BankName')\n",
    "core = pd.merge(core[['LoanStatus', 'BankName', 'RevolverStatus', 'TermInMonths', 'InitialInterestRate', 'BorrBankSameState', 'ApprovalFiscalYear', 'NaicsCode', 'subpgmdesc']], \n",
    "                df_BankDefaults, \n",
    "                how='inner', \n",
    "                on='BankName')\n",
    "core['TotPctDefault'] = core['TotDefaultCounts']/core['TotLoanCounts']\n",
    "\n",
    "# Number of yearly loans, yearly defaults, and percentage of default for each bank for each year of issuance \n",
    "df_BankDefaultsYearly = pd.merge(pd.DataFrame(df.groupby(['BankName', 'ApprovalFiscalYear'])['LoanStatus'].count()).reset_index().rename(columns={'LoanStatus':'YearlyLoanCounts'}), \n",
    "                           pd.DataFrame(df.groupby(['BankName', 'ApprovalFiscalYear'])['LoanStatus'].sum()).reset_index().rename(columns={'LoanStatus':'YearlyDefaultCounts'}), \n",
    "                           how='inner', on=['BankName', 'ApprovalFiscalYear'])\n",
    "core = pd.merge(core[['LoanStatus', 'BankName', 'ApprovalFiscalYear', 'RevolverStatus', 'TermInMonths', 'InitialInterestRate', 'BorrBankSameState',\n",
    "                     'TotPctDefault', 'TotDefaultCounts', 'TotLoanCounts', 'NaicsCode', 'subpgmdesc']], \n",
    "                df_BankDefaultsYearly, \n",
    "                how='inner', \n",
    "                on=['BankName', 'ApprovalFiscalYear'])\n",
    "core['YearlyPctDefault'] = core['YearlyDefaultCounts']/core['YearlyLoanCounts']\n"
   ]
  },
  {
   "cell_type": "code",
   "execution_count": 10,
   "id": "c0b42a97-493c-4030-a60a-b753234655f1",
   "metadata": {},
   "outputs": [
    {
     "data": {
      "text/html": [
       "<div>\n",
       "<style scoped>\n",
       "    .dataframe tbody tr th:only-of-type {\n",
       "        vertical-align: middle;\n",
       "    }\n",
       "\n",
       "    .dataframe tbody tr th {\n",
       "        vertical-align: top;\n",
       "    }\n",
       "\n",
       "    .dataframe thead th {\n",
       "        text-align: right;\n",
       "    }\n",
       "</style>\n",
       "<table border=\"1\" class=\"dataframe\">\n",
       "  <thead>\n",
       "    <tr style=\"text-align: right;\">\n",
       "      <th></th>\n",
       "      <th>LoanStatus</th>\n",
       "      <th>BankName</th>\n",
       "      <th>ApprovalFiscalYear</th>\n",
       "      <th>RevolverStatus</th>\n",
       "      <th>TermInMonths</th>\n",
       "      <th>InitialInterestRate</th>\n",
       "      <th>BorrBankSameState</th>\n",
       "      <th>TotPctDefault</th>\n",
       "      <th>TotDefaultCounts</th>\n",
       "      <th>TotLoanCounts</th>\n",
       "      <th>NaicsCode</th>\n",
       "      <th>subpgmdesc</th>\n",
       "      <th>YearlyLoanCounts</th>\n",
       "      <th>YearlyDefaultCounts</th>\n",
       "      <th>YearlyPctDefault</th>\n",
       "    </tr>\n",
       "  </thead>\n",
       "  <tbody>\n",
       "    <tr>\n",
       "      <th>0</th>\n",
       "      <td>0</td>\n",
       "      <td>JPMorgan Chase Bank, National Association</td>\n",
       "      <td>2020</td>\n",
       "      <td>0</td>\n",
       "      <td>84</td>\n",
       "      <td>9.75</td>\n",
       "      <td>0</td>\n",
       "      <td>0.220983</td>\n",
       "      <td>13554</td>\n",
       "      <td>61335</td>\n",
       "      <td>445110.0</td>\n",
       "      <td>FA$TRK (Small Loan Express)</td>\n",
       "      <td>106</td>\n",
       "      <td>6</td>\n",
       "      <td>0.056604</td>\n",
       "    </tr>\n",
       "    <tr>\n",
       "      <th>1</th>\n",
       "      <td>0</td>\n",
       "      <td>JPMorgan Chase Bank, National Association</td>\n",
       "      <td>2020</td>\n",
       "      <td>1</td>\n",
       "      <td>120</td>\n",
       "      <td>11.40</td>\n",
       "      <td>0</td>\n",
       "      <td>0.220983</td>\n",
       "      <td>13554</td>\n",
       "      <td>61335</td>\n",
       "      <td>621399.0</td>\n",
       "      <td>FA$TRK (Small Loan Express)</td>\n",
       "      <td>106</td>\n",
       "      <td>6</td>\n",
       "      <td>0.056604</td>\n",
       "    </tr>\n",
       "    <tr>\n",
       "      <th>2</th>\n",
       "      <td>0</td>\n",
       "      <td>JPMorgan Chase Bank, National Association</td>\n",
       "      <td>2020</td>\n",
       "      <td>0</td>\n",
       "      <td>84</td>\n",
       "      <td>7.00</td>\n",
       "      <td>0</td>\n",
       "      <td>0.220983</td>\n",
       "      <td>13554</td>\n",
       "      <td>61335</td>\n",
       "      <td>236118.0</td>\n",
       "      <td>FA$TRK (Small Loan Express)</td>\n",
       "      <td>106</td>\n",
       "      <td>6</td>\n",
       "      <td>0.056604</td>\n",
       "    </tr>\n",
       "    <tr>\n",
       "      <th>3</th>\n",
       "      <td>0</td>\n",
       "      <td>JPMorgan Chase Bank, National Association</td>\n",
       "      <td>2020</td>\n",
       "      <td>1</td>\n",
       "      <td>120</td>\n",
       "      <td>7.40</td>\n",
       "      <td>0</td>\n",
       "      <td>0.220983</td>\n",
       "      <td>13554</td>\n",
       "      <td>61335</td>\n",
       "      <td>541512.0</td>\n",
       "      <td>FA$TRK (Small Loan Express)</td>\n",
       "      <td>106</td>\n",
       "      <td>6</td>\n",
       "      <td>0.056604</td>\n",
       "    </tr>\n",
       "    <tr>\n",
       "      <th>4</th>\n",
       "      <td>0</td>\n",
       "      <td>JPMorgan Chase Bank, National Association</td>\n",
       "      <td>2020</td>\n",
       "      <td>0</td>\n",
       "      <td>126</td>\n",
       "      <td>7.11</td>\n",
       "      <td>0</td>\n",
       "      <td>0.220983</td>\n",
       "      <td>13554</td>\n",
       "      <td>61335</td>\n",
       "      <td>722511.0</td>\n",
       "      <td>Guaranty</td>\n",
       "      <td>106</td>\n",
       "      <td>6</td>\n",
       "      <td>0.056604</td>\n",
       "    </tr>\n",
       "  </tbody>\n",
       "</table>\n",
       "</div>"
      ],
      "text/plain": [
       "   LoanStatus                                   BankName  ApprovalFiscalYear  \\\n",
       "0           0  JPMorgan Chase Bank, National Association                2020   \n",
       "1           0  JPMorgan Chase Bank, National Association                2020   \n",
       "2           0  JPMorgan Chase Bank, National Association                2020   \n",
       "3           0  JPMorgan Chase Bank, National Association                2020   \n",
       "4           0  JPMorgan Chase Bank, National Association                2020   \n",
       "\n",
       "   RevolverStatus  TermInMonths  InitialInterestRate  BorrBankSameState  \\\n",
       "0               0            84                 9.75                  0   \n",
       "1               1           120                11.40                  0   \n",
       "2               0            84                 7.00                  0   \n",
       "3               1           120                 7.40                  0   \n",
       "4               0           126                 7.11                  0   \n",
       "\n",
       "   TotPctDefault  TotDefaultCounts  TotLoanCounts  NaicsCode  \\\n",
       "0       0.220983             13554          61335   445110.0   \n",
       "1       0.220983             13554          61335   621399.0   \n",
       "2       0.220983             13554          61335   236118.0   \n",
       "3       0.220983             13554          61335   541512.0   \n",
       "4       0.220983             13554          61335   722511.0   \n",
       "\n",
       "                    subpgmdesc  YearlyLoanCounts  YearlyDefaultCounts  \\\n",
       "0  FA$TRK (Small Loan Express)               106                    6   \n",
       "1  FA$TRK (Small Loan Express)               106                    6   \n",
       "2  FA$TRK (Small Loan Express)               106                    6   \n",
       "3  FA$TRK (Small Loan Express)               106                    6   \n",
       "4                     Guaranty               106                    6   \n",
       "\n",
       "   YearlyPctDefault  \n",
       "0          0.056604  \n",
       "1          0.056604  \n",
       "2          0.056604  \n",
       "3          0.056604  \n",
       "4          0.056604  "
      ]
     },
     "execution_count": 10,
     "metadata": {},
     "output_type": "execute_result"
    }
   ],
   "source": [
    "core.head()"
   ]
  },
  {
   "cell_type": "markdown",
   "id": "40e90650-b12d-4cbf-96b6-f18e57b7f0c1",
   "metadata": {},
   "source": [
    "## Create necessary features"
   ]
  },
  {
   "cell_type": "code",
   "execution_count": 12,
   "id": "cd020b4f-caea-46dc-84fb-b4e7333db1d4",
   "metadata": {},
   "outputs": [],
   "source": [
    "core_small['subpgmdesc_community_express'] = \n",
    "core_large = pd.merge(core.drop('subpgmdesc', axis=1), pd.get_dummies(df['subpgmdesc'], prefix = 'subpgmdesc_'), how='inner', left_index = True, right_index = True)"
   ]
  },
  {
   "cell_type": "code",
   "execution_count": null,
   "id": "3ae3dab4-6857-44bd-abf0-74a1d61aef30",
   "metadata": {},
   "outputs": [],
   "source": [
    "df_subpgmdesc = pd.merge(df[['LoanStatus']], pd.get_dummies(df['subpgmdesc'], prefix = 'subpgmdesc_'), how='inner', left_index = True, right_index = True) - two options 1) with all 2) just community express"
   ]
  },
  {
   "cell_type": "code",
   "execution_count": null,
   "id": "594acdab-9fad-4bdd-ab63-0bdb49b9dda2",
   "metadata": {},
   "outputs": [],
   "source": [
    "df_NaicsCode = pd.merge(df_NaicsCode[['LoanStatus']], pd.get_dummies(df_NaicsCode['NaicsCode'], prefix = 'NaicsCode_'), how='inner', left_index = True, right_index = True) "
   ]
  },
  {
   "cell_type": "code",
   "execution_count": null,
   "id": "5cb9aab6-a8ca-44fc-9a93-29d731bbf560",
   "metadata": {},
   "outputs": [],
   "source": [
    "df_Year = pd.merge(df[['LoanStatus']], pd.get_dummies(df['ApprovalFiscalYear'], prefix = 'ApprovalFiscalYear_'), how='inner', left_index = True, right_index = True) - either 2006 and 2007 or all"
   ]
  },
  {
   "cell_type": "code",
   "execution_count": null,
   "id": "38cc7acf-9fae-42f6-a31f-98354427c76a",
   "metadata": {},
   "outputs": [],
   "source": []
  },
  {
   "cell_type": "code",
   "execution_count": null,
   "id": "4e4d6cf3-2f4a-42a4-b000-322554e06fd5",
   "metadata": {},
   "outputs": [],
   "source": [
    "'RevolverStatus', 'TermInMonths', 'InitialInterestRate', 'BorrBankSameState'\n",
    "\n",
    "df_BankDefaultsYearly = pd.merge(pd.DataFrame(df.groupby(['BankName', 'ApprovalFiscalYear'])['LoanStatus'].count()).reset_index().rename(columns={'LoanStatus':'LoanCounts'}), \n",
    "                           pd.DataFrame(df.groupby(['BankName', 'ApprovalFiscalYear'])['LoanStatus'].sum()).reset_index().rename(columns={'LoanStatus':'DefaultCounts'}), \n",
    "                           how='inner', on=['BankName', 'ApprovalFiscalYear'])\n",
    "df_BankDefaultsYearly = pd.merge(df[['LoanStatus', 'BankName', 'ApprovalFiscalYear']], df_BankDefaultsYearly, how='inner', on=['BankName', 'ApprovalFiscalYear'])\n",
    "df_BankDefaultsYearly['PctDefault'] = df_BankDefaultsYearly['DefaultCounts']/df_BankDefaultsYearly['LoanCounts']"
   ]
  },
  {
   "cell_type": "code",
   "execution_count": null,
   "id": "0d9e8b49-07fa-4a53-93a6-1842cff370f8",
   "metadata": {},
   "outputs": [],
   "source": [
    "Random Forest"
   ]
  },
  {
   "cell_type": "code",
   "execution_count": null,
   "id": "b7fb6bd0-da3a-4b24-b084-93bf3e97b8f8",
   "metadata": {},
   "outputs": [],
   "source": [
    "BalancedRandomForestClassifier is another ensemble method in which each tree of the forest will be provided a balanced bootstrap sample"
   ]
  },
  {
   "cell_type": "code",
   "execution_count": null,
   "id": "37b5fa52-9994-4362-b631-bcc7973713dd",
   "metadata": {},
   "outputs": [],
   "source": [
    "RUSBoostClassifier randomly under-sample the dataset before to perform a boosting iteration"
   ]
  },
  {
   "cell_type": "code",
   "execution_count": null,
   "id": "047d2d28-c061-4572-be79-3eaf09453c85",
   "metadata": {},
   "outputs": [],
   "source": [
    "XGBOOST"
   ]
  },
  {
   "cell_type": "code",
   "execution_count": null,
   "id": "285e856a-e33b-459d-b097-3fac86550eb3",
   "metadata": {},
   "outputs": [],
   "source": [
    "LASSO"
   ]
  },
  {
   "cell_type": "code",
   "execution_count": null,
   "id": "1fe62b7f-d52a-45d5-8ac8-be4d92d743fb",
   "metadata": {},
   "outputs": [],
   "source": [
    "SVM, "
   ]
  },
  {
   "cell_type": "code",
   "execution_count": null,
   "id": "d55842cc-0668-48c2-b73d-24904aeb9eb4",
   "metadata": {},
   "outputs": [],
   "source": [
    "/Regualization ones, "
   ]
  },
  {
   "cell_type": "code",
   "execution_count": null,
   "id": "cfaa44f0-5d2d-4f7c-9523-68234f7704c7",
   "metadata": {},
   "outputs": [],
   "source": [
    "LOGISTIC REG"
   ]
  },
  {
   "cell_type": "code",
   "execution_count": null,
   "id": "d23b3095-cd60-4f11-b8bd-da07a89d1958",
   "metadata": {},
   "outputs": [],
   "source": []
  },
  {
   "cell_type": "code",
   "execution_count": null,
   "id": "fb3b9730-a1d0-4b2b-9340-65e343fe797c",
   "metadata": {},
   "outputs": [],
   "source": []
  },
  {
   "cell_type": "code",
   "execution_count": null,
   "id": "976b45aa-9aac-4ee5-8585-1e6989134cf7",
   "metadata": {},
   "outputs": [],
   "source": []
  },
  {
   "cell_type": "code",
   "execution_count": null,
   "id": "e14a9fa4-200c-4626-9d6c-716bdfbe40a8",
   "metadata": {},
   "outputs": [],
   "source": []
  },
  {
   "cell_type": "code",
   "execution_count": null,
   "id": "7b60eda7-7dc8-47cc-bbde-e4079e99028e",
   "metadata": {},
   "outputs": [],
   "source": []
  },
  {
   "cell_type": "code",
   "execution_count": null,
   "id": "eb2ebf39-da66-42fc-87ce-dde662c892f5",
   "metadata": {},
   "outputs": [],
   "source": []
  }
 ],
 "metadata": {
  "kernelspec": {
   "display_name": "Python 3 (ipykernel)",
   "language": "python",
   "name": "python3"
  },
  "language_info": {
   "codemirror_mode": {
    "name": "ipython",
    "version": 3
   },
   "file_extension": ".py",
   "mimetype": "text/x-python",
   "name": "python",
   "nbconvert_exporter": "python",
   "pygments_lexer": "ipython3",
   "version": "3.9.9"
  }
 },
 "nbformat": 4,
 "nbformat_minor": 5
}
